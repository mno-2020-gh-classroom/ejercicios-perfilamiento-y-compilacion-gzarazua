{
 "cells": [
  {
   "cell_type": "markdown",
   "metadata": {},
   "source": [
    "# Perfilamiento de código en R"
   ]
  },
  {
   "cell_type": "markdown",
   "metadata": {},
   "source": [
    "Revisar las notas de Tere: [4.4 Rendimiento en R | Estadística Computacional](https://tereom.github.io/est-computacional-2019/rendimiento-en-r.html) para analizar el uso de recursos computacionales en los métodos de integración del rectángulo, trapecio y Simpson de [1.5.Integracion_numerica](https://github.com/ITAM-DS/analisis-numerico-computo-cientifico/blob/master/temas/I.computo_cientifico/1.5.Integracion_numerica.ipynb)."
   ]
  },
  {
   "cell_type": "markdown",
   "metadata": {},
   "source": [
    "También podemos medir tiempos con el paquete [tictoc](https://www.rdocumentation.org/packages/tictoc/versions/1.0):"
   ]
  },
  {
   "cell_type": "code",
   "execution_count": null,
   "metadata": {},
   "outputs": [],
   "source": [
    "install.packages(\"tictoc\",lib=\"/usr/local/lib/R/site-library/\",\n",
    "                repos=\"https://cran.itam.mx/\",verbose=TRUE)"
   ]
  },
  {
   "cell_type": "markdown",
   "metadata": {},
   "source": [
    "**Ejemplo:**"
   ]
  },
  {
   "cell_type": "code",
   "execution_count": 1,
   "metadata": {},
   "outputs": [],
   "source": [
    "library(tictoc)"
   ]
  },
  {
   "cell_type": "markdown",
   "metadata": {},
   "source": [
    "### 3) Regla compuesta del rectángulo"
   ]
  },
  {
   "cell_type": "code",
   "execution_count": 2,
   "metadata": {},
   "outputs": [],
   "source": [
    "f<-function(x)exp(-x**2)"
   ]
  },
  {
   "cell_type": "code",
   "execution_count": 3,
   "metadata": {},
   "outputs": [],
   "source": [
    "a<-0\n",
    "b<-1\n",
    "n<-10**6\n",
    "h_hat<-(b-a)/n"
   ]
  },
  {
   "cell_type": "markdown",
   "metadata": {},
   "source": [
    "**Forma secuencial**"
   ]
  },
  {
   "cell_type": "code",
   "execution_count": 4,
   "metadata": {},
   "outputs": [],
   "source": [
    "Rcf1<-function(f,a,b,n){\n",
    "    #Compute numerical approximation using rectangle or mid-point method in \n",
    "    #an interval.\n",
    "    #Nodes are generated via formula: x_i = a+(i+1/2)h_hat for i=0,1,...,n-1 and h_hat=(b-a)/n\n",
    "    #Args:\n",
    "    #    f (function): function of integrand\n",
    "    #    a (int): left point of interval\n",
    "    #    b (int): right point of interval\n",
    "    #    n (int): number of subintervals\n",
    "    #Returns:\n",
    "    #    Rcf (float)\n",
    "    h_hat<-(b-a)/n\n",
    "    sum_res<-0\n",
    "    for(j in 0:(n-1)){\n",
    "        x<-a+(j+1/2.0)*h_hat\n",
    "        sum_res<-sum_res+f(x)\n",
    "    }\n",
    "    h_hat*sum_res\n",
    "}"
   ]
  },
  {
   "cell_type": "code",
   "execution_count": 5,
   "metadata": {},
   "outputs": [
    {
     "data": {
      "text/plain": [
       "   user  system elapsed \n",
       "  0.570   0.000   0.568 "
      ]
     },
     "metadata": {},
     "output_type": "display_data"
    }
   ],
   "source": [
    "system.time(aprox<-Rcf1(f,a,b,n))"
   ]
  },
  {
   "cell_type": "code",
   "execution_count": 6,
   "metadata": {},
   "outputs": [],
   "source": [
    "err_relativo<-function(aprox,obj)abs(aprox-obj)/abs(obj)"
   ]
  },
  {
   "cell_type": "code",
   "execution_count": 7,
   "metadata": {},
   "outputs": [],
   "source": [
    "obj<-integrate(Vectorize(f),a,b) #en la documentación de integrate\n",
    "                                 #se menciona que se utilice Vectorize"
   ]
  },
  {
   "cell_type": "code",
   "execution_count": 8,
   "metadata": {},
   "outputs": [
    {
     "data": {
      "text/html": [
       "6.71939731300312e-14"
      ],
      "text/latex": [
       "6.71939731300312e-14"
      ],
      "text/markdown": [
       "6.71939731300312e-14"
      ],
      "text/plain": [
       "[1] 6.719397e-14"
      ]
     },
     "metadata": {},
     "output_type": "display_data"
    }
   ],
   "source": [
    "err_relativo(aprox,obj$value)"
   ]
  },
  {
   "cell_type": "code",
   "execution_count": 12,
   "metadata": {},
   "outputs": [
    {
     "data": {
      "text/html": [
       "0.746824132812477"
      ],
      "text/latex": [
       "0.746824132812477"
      ],
      "text/markdown": [
       "0.746824132812477"
      ],
      "text/plain": [
       "[1] 0.7468241"
      ]
     },
     "metadata": {},
     "output_type": "display_data"
    },
    {
     "name": "stdout",
     "output_type": "stream",
     "text": [
      "medición de tiempo de regla de trapecio secuencial con tictoc: 0.637 sec elapsed\n",
      "medición de sleep + regla del trapecio secuencial: 1.655 sec elapsed\n"
     ]
    }
   ],
   "source": [
    "tic(\"medición de sleep + regla del trapecio secuencial\")\n",
    "tic(\"medición de tiempo de regla de trapecio secuencial con tictoc\")\n",
    "tic()\n",
    "Rcf1(f,a,b,n)\n",
    "toc()\n",
    "Sys.sleep(1)\n",
    "toc()"
   ]
  }
 ],
 "metadata": {
  "kernelspec": {
   "display_name": "R",
   "language": "R",
   "name": "ir"
  },
  "language_info": {
   "codemirror_mode": "r",
   "file_extension": ".r",
   "mimetype": "text/x-r-source",
   "name": "R",
   "pygments_lexer": "r",
   "version": "3.6.2"
  }
 },
 "nbformat": 4,
 "nbformat_minor": 4
}
