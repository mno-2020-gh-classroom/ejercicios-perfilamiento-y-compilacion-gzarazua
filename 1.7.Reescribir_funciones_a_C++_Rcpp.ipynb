{
 "cells": [
  {
   "cell_type": "markdown",
   "metadata": {},
   "source": [
    "**Notas para contenedor de docker:**"
   ]
  },
  {
   "cell_type": "markdown",
   "metadata": {},
   "source": [
    "Comando de docker para ejecución de la nota de forma local:\n",
    "\n",
    "nota: cambiar `<ruta a mi directorio>` por la ruta de directorio que se desea mapear a `/datos` dentro del contenedor de docker.\n",
    "\n",
    "```\n",
    "docker run --rm -v <ruta a mi directorio>:/datos --name jupyterlab_r_kernel_local -p 8888:8888 -d palmoreck/jupyterlab_r_kernel:1.1.0\n",
    "```\n",
    "\n",
    "password para jupyterlab: `qwerty`\n",
    "\n",
    "Detener el contenedor de docker:\n",
    "\n",
    "```\n",
    "docker stop jupyterlab_r_kernel_local\n",
    "```\n"
   ]
  },
  {
   "cell_type": "markdown",
   "metadata": {},
   "source": [
    "Documentación de la imagen de docker `palmoreck/jupyterlab_r_kernel:1.1.0` en [liga](https://github.com/palmoreck/dockerfiles/tree/master/jupyterlab/r_kernel)."
   ]
  },
  {
   "cell_type": "markdown",
   "metadata": {},
   "source": [
    "---"
   ]
  },
  {
   "cell_type": "markdown",
   "metadata": {},
   "source": [
    "Esta nota utiliza métodos vistos en [1.5.Integracion_numerica](https://github.com/ITAM-DS/analisis-numerico-computo-cientifico/blob/master/temas/I.computo_cientifico/1.5.Integracion_numerica.ipynb)"
   ]
  },
  {
   "cell_type": "markdown",
   "metadata": {},
   "source": [
    "**Instalación de microbenchmark:**"
   ]
  },
  {
   "cell_type": "code",
   "execution_count": 2,
   "metadata": {},
   "outputs": [
    {
     "name": "stderr",
     "output_type": "stream",
     "text": [
      "system (cmd0): /usr/lib/R/bin/R CMD INSTALL\n",
      "\n",
      "foundpkgs: microbenchmark, /tmp/Rtmpu90LwL/downloaded_packages/microbenchmark_1.4-7.tar.gz\n",
      "\n",
      "files: /tmp/Rtmpu90LwL/downloaded_packages/microbenchmark_1.4-7.tar.gz\n",
      "\n",
      "1): succeeded '/usr/lib/R/bin/R CMD INSTALL -l '/usr/local/lib/R/site-library' /tmp/Rtmpu90LwL/downloaded_packages/microbenchmark_1.4-7.tar.gz'\n",
      "\n"
     ]
    }
   ],
   "source": [
    "install.packages(\"microbenchmark\",lib=\"/usr/local/lib/R/site-library/\",\n",
    "                repos=\"https://cran.itam.mx/\",verbose=TRUE)"
   ]
  },
  {
   "cell_type": "markdown",
   "metadata": {},
   "source": [
    "# Rcpp"
   ]
  },
  {
   "cell_type": "markdown",
   "metadata": {},
   "source": [
    "Documentación de Rcpp:\n",
    "\n",
    "* [rcpp por Dirk Eddelbuettel](http://dirk.eddelbuettel.com/code/rcpp.html)\n",
    "\n",
    "* [rcpp.org](http://www.rcpp.org/)\n"
   ]
  },
  {
   "cell_type": "markdown",
   "metadata": {},
   "source": [
    "**Rcpp** permite conectar `C++` a `R` de forma sencilla al utilizar la `API` de Rcpp.\n",
    "\n",
    "\n",
    "**¿Por qué usar Rcpp?**\n",
    "\n",
    "Aunque `C` o `C++` requieren más líneas de código, son órdenes de magnitud más rápidos que R. Sacrificamos las ventajas que tiene R como rapidez en programación por velocidad en ejecución.\n",
    "\n",
    "**¿Cuando podríamos usar Rcpp?**\n",
    "\n",
    "* En loops que no pueden vectorizarse de forma sencilla. Si tenemos loops en los que una iteración depende de la anterior.\n",
    "\n",
    "* Si hay que llamar una función millones de veces.\n",
    "\n",
    "* Si después de hacer perfilamiento y optimización de código no llegamos a nuestro tiempo objetivo."
   ]
  },
  {
   "cell_type": "markdown",
   "metadata": {},
   "source": [
    "**Por qué no usamos `C`?**\n",
    "\n",
    "Sí es posible llamar funciones de `C` desde `R` pero resulta en más trabajo por parte de l@s programador@s. Por ejemplo, de acuerdo a H. Wickham:\n",
    "\n",
    "*...R’s C API. Unfortunately this API is not well documented. I’d recommend starting with my notes at [R’s C interface](http://adv-r.had.co.nz/C-interface.html). After that, read “[The R API](http://cran.rstudio.com/doc/manuals/r-devel/R-exts.html#The-R-API)” in “Writing R Extensions”. A number of exported functions are not documented, so you’ll also need to read the [R source code](https://github.com/wch/r-source) to figure out the details.*\n",
    "\n",
    "\n",
    "Y como primer acercamiento a la compilación de código desde `R` es preferible seguir las recomendaciones de H. Wickham en utilizar la API de `Rcpp`."
   ]
  },
  {
   "cell_type": "markdown",
   "metadata": {},
   "source": [
    "**También se utiliza el paquete [microbenchmark](https://www.rdocumentation.org/packages/microbenchmark/versions/1.4-7/topics/microbenchmark) para medir tiempos de forma exacta:**\n",
    "\n",
    "Un *microbenchmark* es la medición del performance de un bloque pequeño de código. El paquete de `R` con el mismo nombre devolverá el tiempo medido en *miliseconds* (ms), *microseconds* ($\\mu s$) o *nanoseconds* (ns) para el bloque de código dado y se repetirá ésta medición un número definido de veces. Las diferencias al correr varias veces la función de *microbenchmark* pueden deberse a varias razones tan simples como tener otras tareas corriendo en tu computadora."
   ]
  },
  {
   "cell_type": "markdown",
   "metadata": {},
   "source": [
    "**En lo que sigue se utiliza el método del rectángulo para aproximar la integral definida de una función.**"
   ]
  },
  {
   "cell_type": "code",
   "execution_count": 3,
   "metadata": {},
   "outputs": [],
   "source": [
    "library(Rcpp)\n",
    "library(microbenchmark)"
   ]
  },
  {
   "cell_type": "markdown",
   "metadata": {},
   "source": [
    "La regla del rectángulo en código de `R` y utilizando [vapply](https://www.rdocumentation.org/packages/functools/versions/0.2.0/topics/Vapply) (`vapply` es más rápido que `sapply` pues se especifica con anterioridad el tipo de `output` que devuelve) es la siguiente:"
   ]
  },
  {
   "cell_type": "code",
   "execution_count": 7,
   "metadata": {},
   "outputs": [],
   "source": [
    "Rcf1<-function(f,a,b,n){\n",
    "    #Compute numerical approximation using rectangle or mid-point method in \n",
    "    #an interval.\n",
    "    #Nodes are generated via formula: x_i = a+(i+1/2)h_hat for i=0,1,...,n-1 and h_hat=(b-a)/n\n",
    "    #Args:\n",
    "    #    f (function): function of integrand\n",
    "    #    a (int): left point of interval\n",
    "    #    b (int): right point of interval\n",
    "    #    n (int): number of subintervals\n",
    "    #Returns:\n",
    "    #    Rcf (float)\n",
    "    h_hat<-(b-a)/n\n",
    "    sum_res<-0\n",
    "    x<-vapply(0:(n-1),function(j)a+(j+1/2.0)*h_hat,numeric(1))\n",
    "    for(j in 1:n){\n",
    "        sum_res<-sum_res+f(x[j])\n",
    "    }\n",
    "    h_hat*sum_res\n",
    "}"
   ]
  },
  {
   "cell_type": "code",
   "execution_count": 8,
   "metadata": {},
   "outputs": [],
   "source": [
    "f<-function(x)exp(-x^2)"
   ]
  },
  {
   "cell_type": "markdown",
   "metadata": {},
   "source": [
    "Probaremos esta implementación `Rcf1` básica para medir su tiempo de ejecución:"
   ]
  },
  {
   "cell_type": "code",
   "execution_count": 9,
   "metadata": {},
   "outputs": [],
   "source": [
    "n<-10**6\n",
    "aprox<-Rcf1(f,0,1,n)"
   ]
  },
  {
   "cell_type": "code",
   "execution_count": 10,
   "metadata": {},
   "outputs": [
    {
     "data": {
      "text/html": [
       "0.746824132812477"
      ],
      "text/latex": [
       "0.746824132812477"
      ],
      "text/markdown": [
       "0.746824132812477"
      ],
      "text/plain": [
       "[1] 0.7468241"
      ]
     },
     "metadata": {},
     "output_type": "display_data"
    }
   ],
   "source": [
    "aprox"
   ]
  },
  {
   "cell_type": "markdown",
   "metadata": {},
   "source": [
    "**Recuérdese** revisar el error relativo:"
   ]
  },
  {
   "cell_type": "code",
   "execution_count": 11,
   "metadata": {},
   "outputs": [],
   "source": [
    "err_relativo<-function(aprox,obj)abs(aprox-obj)/abs(obj)"
   ]
  },
  {
   "cell_type": "code",
   "execution_count": 12,
   "metadata": {},
   "outputs": [],
   "source": [
    "obj<-integrate(Vectorize(f),0,1) #en la documentación de integrate\n",
    "                                 #se menciona que se utilice Vectorize"
   ]
  },
  {
   "cell_type": "code",
   "execution_count": 13,
   "metadata": {},
   "outputs": [
    {
     "data": {
      "text/html": [
       "6.71939731300312e-14"
      ],
      "text/latex": [
       "6.71939731300312e-14"
      ],
      "text/markdown": [
       "6.71939731300312e-14"
      ],
      "text/plain": [
       "[1] 6.719397e-14"
      ]
     },
     "metadata": {},
     "output_type": "display_data"
    }
   ],
   "source": [
    "err_relativo(aprox,obj$value)"
   ]
  },
  {
   "cell_type": "code",
   "execution_count": 14,
   "metadata": {},
   "outputs": [
    {
     "data": {
      "text/plain": [
       "   user  system elapsed \n",
       "  1.160   0.000   1.154 "
      ]
     },
     "metadata": {},
     "output_type": "display_data"
    }
   ],
   "source": [
    "system.time(Rcf1(f,0,1,n))"
   ]
  },
  {
   "cell_type": "markdown",
   "metadata": {},
   "source": [
    "Una implementación que utiliza la función `sum` de `R` es la siguiente:"
   ]
  },
  {
   "cell_type": "code",
   "execution_count": 15,
   "metadata": {},
   "outputs": [],
   "source": [
    "Rcf2<-function(f,a,b,n){\n",
    "    #Compute numerical approximation using rectangle or mid-point method in \n",
    "    #an interval.\n",
    "    #Nodes are generated via formula: x_i = a+(i+1/2)h_hat for i=0,1,...,n-1 and h_hat=(b-a)/n\n",
    "    #Args:\n",
    "    #    f (function): function of integrand\n",
    "    #    a (int): left point of interval\n",
    "    #    b (int): right point of interval\n",
    "    #    n (int): number of subintervals\n",
    "    #Returns:\n",
    "    #    Rcf (float)\n",
    "    h_hat<-(b-a)/n\n",
    "    x<-vapply(0:(n-1),function(j)a+(j+1/2.0)*h_hat,numeric(1))\n",
    "    h_hat*sum(f(x))\n",
    "}"
   ]
  },
  {
   "cell_type": "code",
   "execution_count": 16,
   "metadata": {},
   "outputs": [],
   "source": [
    "aprox<-Rcf2(f,0,1,n)"
   ]
  },
  {
   "cell_type": "code",
   "execution_count": 17,
   "metadata": {},
   "outputs": [
    {
     "data": {
      "text/html": [
       "0.746824132812458"
      ],
      "text/latex": [
       "0.746824132812458"
      ],
      "text/markdown": [
       "0.746824132812458"
      ],
      "text/plain": [
       "[1] 0.7468241"
      ]
     },
     "metadata": {},
     "output_type": "display_data"
    }
   ],
   "source": [
    "aprox"
   ]
  },
  {
   "cell_type": "code",
   "execution_count": 18,
   "metadata": {},
   "outputs": [
    {
     "data": {
      "text/html": [
       "4.10299481944438e-14"
      ],
      "text/latex": [
       "4.10299481944438e-14"
      ],
      "text/markdown": [
       "4.10299481944438e-14"
      ],
      "text/plain": [
       "[1] 4.102995e-14"
      ]
     },
     "metadata": {},
     "output_type": "display_data"
    }
   ],
   "source": [
    "err_relativo(aprox,obj$value)"
   ]
  },
  {
   "cell_type": "code",
   "execution_count": 19,
   "metadata": {},
   "outputs": [
    {
     "data": {
      "text/plain": [
       "   user  system elapsed \n",
       "  0.740   0.000   0.743 "
      ]
     },
     "metadata": {},
     "output_type": "display_data"
    }
   ],
   "source": [
    "system.time(Rcf2(f,0,1,n))"
   ]
  },
  {
   "cell_type": "markdown",
   "metadata": {},
   "source": [
    "y se redujo el tiempo de cálculo."
   ]
  },
  {
   "cell_type": "markdown",
   "metadata": {},
   "source": [
    "# Hacia la compilación con Rcpp"
   ]
  },
  {
   "cell_type": "markdown",
   "metadata": {},
   "source": [
    "En `Rcpp` se tiene la función [cppFunction](https://www.rdocumentation.org/packages/Rcpp/versions/1.0.3/topics/cppFunction) que recibe código escrito en `C++` para definir una función que puede ser utilizada desde `R`. Antes de usar tal función, reescribamos la regla del rectángulo de modo que no se utilice `vapply`:"
   ]
  },
  {
   "cell_type": "code",
   "execution_count": 21,
   "metadata": {},
   "outputs": [],
   "source": [
    "Rcf3<-function(f,a,b,n){\n",
    "    #Compute numerical approximation using rectangle or mid-point method in \n",
    "    #an interval.\n",
    "    #Nodes are generated via formula: x_i = a+(i+1/2)h_hat for i=0,1,...,n-1 and h_hat=(b-a)/n\n",
    "    #Args:\n",
    "    #    f (function): function of integrand\n",
    "    #    a (int): left point of interval\n",
    "    #    b (int): right point of interval\n",
    "    #    n (int): number of subintervals\n",
    "    #Returns:\n",
    "    #    Rcf (float)\n",
    "    h_hat<-(b-a)/n\n",
    "    sum_res<-0\n",
    "    for(i in 0:(n-1)){\n",
    "        x<-a+(i+1/2.0)*h_hat\n",
    "        sum_res<-sum_res+f(x)\n",
    "    }\n",
    "    h_hat*sum_res\n",
    "}"
   ]
  },
  {
   "cell_type": "code",
   "execution_count": 23,
   "metadata": {},
   "outputs": [],
   "source": [
    "n<-10**6\n",
    "aprox<-Rcf3(f,0,1,n)"
   ]
  },
  {
   "cell_type": "code",
   "execution_count": 24,
   "metadata": {},
   "outputs": [
    {
     "data": {
      "text/html": [
       "0.746824132812477"
      ],
      "text/latex": [
       "0.746824132812477"
      ],
      "text/markdown": [
       "0.746824132812477"
      ],
      "text/plain": [
       "[1] 0.7468241"
      ]
     },
     "metadata": {},
     "output_type": "display_data"
    }
   ],
   "source": [
    "aprox"
   ]
  },
  {
   "cell_type": "code",
   "execution_count": 25,
   "metadata": {},
   "outputs": [
    {
     "data": {
      "text/html": [
       "6.71939731300312e-14"
      ],
      "text/latex": [
       "6.71939731300312e-14"
      ],
      "text/markdown": [
       "6.71939731300312e-14"
      ],
      "text/plain": [
       "[1] 6.719397e-14"
      ]
     },
     "metadata": {},
     "output_type": "display_data"
    }
   ],
   "source": [
    "err_relativo(aprox,obj$value)"
   ]
  },
  {
   "cell_type": "code",
   "execution_count": 26,
   "metadata": {},
   "outputs": [
    {
     "data": {
      "text/plain": [
       "   user  system elapsed \n",
       "  0.530   0.000   0.529 "
      ]
     },
     "metadata": {},
     "output_type": "display_data"
    }
   ],
   "source": [
    "system.time(Rcf4(f,0,1,n))"
   ]
  },
  {
   "cell_type": "markdown",
   "metadata": {},
   "source": [
    "Entonces se define el `source code` escrito en `C++` que será el primer parámetro que recibirá `cppFunction`:"
   ]
  },
  {
   "cell_type": "code",
   "execution_count": 28,
   "metadata": {},
   "outputs": [],
   "source": [
    "f_str<-'double Rcf_Rcpp(double a, double b, int n){\n",
    "             double h_hat;\n",
    "             double sum_res=0;\n",
    "             int i;\n",
    "             double x;\n",
    "             h_hat=(b-a)/n;\n",
    "             for(i=0;i<=n-1;i++){\n",
    "                    x = a+(i+1/2.0)*h_hat;\n",
    "                    sum_res+=exp(-pow(x,2));\n",
    "             }\n",
    "             return h_hat*sum_res;\n",
    "        }'"
   ]
  },
  {
   "cell_type": "code",
   "execution_count": 29,
   "metadata": {},
   "outputs": [],
   "source": [
    "cppFunction(f_str)"
   ]
  },
  {
   "cell_type": "markdown",
   "metadata": {},
   "source": [
    "Si queremos obtener más información de la ejecución de la línea anterior podemos usar:"
   ]
  },
  {
   "cell_type": "code",
   "execution_count": 31,
   "metadata": {},
   "outputs": [
    {
     "name": "stdout",
     "output_type": "stream",
     "text": [
      "\n",
      "Generated code for function definition: \n",
      "--------------------------------------------------------\n",
      "\n",
      "#include <Rcpp.h>\n",
      "\n",
      "using namespace Rcpp;\n",
      "\n",
      "// [[Rcpp::export]]\n",
      "double Rcf_Rcpp(double a, double b, int n){\n",
      "             double h_hat;\n",
      "             double sum_res=0;\n",
      "             int i;\n",
      "             double x;\n",
      "             h_hat=(b-a)/n;\n",
      "             for(i=0;i<=n-1;i++){\n",
      "                    x = a+(i+1/2.0)*h_hat;\n",
      "                    sum_res+=exp(-pow(x,2));\n",
      "             }\n",
      "             return h_hat*sum_res;\n",
      "        }\n",
      "\n",
      "Generated extern \"C\" functions \n",
      "--------------------------------------------------------\n",
      "\n",
      "\n",
      "#include <Rcpp.h>\n",
      "// Rcf_Rcpp\n",
      "double Rcf_Rcpp(double a, double b, int n);\n",
      "RcppExport SEXP sourceCpp_1_Rcf_Rcpp(SEXP aSEXP, SEXP bSEXP, SEXP nSEXP) {\n",
      "BEGIN_RCPP\n",
      "    Rcpp::RObject rcpp_result_gen;\n",
      "    Rcpp::RNGScope rcpp_rngScope_gen;\n",
      "    Rcpp::traits::input_parameter< double >::type a(aSEXP);\n",
      "    Rcpp::traits::input_parameter< double >::type b(bSEXP);\n",
      "    Rcpp::traits::input_parameter< int >::type n(nSEXP);\n",
      "    rcpp_result_gen = Rcpp::wrap(Rcf_Rcpp(a, b, n));\n",
      "    return rcpp_result_gen;\n",
      "END_RCPP\n",
      "}\n",
      "\n",
      "Generated R functions \n",
      "-------------------------------------------------------\n",
      "\n",
      "`.sourceCpp_1_DLLInfo` <- dyn.load('/tmp/Rtmpu90LwL/sourceCpp-x86_64-pc-linux-gnu-1.0.3/sourcecpp_12515b9b19/sourceCpp_3.so')\n",
      "\n",
      "Rcf_Rcpp <- Rcpp:::sourceCppFunction(function(a, b, n) {}, FALSE, `.sourceCpp_1_DLLInfo`, 'sourceCpp_1_Rcf_Rcpp')\n",
      "\n",
      "rm(`.sourceCpp_1_DLLInfo`)\n",
      "\n",
      "Building shared library\n",
      "--------------------------------------------------------\n",
      "\n",
      "DIR: /tmp/Rtmpu90LwL/sourceCpp-x86_64-pc-linux-gnu-1.0.3/sourcecpp_12515b9b19\n",
      "\n",
      "/usr/lib/R/bin/R CMD SHLIB -o 'sourceCpp_3.so' --preclean  'file1239a2facb.cpp'  \n"
     ]
    }
   ],
   "source": [
    "cppFunction(f_str, verbose=TRUE, rebuild=TRUE) #también usamos rebuild=TRUE\n",
    "                                               #para que se vuelva a compilar,\n",
    "                                               #ligar con la librería en C++ \n",
    "                                               #y todo lo que realiza cppFunction\n",
    "                                               #detrás del telón"
   ]
  },
  {
   "cell_type": "markdown",
   "metadata": {},
   "source": [
    "**Comentarios:**\n",
    "\n",
    "* Al ejecutar la línea de `cppFunction`, `Rcpp` compilará el código de `C++` y construirá una función de `R` que se conecta con la función compilada de `C++` (este se le llama `wrapper`). \n",
    "\n",
    "* Si se observa en la salida de arriba se verá que hay un bloque de `C` y un tipo de dato `SEXP` que de acuerdo a H. Wickham:\n",
    "\n",
    "*...functions that talk to R must use the SEXP type for both inputs and outputs. SEXP, short for S expression, is the C struct used to represent every type of object in R. A C function typically starts by converting SEXPs to atomic C objects, and ends by converting C objects back to a SEXP. (The R API is designed so that these conversions often don’t require copying.)*\n"
   ]
  },
  {
   "cell_type": "markdown",
   "metadata": {},
   "source": [
    "Revisemos el tiempo de esta función:"
   ]
  },
  {
   "cell_type": "code",
   "execution_count": 32,
   "metadata": {},
   "outputs": [],
   "source": [
    "aprox_rcpp<-Rcf_Rcpp(0,1,n)"
   ]
  },
  {
   "cell_type": "code",
   "execution_count": 33,
   "metadata": {},
   "outputs": [
    {
     "data": {
      "text/html": [
       "6.71939731300312e-14"
      ],
      "text/latex": [
       "6.71939731300312e-14"
      ],
      "text/markdown": [
       "6.71939731300312e-14"
      ],
      "text/plain": [
       "[1] 6.719397e-14"
      ]
     },
     "metadata": {},
     "output_type": "display_data"
    }
   ],
   "source": [
    "err_relativo(aprox_rcpp,obj$value)"
   ]
  },
  {
   "cell_type": "code",
   "execution_count": 34,
   "metadata": {},
   "outputs": [
    {
     "data": {
      "text/plain": [
       "   user  system elapsed \n",
       "  0.020   0.000   0.024 "
      ]
     },
     "metadata": {},
     "output_type": "display_data"
    }
   ],
   "source": [
    "system.time(Rcf_Rcpp(0,1,n))"
   ]
  },
  {
   "cell_type": "markdown",
   "metadata": {},
   "source": [
    "Y utilizando `microbenchmark`:"
   ]
  },
  {
   "cell_type": "code",
   "execution_count": 35,
   "metadata": {},
   "outputs": [],
   "source": [
    "mbk<-microbenchmark(\n",
    "    Rcf1(f,0,1,n),\n",
    "    Rcf2(f,0,1,n),\n",
    "    Rcf3(f,0,1,n),\n",
    "    Rcf_Rcpp(0,1,n), \n",
    "    times=10\n",
    "    )"
   ]
  },
  {
   "cell_type": "code",
   "execution_count": 36,
   "metadata": {},
   "outputs": [
    {
     "name": "stdout",
     "output_type": "stream",
     "text": [
      "Unit: milliseconds\n",
      "              expr       min         lq       mean     median         uq\n",
      "  Rcf1(f, 0, 1, n) 1134.9580 1143.60462 1286.19387 1207.79665 1217.92329\n",
      "  Rcf2(f, 0, 1, n)  668.5134  687.85826  746.14824  731.34272  751.19857\n",
      "  Rcf3(f, 0, 1, n)  524.9488  536.67870  545.12018  539.86892  552.13084\n",
      " Rcf_Rcpp(0, 1, n)   16.5403   17.25606   18.64566   17.97957   19.13085\n",
      "        max neval\n",
      " 1723.17939    10\n",
      "  947.80422    10\n",
      "  577.35055    10\n",
      "   24.64291    10\n"
     ]
    }
   ],
   "source": [
    "print(mbk)"
   ]
  },
  {
   "cell_type": "markdown",
   "metadata": {},
   "source": [
    "Se observa que la función compilada `Rcf_Rcpp` es dos órdenes de magnitud más rápida que `Rcf1` y un orden de magnitud más rápida que `Rcf2` y `Rcf3`."
   ]
  },
  {
   "cell_type": "markdown",
   "metadata": {},
   "source": [
    "**NumericVector**"
   ]
  },
  {
   "cell_type": "markdown",
   "metadata": {},
   "source": [
    "En `Rcpp` se tienen clases que se relacionan con los tipos de dato en `R` para vectores. Entre éstas se encuentran `NumericVector`, `IntegerVector`, `CharacterVector` y `LogicalVector` que se relacionan con vectores tipo `numeric`, `integer`, `character` y `logical`. Por ejemplo, para el caso de `NumericVector` se tiene:"
   ]
  },
  {
   "cell_type": "code",
   "execution_count": 37,
   "metadata": {},
   "outputs": [],
   "source": [
    "f_str <-'NumericVector el(NumericVector x){\n",
    "        return exp(log(x));\n",
    "}'"
   ]
  },
  {
   "cell_type": "code",
   "execution_count": 38,
   "metadata": {},
   "outputs": [],
   "source": [
    "cppFunction(f_str)"
   ]
  },
  {
   "cell_type": "code",
   "execution_count": 40,
   "metadata": {},
   "outputs": [
    {
     "name": "stdout",
     "output_type": "stream",
     "text": [
      " [1] 0.0 0.1 0.2 0.3 0.4 0.5 0.6 0.7 0.8 0.9 1.0\n"
     ]
    }
   ],
   "source": [
    "print(el(seq(0,1,by=.1)))"
   ]
  },
  {
   "cell_type": "markdown",
   "metadata": {},
   "source": [
    "Para el caso de la regla de integración del rectángulo, podríamos pensar en `R` en una implementación como la siguiente:"
   ]
  },
  {
   "cell_type": "code",
   "execution_count": 41,
   "metadata": {},
   "outputs": [],
   "source": [
    "Rcf3b<-function(f,a,b,n){\n",
    "    #Compute numerical approximation using rectangle or mid-point method in \n",
    "    #an interval.\n",
    "    #Nodes are generated via formula: x_i = a+(i+1/2)h_hat for i=0,1,...,n-1 and h_hat=(b-a)/n\n",
    "    #Args:\n",
    "    #    f (function): function of integrand\n",
    "    #    a (int): left point of interval\n",
    "    #    b (int): right point of interval\n",
    "    #    n (int): number of subintervals\n",
    "    #Returns:\n",
    "    #    Rcf (float)\n",
    "    h_hat<-(b-a)/n\n",
    "    fx<-f(vapply(0:(n-1),function(j)a+(j+1/2.0)*h_hat,numeric(1))) #evaluate f\n",
    "    h_hat*sum(fx)\n",
    "}"
   ]
  },
  {
   "cell_type": "code",
   "execution_count": 42,
   "metadata": {},
   "outputs": [],
   "source": [
    "aprox<-Rcf3b(f,0,1,n)"
   ]
  },
  {
   "cell_type": "code",
   "execution_count": 43,
   "metadata": {},
   "outputs": [
    {
     "data": {
      "text/html": [
       "4.10299481944438e-14"
      ],
      "text/latex": [
       "4.10299481944438e-14"
      ],
      "text/markdown": [
       "4.10299481944438e-14"
      ],
      "text/plain": [
       "[1] 4.102995e-14"
      ]
     },
     "metadata": {},
     "output_type": "display_data"
    }
   ],
   "source": [
    "err_relativo(aprox,obj$value)"
   ]
  },
  {
   "cell_type": "code",
   "execution_count": 44,
   "metadata": {},
   "outputs": [
    {
     "data": {
      "text/plain": [
       "   user  system elapsed \n",
       "  0.590   0.000   0.587 "
      ]
     },
     "metadata": {},
     "output_type": "display_data"
    }
   ],
   "source": [
    "system.time(Rcf3(f,0,1,n))"
   ]
  },
  {
   "cell_type": "markdown",
   "metadata": {},
   "source": [
    "Y para poner un ejemplo de `NumericVector` para esta regla, podemos primero calcular los nodos y evaluar `f` en ellos:"
   ]
  },
  {
   "cell_type": "code",
   "execution_count": 46,
   "metadata": {},
   "outputs": [],
   "source": [
    "a<-0\n",
    "b<-1\n",
    "h_hat<-(b-a)/n"
   ]
  },
  {
   "cell_type": "code",
   "execution_count": 47,
   "metadata": {},
   "outputs": [],
   "source": [
    "fx<-f(vapply(0:(n-1),function(j)a+(j+1/2.0)*h_hat,numeric(1)))"
   ]
  },
  {
   "cell_type": "code",
   "execution_count": 49,
   "metadata": {},
   "outputs": [
    {
     "name": "stdout",
     "output_type": "stream",
     "text": [
      "[1] 0.3678835 0.3678828 0.3678820 0.3678813 0.3678805 0.3678798\n"
     ]
    }
   ],
   "source": [
    "print(tail(fx))"
   ]
  },
  {
   "cell_type": "code",
   "execution_count": 50,
   "metadata": {},
   "outputs": [],
   "source": [
    "f_str<-'\n",
    "double Rcf_Rcpp2(NumericVector f_x,double h_hat){\n",
    "             double sum_res=0;\n",
    "             int i;\n",
    "             int n = f_x.size();\n",
    "             for(i=0;i<=n-1;i++){\n",
    "                    sum_res+=f_x[i];\n",
    "             }\n",
    "             return h_hat*sum_res;\n",
    "        }'"
   ]
  },
  {
   "cell_type": "code",
   "execution_count": 51,
   "metadata": {},
   "outputs": [],
   "source": [
    "cppFunction(f_str,rebuild=TRUE)"
   ]
  },
  {
   "cell_type": "code",
   "execution_count": 52,
   "metadata": {},
   "outputs": [
    {
     "data": {
      "text/plain": [
       "   user  system elapsed \n",
       "  0.000   0.000   0.002 "
      ]
     },
     "metadata": {},
     "output_type": "display_data"
    }
   ],
   "source": [
    "system.time(Rcf_Rcpp2(fx,h_hat))"
   ]
  },
  {
   "cell_type": "markdown",
   "metadata": {},
   "source": [
    "**Revisamos** el error relativo:"
   ]
  },
  {
   "cell_type": "code",
   "execution_count": 53,
   "metadata": {},
   "outputs": [],
   "source": [
    "aprox_rcpp2<-Rcf_Rcpp2(fx,h_hat)"
   ]
  },
  {
   "cell_type": "code",
   "execution_count": 54,
   "metadata": {},
   "outputs": [
    {
     "data": {
      "text/html": [
       "6.71939731300312e-14"
      ],
      "text/latex": [
       "6.71939731300312e-14"
      ],
      "text/markdown": [
       "6.71939731300312e-14"
      ],
      "text/plain": [
       "[1] 6.719397e-14"
      ]
     },
     "metadata": {},
     "output_type": "display_data"
    }
   ],
   "source": [
    "err_relativo(aprox_rcpp2,obj$value)"
   ]
  },
  {
   "cell_type": "markdown",
   "metadata": {},
   "source": [
    "Y constrastamos con `microbenchmark`:"
   ]
  },
  {
   "cell_type": "code",
   "execution_count": 55,
   "metadata": {},
   "outputs": [],
   "source": [
    "mbk<-microbenchmark(\n",
    "    Rcf1(f,0,1,n),\n",
    "    Rcf2(f,0,1,n),\n",
    "    Rcf3(f,0,1,n),\n",
    "    Rcf3b(f,0,1,n),\n",
    "    Rcf_Rcpp(0,1,n), \n",
    "    Rcf_Rcpp2(fx,h_hat),\n",
    "    times=10\n",
    "    )"
   ]
  },
  {
   "cell_type": "code",
   "execution_count": 56,
   "metadata": {},
   "outputs": [
    {
     "name": "stdout",
     "output_type": "stream",
     "text": [
      "Unit: milliseconds\n",
      "                 expr         min          lq        mean      median\n",
      "     Rcf1(f, 0, 1, n) 1192.918665 1228.678904 1315.967484 1264.626690\n",
      "     Rcf2(f, 0, 1, n)  708.988752  721.018438  838.991386  791.609931\n",
      "     Rcf3(f, 0, 1, n)  533.528447  557.654910  642.007659  599.152741\n",
      "    Rcf3b(f, 0, 1, n)  688.495578  723.240941  840.585161  743.023979\n",
      "    Rcf_Rcpp(0, 1, n)   16.944433   17.587898   21.350258   21.209751\n",
      " Rcf_Rcpp2(fx, h_hat)    1.047825    1.074875    1.348535    1.126084\n",
      "          uq         max neval\n",
      " 1414.261255 1489.786964    10\n",
      "  855.935157 1190.395839    10\n",
      "  690.248859  850.867292    10\n",
      "  942.462597 1213.450117    10\n",
      "   24.679616   29.429521    10\n",
      "    1.200255    3.288781    10\n"
     ]
    }
   ],
   "source": [
    "print(mbk)"
   ]
  },
  {
   "cell_type": "markdown",
   "metadata": {},
   "source": [
    "**Comentarios:**"
   ]
  },
  {
   "cell_type": "markdown",
   "metadata": {},
   "source": [
    "* Obsérvese que está utilizando el método `.size()` que regresa un `integer`.\n",
    "\n",
    "* No estamos midiendo en condiciones iguales pues las otras funciones construían los nodos... por ejemplo es súper rápida la ejecución de `Rcf_Rcpp2` y no tanto la siguiente:"
   ]
  },
  {
   "cell_type": "code",
   "execution_count": 57,
   "metadata": {},
   "outputs": [
    {
     "data": {
      "text/plain": [
       "   user  system elapsed \n",
       "  0.750   0.000   0.758 "
      ]
     },
     "metadata": {},
     "output_type": "display_data"
    }
   ],
   "source": [
    "system.time(fx<-f(vapply(0:(n-1),function(j)a+(j+1/2.0)*h_hat,numeric(1))))"
   ]
  },
  {
   "cell_type": "markdown",
   "metadata": {},
   "source": [
    "Entonces debimos de haber medido como:"
   ]
  },
  {
   "cell_type": "code",
   "execution_count": 58,
   "metadata": {},
   "outputs": [],
   "source": [
    "mbk<-microbenchmark(\n",
    "    Rcf1(f,0,1,n),\n",
    "    Rcf2(f,0,1,n),\n",
    "    Rcf3(f,0,1,n),\n",
    "    Rcf3b(f,0,1,n),\n",
    "    Rcf_Rcpp(0,1,n), \n",
    "    f(vapply(0:(n-1),function(j)a+(j+1/2.0)*h_hat,numeric(1))),\n",
    "    times=10\n",
    "    )"
   ]
  },
  {
   "cell_type": "code",
   "execution_count": 59,
   "metadata": {},
   "outputs": [
    {
     "name": "stdout",
     "output_type": "stream",
     "text": [
      "Unit: milliseconds\n",
      "                                                                expr       min\n",
      "                                                    Rcf1(f, 0, 1, n) 1118.9874\n",
      "                                                    Rcf2(f, 0, 1, n)  661.8217\n",
      "                                                    Rcf3(f, 0, 1, n)  518.4573\n",
      "                                                   Rcf3b(f, 0, 1, n)  657.6112\n",
      "                                                   Rcf_Rcpp(0, 1, n)   16.7331\n",
      " f(vapply(0:(n - 1), function(j) a + (j + 1/2) * h_hat, numeric(1)))  708.2641\n",
      "        lq       mean     median         uq        max neval\n",
      " 1148.5022 1221.05506 1177.96496 1294.26572 1396.64626    10\n",
      "  669.4143  712.31013  681.45650  695.29276 1009.91352    10\n",
      "  531.4959  596.47586  557.93353  652.30480  778.27262    10\n",
      "  683.1871  735.76753  686.61225  727.13774 1014.09308    10\n",
      "   17.0036   18.01895   18.27387   18.49182   19.71365    10\n",
      "  744.7894  824.46560  758.49632  923.38135 1010.55658    10\n"
     ]
    }
   ],
   "source": [
    "print(mbk)"
   ]
  },
  {
   "cell_type": "markdown",
   "metadata": {},
   "source": [
    "* También se pueden devolver vectores de tipo `NumericVector` por ejemplo para crear los nodos:"
   ]
  },
  {
   "cell_type": "code",
   "execution_count": 60,
   "metadata": {},
   "outputs": [],
   "source": [
    "f_str<-'NumericVector Nodos(double a, double b, int n){\n",
    "        double h_hat=(b-a)/n;\n",
    "        int i;\n",
    "        NumericVector x(n);\n",
    "        for(i=0;i<n;i++)\n",
    "            x[i]=a+(i+1/2.0)*h_hat;\n",
    "        return x;\n",
    "}'"
   ]
  },
  {
   "cell_type": "code",
   "execution_count": 61,
   "metadata": {},
   "outputs": [],
   "source": [
    "cppFunction(f_str,rebuild=TRUE)"
   ]
  },
  {
   "cell_type": "code",
   "execution_count": 66,
   "metadata": {},
   "outputs": [
    {
     "name": "stdout",
     "output_type": "stream",
     "text": [
      "[1] 0.25 0.75\n"
     ]
    }
   ],
   "source": [
    "print(Nodos(0,1,2))"
   ]
  },
  {
   "cell_type": "markdown",
   "metadata": {},
   "source": [
    "**También en `Rcpp` es posible llamar funciones definidas en el ambiente global, por ejemplo:**"
   ]
  },
  {
   "cell_type": "code",
   "execution_count": 67,
   "metadata": {},
   "outputs": [],
   "source": [
    "f_str='RObject fun(double x){\n",
    "Environment env = Environment::global_env();\n",
    "Function f=env[\"f\"];\n",
    "return f(x);\n",
    "}\n",
    "'"
   ]
  },
  {
   "cell_type": "code",
   "execution_count": 68,
   "metadata": {},
   "outputs": [],
   "source": [
    "cppFunction(f_str,rebuild=TRUE)"
   ]
  },
  {
   "cell_type": "code",
   "execution_count": 69,
   "metadata": {},
   "outputs": [
    {
     "data": {
      "text/html": [
       "0.367879441171442"
      ],
      "text/latex": [
       "0.367879441171442"
      ],
      "text/markdown": [
       "0.367879441171442"
      ],
      "text/plain": [
       "[1] 0.3678794"
      ]
     },
     "metadata": {},
     "output_type": "display_data"
    }
   ],
   "source": [
    "fun(1)"
   ]
  },
  {
   "cell_type": "code",
   "execution_count": 70,
   "metadata": {},
   "outputs": [
    {
     "data": {
      "text/html": [
       "0.367879441171442"
      ],
      "text/latex": [
       "0.367879441171442"
      ],
      "text/markdown": [
       "0.367879441171442"
      ],
      "text/plain": [
       "[1] 0.3678794"
      ]
     },
     "metadata": {},
     "output_type": "display_data"
    }
   ],
   "source": [
    "f(1)"
   ]
  },
  {
   "cell_type": "code",
   "execution_count": 71,
   "metadata": {},
   "outputs": [
    {
     "data": {
      "text/html": [
       "<pre class=language-r><code>function (x) \n",
       ".Call(&lt;pointer: 0x7f5e0ee59360&gt;, x)</code></pre>"
      ],
      "text/latex": [
       "\\begin{minted}{r}\n",
       "function (x) \n",
       ".Call(<pointer: 0x7f5e0ee59360>, x)\n",
       "\\end{minted}"
      ],
      "text/markdown": [
       "```r\n",
       "function (x) \n",
       ".Call(<pointer: 0x7f5e0ee59360>, x)\n",
       "```"
      ],
      "text/plain": [
       "function (x) \n",
       ".Call(<pointer: 0x7f5e0ee59360>, x)"
      ]
     },
     "metadata": {},
     "output_type": "display_data"
    }
   ],
   "source": [
    "fun"
   ]
  },
  {
   "cell_type": "markdown",
   "metadata": {},
   "source": [
    "**.Call es una función base para llamar funciones de `C` desde `R`:**.\n",
    "\n",
    "*There are two ways to call C functions from R: .C() and .Call(). .C() is a quick and dirty way to call an C function that doesn’t know anything about R because .C() automatically converts between R vectors and the corresponding C types. .Call() is more flexible, but more work: your C function needs to use the R API to convert its inputs to standard C data types.* **H. Wickham**."
   ]
  },
  {
   "cell_type": "code",
   "execution_count": 72,
   "metadata": {},
   "outputs": [
    {
     "data": {
      "text/html": [
       "<pre class=language-r><code>function (x) \n",
       "exp(-x^2)</code></pre>"
      ],
      "text/latex": [
       "\\begin{minted}{r}\n",
       "function (x) \n",
       "exp(-x\\textasciicircum{}2)\n",
       "\\end{minted}"
      ],
      "text/markdown": [
       "```r\n",
       "function (x) \n",
       "exp(-x^2)\n",
       "```"
      ],
      "text/plain": [
       "function(x)exp(-x^2)\n",
       "<bytecode: 0x5598a7c46910>"
      ]
     },
     "metadata": {},
     "output_type": "display_data"
    }
   ],
   "source": [
    "f"
   ]
  },
  {
   "cell_type": "markdown",
   "metadata": {},
   "source": [
    "**Ejercicios:**\n",
    "\n",
    "1. Revisar [rcpp-sugar](http://adv-r.had.co.nz/Rcpp.html#rcpp-sugar) y [Rcpp syntactic sugar](http://dirk.eddelbuettel.com/code/rcpp/Rcpp-sugar.pdf) y proponer programas que utilicen `sugar`.\n",
    "\n",
    "2. Reescribe las reglas del trapecio y de Simpson de la nota [1.5.Integracion_numerica](https://github.com/ITAM-DS/analisis-numerico-computo-cientifico/blob/master/temas/I.computo_cientifico/1.5.Integracion_numerica.ipynb) con Rcpp."
   ]
  },
  {
   "cell_type": "markdown",
   "metadata": {},
   "source": [
    "**Referencias**\n",
    "\n",
    "1. [H. Wickham, Advanced R, 2014](http://adv-r.had.co.nz/Rcpp.html)\n",
    "\n",
    "2. [rcpp por Dirk Eddelbuettel](http://dirk.eddelbuettel.com/code/rcpp.html)\n",
    "\n",
    "3. [Rcpp for everyone](https://teuder.github.io/rcpp4everyone_en/)\n",
    "\n",
    "4. [Introduction to Rcpp:From Simple Examples to Machine Learning](http://dirk.eddelbuettel.com/papers/rcpp_rfinance_may2017.pdf)\n",
    "\n",
    "Referencias para tutoriales de C++:\n",
    "\n",
    "1. [learncpp](https://www.learncpp.com/)\n",
    "\n",
    "2. [cplusplus](http://www.cplusplus.com/)\n",
    "\n",
    "Otras referencias de Rcpp:\n",
    "\n",
    "* [Rcpp Note](http://yixuan.cos.name/rcpp-note/index.html) (no es documentación oficial).\n",
    "\n",
    "* [Rcpp Quick Reference Guide](http://dirk.eddelbuettel.com/code/rcpp/Rcpp-quickref.pdf).\n",
    "\n",
    "\n",
    "\n"
   ]
  }
 ],
 "metadata": {
  "kernelspec": {
   "display_name": "R",
   "language": "R",
   "name": "ir"
  },
  "language_info": {
   "codemirror_mode": "r",
   "file_extension": ".r",
   "mimetype": "text/x-r-source",
   "name": "R",
   "pygments_lexer": "r",
   "version": "3.6.2"
  }
 },
 "nbformat": 4,
 "nbformat_minor": 4
}
