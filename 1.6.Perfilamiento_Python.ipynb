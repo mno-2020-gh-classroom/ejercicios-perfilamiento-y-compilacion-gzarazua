{
 "cells": [
  {
   "cell_type": "markdown",
   "metadata": {},
   "source": [
    "**Notas para contenedor de docker:**"
   ]
  },
  {
   "cell_type": "markdown",
   "metadata": {},
   "source": [
    "Comando de docker para ejecución de la nota de forma local:\n",
    "\n",
    "nota: cambiar `<ruta a mi directorio>` por la ruta de directorio que se desea mapear a `/datos` dentro del contenedor de docker.\n",
    "\n",
    "```\n",
    "docker run --rm -v <ruta a mi directorio>:/datos --name jupyterlab_numerical -p 8888:8888 -p 8786:8786 -p 8787:8787 -d palmoreck/jupyterlab_numerical:1.1.0\n",
    "```\n",
    "\n",
    "password para jupyterlab: `qwerty`\n",
    "\n",
    "Detener el contenedor de docker:\n",
    "\n",
    "```\n",
    "docker stop jupyterlab_numerical\n",
    "```\n"
   ]
  },
  {
   "cell_type": "markdown",
   "metadata": {},
   "source": [
    "Documentación de la imagen de docker `palmoreck/jupyterlab_numerical:1.1.0` en [liga](https://github.com/palmoreck/dockerfiles/tree/master/jupyterlab/numerical)."
   ]
  },
  {
   "cell_type": "markdown",
   "metadata": {},
   "source": [
    "---"
   ]
  },
  {
   "cell_type": "markdown",
   "metadata": {},
   "source": [
    "Esta nota utiliza métodos vistos en [1.5.Integracion_numerica](https://github.com/ITAM-DS/analisis-numerico-computo-cientifico/blob/master/temas/I.computo_cientifico/1.5.Integracion_numerica.ipynb)"
   ]
  },
  {
   "cell_type": "markdown",
   "metadata": {},
   "source": [
    "Instalamos las herramientas que nos ayudarán al perfilamiento:"
   ]
  },
  {
   "cell_type": "code",
   "execution_count": 3,
   "metadata": {},
   "outputs": [
    {
     "name": "stdout",
     "output_type": "stream",
     "text": [
      "\u001b[33m  WARNING: The script kernprof is installed in '/home/jovyan/.local/bin' which is not on PATH.\n",
      "  Consider adding this directory to PATH or, if you prefer to suppress this warning, use --no-warn-script-location.\u001b[0m\n",
      "\u001b[33mWARNING: You are using pip version 19.3.1; however, version 20.0.2 is available.\n",
      "You should consider upgrading via the 'pip install --upgrade pip' command.\u001b[0m\n",
      "Note: you may need to restart the kernel to use updated packages.\n"
     ]
    }
   ],
   "source": [
    "%pip install -q --user line_profiler"
   ]
  },
  {
   "cell_type": "code",
   "execution_count": 4,
   "metadata": {},
   "outputs": [
    {
     "name": "stdout",
     "output_type": "stream",
     "text": [
      "\u001b[33m  WARNING: The script mprof is installed in '/home/jovyan/.local/bin' which is not on PATH.\n",
      "  Consider adding this directory to PATH or, if you prefer to suppress this warning, use --no-warn-script-location.\u001b[0m\n",
      "\u001b[33mWARNING: You are using pip version 19.3.1; however, version 20.0.2 is available.\n",
      "You should consider upgrading via the 'pip install --upgrade pip' command.\u001b[0m\n",
      "Note: you may need to restart the kernel to use updated packages.\n"
     ]
    }
   ],
   "source": [
    "%pip install -q --user memory_profiler"
   ]
  },
  {
   "cell_type": "code",
   "execution_count": 5,
   "metadata": {},
   "outputs": [
    {
     "name": "stdout",
     "output_type": "stream",
     "text": [
      "\u001b[33mWARNING: You are using pip version 19.3.1; however, version 20.0.2 is available.\n",
      "You should consider upgrading via the 'pip install --upgrade pip' command.\u001b[0m\n",
      "Note: you may need to restart the kernel to use updated packages.\n"
     ]
    }
   ],
   "source": [
    "%pip install -q --user psutil"
   ]
  },
  {
   "cell_type": "code",
   "execution_count": 6,
   "metadata": {},
   "outputs": [
    {
     "name": "stdout",
     "output_type": "stream",
     "text": [
      "\u001b[33mWARNING: You are using pip version 19.3.1; however, version 20.0.2 is available.\n",
      "You should consider upgrading via the 'pip install --upgrade pip' command.\u001b[0m\n",
      "Note: you may need to restart the kernel to use updated packages.\n"
     ]
    }
   ],
   "source": [
    "%pip install -q --user guppy3"
   ]
  },
  {
   "cell_type": "markdown",
   "metadata": {},
   "source": [
    "La siguiente celda reiniciará el kernel de **IPython** para cargar los paquetes instalados en la celda anterior. Dar **Ok** en el mensaje que salga y continuar con el contenido del notebook."
   ]
  },
  {
   "cell_type": "code",
   "execution_count": 7,
   "metadata": {},
   "outputs": [
    {
     "data": {
      "text/plain": [
       "{'status': 'ok', 'restart': True}"
      ]
     },
     "execution_count": 7,
     "metadata": {},
     "output_type": "execute_result"
    }
   ],
   "source": [
    "import IPython\n",
    "app = IPython.Application.instance()\n",
    "app.kernel.do_shutdown(True)"
   ]
  },
  {
   "cell_type": "code",
   "execution_count": 8,
   "metadata": {},
   "outputs": [],
   "source": [
    "import math\n",
    "from scipy.integrate import quad\n"
   ]
  },
  {
   "cell_type": "markdown",
   "metadata": {},
   "source": [
    "# Perfilamiento en Python"
   ]
  },
  {
   "cell_type": "markdown",
   "metadata": {},
   "source": [
    "En esta nota revisamos algunas herramientas de Python para perfilamiento de código: uso de cpu y memoria.\n",
    "\n",
    "Medición de tiempos con:\n",
    "\n",
    "* Módulo [time](https://docs.python.org/3/library/time.html#time.time) de Python.\n",
    "\n",
    "* [%time](https://ipython.readthedocs.io/en/stable/interactive/magics.html#magic-time) de comandos de magic <- esta herramienta es sólo para medir tiempos de un statement y sólo la coloco para referencia pero no se usará en la nota.\n",
    "\n",
    "* [/usr/bin/time](https://en.wikipedia.org/wiki/Time_(Unix)) de `Unix`.\n",
    "\n",
    "* [%timeit](https://ipython.readthedocs.io/en/stable/interactive/magics.html#magic-timeit) de comandos de magic.\n",
    "\n",
    "Perfilamiento:\n",
    "\n",
    "* De CPU con: [line_profiler](https://pypi.org/project/line-profiler/), [CProfile](https://docs.python.org/2/library/profile.html) que es `built-in` en la *standard-library* de Python.\n",
    "\n",
    "* De memoria con: [memory_profiler](https://pypi.org/project/memory-profiler/) y [heapy](https://pypi.org/project/guppy/). "
   ]
  },
  {
   "cell_type": "markdown",
   "metadata": {},
   "source": [
    "## Medición de tiempos"
   ]
  },
  {
   "cell_type": "markdown",
   "metadata": {},
   "source": [
    "El primer acercamiento que usamos en la nota para perfilar nuestro código es identificar qué es lento, otras mediciones son la cantidad de RAM, el I/O en disco o network. "
   ]
  },
  {
   "cell_type": "markdown",
   "metadata": {},
   "source": [
    "### 1) Uso de `time`"
   ]
  },
  {
   "cell_type": "code",
   "execution_count": 2,
   "metadata": {},
   "outputs": [],
   "source": [
    "import time"
   ]
  },
  {
   "cell_type": "markdown",
   "metadata": {},
   "source": [
    "### Regla compuesta del rectángulo"
   ]
  },
  {
   "cell_type": "markdown",
   "metadata": {},
   "source": [
    "**Ejemplo de implementación de regla compuesta de rectángulo: usando math**"
   ]
  },
  {
   "cell_type": "markdown",
   "metadata": {},
   "source": [
    "Utilizar la regla compuesta del rectángulo para aproximar la integral $\\int_0^1e^{-x^2}dx$ con $10^6$ subintervalos."
   ]
  },
  {
   "cell_type": "code",
   "execution_count": 16,
   "metadata": {},
   "outputs": [],
   "source": [
    "f=lambda x: math.exp(-x**2) #using math library"
   ]
  },
  {
   "cell_type": "code",
   "execution_count": 17,
   "metadata": {},
   "outputs": [],
   "source": [
    "def Rcf(f,a,b,n): #Rcf: rectángulo compuesto para f\n",
    "    \"\"\"\n",
    "    Compute numerical approximation using rectangle or mid-point method in \n",
    "    an interval.\n",
    "    Nodes are generated via formula: x_i = a+(i+1/2)h_hat for i=0,1,...,n-1 and h_hat=(b-a)/n\n",
    "    Args:\n",
    "        f (lambda expression): lambda expression of integrand\n",
    "        a (int): left point of interval\n",
    "        b (int): right point of interval\n",
    "        n (int): number of subintervals\n",
    "    Returns:\n",
    "        Rcf (float) \n",
    "    \"\"\"\n",
    "    h_hat=(b-a)/n\n",
    "    nodes=[a+(i+1/2)*h_hat for i in range(0,n)]\n",
    "    sum_res=0\n",
    "    for node in nodes:\n",
    "        sum_res=sum_res+f(node)\n",
    "    return h_hat*sum_res"
   ]
  },
  {
   "cell_type": "code",
   "execution_count": 18,
   "metadata": {},
   "outputs": [],
   "source": [
    "n=10**6"
   ]
  },
  {
   "cell_type": "code",
   "execution_count": 19,
   "metadata": {},
   "outputs": [],
   "source": [
    "start_time = time.time()\n",
    "aprox=Rcf(f,0,1,n)\n",
    "end_time = time.time()"
   ]
  },
  {
   "cell_type": "code",
   "execution_count": 20,
   "metadata": {},
   "outputs": [
    {
     "name": "stdout",
     "output_type": "stream",
     "text": [
      "Rcf tomó 0.2698326110839844 segundos\n"
     ]
    }
   ],
   "source": [
    "secs = end_time-start_time\n",
    "print(\"Rcf tomó\",secs,\"segundos\" )"
   ]
  },
  {
   "cell_type": "markdown",
   "metadata": {},
   "source": [
    "**Obs:** recuérdese que hay que evaluar que se esté resolviendo correctamente el problema. En este caso el error relativo nos ayuda"
   ]
  },
  {
   "cell_type": "code",
   "execution_count": 21,
   "metadata": {},
   "outputs": [],
   "source": [
    "def err_relativo(aprox, obj):\n",
    "    return math.fabs(aprox-obj)/math.fabs(obj) #obsérvese el uso de la librería math"
   ]
  },
  {
   "cell_type": "code",
   "execution_count": 22,
   "metadata": {},
   "outputs": [
    {
     "data": {
      "text/plain": [
       "6.71939731300312e-14"
      ]
     },
     "execution_count": 22,
     "metadata": {},
     "output_type": "execute_result"
    }
   ],
   "source": [
    "obj, err = quad(f, 0, 1)\n",
    "err_relativo(aprox,obj)"
   ]
  },
  {
   "cell_type": "markdown",
   "metadata": {},
   "source": [
    "**Comentarios:**\n",
    "\n",
    "* Tómese en cuenta que al medir tiempos de ejecución, siempre hay variación en la medición. Tal variación es normal.\n",
    "\n",
    "* Considérese que la máquina en la que se están corriendo las pruebas puede estar realizando otras tareas mientras se ejecuta el código, por ejemplo acceso a la red, al disco o a la RAM. Por ello, son factores que pueden causar variación en el tiempo de ejecución del programa.\n",
    "\n",
    "* Si se van a realizar reportes de tiempos, es importante indicar las características de la máquina en la que se están haciendo las pruebas, p.ej: Dell E6420 con un procesador Intel Core I7-2720QM (2.20 GHz, 6 MB cache, Quad Core) y 8 GB de RAM en un Ubuntu $13.10$."
   ]
  },
  {
   "cell_type": "markdown",
   "metadata": {},
   "source": [
    "### 2) Uso de `/usr/bin/time` de Unix"
   ]
  },
  {
   "cell_type": "markdown",
   "metadata": {},
   "source": [
    "Para la línea de comando `/usr/bin/time` primero escribimos el siguiente archivo en la ruta donde se encuentra este notebook con la línea de comando magic `%file`"
   ]
  },
  {
   "cell_type": "code",
   "execution_count": 23,
   "metadata": {},
   "outputs": [
    {
     "name": "stdout",
     "output_type": "stream",
     "text": [
      "Writing Rcf.py\n"
     ]
    }
   ],
   "source": [
    "%%file Rcf.py\n",
    "import math\n",
    "def Rcf(f,a,b,n): #Rcf: rectángulo compuesto para f\n",
    "    \"\"\"\n",
    "    Compute numerical approximation using rectangle or mid-point method in \n",
    "    an interval.\n",
    "    Nodes are generated via formula: x_i = a+(i+1/2)h_hat for i=0,1,...,n-1 and h_hat=(b-a)/n\n",
    "    Args:\n",
    "        f (lambda expression): lambda expression of integrand\n",
    "        a (int): left point of interval\n",
    "        b (int): right point of interval\n",
    "        n (int): number of subintervals\n",
    "    Returns:\n",
    "        Rcf (float) \n",
    "    \"\"\"\n",
    "    h_hat=(b-a)/n\n",
    "    nodes=[a+(i+1/2)*h_hat for i in range(0,n)]\n",
    "    sum_res=0\n",
    "    for node in nodes:\n",
    "        sum_res=sum_res+f(node)\n",
    "    return h_hat*sum_res\n",
    "if __name__==\"__main__\": #añadimos este bloque para ejecución de la función Rcf\n",
    "        n=10**6\n",
    "        f=lambda x: math.exp(-x**2)\n",
    "        print(\"aproximación: {:0.6e}\".format(Rcf(f,0,1,n)))"
   ]
  },
  {
   "cell_type": "markdown",
   "metadata": {},
   "source": [
    "Ver [liga](https://stackoverflow.com/questions/419163/what-does-if-name-main-do) y [liga2](https://es.stackoverflow.com/questions/32165/qu%C3%A9-es-if-name-main) para saber qué es lo que hace la línea `if __name__ == \"__main__\":`"
   ]
  },
  {
   "cell_type": "markdown",
   "metadata": {},
   "source": [
    "Lo siguiente es necesario si no tienen instalado el comando `/usr/bin/time`:"
   ]
  },
  {
   "cell_type": "code",
   "execution_count": 3,
   "metadata": {},
   "outputs": [
    {
     "name": "stdout",
     "output_type": "stream",
     "text": [
      "Reading package lists...\n",
      "Building dependency tree...\n",
      "Reading state information...\n",
      "time is already the newest version (1.7-25.1build1).\n",
      "0 upgraded, 0 newly installed, 0 to remove and 26 not upgraded.\n"
     ]
    }
   ],
   "source": [
    "%%bash\n",
    "sudo apt-get install time"
   ]
  },
  {
   "cell_type": "code",
   "execution_count": 25,
   "metadata": {},
   "outputs": [
    {
     "name": "stdout",
     "output_type": "stream",
     "text": [
      "aproximación: 7.468241e-01\n"
     ]
    },
    {
     "name": "stderr",
     "output_type": "stream",
     "text": [
      "real 0.30\n",
      "user 0.26\n",
      "sys 0.03\n"
     ]
    }
   ],
   "source": [
    "%%bash\n",
    "/usr/bin/time -p python3 Rcf.py #la p es de portabilidad, \n",
    "                                #ver: http://manpages.ubuntu.com/manpages/xenial/man1/time.1.html\n",
    "                                #para mayor información"
   ]
  },
  {
   "cell_type": "markdown",
   "metadata": {},
   "source": [
    "**Comentarios:**\n",
    "\n",
    "* `real` que mide el wall clock o elapsed time.\n",
    "* `user` que mide la cantidad de tiempo de tu ejecución que la CPU gastó para funciones que no están relacionadas con el kernel* del sistema.\n",
    "* `sys` que mide la cantidad de tiempo de tu ejecución que la CPU gastó en funciones a nivel de kernel del sistema.\n",
    "\n",
    "\\*Ver [kernel operating system](https://en.wikipedia.org/wiki/Kernel_(operating_system)) para definición del kernel de una máquina.\n",
    "\n",
    "**Obs:** Una función relacionada con el kernel del sistema es el alojamiento de memoria al crear una variable. Otras son las instrucciones relacionadas con el I/O como leer de la memoria, disco o network.\n",
    "\n",
    "* La ventaja de `/usr/bin/time` es que no es específico de Python.\n",
    "* Este comando incluye el tiempo que le toma al sistema iniciar el ejecutable de python (que puede ser significativo si se inician muchos procesos vs un sólo proceso). En el caso de tener short-running scripts donde el tiempo de inicio es significativo del tiempo total entonces `/usr/bin/time` puede ser una medida útil.\n",
    "\n",
    "\n",
    "**Nota:** Si se suma `user` con `sys` se tiene una idea de cuánto tiempo se gastó en la CPU y la diferencia entre este resultado y `real` da una idea de cuánto tiempo se gastó para I/O o también puede dar una idea de la cantidad de tiempo que se ocupó el sistema en correr otras tareas.\n",
    "\n"
   ]
  },
  {
   "cell_type": "markdown",
   "metadata": {},
   "source": [
    "* Se puede utilizar la flag `verbose` para obtener más información:"
   ]
  },
  {
   "cell_type": "code",
   "execution_count": 13,
   "metadata": {},
   "outputs": [
    {
     "name": "stdout",
     "output_type": "stream",
     "text": [
      "aproximación: 7.468241e-01\n"
     ]
    },
    {
     "name": "stderr",
     "output_type": "stream",
     "text": [
      "\tCommand being timed: \"python3 Rcf.py\"\n",
      "\tUser time (seconds): 0.37\n",
      "\tSystem time (seconds): 0.04\n",
      "\tPercent of CPU this job got: 89%\n",
      "\tElapsed (wall clock) time (h:mm:ss or m:ss): 0:00.45\n",
      "\tAverage shared text size (kbytes): 0\n",
      "\tAverage unshared data size (kbytes): 0\n",
      "\tAverage stack size (kbytes): 0\n",
      "\tAverage total size (kbytes): 0\n",
      "\tMaximum resident set size (kbytes): 41112\n",
      "\tAverage resident set size (kbytes): 0\n",
      "\tMajor (requiring I/O) page faults: 0\n",
      "\tMinor (reclaiming a frame) page faults: 9078\n",
      "\tVoluntary context switches: 26\n",
      "\tInvoluntary context switches: 581\n",
      "\tSwaps: 0\n",
      "\tFile system inputs: 16\n",
      "\tFile system outputs: 0\n",
      "\tSocket messages sent: 0\n",
      "\tSocket messages received: 0\n",
      "\tSignals delivered: 0\n",
      "\tPage size (bytes): 4096\n",
      "\tExit status: 0\n"
     ]
    }
   ],
   "source": [
    "%%bash\n",
    "/usr/bin/time --verbose python3 Rcf.py"
   ]
  },
  {
   "cell_type": "markdown",
   "metadata": {},
   "source": [
    "y una explicación (breve) del output se puede encontrar [aquí](http://manpages.ubuntu.com/manpages/xenial/man1/time.1.html). Para el caso de `Major (requiring I/O)` nos interesa que sea $0$ pues indica que el sistema operativo tiene que cargar páginas de datos del disco pues tales datos ya no residen en RAM (por alguna razón)."
   ]
  },
  {
   "cell_type": "markdown",
   "metadata": {},
   "source": [
    "### 3) Uso de `%timeit`"
   ]
  },
  {
   "cell_type": "markdown",
   "metadata": {},
   "source": [
    "El módulo de `timeit` es otra forma de medir el tiempo de ejecución en la CPU.\n",
    "\n",
    "**Nota:** el módulo de `timeit` desabilita temporalmente el garbage collector* de Python (esto es, no habrá desalojamiento en memoria de objetos de Python que no se utilicen). Si el garbage collector es invocado en tus operaciones para un ejemplo del mundo real, esto puede ser una razón de posibles diferencias que obtengas en las mediciones de tiempo. "
   ]
  },
  {
   "cell_type": "markdown",
   "metadata": {},
   "source": [
    "*sugiero buscar qué es el garbage collector en blogs, por ejemplo: [liga](https://rushter.com/blog/python-garbage-collector/) o [liga2](https://stackify.com/python-garbage-collection/) o [liga3](https://stackoverflow.com/questions/4484167/python-garbage-collector-documentation)."
   ]
  },
  {
   "cell_type": "code",
   "execution_count": 14,
   "metadata": {},
   "outputs": [
    {
     "data": {
      "text/plain": [
       "\u001b[0;31mDocstring:\u001b[0m\n",
       "Time execution of a Python statement or expression\n",
       "\n",
       "Usage, in line mode:\n",
       "  %timeit [-n<N> -r<R> [-t|-c] -q -p<P> -o] statement\n",
       "or in cell mode:\n",
       "  %%timeit [-n<N> -r<R> [-t|-c] -q -p<P> -o] setup_code\n",
       "  code\n",
       "  code...\n",
       "\n",
       "Time execution of a Python statement or expression using the timeit\n",
       "module.  This function can be used both as a line and cell magic:\n",
       "\n",
       "- In line mode you can time a single-line statement (though multiple\n",
       "  ones can be chained with using semicolons).\n",
       "\n",
       "- In cell mode, the statement in the first line is used as setup code\n",
       "  (executed but not timed) and the body of the cell is timed.  The cell\n",
       "  body has access to any variables created in the setup code.\n",
       "\n",
       "Options:\n",
       "-n<N>: execute the given statement <N> times in a loop. If <N> is not\n",
       "provided, <N> is determined so as to get sufficient accuracy.\n",
       "\n",
       "-r<R>: number of repeats <R>, each consisting of <N> loops, and take the\n",
       "best result.\n",
       "Default: 7\n",
       "\n",
       "-t: use time.time to measure the time, which is the default on Unix.\n",
       "This function measures wall time.\n",
       "\n",
       "-c: use time.clock to measure the time, which is the default on\n",
       "Windows and measures wall time. On Unix, resource.getrusage is used\n",
       "instead and returns the CPU user time.\n",
       "\n",
       "-p<P>: use a precision of <P> digits to display the timing result.\n",
       "Default: 3\n",
       "\n",
       "-q: Quiet, do not print result.\n",
       "\n",
       "-o: return a TimeitResult that can be stored in a variable to inspect\n",
       "    the result in more details.\n",
       "\n",
       ".. versionchanged:: 7.3\n",
       "    User variables are no longer expanded,\n",
       "    the magic line is always left unmodified.\n",
       "\n",
       "Examples\n",
       "--------\n",
       "::\n",
       "\n",
       "  In [1]: %timeit pass\n",
       "  8.26 ns ± 0.12 ns per loop (mean ± std. dev. of 7 runs, 100000000 loops each)\n",
       "\n",
       "  In [2]: u = None\n",
       "\n",
       "  In [3]: %timeit u is None\n",
       "  29.9 ns ± 0.643 ns per loop (mean ± std. dev. of 7 runs, 10000000 loops each)\n",
       "\n",
       "  In [4]: %timeit -r 4 u == None\n",
       "\n",
       "  In [5]: import time\n",
       "\n",
       "  In [6]: %timeit -n1 time.sleep(2)\n",
       "\n",
       "\n",
       "The times reported by %timeit will be slightly higher than those\n",
       "reported by the timeit.py script when variables are accessed. This is\n",
       "due to the fact that %timeit executes the statement in the namespace\n",
       "of the shell, compared with timeit.py, which uses a single setup\n",
       "statement to import function or create variables. Generally, the bias\n",
       "does not matter as long as results from timeit.py are not mixed with\n",
       "those from %timeit.\n",
       "\u001b[0;31mFile:\u001b[0m      /usr/local/lib/python3.6/dist-packages/IPython/core/magics/execution.py\n"
      ]
     },
     "metadata": {},
     "output_type": "display_data"
    }
   ],
   "source": [
    "%timeit?"
   ]
  },
  {
   "cell_type": "code",
   "execution_count": 15,
   "metadata": {},
   "outputs": [
    {
     "name": "stdout",
     "output_type": "stream",
     "text": [
      "333 ms ± 11.1 ms per loop (mean ± std. dev. of 10 runs, 5 loops each)\n"
     ]
    }
   ],
   "source": [
    "%timeit -n 5 -r 10 Rcf(f,0,1,n)"
   ]
  },
  {
   "cell_type": "markdown",
   "metadata": {},
   "source": [
    "para este caso se está ejecutando la función `Rcf` en un loop de tamaño $5$, se están promediando los tiempos de las $5$ ejecuciones y calculando su desviación estándar y al repetir esto $10$ veces se está reportando el mejor resultado. $ms$ es milisecond, $\\mu s$ es microsecond y $ns$ es nanosecond."
   ]
  },
  {
   "cell_type": "markdown",
   "metadata": {},
   "source": [
    "**Comentarios:**\n",
    "\n",
    "* `timeit` se recomienda usar para secciones de código pequeñas. Para secciones más grandes típicamente modificar el valor de $n$ (ejecutar el código n veces en un loop) resulta en mediciones distintas.\n",
    "\n",
    "* Ejecuta `timeit` varias ocasiones para asegurarse que se obtienen tiempos similares. Si observas una gran variación en las mediciones de tiempo entre distintas repeticiones de `timeit`, realiza más repeticiones hasta tener un resultado estable."
   ]
  },
  {
   "cell_type": "markdown",
   "metadata": {},
   "source": [
    "## Medición de uso de CPU"
   ]
  },
  {
   "cell_type": "markdown",
   "metadata": {},
   "source": [
    "### 1) Uso de cProfile"
   ]
  },
  {
   "cell_type": "markdown",
   "metadata": {},
   "source": [
    "`cProfile` es una herramienta **built-in** en la standard library para perfilamiento. Se utiliza con la implementación `CPython` de `Python` (ver [liga](https://stackoverflow.com/questions/17130975/python-vs-cpython) para explicación de implementaciones de Python) para medir el tiempo de ejecución de cada función en el programa."
   ]
  },
  {
   "cell_type": "markdown",
   "metadata": {},
   "source": [
    "Se ejecuta desde la línea de comandos o con un comando de magic. La flag `-s` indica que se ordene el resultado por el tiempo acumulado dentro de cada función."
   ]
  },
  {
   "cell_type": "markdown",
   "metadata": {},
   "source": [
    "El output siguiente de `cProfile` muestra:\n",
    "\n",
    "* El tiempo total de ejecución, el cual incluye el tiempo del bloque de código que estamos midiendo y el overhead al usar `cProfile`. Por esta razón se tiene un mayor tiempo de ejecución que con las mediciones de tiempo anteriores.\n",
    "\n",
    "* La columna `ncalls` que como el nombre indica, muestra el número de veces que se llamó a cada función. En este caso las funciones `lambda` y `math.exp` son las que se llaman un mayor número de veces: $n=10^6$ veces. La columna`tottime` muestra el tiempo que tardaron estas funciones en ejecutarse (sin llamar a otras funciones).\n",
    "\n",
    "* La columna `percall` es el cociente entre `tottime` y `ncalls`.\n",
    "\n",
    "* La columna `cumtime` contiene el tiempo gastado en la función y en las demás que llama. Por ejemplo la función `Rcf` llama a `listcomp` por lo que es natural que `Rcf` esté más arriba en el output ordenado de `cProfile`. Esto también ocurre con `lambda` y `math.exp` pues la primera llama a la segunda.\n",
    "\n",
    "* La columna de `percall` es un cociente entre la columna `cumtime` y el llamado a primitivas.\n",
    "\n",
    "* La última columna indica información de la función y la línea en la que se encuentra dentro del código. Por ejemplo la línea $1$ de módulo es el llamado a la función `__main__`. La línea $2$ es el llamado a la función `Rcf`. Por lo que es prácticamente negligible el llamado a `__main__`."
   ]
  },
  {
   "cell_type": "code",
   "execution_count": 16,
   "metadata": {},
   "outputs": [
    {
     "name": "stdout",
     "output_type": "stream",
     "text": [
      "aproximación: 7.468241e-01\n",
      "         2000068 function calls in 0.649 seconds\n",
      "\n",
      "   Ordered by: cumulative time\n",
      "\n",
      "   ncalls  tottime  percall  cumtime  percall filename:lineno(function)\n",
      "        1    0.000    0.000    0.649    0.649 {built-in method builtins.exec}\n",
      "        1    0.021    0.021    0.649    0.649 Rcf.py:1(<module>)\n",
      "        1    0.155    0.155    0.627    0.627 Rcf.py:2(Rcf)\n",
      "  1000000    0.252    0.000    0.343    0.000 Rcf.py:23(<lambda>)\n",
      "        1    0.129    0.129    0.129    0.129 Rcf.py:16(<listcomp>)\n",
      "  1000000    0.090    0.000    0.090    0.000 {built-in method math.exp}\n",
      "        1    0.000    0.000    0.001    0.001 <frozen importlib._bootstrap>:966(_find_and_load)\n",
      "        1    0.000    0.000    0.000    0.000 <frozen importlib._bootstrap>:936(_find_and_load_unlocked)\n",
      "        1    0.000    0.000    0.000    0.000 <frozen importlib._bootstrap>:651(_load_unlocked)\n",
      "        1    0.000    0.000    0.000    0.000 <frozen importlib._bootstrap>:564(module_from_spec)\n",
      "        2    0.000    0.000    0.000    0.000 <frozen importlib._bootstrap>:211(_call_with_frames_removed)\n",
      "        1    0.000    0.000    0.000    0.000 <frozen importlib._bootstrap>:728(create_module)\n",
      "        1    0.000    0.000    0.000    0.000 {built-in method _imp.create_builtin}\n",
      "        1    0.000    0.000    0.000    0.000 <frozen importlib._bootstrap>:147(__enter__)\n",
      "        1    0.000    0.000    0.000    0.000 <frozen importlib._bootstrap>:157(_get_module_lock)\n",
      "        1    0.000    0.000    0.000    0.000 <frozen importlib._bootstrap>:58(__init__)\n",
      "        1    0.000    0.000    0.000    0.000 <frozen importlib._bootstrap>:870(_find_spec)\n",
      "        1    0.000    0.000    0.000    0.000 {method 'format' of 'str' objects}\n",
      "        1    0.000    0.000    0.000    0.000 <frozen importlib._bootstrap>:151(__exit__)\n",
      "        1    0.000    0.000    0.000    0.000 <frozen importlib._bootstrap>:103(release)\n",
      "        1    0.000    0.000    0.000    0.000 <frozen importlib._bootstrap>:707(find_spec)\n",
      "        1    0.000    0.000    0.000    0.000 {built-in method builtins.print}\n",
      "        1    0.000    0.000    0.000    0.000 <frozen importlib._bootstrap>:318(__exit__)\n",
      "        1    0.000    0.000    0.000    0.000 <frozen importlib._bootstrap>:433(spec_from_loader)\n",
      "        2    0.000    0.000    0.000    0.000 {built-in method _thread.allocate_lock}\n",
      "        1    0.000    0.000    0.000    0.000 <frozen importlib._bootstrap>:504(_init_module_attrs)\n",
      "        1    0.000    0.000    0.000    0.000 <frozen importlib._bootstrap>:847(__exit__)\n",
      "        1    0.000    0.000    0.000    0.000 <frozen importlib._bootstrap>:736(exec_module)\n",
      "        1    0.000    0.000    0.000    0.000 <frozen importlib._bootstrap>:78(acquire)\n",
      "        2    0.000    0.000    0.000    0.000 {built-in method _thread.get_ident}\n",
      "        1    0.000    0.000    0.000    0.000 <frozen importlib._bootstrap>:232(_requires_builtin_wrapper)\n",
      "        1    0.000    0.000    0.000    0.000 {built-in method builtins.any}\n",
      "        1    0.000    0.000    0.000    0.000 <frozen importlib._bootstrap>:176(cb)\n",
      "        4    0.000    0.000    0.000    0.000 {built-in method builtins.getattr}\n",
      "        1    0.000    0.000    0.000    0.000 <frozen importlib._bootstrap>:311(__enter__)\n",
      "        1    0.000    0.000    0.000    0.000 <frozen importlib._bootstrap>:369(__init__)\n",
      "        1    0.000    0.000    0.000    0.000 <frozen importlib._bootstrap>:222(_verbose_message)\n",
      "        2    0.000    0.000    0.000    0.000 {method 'get' of 'dict' objects}\n",
      "        2    0.000    0.000    0.000    0.000 {method 'rpartition' of 'str' objects}\n",
      "        1    0.000    0.000    0.000    0.000 {built-in method _imp.is_builtin}\n",
      "        4    0.000    0.000    0.000    0.000 {built-in method builtins.hasattr}\n",
      "        1    0.000    0.000    0.000    0.000 <frozen importlib._bootstrap>:307(__init__)\n",
      "        4    0.000    0.000    0.000    0.000 <frozen importlib._bootstrap>:321(<genexpr>)\n",
      "        1    0.000    0.000    0.000    0.000 <frozen importlib._bootstrap>:416(parent)\n",
      "        1    0.000    0.000    0.000    0.000 <frozen importlib._bootstrap>:843(__enter__)\n",
      "        1    0.000    0.000    0.000    0.000 <frozen importlib._bootstrap>:143(__init__)\n",
      "        3    0.000    0.000    0.000    0.000 {built-in method _imp.acquire_lock}\n",
      "        3    0.000    0.000    0.000    0.000 {built-in method _imp.release_lock}\n",
      "        1    0.000    0.000    0.000    0.000 {method 'disable' of '_lsprof.Profiler' objects}\n",
      "        1    0.000    0.000    0.000    0.000 {built-in method _imp.exec_builtin}\n",
      "        1    0.000    0.000    0.000    0.000 <frozen importlib._bootstrap>:424(has_location)\n",
      "        1    0.000    0.000    0.000    0.000 <frozen importlib._bootstrap>:753(is_package)\n",
      "\n",
      "\n"
     ]
    }
   ],
   "source": [
    "%%bash\n",
    "python3 -m cProfile -s cumulative Rcf.py"
   ]
  },
  {
   "cell_type": "markdown",
   "metadata": {},
   "source": [
    "**Nota:** Recordar que el output de `CProfile` con la flag `-s cumulative` está ordenando por el gasto en tiempo de las funciones que son llamadas en el bloque de código analizado. No está ordenando por parent functions. Para tener un output en el que se tenga qué funciones llaman a qué otras se puede utilizar lo siguiente:"
   ]
  },
  {
   "cell_type": "code",
   "execution_count": 17,
   "metadata": {},
   "outputs": [
    {
     "name": "stdout",
     "output_type": "stream",
     "text": [
      "aproximación: 7.468241e-01\n"
     ]
    }
   ],
   "source": [
    "%%bash\n",
    "python3 -m cProfile -o profile.stats Rcf.py"
   ]
  },
  {
   "cell_type": "code",
   "execution_count": 3,
   "metadata": {},
   "outputs": [],
   "source": [
    "import pstats"
   ]
  },
  {
   "cell_type": "code",
   "execution_count": 19,
   "metadata": {},
   "outputs": [
    {
     "data": {
      "text/plain": [
       "<pstats.Stats at 0x7f9775b947f0>"
      ]
     },
     "execution_count": 19,
     "metadata": {},
     "output_type": "execute_result"
    }
   ],
   "source": [
    "p = pstats.Stats(\"profile.stats\")\n",
    "p.sort_stats(\"cumulative\")"
   ]
  },
  {
   "cell_type": "code",
   "execution_count": 20,
   "metadata": {},
   "outputs": [
    {
     "name": "stdout",
     "output_type": "stream",
     "text": [
      "Wed Jan 29 15:41:40 2020    profile.stats\n",
      "\n",
      "         2000068 function calls in 0.587 seconds\n",
      "\n",
      "   Ordered by: cumulative time\n",
      "\n",
      "   ncalls  tottime  percall  cumtime  percall filename:lineno(function)\n",
      "        1    0.000    0.000    0.587    0.587 {built-in method builtins.exec}\n",
      "        1    0.014    0.014    0.587    0.587 Rcf.py:1(<module>)\n",
      "        1    0.131    0.131    0.573    0.573 Rcf.py:2(Rcf)\n",
      "  1000000    0.218    0.000    0.300    0.000 Rcf.py:23(<lambda>)\n",
      "        1    0.142    0.142    0.142    0.142 Rcf.py:16(<listcomp>)\n",
      "  1000000    0.082    0.000    0.082    0.000 {built-in method math.exp}\n",
      "        1    0.000    0.000    0.001    0.001 <frozen importlib._bootstrap>:966(_find_and_load)\n",
      "        1    0.000    0.000    0.000    0.000 <frozen importlib._bootstrap>:936(_find_and_load_unlocked)\n",
      "        1    0.000    0.000    0.000    0.000 <frozen importlib._bootstrap>:651(_load_unlocked)\n",
      "        1    0.000    0.000    0.000    0.000 <frozen importlib._bootstrap>:564(module_from_spec)\n",
      "        1    0.000    0.000    0.000    0.000 <frozen importlib._bootstrap>:728(create_module)\n",
      "        2    0.000    0.000    0.000    0.000 <frozen importlib._bootstrap>:211(_call_with_frames_removed)\n",
      "        1    0.000    0.000    0.000    0.000 {built-in method _imp.create_builtin}\n",
      "        1    0.000    0.000    0.000    0.000 <frozen importlib._bootstrap>:147(__enter__)\n",
      "        1    0.000    0.000    0.000    0.000 <frozen importlib._bootstrap>:870(_find_spec)\n",
      "        1    0.000    0.000    0.000    0.000 <frozen importlib._bootstrap>:157(_get_module_lock)\n",
      "        1    0.000    0.000    0.000    0.000 <frozen importlib._bootstrap>:707(find_spec)\n",
      "        1    0.000    0.000    0.000    0.000 {method 'format' of 'str' objects}\n",
      "        1    0.000    0.000    0.000    0.000 <frozen importlib._bootstrap>:433(spec_from_loader)\n",
      "        1    0.000    0.000    0.000    0.000 <frozen importlib._bootstrap>:58(__init__)\n",
      "        1    0.000    0.000    0.000    0.000 <frozen importlib._bootstrap>:504(_init_module_attrs)\n",
      "        1    0.000    0.000    0.000    0.000 {built-in method builtins.print}\n",
      "        1    0.000    0.000    0.000    0.000 <frozen importlib._bootstrap>:318(__exit__)\n",
      "        1    0.000    0.000    0.000    0.000 <frozen importlib._bootstrap>:151(__exit__)\n",
      "        1    0.000    0.000    0.000    0.000 <frozen importlib._bootstrap>:78(acquire)\n",
      "        1    0.000    0.000    0.000    0.000 <frozen importlib._bootstrap>:103(release)\n",
      "        1    0.000    0.000    0.000    0.000 <frozen importlib._bootstrap>:232(_requires_builtin_wrapper)\n",
      "        4    0.000    0.000    0.000    0.000 {built-in method builtins.hasattr}\n",
      "        4    0.000    0.000    0.000    0.000 {built-in method builtins.getattr}\n",
      "        1    0.000    0.000    0.000    0.000 {built-in method builtins.any}\n",
      "        1    0.000    0.000    0.000    0.000 <frozen importlib._bootstrap>:369(__init__)\n",
      "        1    0.000    0.000    0.000    0.000 <frozen importlib._bootstrap>:416(parent)\n",
      "        1    0.000    0.000    0.000    0.000 <frozen importlib._bootstrap>:736(exec_module)\n",
      "        1    0.000    0.000    0.000    0.000 <frozen importlib._bootstrap>:176(cb)\n",
      "        1    0.000    0.000    0.000    0.000 {built-in method _imp.is_builtin}\n",
      "        1    0.000    0.000    0.000    0.000 <frozen importlib._bootstrap>:311(__enter__)\n",
      "        1    0.000    0.000    0.000    0.000 <frozen importlib._bootstrap>:143(__init__)\n",
      "        1    0.000    0.000    0.000    0.000 <frozen importlib._bootstrap>:222(_verbose_message)\n",
      "        2    0.000    0.000    0.000    0.000 {method 'get' of 'dict' objects}\n",
      "        1    0.000    0.000    0.000    0.000 <frozen importlib._bootstrap>:307(__init__)\n",
      "        4    0.000    0.000    0.000    0.000 <frozen importlib._bootstrap>:321(<genexpr>)\n",
      "        1    0.000    0.000    0.000    0.000 <frozen importlib._bootstrap>:847(__exit__)\n",
      "        2    0.000    0.000    0.000    0.000 {method 'rpartition' of 'str' objects}\n",
      "        2    0.000    0.000    0.000    0.000 {built-in method _thread.allocate_lock}\n",
      "        2    0.000    0.000    0.000    0.000 {built-in method _thread.get_ident}\n",
      "        3    0.000    0.000    0.000    0.000 {built-in method _imp.acquire_lock}\n",
      "        3    0.000    0.000    0.000    0.000 {built-in method _imp.release_lock}\n",
      "        1    0.000    0.000    0.000    0.000 {built-in method _imp.exec_builtin}\n",
      "        1    0.000    0.000    0.000    0.000 <frozen importlib._bootstrap>:843(__enter__)\n",
      "        1    0.000    0.000    0.000    0.000 {method 'disable' of '_lsprof.Profiler' objects}\n",
      "        1    0.000    0.000    0.000    0.000 <frozen importlib._bootstrap>:424(has_location)\n",
      "        1    0.000    0.000    0.000    0.000 <frozen importlib._bootstrap>:753(is_package)\n",
      "\n",
      "\n"
     ]
    },
    {
     "data": {
      "text/plain": [
       "<pstats.Stats at 0x7f9775b947f0>"
      ]
     },
     "execution_count": 20,
     "metadata": {},
     "output_type": "execute_result"
    }
   ],
   "source": [
    "p.print_stats()"
   ]
  },
  {
   "cell_type": "code",
   "execution_count": 21,
   "metadata": {},
   "outputs": [
    {
     "name": "stdout",
     "output_type": "stream",
     "text": [
      "   Ordered by: cumulative time\n",
      "\n",
      "Function                                                      was called by...\n",
      "                                                                  ncalls  tottime  cumtime\n",
      "{built-in method builtins.exec}                               <- \n",
      "Rcf.py:1(<module>)                                            <-       1    0.014    0.587  {built-in method builtins.exec}\n",
      "Rcf.py:2(Rcf)                                                 <-       1    0.131    0.573  Rcf.py:1(<module>)\n",
      "Rcf.py:23(<lambda>)                                           <- 1000000    0.218    0.300  Rcf.py:2(Rcf)\n",
      "Rcf.py:16(<listcomp>)                                         <-       1    0.142    0.142  Rcf.py:2(Rcf)\n",
      "{built-in method math.exp}                                    <- 1000000    0.082    0.082  Rcf.py:23(<lambda>)\n",
      "<frozen importlib._bootstrap>:966(_find_and_load)             <-       1    0.000    0.001  Rcf.py:1(<module>)\n",
      "<frozen importlib._bootstrap>:936(_find_and_load_unlocked)    <-       1    0.000    0.000  <frozen importlib._bootstrap>:966(_find_and_load)\n",
      "<frozen importlib._bootstrap>:651(_load_unlocked)             <-       1    0.000    0.000  <frozen importlib._bootstrap>:936(_find_and_load_unlocked)\n",
      "<frozen importlib._bootstrap>:564(module_from_spec)           <-       1    0.000    0.000  <frozen importlib._bootstrap>:651(_load_unlocked)\n",
      "<frozen importlib._bootstrap>:728(create_module)              <-       1    0.000    0.000  <frozen importlib._bootstrap>:564(module_from_spec)\n",
      "<frozen importlib._bootstrap>:211(_call_with_frames_removed)  <-       1    0.000    0.000  <frozen importlib._bootstrap>:728(create_module)\n",
      "                                                                       1    0.000    0.000  <frozen importlib._bootstrap>:736(exec_module)\n",
      "{built-in method _imp.create_builtin}                         <-       1    0.000    0.000  <frozen importlib._bootstrap>:211(_call_with_frames_removed)\n",
      "<frozen importlib._bootstrap>:147(__enter__)                  <-       1    0.000    0.000  <frozen importlib._bootstrap>:966(_find_and_load)\n",
      "<frozen importlib._bootstrap>:870(_find_spec)                 <-       1    0.000    0.000  <frozen importlib._bootstrap>:936(_find_and_load_unlocked)\n",
      "<frozen importlib._bootstrap>:157(_get_module_lock)           <-       1    0.000    0.000  <frozen importlib._bootstrap>:147(__enter__)\n",
      "<frozen importlib._bootstrap>:707(find_spec)                  <-       1    0.000    0.000  <frozen importlib._bootstrap>:870(_find_spec)\n",
      "{method 'format' of 'str' objects}                            <-       1    0.000    0.000  Rcf.py:1(<module>)\n",
      "<frozen importlib._bootstrap>:433(spec_from_loader)           <-       1    0.000    0.000  <frozen importlib._bootstrap>:707(find_spec)\n",
      "<frozen importlib._bootstrap>:58(__init__)                    <-       1    0.000    0.000  <frozen importlib._bootstrap>:157(_get_module_lock)\n",
      "<frozen importlib._bootstrap>:504(_init_module_attrs)         <-       1    0.000    0.000  <frozen importlib._bootstrap>:564(module_from_spec)\n",
      "{built-in method builtins.print}                              <-       1    0.000    0.000  Rcf.py:1(<module>)\n",
      "<frozen importlib._bootstrap>:318(__exit__)                   <-       1    0.000    0.000  <frozen importlib._bootstrap>:651(_load_unlocked)\n",
      "<frozen importlib._bootstrap>:151(__exit__)                   <-       1    0.000    0.000  <frozen importlib._bootstrap>:966(_find_and_load)\n",
      "<frozen importlib._bootstrap>:78(acquire)                     <-       1    0.000    0.000  <frozen importlib._bootstrap>:147(__enter__)\n",
      "<frozen importlib._bootstrap>:103(release)                    <-       1    0.000    0.000  <frozen importlib._bootstrap>:151(__exit__)\n",
      "<frozen importlib._bootstrap>:232(_requires_builtin_wrapper)  <-       1    0.000    0.000  <frozen importlib._bootstrap>:433(spec_from_loader)\n",
      "{built-in method builtins.hasattr}                            <-       2    0.000    0.000  <frozen importlib._bootstrap>:433(spec_from_loader)\n",
      "                                                                       1    0.000    0.000  <frozen importlib._bootstrap>:564(module_from_spec)\n",
      "                                                                       1    0.000    0.000  <frozen importlib._bootstrap>:651(_load_unlocked)\n",
      "{built-in method builtins.getattr}                            <-       4    0.000    0.000  <frozen importlib._bootstrap>:504(_init_module_attrs)\n",
      "{built-in method builtins.any}                                <-       1    0.000    0.000  <frozen importlib._bootstrap>:318(__exit__)\n",
      "<frozen importlib._bootstrap>:369(__init__)                   <-       1    0.000    0.000  <frozen importlib._bootstrap>:433(spec_from_loader)\n",
      "<frozen importlib._bootstrap>:416(parent)                     <-       1    0.000    0.000  <frozen importlib._bootstrap>:504(_init_module_attrs)\n",
      "<frozen importlib._bootstrap>:736(exec_module)                <-       1    0.000    0.000  <frozen importlib._bootstrap>:651(_load_unlocked)\n",
      "<frozen importlib._bootstrap>:176(cb)                         <-       1    0.000    0.000  <frozen importlib._bootstrap>:966(_find_and_load)\n",
      "{built-in method _imp.is_builtin}                             <-       1    0.000    0.000  <frozen importlib._bootstrap>:707(find_spec)\n",
      "<frozen importlib._bootstrap>:311(__enter__)                  <-       1    0.000    0.000  <frozen importlib._bootstrap>:651(_load_unlocked)\n",
      "<frozen importlib._bootstrap>:143(__init__)                   <-       1    0.000    0.000  <frozen importlib._bootstrap>:966(_find_and_load)\n",
      "<frozen importlib._bootstrap>:222(_verbose_message)           <-       1    0.000    0.000  <frozen importlib._bootstrap>:318(__exit__)\n",
      "{method 'get' of 'dict' objects}                              <-       1    0.000    0.000  <frozen importlib._bootstrap>:176(cb)\n",
      "                                                                       1    0.000    0.000  <frozen importlib._bootstrap>:966(_find_and_load)\n",
      "<frozen importlib._bootstrap>:307(__init__)                   <-       1    0.000    0.000  <frozen importlib._bootstrap>:651(_load_unlocked)\n",
      "<frozen importlib._bootstrap>:321(<genexpr>)                  <-       4    0.000    0.000  {built-in method builtins.any}\n",
      "<frozen importlib._bootstrap>:847(__exit__)                   <-       1    0.000    0.000  <frozen importlib._bootstrap>:870(_find_spec)\n",
      "{method 'rpartition' of 'str' objects}                        <-       1    0.000    0.000  <frozen importlib._bootstrap>:416(parent)\n",
      "                                                                       1    0.000    0.000  <frozen importlib._bootstrap>:936(_find_and_load_unlocked)\n",
      "{built-in method _thread.allocate_lock}                       <-       2    0.000    0.000  <frozen importlib._bootstrap>:58(__init__)\n",
      "{built-in method _thread.get_ident}                           <-       1    0.000    0.000  <frozen importlib._bootstrap>:78(acquire)\n",
      "                                                                       1    0.000    0.000  <frozen importlib._bootstrap>:103(release)\n",
      "{built-in method _imp.acquire_lock}                           <-       1    0.000    0.000  <frozen importlib._bootstrap>:157(_get_module_lock)\n",
      "                                                                       1    0.000    0.000  <frozen importlib._bootstrap>:176(cb)\n",
      "                                                                       1    0.000    0.000  <frozen importlib._bootstrap>:843(__enter__)\n",
      "{built-in method _imp.release_lock}                           <-       1    0.000    0.000  <frozen importlib._bootstrap>:157(_get_module_lock)\n",
      "                                                                       1    0.000    0.000  <frozen importlib._bootstrap>:176(cb)\n",
      "                                                                       1    0.000    0.000  <frozen importlib._bootstrap>:847(__exit__)\n",
      "{built-in method _imp.exec_builtin}                           <-       1    0.000    0.000  <frozen importlib._bootstrap>:211(_call_with_frames_removed)\n",
      "<frozen importlib._bootstrap>:843(__enter__)                  <-       1    0.000    0.000  <frozen importlib._bootstrap>:870(_find_spec)\n",
      "{method 'disable' of '_lsprof.Profiler' objects}              <- \n",
      "<frozen importlib._bootstrap>:424(has_location)               <-       1    0.000    0.000  <frozen importlib._bootstrap>:504(_init_module_attrs)\n",
      "<frozen importlib._bootstrap>:753(is_package)                 <-       1    0.000    0.000  <frozen importlib._bootstrap>:232(_requires_builtin_wrapper)\n",
      "\n",
      "\n"
     ]
    },
    {
     "data": {
      "text/plain": [
       "<pstats.Stats at 0x7f9775b947f0>"
      ]
     },
     "execution_count": 21,
     "metadata": {},
     "output_type": "execute_result"
    }
   ],
   "source": [
    "p.print_callers()"
   ]
  },
  {
   "cell_type": "markdown",
   "metadata": {},
   "source": [
    "y podemos también tener la información de a qué funciones llamó cada función"
   ]
  },
  {
   "cell_type": "code",
   "execution_count": 22,
   "metadata": {},
   "outputs": [
    {
     "name": "stdout",
     "output_type": "stream",
     "text": [
      "   Ordered by: cumulative time\n",
      "\n",
      "Function                                                      called...\n",
      "                                                                  ncalls  tottime  cumtime\n",
      "{built-in method builtins.exec}                               ->       1    0.014    0.587  Rcf.py:1(<module>)\n",
      "Rcf.py:1(<module>)                                            ->       1    0.000    0.001  <frozen importlib._bootstrap>:966(_find_and_load)\n",
      "                                                                       1    0.131    0.573  Rcf.py:2(Rcf)\n",
      "                                                                       1    0.000    0.000  {built-in method builtins.print}\n",
      "                                                                       1    0.000    0.000  {method 'format' of 'str' objects}\n",
      "Rcf.py:2(Rcf)                                                 ->       1    0.142    0.142  Rcf.py:16(<listcomp>)\n",
      "                                                                 1000000    0.218    0.300  Rcf.py:23(<lambda>)\n",
      "Rcf.py:23(<lambda>)                                           -> 1000000    0.082    0.082  {built-in method math.exp}\n",
      "Rcf.py:16(<listcomp>)                                         -> \n",
      "{built-in method math.exp}                                    -> \n",
      "<frozen importlib._bootstrap>:966(_find_and_load)             ->       1    0.000    0.000  <frozen importlib._bootstrap>:143(__init__)\n",
      "                                                                       1    0.000    0.000  <frozen importlib._bootstrap>:147(__enter__)\n",
      "                                                                       1    0.000    0.000  <frozen importlib._bootstrap>:151(__exit__)\n",
      "                                                                       1    0.000    0.000  <frozen importlib._bootstrap>:176(cb)\n",
      "                                                                       1    0.000    0.000  <frozen importlib._bootstrap>:936(_find_and_load_unlocked)\n",
      "                                                                       1    0.000    0.000  {method 'get' of 'dict' objects}\n",
      "<frozen importlib._bootstrap>:936(_find_and_load_unlocked)    ->       1    0.000    0.000  <frozen importlib._bootstrap>:651(_load_unlocked)\n",
      "                                                                       1    0.000    0.000  <frozen importlib._bootstrap>:870(_find_spec)\n",
      "                                                                       1    0.000    0.000  {method 'rpartition' of 'str' objects}\n",
      "<frozen importlib._bootstrap>:651(_load_unlocked)             ->       1    0.000    0.000  <frozen importlib._bootstrap>:307(__init__)\n",
      "                                                                       1    0.000    0.000  <frozen importlib._bootstrap>:311(__enter__)\n",
      "                                                                       1    0.000    0.000  <frozen importlib._bootstrap>:318(__exit__)\n",
      "                                                                       1    0.000    0.000  <frozen importlib._bootstrap>:564(module_from_spec)\n",
      "                                                                       1    0.000    0.000  <frozen importlib._bootstrap>:736(exec_module)\n",
      "                                                                       1    0.000    0.000  {built-in method builtins.hasattr}\n",
      "<frozen importlib._bootstrap>:564(module_from_spec)           ->       1    0.000    0.000  <frozen importlib._bootstrap>:504(_init_module_attrs)\n",
      "                                                                       1    0.000    0.000  <frozen importlib._bootstrap>:728(create_module)\n",
      "                                                                       1    0.000    0.000  {built-in method builtins.hasattr}\n",
      "<frozen importlib._bootstrap>:728(create_module)              ->       1    0.000    0.000  <frozen importlib._bootstrap>:211(_call_with_frames_removed)\n",
      "<frozen importlib._bootstrap>:211(_call_with_frames_removed)  ->       1    0.000    0.000  {built-in method _imp.create_builtin}\n",
      "                                                                       1    0.000    0.000  {built-in method _imp.exec_builtin}\n",
      "{built-in method _imp.create_builtin}                         -> \n",
      "<frozen importlib._bootstrap>:147(__enter__)                  ->       1    0.000    0.000  <frozen importlib._bootstrap>:78(acquire)\n",
      "                                                                       1    0.000    0.000  <frozen importlib._bootstrap>:157(_get_module_lock)\n",
      "<frozen importlib._bootstrap>:870(_find_spec)                 ->       1    0.000    0.000  <frozen importlib._bootstrap>:707(find_spec)\n",
      "                                                                       1    0.000    0.000  <frozen importlib._bootstrap>:843(__enter__)\n",
      "                                                                       1    0.000    0.000  <frozen importlib._bootstrap>:847(__exit__)\n",
      "<frozen importlib._bootstrap>:157(_get_module_lock)           ->       1    0.000    0.000  <frozen importlib._bootstrap>:58(__init__)\n",
      "                                                                       1    0.000    0.000  {built-in method _imp.acquire_lock}\n",
      "                                                                       1    0.000    0.000  {built-in method _imp.release_lock}\n",
      "<frozen importlib._bootstrap>:707(find_spec)                  ->       1    0.000    0.000  <frozen importlib._bootstrap>:433(spec_from_loader)\n",
      "                                                                       1    0.000    0.000  {built-in method _imp.is_builtin}\n",
      "{method 'format' of 'str' objects}                            -> \n",
      "<frozen importlib._bootstrap>:433(spec_from_loader)           ->       1    0.000    0.000  <frozen importlib._bootstrap>:232(_requires_builtin_wrapper)\n",
      "                                                                       1    0.000    0.000  <frozen importlib._bootstrap>:369(__init__)\n",
      "                                                                       2    0.000    0.000  {built-in method builtins.hasattr}\n",
      "<frozen importlib._bootstrap>:58(__init__)                    ->       2    0.000    0.000  {built-in method _thread.allocate_lock}\n",
      "<frozen importlib._bootstrap>:504(_init_module_attrs)         ->       1    0.000    0.000  <frozen importlib._bootstrap>:416(parent)\n",
      "                                                                       1    0.000    0.000  <frozen importlib._bootstrap>:424(has_location)\n",
      "                                                                       4    0.000    0.000  {built-in method builtins.getattr}\n",
      "{built-in method builtins.print}                              -> \n",
      "<frozen importlib._bootstrap>:318(__exit__)                   ->       1    0.000    0.000  <frozen importlib._bootstrap>:222(_verbose_message)\n",
      "                                                                       1    0.000    0.000  {built-in method builtins.any}\n",
      "<frozen importlib._bootstrap>:151(__exit__)                   ->       1    0.000    0.000  <frozen importlib._bootstrap>:103(release)\n",
      "<frozen importlib._bootstrap>:78(acquire)                     ->       1    0.000    0.000  {built-in method _thread.get_ident}\n",
      "<frozen importlib._bootstrap>:103(release)                    ->       1    0.000    0.000  {built-in method _thread.get_ident}\n",
      "<frozen importlib._bootstrap>:232(_requires_builtin_wrapper)  ->       1    0.000    0.000  <frozen importlib._bootstrap>:753(is_package)\n",
      "{built-in method builtins.hasattr}                            -> \n",
      "{built-in method builtins.getattr}                            -> \n",
      "{built-in method builtins.any}                                ->       4    0.000    0.000  <frozen importlib._bootstrap>:321(<genexpr>)\n",
      "<frozen importlib._bootstrap>:369(__init__)                   -> \n",
      "<frozen importlib._bootstrap>:416(parent)                     ->       1    0.000    0.000  {method 'rpartition' of 'str' objects}\n",
      "<frozen importlib._bootstrap>:736(exec_module)                ->       1    0.000    0.000  <frozen importlib._bootstrap>:211(_call_with_frames_removed)\n",
      "<frozen importlib._bootstrap>:176(cb)                         ->       1    0.000    0.000  {built-in method _imp.acquire_lock}\n",
      "                                                                       1    0.000    0.000  {built-in method _imp.release_lock}\n",
      "                                                                       1    0.000    0.000  {method 'get' of 'dict' objects}\n",
      "{built-in method _imp.is_builtin}                             -> \n",
      "<frozen importlib._bootstrap>:311(__enter__)                  -> \n",
      "<frozen importlib._bootstrap>:143(__init__)                   -> \n",
      "<frozen importlib._bootstrap>:222(_verbose_message)           -> \n",
      "{method 'get' of 'dict' objects}                              -> \n",
      "<frozen importlib._bootstrap>:307(__init__)                   -> \n",
      "<frozen importlib._bootstrap>:321(<genexpr>)                  -> \n",
      "<frozen importlib._bootstrap>:847(__exit__)                   ->       1    0.000    0.000  {built-in method _imp.release_lock}\n",
      "{method 'rpartition' of 'str' objects}                        -> \n",
      "{built-in method _thread.allocate_lock}                       -> \n",
      "{built-in method _thread.get_ident}                           -> \n",
      "{built-in method _imp.acquire_lock}                           -> \n",
      "{built-in method _imp.release_lock}                           -> \n",
      "{built-in method _imp.exec_builtin}                           -> \n",
      "<frozen importlib._bootstrap>:843(__enter__)                  ->       1    0.000    0.000  {built-in method _imp.acquire_lock}\n",
      "{method 'disable' of '_lsprof.Profiler' objects}              -> \n",
      "<frozen importlib._bootstrap>:424(has_location)               -> \n",
      "<frozen importlib._bootstrap>:753(is_package)                 -> \n",
      "\n",
      "\n"
     ]
    },
    {
     "data": {
      "text/plain": [
       "<pstats.Stats at 0x7f9775b947f0>"
      ]
     },
     "execution_count": 22,
     "metadata": {},
     "output_type": "execute_result"
    }
   ],
   "source": [
    "p.print_callees()"
   ]
  },
  {
   "cell_type": "markdown",
   "metadata": {},
   "source": [
    "El comando de magic es `%prun`:"
   ]
  },
  {
   "cell_type": "code",
   "execution_count": 23,
   "metadata": {},
   "outputs": [
    {
     "name": "stdout",
     "output_type": "stream",
     "text": [
      " "
     ]
    },
    {
     "data": {
      "text/plain": [
       "         2000005 function calls in 0.765 seconds\n",
       "\n",
       "   Ordered by: cumulative time\n",
       "\n",
       "   ncalls  tottime  percall  cumtime  percall filename:lineno(function)\n",
       "        1    0.000    0.000    0.765    0.765 {built-in method builtins.exec}\n",
       "        1    0.020    0.020    0.765    0.765 <string>:1(<module>)\n",
       "        1    0.192    0.192    0.745    0.745 <ipython-input-4-08ae95932785>:1(Rcf)\n",
       "  1000000    0.319    0.000    0.426    0.000 <ipython-input-3-d9185a29ac70>:1(<lambda>)\n",
       "        1    0.127    0.127    0.127    0.127 <ipython-input-4-08ae95932785>:15(<listcomp>)\n",
       "  1000000    0.106    0.000    0.106    0.000 {built-in method math.exp}\n",
       "        1    0.000    0.000    0.000    0.000 {method 'disable' of '_lsprof.Profiler' objects}"
      ]
     },
     "metadata": {},
     "output_type": "display_data"
    }
   ],
   "source": [
    "%prun -s cumulative Rcf(f,0,1,n)"
   ]
  },
  {
   "cell_type": "markdown",
   "metadata": {},
   "source": [
    "### 2) Uso de line_profiler"
   ]
  },
  {
   "cell_type": "markdown",
   "metadata": {},
   "source": [
    "`line_profiler` trabaja perfilando el código de forma individual funciones línea por línea. La idea sería perfilar primero con `CProfile` al programa para identificar aquellas funciones que gastan un mayor tiempo de ejecución y posteriormente perfilarlas con `line_profiler`."
   ]
  },
  {
   "cell_type": "markdown",
   "metadata": {},
   "source": [
    "**Comentario:** una buena práctica es guardar las diferentes versiones de tu código cuando vas modificándolo para tener un registro de tus cambios."
   ]
  },
  {
   "cell_type": "markdown",
   "metadata": {},
   "source": [
    "Puede ejecutarse desde la línea de comandos o cargarse en IPython con el comando magic `load_ext`: "
   ]
  },
  {
   "cell_type": "code",
   "execution_count": 4,
   "metadata": {},
   "outputs": [],
   "source": [
    "%load_ext line_profiler"
   ]
  },
  {
   "cell_type": "code",
   "execution_count": 25,
   "metadata": {},
   "outputs": [
    {
     "data": {
      "text/plain": [
       "\u001b[0;31mDocstring:\u001b[0m\n",
       "Execute a statement under the line-by-line profiler from the\n",
       "line_profiler module.\n",
       "\n",
       "Usage:\n",
       "  %lprun -f func1 -f func2 <statement>\n",
       "\n",
       "The given statement (which doesn't require quote marks) is run via the\n",
       "LineProfiler. Profiling is enabled for the functions specified by the -f\n",
       "options. The statistics will be shown side-by-side with the code through the\n",
       "pager once the statement has completed.\n",
       "\n",
       "Options:\n",
       "\n",
       "-f <function>: LineProfiler only profiles functions and methods it is told\n",
       "to profile.  This option tells the profiler about these functions. Multiple\n",
       "-f options may be used. The argument may be any expression that gives\n",
       "a Python function or method object. However, one must be careful to avoid\n",
       "spaces that may confuse the option parser.\n",
       "\n",
       "-m <module>: Get all the functions/methods in a module\n",
       "\n",
       "One or more -f or -m options are required to get any useful results.\n",
       "\n",
       "-D <filename>: dump the raw statistics out to a pickle file on disk. The\n",
       "usual extension for this is \".lprof\". These statistics may be viewed later\n",
       "by running line_profiler.py as a script.\n",
       "\n",
       "-T <filename>: dump the text-formatted statistics with the code side-by-side\n",
       "out to a text file.\n",
       "\n",
       "-r: return the LineProfiler object after it has completed profiling.\n",
       "\n",
       "-s: strip out all entries from the print-out that have zeros.\n",
       "\n",
       "-u: specify time unit for the print-out in seconds.\n",
       "\u001b[0;31mFile:\u001b[0m      ~/.local/lib/python3.6/site-packages/line_profiler/line_profiler.py\n"
      ]
     },
     "metadata": {},
     "output_type": "display_data"
    }
   ],
   "source": [
    "%lprun?"
   ]
  },
  {
   "cell_type": "markdown",
   "metadata": {},
   "source": [
    "En el siguiente output:\n",
    "\n",
    "* La columna `%Time` contiene el porcentaje de tiempo gastado. En el caso que se perfila, la línea`sum_res=sum_res+f(node)` es en la que más porcentaje del tiempo se gasta. Seguida de la línea del `for` y de la línea donde se hace uso de [list comprehension](https://docs.python.org/3/tutorial/datastructures.html#list-comprehensions) para crear a los nodos de integración numérica."
   ]
  },
  {
   "cell_type": "code",
   "execution_count": 26,
   "metadata": {},
   "outputs": [
    {
     "data": {
      "text/plain": [
       "Timer unit: 1e-06 s\n",
       "\n",
       "Total time: 1.68936 s\n",
       "File: <ipython-input-4-08ae95932785>\n",
       "Function: Rcf at line 1\n",
       "\n",
       "Line #      Hits         Time  Per Hit   % Time  Line Contents\n",
       "==============================================================\n",
       "     1                                           def Rcf(f,a,b,n): #Rcf: rectángulo compuesto para f\n",
       "     2                                               \"\"\"\n",
       "     3                                               Compute numerical approximation using rectangle or mid-point method in \n",
       "     4                                               an interval.\n",
       "     5                                               Nodes are generated via formula: x_i = a+(i+1/2)h_hat for i=0,1,...,n and h_hat=(b-a)/n\n",
       "     6                                               Args:\n",
       "     7                                                   f (lambda expression): lambda expression of integrand\n",
       "     8                                                   a (int): left point of interval\n",
       "     9                                                   b (int): right point of interval\n",
       "    10                                                   n (int): number of subintervals\n",
       "    11                                               Returns:\n",
       "    12                                                   Rcf (float) \n",
       "    13                                               \"\"\"\n",
       "    14         1          2.0      2.0      0.0      h_hat=(b-a)/n\n",
       "    15         1     275788.0 275788.0     16.3      nodes=[a+(i+1/2)*h_hat for i in range(0,n)]\n",
       "    16         1          1.0      1.0      0.0      sum_res=0\n",
       "    17   1000001     486769.0      0.5     28.8      for node in nodes:\n",
       "    18   1000000     926802.0      0.9     54.9          sum_res=sum_res+f(node)\n",
       "    19         1          1.0      1.0      0.0      return h_hat*sum_res"
      ]
     },
     "metadata": {},
     "output_type": "display_data"
    }
   ],
   "source": [
    "%lprun -f Rcf Rcf(f,0,1,n)"
   ]
  },
  {
   "cell_type": "markdown",
   "metadata": {},
   "source": [
    "Con la evidencia generada con `line_profiler` ¿podríamos escribir una función que fuera más rápida?"
   ]
  },
  {
   "cell_type": "markdown",
   "metadata": {},
   "source": [
    "Lo primero que podemos hacer es utilizar un [generator](https://wiki.python.org/moin/Generators) en lugar de una lista:"
   ]
  },
  {
   "cell_type": "code",
   "execution_count": 27,
   "metadata": {},
   "outputs": [],
   "source": [
    "def Rcf2(f,a,b,n):\n",
    "    \"\"\"\n",
    "    Compute numerical approximation using rectangle or mid-point method in \n",
    "    an interval.\n",
    "    Nodes are generated via formula: x_i = a+(b-a)/n*i for i=0,1,...,n-1\n",
    "    Args:\n",
    "        f (lambda expression): lambda expression of integrand\n",
    "        a (int): left point of interval\n",
    "        b (int): right point of interval\n",
    "        n (int): number of subintervals\n",
    "    Returns:\n",
    "        Rcf2 (float) \n",
    "    \"\"\"\n",
    "    h_hat=(b-a)/n\n",
    "    nodes=(a+(i+1/2)*h_hat for i in range(0,n))\n",
    "    sum_res=0\n",
    "    for node in nodes:\n",
    "        sum_res=sum_res+f(node)\n",
    "    return h_hat*sum_res"
   ]
  },
  {
   "cell_type": "markdown",
   "metadata": {},
   "source": [
    "medir con `%timeit`:"
   ]
  },
  {
   "cell_type": "code",
   "execution_count": 28,
   "metadata": {},
   "outputs": [
    {
     "name": "stdout",
     "output_type": "stream",
     "text": [
      "339 ms ± 16.9 ms per loop (mean ± std. dev. of 10 runs, 5 loops each)\n"
     ]
    }
   ],
   "source": [
    "%timeit -n 5 -r 10 Rcf2(f,0,1,n)"
   ]
  },
  {
   "cell_type": "code",
   "execution_count": 42,
   "metadata": {},
   "outputs": [],
   "source": [
    "aprox=Rcf2(f,0,1,n)"
   ]
  },
  {
   "cell_type": "markdown",
   "metadata": {},
   "source": [
    "revisar que está correcta esta nueva implementación:"
   ]
  },
  {
   "cell_type": "code",
   "execution_count": 43,
   "metadata": {},
   "outputs": [
    {
     "data": {
      "text/plain": [
       "6.71939731300312e-14"
      ]
     },
     "execution_count": 43,
     "metadata": {},
     "output_type": "execute_result"
    }
   ],
   "source": [
    "err_relativo(aprox,obj)"
   ]
  },
  {
   "cell_type": "markdown",
   "metadata": {},
   "source": [
    "perfilarla con `line_profiler`:"
   ]
  },
  {
   "cell_type": "code",
   "execution_count": 44,
   "metadata": {},
   "outputs": [
    {
     "data": {
      "text/plain": [
       "Timer unit: 1e-06 s\n",
       "\n",
       "Total time: 1.99524 s\n",
       "File: <ipython-input-27-794f7be94ca8>\n",
       "Function: Rcf2 at line 1\n",
       "\n",
       "Line #      Hits         Time  Per Hit   % Time  Line Contents\n",
       "==============================================================\n",
       "     1                                           def Rcf2(f,a,b,n):\n",
       "     2                                               \"\"\"\n",
       "     3                                               Compute numerical approximation using rectangle or mid-point method in \n",
       "     4                                               an interval.\n",
       "     5                                               Nodes are generated via formula: x_i = a+(b-a)/n*i for i=0,1,...,n\n",
       "     6                                               Args:\n",
       "     7                                                   f (lambda expression): lambda expression of integrand\n",
       "     8                                                   a (int): left point of interval\n",
       "     9                                                   b (int): right point of interval\n",
       "    10                                                   n (int): number of subintervals\n",
       "    11                                               Returns:\n",
       "    12                                                   Rcf2 (float) \n",
       "    13                                               \"\"\"\n",
       "    14         1          3.0      3.0      0.0      h_hat=(b-a)/n\n",
       "    15         1          4.0      4.0      0.0      nodes=(a+(i+1/2)*h_hat for i in range(0,n))\n",
       "    16         1          0.0      0.0      0.0      sum_res=0\n",
       "    17   1000001     945299.0      0.9     47.4      for node in nodes:\n",
       "    18   1000000    1049935.0      1.0     52.6          sum_res=sum_res+f(node)\n",
       "    19         1          1.0      1.0      0.0      return h_hat*sum_res"
      ]
     },
     "metadata": {},
     "output_type": "display_data"
    }
   ],
   "source": [
    "%lprun -f Rcf2 Rcf2(f,0,1,n)"
   ]
  },
  {
   "cell_type": "markdown",
   "metadata": {},
   "source": [
    "y observar que la línea en la que se creaba la lista ahora es despreciable el porcentaje de tiempo que se gasta en ella."
   ]
  },
  {
   "cell_type": "markdown",
   "metadata": {},
   "source": [
    "Podemos hacer una implementación que se encargue del gasto del tiempo en la línea del `for`:"
   ]
  },
  {
   "cell_type": "code",
   "execution_count": 31,
   "metadata": {},
   "outputs": [],
   "source": [
    "def Rcf3(f,a,b,n):\n",
    "    \"\"\"\n",
    "    Compute numerical approximation using rectangle or mid-point method in \n",
    "    an interval.\n",
    "    Nodes are generated via formula: x_i = a+(b-a)/n*i for i=0,1,...,n-1\n",
    "    Args:\n",
    "        f (lambda expression): lambda expression of integrand\n",
    "        a (int): left point of interval\n",
    "        b (int): right point of interval\n",
    "        n (int): number of subintervals\n",
    "    Returns:\n",
    "        Rcf3 (float) \n",
    "    \"\"\"\n",
    "    h_hat=(b-a)/n\n",
    "    nodes=(a+(i+1/2)*h_hat for i in range(0,n))\n",
    "    suma_res = sum((f(node) for node in nodes))\n",
    "    return h_hat*suma_res"
   ]
  },
  {
   "cell_type": "markdown",
   "metadata": {},
   "source": [
    "medir con `%timeit`:"
   ]
  },
  {
   "cell_type": "code",
   "execution_count": 32,
   "metadata": {},
   "outputs": [
    {
     "name": "stdout",
     "output_type": "stream",
     "text": [
      "363 ms ± 4.99 ms per loop (mean ± std. dev. of 10 runs, 5 loops each)\n"
     ]
    }
   ],
   "source": [
    "%timeit -n 5 -r 10 Rcf3(f,0,1,n)"
   ]
  },
  {
   "cell_type": "markdown",
   "metadata": {},
   "source": [
    "revisar que está correcta esta nueva implementación:"
   ]
  },
  {
   "cell_type": "code",
   "execution_count": 45,
   "metadata": {},
   "outputs": [],
   "source": [
    "aprox=Rcf3(f,0,1,n)"
   ]
  },
  {
   "cell_type": "code",
   "execution_count": 46,
   "metadata": {},
   "outputs": [
    {
     "data": {
      "text/plain": [
       "6.71939731300312e-14"
      ]
     },
     "execution_count": 46,
     "metadata": {},
     "output_type": "execute_result"
    }
   ],
   "source": [
    "err_relativo(aprox,obj)"
   ]
  },
  {
   "cell_type": "markdown",
   "metadata": {},
   "source": [
    "perfilarla con `line_profiler`:"
   ]
  },
  {
   "cell_type": "code",
   "execution_count": 47,
   "metadata": {},
   "outputs": [
    {
     "data": {
      "text/plain": [
       "Timer unit: 1e-06 s\n",
       "\n",
       "Total time: 1.27942 s\n",
       "File: <ipython-input-31-0b5466de5036>\n",
       "Function: Rcf3 at line 1\n",
       "\n",
       "Line #      Hits         Time  Per Hit   % Time  Line Contents\n",
       "==============================================================\n",
       "     1                                           def Rcf3(f,a,b,n):\n",
       "     2                                               \"\"\"\n",
       "     3                                               Compute numerical approximation using rectangle or mid-point method in \n",
       "     4                                               an interval.\n",
       "     5                                               Nodes are generated via formula: x_i = a+(b-a)/n*i for i=0,1,...,n\n",
       "     6                                               Args:\n",
       "     7                                                   f (lambda expression): lambda expression of integrand\n",
       "     8                                                   a (int): left point of interval\n",
       "     9                                                   b (int): right point of interval\n",
       "    10                                                   n (int): number of subintervals\n",
       "    11                                               Returns:\n",
       "    12                                                   Rcf3 (float) \n",
       "    13                                               \"\"\"\n",
       "    14         1          4.0      4.0      0.0      h_hat=(b-a)/n\n",
       "    15         1          5.0      5.0      0.0      nodes=(a+(i+1/2)*h_hat for i in range(0,n))\n",
       "    16         1    1279413.0 1279413.0    100.0      suma_res = sum((f(node) for node in nodes))\n",
       "    17         1          2.0      2.0      0.0      return h_hat*suma_res"
      ]
     },
     "metadata": {},
     "output_type": "display_data"
    }
   ],
   "source": [
    "%lprun -f Rcf3 Rcf3(f,0,1,n)"
   ]
  },
  {
   "cell_type": "markdown",
   "metadata": {},
   "source": [
    "y se tiene la mayoría del porcentaje de tiempo ahora en una sola línea."
   ]
  },
  {
   "cell_type": "markdown",
   "metadata": {},
   "source": [
    "Recuérdese que el resultado de `Cprofile` indicó que se llama a la función `lambda` y `math.exp` $n=10^6$ veces. Una implementación de la regla del rectángulo con menor número de llamadas a funciones (y por tanto menor tiempo) sería:"
   ]
  },
  {
   "cell_type": "code",
   "execution_count": 35,
   "metadata": {},
   "outputs": [],
   "source": [
    "def Rcf4(a,b,n):\n",
    "    \"\"\"\n",
    "    Compute numerical approximation using rectangle or mid-point method in \n",
    "    an interval.\n",
    "    Nodes are generated via formula: x_i = a+(b-a)/n*i for i=0,1,...,n-1\n",
    "    Args:\n",
    "        f (lambda expression): lambda expression of integrand\n",
    "        a (int): left point of interval\n",
    "        b (int): right point of interval\n",
    "        n (int): number of subintervals\n",
    "    Returns:\n",
    "        Rcf4 (float) \n",
    "    \"\"\"\n",
    "    h_hat=(b-a)/n\n",
    "    nodes=(a+(i+1/2)*h_hat for i in range(0,n))\n",
    "    suma_res = sum(((math.exp(-node**2) for node in nodes)))\n",
    "    return h_hat*suma_res"
   ]
  },
  {
   "cell_type": "code",
   "execution_count": 36,
   "metadata": {},
   "outputs": [
    {
     "data": {
      "text/plain": [
       "Timer unit: 1e-06 s\n",
       "\n",
       "Total time: 0.826071 s\n",
       "File: <ipython-input-35-ef8e351f19bf>\n",
       "Function: Rcf4 at line 1\n",
       "\n",
       "Line #      Hits         Time  Per Hit   % Time  Line Contents\n",
       "==============================================================\n",
       "     1                                           def Rcf4(a,b,n):\n",
       "     2                                               \"\"\"\n",
       "     3                                               Compute numerical approximation using rectangle or mid-point method in \n",
       "     4                                               an interval.\n",
       "     5                                               Nodes are generated via formula: x_i = a+(b-a)/n*i for i=0,1,...,n\n",
       "     6                                               Mid point is calculated via formula: x_{i-1}+(x_i-x_{i-1})/2 for i=1,...,n to avoid rounding errors\n",
       "     7                                               Args:\n",
       "     8                                                   f (lambda expression): lambda expression of integrand\n",
       "     9                                                   a (int): left point of interval\n",
       "    10                                                   b (int): right point of interval\n",
       "    11                                                   n (int): number of subintervals\n",
       "    12                                               Returns:\n",
       "    13                                                   Rcf4 (float) \n",
       "    14                                               \"\"\"\n",
       "    15         1          3.0      3.0      0.0      h_hat=(b-a)/n\n",
       "    16         1          5.0      5.0      0.0      nodes=(a+(i+1/2)*h_hat for i in range(0,n))\n",
       "    17         1     826061.0 826061.0    100.0      suma_res = sum(((math.exp(-node**2) for node in nodes)))\n",
       "    18         1          2.0      2.0      0.0      return h_hat*suma_res"
      ]
     },
     "metadata": {},
     "output_type": "display_data"
    }
   ],
   "source": [
    "%lprun -f Rcf4 Rcf4(0,1,n)"
   ]
  },
  {
   "cell_type": "code",
   "execution_count": 37,
   "metadata": {},
   "outputs": [
    {
     "name": "stdout",
     "output_type": "stream",
     "text": [
      "308 ms ± 5.53 ms per loop (mean ± std. dev. of 10 runs, 5 loops each)\n"
     ]
    }
   ],
   "source": [
    "%timeit -n 5 -r 10 Rcf4(0,1,n)"
   ]
  },
  {
   "cell_type": "code",
   "execution_count": 49,
   "metadata": {},
   "outputs": [],
   "source": [
    "aprox=Rcf4(0,1,n)"
   ]
  },
  {
   "cell_type": "code",
   "execution_count": 50,
   "metadata": {},
   "outputs": [
    {
     "data": {
      "text/plain": [
       "6.71939731300312e-14"
      ]
     },
     "execution_count": 50,
     "metadata": {},
     "output_type": "execute_result"
    }
   ],
   "source": [
    "err_relativo(aprox,obj)"
   ]
  },
  {
   "cell_type": "markdown",
   "metadata": {},
   "source": [
    "Si bien esta implementación es la más rápida hasta este punto no es tan flexible pues está calculando la regla del rectángulo para una función definida dentro de la misma función. Si quisiéramos calcular la regla para otra función se tendría que directamente modificar la función `Rcf` lo cual no es flexible. Aunque `Rcf4` es más rápida preferimos `Rcf3` por su flexibilidad y menor uso de recursos (que se verá con el `memory_profiler` más adelante)."
   ]
  },
  {
   "cell_type": "code",
   "execution_count": 57,
   "metadata": {},
   "outputs": [],
   "source": [
    "def Rcf5(a,b,n):\n",
    "    \"\"\"\n",
    "    Compute numerical approximation using rectangle or mid-point method in \n",
    "    an interval.\n",
    "    Nodes are generated via formula: x_i = a+(b-a)/n*i for i=0,1,...,n-1\n",
    "    Args:\n",
    "        f (lambda expression): lambda expression of integrand\n",
    "        a (int): left point of interval\n",
    "        b (int): right point of interval\n",
    "        n (int): number of subintervals\n",
    "    Returns:\n",
    "        Rcf4 (float) \n",
    "    \"\"\"\n",
    "    h_hat=(b-a)/n\n",
    "    f_nodes=(math.exp(-(a+(i+1/2)*h_hat)**2) for i in range(0,n))\n",
    "    suma_res = sum(f_nodes)\n",
    "    return h_hat*suma_res"
   ]
  },
  {
   "cell_type": "code",
   "execution_count": 58,
   "metadata": {},
   "outputs": [
    {
     "data": {
      "text/plain": [
       "Timer unit: 1e-06 s\n",
       "\n",
       "Total time: 0.579516 s\n",
       "File: <ipython-input-57-9209a967c3ab>\n",
       "Function: Rcf5 at line 1\n",
       "\n",
       "Line #      Hits         Time  Per Hit   % Time  Line Contents\n",
       "==============================================================\n",
       "     1                                           def Rcf5(a,b,n):\n",
       "     2                                               \"\"\"\n",
       "     3                                               Compute numerical approximation using rectangle or mid-point method in \n",
       "     4                                               an interval.\n",
       "     5                                               Nodes are generated via formula: x_i = a+(b-a)/n*i for i=0,1,...,n-1\n",
       "     6                                               Args:\n",
       "     7                                                   f (lambda expression): lambda expression of integrand\n",
       "     8                                                   a (int): left point of interval\n",
       "     9                                                   b (int): right point of interval\n",
       "    10                                                   n (int): number of subintervals\n",
       "    11                                               Returns:\n",
       "    12                                                   Rcf4 (float) \n",
       "    13                                               \"\"\"\n",
       "    14         1          5.0      5.0      0.0      h_hat=(b-a)/n\n",
       "    15         1          5.0      5.0      0.0      f_nodes=(math.exp(-(a+(i+1/2)*h_hat)**2) for i in range(0,n))\n",
       "    16         1     579504.0 579504.0    100.0      suma_res = sum(f_nodes)\n",
       "    17         1          2.0      2.0      0.0      return h_hat*suma_res"
      ]
     },
     "metadata": {},
     "output_type": "display_data"
    }
   ],
   "source": [
    "%lprun -f Rcf5 Rcf5(0,1,n)"
   ]
  },
  {
   "cell_type": "code",
   "execution_count": 59,
   "metadata": {},
   "outputs": [
    {
     "name": "stdout",
     "output_type": "stream",
     "text": [
      "262 ms ± 7.36 ms per loop (mean ± std. dev. of 10 runs, 5 loops each)\n"
     ]
    }
   ],
   "source": [
    "%timeit -n 5 -r 10 Rcf5(0,1,n)"
   ]
  },
  {
   "cell_type": "code",
   "execution_count": 60,
   "metadata": {},
   "outputs": [],
   "source": [
    "aprox=Rcf5(0,1,n)"
   ]
  },
  {
   "cell_type": "code",
   "execution_count": 61,
   "metadata": {},
   "outputs": [
    {
     "data": {
      "text/plain": [
       "6.71939731300312e-14"
      ]
     },
     "execution_count": 61,
     "metadata": {},
     "output_type": "execute_result"
    }
   ],
   "source": [
    "err_relativo(aprox,obj)"
   ]
  },
  {
   "cell_type": "markdown",
   "metadata": {},
   "source": [
    "Obsérvese que en una línea se están construyendo nodos y transformando con `math.exp` en `Rcf5`. Aunque esta implementación es la más rápida hasta ahora, no se sugiere usarla pues le falta flexibilidad como `Rcf4` y no es recomendable en una línea construir datos y transformarlos. Combinar operaciones en una sola línea resulta en código difícil de leer. Es mejor separar en dos funciones estas dos tareas por si falla una sepamos cuál falló y por qué falló."
   ]
  },
  {
   "cell_type": "markdown",
   "metadata": {},
   "source": [
    "**Ejemplo de ejecución de line_profiler desde la línea de comandos:**"
   ]
  },
  {
   "cell_type": "code",
   "execution_count": 62,
   "metadata": {},
   "outputs": [
    {
     "name": "stdout",
     "output_type": "stream",
     "text": [
      "Overwriting Rcf4.py\n"
     ]
    }
   ],
   "source": [
    "%%file Rcf4.py\n",
    "import math\n",
    "@profile #esta línea es necesaria para indicar que la siguiente función \n",
    "         #desea perfilarse con line_profiler\n",
    "def Rcf4(a,b,n):\n",
    "    \"\"\"\n",
    "    Compute numerical approximation using rectangle or mid-point method in \n",
    "    an interval.\n",
    "    Nodes are generated via formula: x_i = a+(b-a)/n*i for i=0,1,...,n\n",
    "    Mid point is calculated via formula: x_{i-1}+(x_i-x_{i-1})/2 for i=1,...,n-1 to avoid rounding errors\n",
    "    Args:\n",
    "        f (lambda expression): lambda expression of integrand\n",
    "        a (int): left point of interval\n",
    "        b (int): right point of interval\n",
    "        n (int): number of subintervals\n",
    "    Returns:\n",
    "        Rcf4 (float) \n",
    "    \"\"\"\n",
    "    h_hat=(b-a)/n\n",
    "    nodes=(a+(i+1/2)*h_hat for i in range(0,n))\n",
    "    suma_res = sum(((math.exp(-node**2) for node in nodes)))\n",
    "    return h_hat*suma_res\n",
    "if __name__ == \"__main__\":\n",
    "    n=10**6\n",
    "    print(\"aproximación: {:0.6e}\".format(Rcf4(0,1,n)))"
   ]
  },
  {
   "cell_type": "code",
   "execution_count": 63,
   "metadata": {},
   "outputs": [
    {
     "name": "stdout",
     "output_type": "stream",
     "text": [
      "aproximación: 7.468241e-01\n",
      "Wrote profile results to Rcf4.py.lprof\n",
      "Timer unit: 1e-06 s\n",
      "\n",
      "Total time: 0.77406 s\n",
      "File: Rcf4.py\n",
      "Function: Rcf4 at line 2\n",
      "\n",
      "Line #      Hits         Time  Per Hit   % Time  Line Contents\n",
      "==============================================================\n",
      "     2                                           @profile #esta línea es necesaria para indicar que la siguiente función \n",
      "     3                                                    #desea perfilarse con line_profiler\n",
      "     4                                           def Rcf4(a,b,n):\n",
      "     5                                               \"\"\"\n",
      "     6                                               Compute numerical approximation using rectangle or mid-point method in \n",
      "     7                                               an interval.\n",
      "     8                                               Nodes are generated via formula: x_i = a+(b-a)/n*i for i=0,1,...,n\n",
      "     9                                               Mid point is calculated via formula: x_{i-1}+(x_i-x_{i-1})/2 for i=1,...,n-1 to avoid rounding errors\n",
      "    10                                               Args:\n",
      "    11                                                   f (lambda expression): lambda expression of integrand\n",
      "    12                                                   a (int): left point of interval\n",
      "    13                                                   b (int): right point of interval\n",
      "    14                                                   n (int): number of subintervals\n",
      "    15                                               Returns:\n",
      "    16                                                   Rcf4 (float) \n",
      "    17                                               \"\"\"\n",
      "    18         1          2.0      2.0      0.0      h_hat=(b-a)/n\n",
      "    19         1          5.0      5.0      0.0      nodes=(a+(i+1/2)*h_hat for i in range(0,n))\n",
      "    20         1     774051.0 774051.0    100.0      suma_res = sum(((math.exp(-node**2) for node in nodes)))\n",
      "    21         1          2.0      2.0      0.0      return h_hat*suma_res\n",
      "\n"
     ]
    }
   ],
   "source": [
    "%%bash\n",
    "$HOME/.local/bin/kernprof -l -v Rcf4.py"
   ]
  },
  {
   "cell_type": "markdown",
   "metadata": {},
   "source": [
    "Observese en el output de `CProfile` siguiente para la función `Rcf4` que las líneas con mayor gasto en el tiempo total son: \n",
    "\n",
    "```\n",
    "    nodes=(a+(i+1/2)*h_hat for i in range(0,n))\n",
    "    suma_res = sum(((math.exp(-node**2) for node in nodes)))\n",
    "```"
   ]
  },
  {
   "cell_type": "code",
   "execution_count": 64,
   "metadata": {},
   "outputs": [],
   "source": [
    "import math\n",
    "def Rcf4(a,b,n):\n",
    "    \"\"\"\n",
    "    Compute numerical approximation using rectangle or mid-point method in \n",
    "    an interval.\n",
    "    Nodes are generated via formula: x_i = a+(b-a)/n*i for i=0,1,...,n\n",
    "    Mid point is calculated via formula: x_{i-1}+(x_i-x_{i-1})/2 for i=1,...,n-1 to avoid rounding errors\n",
    "    Args:\n",
    "        f (lambda expression): lambda expression of integrand\n",
    "        a (int): left point of interval\n",
    "        b (int): right point of interval\n",
    "        n (int): number of subintervals\n",
    "    Returns:\n",
    "        Rcf4 (float) \n",
    "    \"\"\"\n",
    "    h_hat=(b-a)/n\n",
    "    nodes=(a+(i+1/2)*h_hat for i in range(0,n))\n",
    "    suma_res = sum(((math.exp(-node**2) for node in nodes)))\n",
    "    return h_hat*suma_res"
   ]
  },
  {
   "cell_type": "code",
   "execution_count": 65,
   "metadata": {},
   "outputs": [
    {
     "name": "stdout",
     "output_type": "stream",
     "text": [
      " "
     ]
    },
    {
     "data": {
      "text/plain": [
       "         3000007 function calls in 0.748 seconds\n",
       "\n",
       "   Ordered by: cumulative time\n",
       "\n",
       "   ncalls  tottime  percall  cumtime  percall filename:lineno(function)\n",
       "        1    0.000    0.000    0.748    0.748 {built-in method builtins.exec}\n",
       "        1    0.000    0.000    0.748    0.748 <string>:1(<module>)\n",
       "        1    0.000    0.000    0.748    0.748 <ipython-input-64-07d4a7504f4f>:2(Rcf4)\n",
       "        1    0.085    0.085    0.748    0.748 {built-in method builtins.sum}\n",
       "  1000001    0.370    0.000    0.663    0.000 <ipython-input-64-07d4a7504f4f>:18(<genexpr>)\n",
       "  1000001    0.196    0.000    0.196    0.000 <ipython-input-64-07d4a7504f4f>:17(<genexpr>)\n",
       "  1000000    0.097    0.000    0.097    0.000 {built-in method math.exp}\n",
       "        1    0.000    0.000    0.000    0.000 {method 'disable' of '_lsprof.Profiler' objects}"
      ]
     },
     "metadata": {},
     "output_type": "display_data"
    }
   ],
   "source": [
    "%prun -s cumulative Rcf4(0,1,n)"
   ]
  },
  {
   "cell_type": "markdown",
   "metadata": {},
   "source": [
    "## Uso de memoria RAM"
   ]
  },
  {
   "cell_type": "markdown",
   "metadata": {},
   "source": [
    "Al realizar análisis del uso de memoria de tu código podemos responder preguntas como:\n",
    "\n",
    "* ¿Es posible utilizar menos RAM al reescribir mi función para que trabaje más eficientemente?\n",
    "\n",
    "* ¿Podemos usar más RAM para aprovechar mejor el uso del caché?"
   ]
  },
  {
   "cell_type": "markdown",
   "metadata": {},
   "source": [
    "### 1)Uso de `%memit`"
   ]
  },
  {
   "cell_type": "markdown",
   "metadata": {},
   "source": [
    "Es equivalente a `%timeit` en el sentido que realiza una serie de repeticiones para obtener un resultado estable del bloque de código analizado."
   ]
  },
  {
   "cell_type": "code",
   "execution_count": 5,
   "metadata": {},
   "outputs": [],
   "source": [
    "%load_ext memory_profiler"
   ]
  },
  {
   "cell_type": "code",
   "execution_count": 67,
   "metadata": {},
   "outputs": [
    {
     "data": {
      "text/plain": [
       "\u001b[0;31mDocstring:\u001b[0m\n",
       "Measure memory usage of a Python statement\n",
       "\n",
       "Usage, in line mode:\n",
       "  %memit [-r<R>t<T>i<I>] statement\n",
       "\n",
       "Usage, in cell mode:\n",
       "  %%memit [-r<R>t<T>i<I>] setup_code\n",
       "  code...\n",
       "  code...\n",
       "\n",
       "This function can be used both as a line and cell magic:\n",
       "\n",
       "- In line mode you can measure a single-line statement (though multiple\n",
       "  ones can be chained with using semicolons).\n",
       "\n",
       "- In cell mode, the statement in the first line is used as setup code\n",
       "  (executed but not measured) and the body of the cell is measured.\n",
       "  The cell body has access to any variables created in the setup code.\n",
       "\n",
       "Options:\n",
       "-r<R>: repeat the loop iteration <R> times and take the best result.\n",
       "Default: 1\n",
       "\n",
       "-t<T>: timeout after <T> seconds. Default: None\n",
       "\n",
       "-i<I>: Get time information at an interval of I times per second.\n",
       "    Defaults to 0.1 so that there is ten measurements per second.\n",
       "\n",
       "-c: If present, add the memory usage of any children process to the report.\n",
       "\n",
       "-o: If present, return a object containing memit run details\n",
       "\n",
       "-q: If present, be quiet and do not output a result.\n",
       "\n",
       "Examples\n",
       "--------\n",
       "::\n",
       "\n",
       "  In [1]: %memit range(10000)\n",
       "  peak memory: 21.42 MiB, increment: 0.41 MiB\n",
       "\n",
       "  In [2]: %memit range(1000000)\n",
       "  peak memory: 52.10 MiB, increment: 31.08 MiB\n",
       "\n",
       "  In [3]: %%memit l=range(1000000)\n",
       "     ...: len(l)\n",
       "     ...:\n",
       "  peak memory: 52.14 MiB, increment: 0.08 MiB\n",
       "\u001b[0;31mFile:\u001b[0m      ~/.local/lib/python3.6/site-packages/memory_profiler.py\n"
      ]
     },
     "metadata": {},
     "output_type": "display_data"
    }
   ],
   "source": [
    "%memit?"
   ]
  },
  {
   "cell_type": "markdown",
   "metadata": {},
   "source": [
    "Primero medimos cuánto RAM está utilizando el proceso del notebook:"
   ]
  },
  {
   "cell_type": "code",
   "execution_count": 68,
   "metadata": {},
   "outputs": [
    {
     "name": "stdout",
     "output_type": "stream",
     "text": [
      "peak memory: 119.73 MiB, increment: 0.00 MiB\n"
     ]
    }
   ],
   "source": [
    "%memit #how much RAM this process is consuming"
   ]
  },
  {
   "cell_type": "markdown",
   "metadata": {},
   "source": [
    "Y podemos realizar mediciones para cada una de las implementaciones de la regla del rectángulo:"
   ]
  },
  {
   "cell_type": "code",
   "execution_count": 74,
   "metadata": {},
   "outputs": [
    {
     "name": "stdout",
     "output_type": "stream",
     "text": [
      "peak memory: 244.84 MiB, increment: 119.38 MiB\n"
     ]
    }
   ],
   "source": [
    "%memit -c Rcf(f,0,1,n)"
   ]
  },
  {
   "cell_type": "code",
   "execution_count": 75,
   "metadata": {},
   "outputs": [
    {
     "name": "stdout",
     "output_type": "stream",
     "text": [
      "peak memory: 228.70 MiB, increment: 102.99 MiB\n"
     ]
    }
   ],
   "source": [
    "%memit -c Rcf2(f,0,1,n)"
   ]
  },
  {
   "cell_type": "code",
   "execution_count": 76,
   "metadata": {},
   "outputs": [
    {
     "name": "stdout",
     "output_type": "stream",
     "text": [
      "peak memory: 228.77 MiB, increment: 103.05 MiB\n"
     ]
    }
   ],
   "source": [
    "%memit -c Rcf3(f,0,1,10**5)"
   ]
  },
  {
   "cell_type": "code",
   "execution_count": 77,
   "metadata": {},
   "outputs": [
    {
     "name": "stdout",
     "output_type": "stream",
     "text": [
      "peak memory: 228.83 MiB, increment: 103.12 MiB\n"
     ]
    }
   ],
   "source": [
    "%memit -c Rcf4(0,1,10**5)"
   ]
  },
  {
   "cell_type": "code",
   "execution_count": 78,
   "metadata": {},
   "outputs": [
    {
     "name": "stdout",
     "output_type": "stream",
     "text": [
      "peak memory: 228.77 MiB, increment: 103.05 MiB\n"
     ]
    }
   ],
   "source": [
    "%memit -c Rcf5(0,1,10**5)"
   ]
  },
  {
   "cell_type": "markdown",
   "metadata": {},
   "source": [
    "El uso de `generators` nos ayuda a disminuir la cantidad de memoria RAM usada por nuestro proceso."
   ]
  },
  {
   "cell_type": "markdown",
   "metadata": {},
   "source": [
    "### 2) Uso de `memory_profiler`"
   ]
  },
  {
   "cell_type": "markdown",
   "metadata": {},
   "source": [
    "Para medición de memoria línea por línea utilizamos `memory_profiler`. Se ejecuta más lento que `line_profiler` (entre $10$ y $100$ veces más lento!) y mejora su velocidad de ejecución al instalar el paquete `psutil`."
   ]
  },
  {
   "cell_type": "markdown",
   "metadata": {},
   "source": [
    "Con línea de comandos se ejecuta como sigue:"
   ]
  },
  {
   "cell_type": "code",
   "execution_count": 49,
   "metadata": {},
   "outputs": [
    {
     "name": "stdout",
     "output_type": "stream",
     "text": [
      "Writing Rcf_memory_profiler.py\n"
     ]
    }
   ],
   "source": [
    "%%file Rcf_memory_profiler.py\n",
    "import math\n",
    "@profile #esta línea es necesaria para indicar que la siguiente función \n",
    "         #desea perfilarse con memory_profiler\n",
    "def Rcf(f,a,b,n): #Rcf: rectángulo compuesto para f\n",
    "    \"\"\"\n",
    "    Compute numerical approximation using rectangle or mid-point method in \n",
    "    an interval.\n",
    "    Nodes are generated via formula: x_i = a+(i+1/2)h_hat for i=0,1,...,n and h_hat=(b-a)/n\n",
    "    Args:\n",
    "        f (lambda expression): lambda expression of integrand\n",
    "        a (int): left point of interval\n",
    "        b (int): right point of interval\n",
    "        n (int): number of subintervals\n",
    "    Returns:\n",
    "        Rcf (float) \n",
    "    \"\"\"\n",
    "    h_hat=(b-a)/n\n",
    "    nodes=[a+(i+1/2)*h_hat for i in range(0,n)]\n",
    "    sum_res=0\n",
    "    for node in nodes:\n",
    "        sum_res=sum_res+f(node)\n",
    "    return h_hat*sum_res\n",
    "if __name__==\"__main__\": #añadimos este bloque para ejecución de la función Rcf\n",
    "        n=10**6\n",
    "        f=lambda x: math.exp(-x**2)\n",
    "        print(\"aproximación: {:0.6e}\".format(Rcf(f,0,1,n)))"
   ]
  },
  {
   "cell_type": "markdown",
   "metadata": {},
   "source": [
    "En el output siguiente se observa que la línea que más incrementa la cantidad de RAM alojada para el proceso que contiene la ejecución de la función `Rcf` es la creación de la lista de nodos `nodes=[a+(i+1/2)*h_hat for i in range(0,n)]`. **Cuidado:** el valor de la columna `Increment` para esta línea no necesariamente indica que la lista `nodes` ocupa en memoria $512 MB$'s, sólo que para la alocación de la lista el proceso creció en $512 MB$'s\n",
    "\n",
    "**Nota:** en el output aparece $MiB$ que son mebibytes. Aunque no se cumple que un mebibyte sea igual a un megabyte, se toma en este comentario como megabytes pues la diferencia entre estas unidades es sutil."
   ]
  },
  {
   "cell_type": "code",
   "execution_count": 50,
   "metadata": {},
   "outputs": [
    {
     "name": "stdout",
     "output_type": "stream",
     "text": [
      "aproximación: 7.468241e-01\n",
      "Filename: Rcf_memory_profiler.py\n",
      "\n",
      "Line #    Mem usage    Increment   Line Contents\n",
      "================================================\n",
      "     2   37.750 MiB   37.750 MiB   @profile #esta línea es necesaria para indicar que la siguiente función \n",
      "     3                                      #desea perfilarse con memory_profiler\n",
      "     4                             def Rcf(f,a,b,n): #Rcf: rectángulo compuesto para f\n",
      "     5                                 \"\"\"\n",
      "     6                                 Compute numerical approximation using rectangle or mid-point method in \n",
      "     7                                 an interval.\n",
      "     8                                 Nodes are generated via formula: x_i = a+(i+1/2)h_hat for i=0,1,...,n and h_hat=(b-a)/n\n",
      "     9                                 Args:\n",
      "    10                                     f (lambda expression): lambda expression of integrand\n",
      "    11                                     a (int): left point of interval\n",
      "    12                                     b (int): right point of interval\n",
      "    13                                     n (int): number of subintervals\n",
      "    14                                 Returns:\n",
      "    15                                     Rcf (float) \n",
      "    16                                 \"\"\"\n",
      "    17   37.750 MiB    0.000 MiB       h_hat=(b-a)/n\n",
      "    18   69.012 MiB    0.512 MiB       nodes=[a+(i+1/2)*h_hat for i in range(0,n)]\n",
      "    19   69.012 MiB    0.000 MiB       sum_res=0\n",
      "    20   69.012 MiB    0.000 MiB       for node in nodes:\n",
      "    21   69.012 MiB    0.000 MiB           sum_res=sum_res+f(node)\n",
      "    22   69.012 MiB    0.000 MiB       return h_hat*sum_res\n",
      "\n",
      "\n"
     ]
    }
   ],
   "source": [
    "%%bash\n",
    "python3 -m memory_profiler Rcf_memory_profiler.py"
   ]
  },
  {
   "cell_type": "markdown",
   "metadata": {},
   "source": [
    "Como ya se había notado, los generators ahorran memoria:"
   ]
  },
  {
   "cell_type": "code",
   "execution_count": 51,
   "metadata": {},
   "outputs": [
    {
     "name": "stdout",
     "output_type": "stream",
     "text": [
      "Writing Rcf3_memory_profiler.py\n"
     ]
    }
   ],
   "source": [
    "%%file Rcf3_memory_profiler.py\n",
    "import math\n",
    "@profile #esta línea es necesaria para indicar que la siguiente función \n",
    "         #desea perfilarse con memory_profiler\n",
    "def Rcf3(f,a,b,n):\n",
    "    \"\"\"\n",
    "    Compute numerical approximation using rectangle or mid-point method in \n",
    "    an interval.\n",
    "    Nodes are generated via formula: x_i = a+(b-a)/n*i for i=0,1,...,n\n",
    "    Args:\n",
    "        f (lambda expression): lambda expression of integrand\n",
    "        a (int): left point of interval\n",
    "        b (int): right point of interval\n",
    "        n (int): number of subintervals\n",
    "    Returns:\n",
    "        Rcf3 (float) \n",
    "    \"\"\"\n",
    "    h_hat=(b-a)/n\n",
    "    nodes=(a+(i+1/2)*h_hat for i in range(0,n))\n",
    "    suma_res = sum((f(node) for node in nodes))\n",
    "    return h_hat*suma_res\n",
    "if __name__==\"__main__\": #añadimos este bloque para ejecución de la función Rcf3\n",
    "        n=10**6\n",
    "        f=lambda x: math.exp(-x**2)\n",
    "        print(\"aproximación: {:0.6e}\".format(Rcf3(f,0,1,n)))"
   ]
  },
  {
   "cell_type": "markdown",
   "metadata": {},
   "source": [
    "En el output siguiente el proceso que involucra la ejecución de la función `Rcf3` no incrementa el uso de memoria RAM por el uso de generators:"
   ]
  },
  {
   "cell_type": "code",
   "execution_count": 52,
   "metadata": {},
   "outputs": [
    {
     "name": "stdout",
     "output_type": "stream",
     "text": [
      "aproximación: 7.468241e-01\n",
      "Filename: Rcf3_memory_profiler.py\n",
      "\n",
      "Line #    Mem usage    Increment   Line Contents\n",
      "================================================\n",
      "     2   37.590 MiB   37.590 MiB   @profile #esta línea es necesaria para indicar que la siguiente función \n",
      "     3                                      #desea perfilarse con memory_profiler\n",
      "     4                             def Rcf3(f,a,b,n):\n",
      "     5                                 \"\"\"\n",
      "     6                                 Compute numerical approximation using rectangle or mid-point method in \n",
      "     7                                 an interval.\n",
      "     8                                 Nodes are generated via formula: x_i = a+(b-a)/n*i for i=0,1,...,n\n",
      "     9                                 Args:\n",
      "    10                                     f (lambda expression): lambda expression of integrand\n",
      "    11                                     a (int): left point of interval\n",
      "    12                                     b (int): right point of interval\n",
      "    13                                     n (int): number of subintervals\n",
      "    14                                 Returns:\n",
      "    15                                     Rcf3 (float) \n",
      "    16                                 \"\"\"\n",
      "    17   37.590 MiB    0.000 MiB       h_hat=(b-a)/n\n",
      "    18   37.590 MiB    0.000 MiB       nodes=(a+(i+1/2)*h_hat for i in range(0,n))\n",
      "    19   37.590 MiB    0.000 MiB       suma_res = sum((f(node) for node in nodes))\n",
      "    20   37.590 MiB    0.000 MiB       return h_hat*suma_res\n",
      "\n",
      "\n"
     ]
    }
   ],
   "source": [
    "%%bash\n",
    "python3 -m memory_profiler Rcf3_memory_profiler.py"
   ]
  },
  {
   "cell_type": "markdown",
   "metadata": {},
   "source": [
    "## 3) Uso de heapy"
   ]
  },
  {
   "cell_type": "markdown",
   "metadata": {},
   "source": [
    "Con `heapy` podemos revisar el número y tamaño de cada objeto que está en el heap de Python (ver [liga](https://docs.python.org/3/c-api/memory.html) y [liga2](https://stackoverflow.com/questions/14546178/does-python-have-a-stack-heap-and-how-is-memory-managed) para memory management). También ayuda a encontrar **memory leaks** que ocurren si apuntamos a un objeto al que ya no deberíamos estar apuntando... ver [liga3](https://en.wikipedia.org/wiki/Memory_leak) para saber qué son las memory leaks."
   ]
  },
  {
   "cell_type": "code",
   "execution_count": 53,
   "metadata": {},
   "outputs": [],
   "source": [
    "import math\n",
    "from guppy import hpy\n",
    "def Rcf(f,a,b,n): #Rcf: rectángulo compuesto para f\n",
    "    \"\"\"\n",
    "    Compute numerical approximation using rectangle or mid-point method in \n",
    "    an interval.\n",
    "    Nodes are generated via formula: x_i = a+(i+1/2)h_hat for i=0,1,...,n and h_hat=(b-a)/n\n",
    "    Args:\n",
    "        f (lambda expression): lambda expression of integrand\n",
    "        a (int): left point of interval\n",
    "        b (int): right point of interval\n",
    "        n (int): number of subintervals\n",
    "    Returns:\n",
    "        Rcf (float) \n",
    "    \"\"\"\n",
    "    hp=hpy()\n",
    "    h_hat=(b-a)/n\n",
    "    h=hp.heap()\n",
    "    print(\"beginning of Rcf\")\n",
    "    print(h)\n",
    "    nodes=[a+(i+1/2)*h_hat for i in range(0,n)]\n",
    "    h=hp.heap()\n",
    "    print(\"After creating list\")\n",
    "    print(h)\n",
    "    sum_res=0\n",
    "    for node in nodes:\n",
    "        sum_res=sum_res+f(node)\n",
    "    h=hp.heap()\n",
    "    print(\"After loop\")\n",
    "    print(h)\n",
    "    return h_hat*sum_res\n"
   ]
  },
  {
   "cell_type": "code",
   "execution_count": 54,
   "metadata": {},
   "outputs": [
    {
     "name": "stdout",
     "output_type": "stream",
     "text": [
      "beginning of Rcf\n",
      "Partition of a set of 451943 objects. Total size = 56178528 bytes.\n",
      " Index  Count   %     Size   % Cumulative  % Kind (class / dict of class)\n",
      "     0 126625  28 17314268  31  17314268  31 str\n",
      "     1 123042  27  9506096  17  26820364  48 tuple\n",
      "     2  54023  12  4265424   8  31085788  55 bytes\n",
      "     3  27255   6  3942936   7  35028724  62 types.CodeType\n",
      "     4  25720   6  3497920   6  38526644  69 function\n",
      "     5   3155   1  3112744   6  41639388  74 type\n",
      "     6   6822   2  2831432   5  44470820  79 dict (no owner)\n",
      "     7   1244   0  1935072   3  46405892  83 dict of module\n",
      "     8   3155   1  1578376   3  47984268  85 dict of type\n",
      "     9   2286   1   846912   2  48831180  87 set\n",
      "<1047 more rows. Type e.g. '_.more' to view.>\n",
      "After creating list\n",
      "Partition of a set of 1451953 objects. Total size = 88876740 bytes.\n",
      " Index  Count   %     Size   % Cumulative  % Kind (class / dict of class)\n",
      "     0 1013609  70 24326616  27  24326616  27 float\n",
      "     1 126625   9 17314268  19  41640884  47 str\n",
      "     2   6796   0  9541384  11  51182268  58 list\n",
      "     3 123043   8  9506152  11  60688420  68 tuple\n",
      "     4  54023   4  4265424   5  64953844  73 bytes\n",
      "     5  27255   2  3942936   4  68896780  78 types.CodeType\n",
      "     6  25720   2  3497920   4  72394700  81 function\n",
      "     7   3155   0  3112744   4  75507444  85 type\n",
      "     8   6823   0  2831672   3  78339116  88 dict (no owner)\n",
      "     9   1244   0  1935072   2  80274188  90 dict of module\n",
      "<1048 more rows. Type e.g. '_.more' to view.>\n",
      "After loop\n",
      "Partition of a set of 1451947 objects. Total size = 88876124 bytes.\n",
      " Index  Count   %     Size   % Cumulative  % Kind (class / dict of class)\n",
      "     0 1013609  70 24326616  27  24326616  27 float\n",
      "     1 126625   9 17314268  19  41640884  47 str\n",
      "     2   6796   0  9541384  11  51182268  58 list\n",
      "     3 123042   8  9506096  11  60688364  68 tuple\n",
      "     4  54023   4  4265424   5  64953788  73 bytes\n",
      "     5  27255   2  3942936   4  68896724  78 types.CodeType\n",
      "     6  25720   2  3497920   4  72394644  81 function\n",
      "     7   3155   0  3112744   4  75507388  85 type\n",
      "     8   6822   0  2831432   3  78338820  88 dict (no owner)\n",
      "     9   1244   0  1935072   2  80273892  90 dict of module\n",
      "<1047 more rows. Type e.g. '_.more' to view.>\n"
     ]
    },
    {
     "data": {
      "text/plain": [
       "0.7468241328124773"
      ]
     },
     "execution_count": 54,
     "metadata": {},
     "output_type": "execute_result"
    }
   ],
   "source": [
    "Rcf(f,0,1,n)"
   ]
  },
  {
   "cell_type": "code",
   "execution_count": 55,
   "metadata": {},
   "outputs": [],
   "source": [
    "import math\n",
    "from guppy import hpy\n",
    "def Rcf3(f,a,b,n):\n",
    "    \"\"\"\n",
    "    Compute numerical approximation using rectangle or mid-point method in \n",
    "    an interval.\n",
    "    Nodes are generated via formula: x_i = a+(b-a)/n*i for i=0,1,...,n\n",
    "    Args:\n",
    "        f (lambda expression): lambda expression of integrand\n",
    "        a (int): left point of interval\n",
    "        b (int): right point of interval\n",
    "        n (int): number of subintervals\n",
    "    Returns:\n",
    "        Rcf3 (float) \n",
    "    \"\"\"\n",
    "    hp=hpy()\n",
    "    h_hat=(b-a)/n\n",
    "    h=hp.heap()\n",
    "    print(\"beginning of Rcf3\")\n",
    "    print(h)\n",
    "    nodes=(a+(i+1/2)*h_hat for i in range(0,n))\n",
    "    h=hp.heap()\n",
    "    print(\"After creating generator\")\n",
    "    print(h)\n",
    "    suma_res = sum((f(node) for node in nodes))\n",
    "    h=hp.heap()\n",
    "    print(\"After loop\")\n",
    "    print(h)\n",
    "    return h_hat*suma_res"
   ]
  },
  {
   "cell_type": "code",
   "execution_count": 56,
   "metadata": {},
   "outputs": [
    {
     "name": "stdout",
     "output_type": "stream",
     "text": [
      "beginning of Rcf3\n",
      "Partition of a set of 451930 objects. Total size = 56178992 bytes.\n",
      " Index  Count   %     Size   % Cumulative  % Kind (class / dict of class)\n",
      "     0 126664  28 17317847  31  17317847  31 str\n",
      "     1 123040  27  9506016  17  26823863  48 tuple\n",
      "     2  54025  12  4265717   8  31089580  55 bytes\n",
      "     3  27255   6  3942936   7  35032516  62 types.CodeType\n",
      "     4  25716   6  3497376   6  38529892  69 function\n",
      "     5   3155   1  3112744   6  41642636  74 type\n",
      "     6   6819   2  2830712   5  44473348  79 dict (no owner)\n",
      "     7   1244   0  1935072   3  46408420  83 dict of module\n",
      "     8   3155   1  1578376   3  47986796  85 dict of type\n",
      "     9   2286   1   846912   2  48833708  87 set\n",
      "<1047 more rows. Type e.g. '_.more' to view.>\n",
      "After creating generator\n",
      "Partition of a set of 451952 objects. Total size = 56180784 bytes.\n",
      " Index  Count   %     Size   % Cumulative  % Kind (class / dict of class)\n",
      "     0 126664  28 17317847  31  17317847  31 str\n",
      "     1 123041  27  9506072  17  26823919  48 tuple\n",
      "     2  54025  12  4265717   8  31089636  55 bytes\n",
      "     3  27255   6  3942936   7  35032572  62 types.CodeType\n",
      "     4  25716   6  3497376   6  38529948  69 function\n",
      "     5   3155   1  3112744   6  41642692  74 type\n",
      "     6   6820   2  2830952   5  44473644  79 dict (no owner)\n",
      "     7   1244   0  1935072   3  46408716  83 dict of module\n",
      "     8   3155   1  1578376   3  47987092  85 dict of type\n",
      "     9   2286   1   846912   2  48834004  87 set\n",
      "<1049 more rows. Type e.g. '_.more' to view.>\n",
      "After loop\n",
      "Partition of a set of 451944 objects. Total size = 56179648 bytes.\n",
      " Index  Count   %     Size   % Cumulative  % Kind (class / dict of class)\n",
      "     0 126664  28 17317847  31  17317847  31 str\n",
      "     1 123040  27  9506016  17  26823863  48 tuple\n",
      "     2  54025  12  4265717   8  31089580  55 bytes\n",
      "     3  27255   6  3942936   7  35032516  62 types.CodeType\n",
      "     4  25716   6  3497376   6  38529892  69 function\n",
      "     5   3155   1  3112744   6  41642636  74 type\n",
      "     6   6819   2  2830712   5  44473348  79 dict (no owner)\n",
      "     7   1244   0  1935072   3  46408420  83 dict of module\n",
      "     8   3155   1  1578376   3  47986796  85 dict of type\n",
      "     9   2286   1   846912   2  48833708  87 set\n",
      "<1047 more rows. Type e.g. '_.more' to view.>\n"
     ]
    },
    {
     "data": {
      "text/plain": [
       "0.7468241328124773"
      ]
     },
     "execution_count": 56,
     "metadata": {},
     "output_type": "execute_result"
    }
   ],
   "source": [
    "Rcf3(f,0,1,n)"
   ]
  },
  {
   "cell_type": "markdown",
   "metadata": {},
   "source": [
    "Como ya se había revisado el uso de generators ayuda a disminuir el consumo de memoria, manteniendo la eficiencia."
   ]
  },
  {
   "cell_type": "markdown",
   "metadata": {},
   "source": [
    "**Ejercicios**\n",
    "\n",
    "1. Realiza el análisis con las herramientas revisadas en esta nota para las reglas del trapecio y de Simpson de  la nota [1.5.Integracion_numerica](https://github.com/ITAM-DS/analisis-numerico-computo-cientifico/blob/master/temas/I.computo_cientifico/1.5.Integracion_numerica.ipynb).\n"
   ]
  },
  {
   "cell_type": "markdown",
   "metadata": {},
   "source": [
    "# PERFILAMIENTO DE LA REGLA DE SIMPSON"
   ]
  },
  {
   "cell_type": "code",
   "execution_count": 1,
   "metadata": {},
   "outputs": [],
   "source": [
    "import numpy as np\n",
    "from scipy.integrate import quad\n",
    "import time\n",
    "import pstats"
   ]
  },
  {
   "cell_type": "code",
   "execution_count": 2,
   "metadata": {},
   "outputs": [],
   "source": [
    "f=lambda x: np.exp(-x**2) #función para aproximar su integral"
   ]
  },
  {
   "cell_type": "markdown",
   "metadata": {},
   "source": [
    "**Opción 1 (como quedó en la tarea de la nota 5)**"
   ]
  },
  {
   "cell_type": "code",
   "execution_count": 3,
   "metadata": {},
   "outputs": [],
   "source": [
    "def Scf(n,f,a,b): #Scf: Simpson compuesto para f\n",
    "    \"\"\"\n",
    "    Compute numerical approximation using composed Simpson rule in \n",
    "    an interval.\n",
    "    Nodes are generated via numpy\n",
    "    Args:\n",
    "        f (lambda expression): lambda expression of integrand\n",
    "        a (int): left point of interval\n",
    "        b (int): right point of interval\n",
    "        n (int): number of subintervals\n",
    "    Returns:\n",
    "        Scf (float) \n",
    "    \"\"\"\n",
    "    h=b-a\n",
    "    nodes=np.linspace(a,b,n+1) \n",
    "    sum_res_par=sum(f(nodes[1:-1][1::2])) \n",
    "    sum_res_impar=sum(f(nodes[1:-1][::2])) \n",
    "    return h/(3*n)*(f(nodes[0])+f(nodes[-1])+2*sum_res_par+4*sum_res_impar)"
   ]
  },
  {
   "cell_type": "code",
   "execution_count": 4,
   "metadata": {},
   "outputs": [],
   "source": [
    "n=10**6 #número de subintervalos"
   ]
  },
  {
   "cell_type": "code",
   "execution_count": 5,
   "metadata": {},
   "outputs": [],
   "source": [
    "def err_relativo(aprox, obj):\n",
    "    return np.abs(aprox-obj)/np.abs(obj) #función para calcular el error relativo entre la aproximación y el objetivo"
   ]
  },
  {
   "cell_type": "markdown",
   "metadata": {},
   "source": [
    "# Medición de tiempo"
   ]
  },
  {
   "cell_type": "markdown",
   "metadata": {},
   "source": [
    "## 1) Uso de time"
   ]
  },
  {
   "cell_type": "code",
   "execution_count": 10,
   "metadata": {},
   "outputs": [],
   "source": [
    "start_time = time.time()\n",
    "approx = Scf(n,f,0,1)\n",
    "end_time = time.time()"
   ]
  },
  {
   "cell_type": "code",
   "execution_count": 11,
   "metadata": {},
   "outputs": [
    {
     "name": "stdout",
     "output_type": "stream",
     "text": [
      "Scf tomó 0.1523885726928711 segundos con paquete time\n"
     ]
    }
   ],
   "source": [
    "secs = end_time-start_time\n",
    "print(\"Scf tomó\",secs,\"segundos con paquete time\" )"
   ]
  },
  {
   "cell_type": "code",
   "execution_count": 12,
   "metadata": {},
   "outputs": [
    {
     "data": {
      "text/plain": [
       "6.392347001308277e-15"
      ]
     },
     "execution_count": 12,
     "metadata": {},
     "output_type": "execute_result"
    }
   ],
   "source": [
    "obj, err = quad(f, 0, 1)\n",
    "err_relativo(approx,obj) #error relativo"
   ]
  },
  {
   "cell_type": "markdown",
   "metadata": {},
   "source": [
    "## 2) Uso de /usr/bin/time de Unix¶"
   ]
  },
  {
   "cell_type": "code",
   "execution_count": 6,
   "metadata": {},
   "outputs": [
    {
     "name": "stdout",
     "output_type": "stream",
     "text": [
      "Writing Scf.py\n"
     ]
    }
   ],
   "source": [
    "%%file Scf.py\n",
    "import numpy as np\n",
    "def Scf(n,f,a,b): #Scf: Simpson compuesto para f\n",
    "    \"\"\"\n",
    "    Compute numerical approximation using composed Simpson rule in \n",
    "    an interval.\n",
    "    Nodes are generated via numpy\n",
    "    Args:\n",
    "        f (lambda expression): lambda expression of integrand\n",
    "        a (int): left point of interval\n",
    "        b (int): right point of interval\n",
    "        n (int): number of subintervals\n",
    "    Returns:\n",
    "        Scf (float) \n",
    "    \"\"\"\n",
    "    h=b-a\n",
    "    nodes=np.linspace(a,b,n+1) \n",
    "    sum_res_par=sum(f(nodes[1:-1][1::2])) \n",
    "    sum_res_impar=sum(f(nodes[1:-1][::2])) \n",
    "    return h/(3*n)*(f(nodes[0])+f(nodes[-1])+2*sum_res_par+4*sum_res_impar)\n",
    "if __name__==\"__main__\": #añadimos este bloque para ejecución de la función Scf\n",
    "        n=10**6\n",
    "        f=lambda x: np.exp(-x**2)\n",
    "        print(\"aproximación: {:0.6e}\".format(Scf(n,f,0,1)))"
   ]
  },
  {
   "cell_type": "code",
   "execution_count": 14,
   "metadata": {},
   "outputs": [
    {
     "name": "stdout",
     "output_type": "stream",
     "text": [
      "Reading package lists...\n",
      "Building dependency tree...\n",
      "Reading state information...\n",
      "The following NEW packages will be installed:\n",
      "  time\n",
      "0 upgraded, 1 newly installed, 0 to remove and 26 not upgraded.\n",
      "Need to get 26.2 kB of archives.\n",
      "After this operation, 79.9 kB of additional disk space will be used.\n",
      "Get:1 http://archive.ubuntu.com/ubuntu bionic/main amd64 time amd64 1.7-25.1build1 [26.2 kB]\n",
      "Fetched 26.2 kB in 0s (923 kB/s)\n",
      "Selecting previously unselected package time.\n",
      "(Reading database ... 18521 files and directories currently installed.)\n",
      "Preparing to unpack .../time_1.7-25.1build1_amd64.deb ...\n",
      "Unpacking time (1.7-25.1build1) ...\n",
      "Setting up time (1.7-25.1build1) ...\n"
     ]
    },
    {
     "name": "stderr",
     "output_type": "stream",
     "text": [
      "debconf: delaying package configuration, since apt-utils is not installed\n"
     ]
    }
   ],
   "source": [
    "%%bash\n",
    "sudo apt-get install time"
   ]
  },
  {
   "cell_type": "code",
   "execution_count": 15,
   "metadata": {},
   "outputs": [
    {
     "name": "stdout",
     "output_type": "stream",
     "text": [
      "aproximación: 7.468241e-01\n"
     ]
    },
    {
     "name": "stderr",
     "output_type": "stream",
     "text": [
      "real 0.52\n",
      "user 0.33\n",
      "sys 0.17\n"
     ]
    }
   ],
   "source": [
    "%%bash\n",
    "/usr/bin/time -p python3 Scf.py "
   ]
  },
  {
   "cell_type": "markdown",
   "metadata": {},
   "source": [
    "Tiempo que gastó en la CPU=user+sys≈0.50 segundos con /usr/bin/time de Unix¶"
   ]
  },
  {
   "cell_type": "markdown",
   "metadata": {},
   "source": [
    "## 3) Uso de %timeit"
   ]
  },
  {
   "cell_type": "code",
   "execution_count": 16,
   "metadata": {},
   "outputs": [
    {
     "name": "stdout",
     "output_type": "stream",
     "text": [
      "144 ms ± 6.14 ms per loop (mean ± std. dev. of 20 runs, 5 loops each)\n"
     ]
    }
   ],
   "source": [
    "%timeit -n 5 -r 20 Scf(n,f,0,1) #loop de tamaño 5 repetido 20 veces"
   ]
  },
  {
   "cell_type": "markdown",
   "metadata": {},
   "source": [
    "Con 20 repeticiones observamos que la medición es más estable y tarda aproximadamente .14 segundos con %timeit"
   ]
  },
  {
   "cell_type": "markdown",
   "metadata": {},
   "source": [
    "# Medición de uso de CPU"
   ]
  },
  {
   "cell_type": "markdown",
   "metadata": {},
   "source": [
    "## 1) Uso de cProfile"
   ]
  },
  {
   "cell_type": "code",
   "execution_count": 40,
   "metadata": {},
   "outputs": [
    {
     "name": "stdout",
     "output_type": "stream",
     "text": [
      "aproximación: 7.468241e-01\n",
      "         86113 function calls (82915 primitive calls) in 0.572 seconds\n",
      "\n",
      "   Ordered by: cumulative time\n",
      "\n",
      "   ncalls  tottime  percall  cumtime  percall filename:lineno(function)\n",
      "    463/1    0.005    0.000    0.573    0.573 {built-in method builtins.exec}\n",
      "        1    0.000    0.000    0.573    0.573 Scf.py:1(<module>)\n",
      "        1    0.001    0.001    0.311    0.311 Scf.py:2(Scf)\n",
      "    177/1    0.001    0.000    0.261    0.261 <frozen importlib._bootstrap>:966(_find_and_load)\n",
      "    177/1    0.001    0.000    0.261    0.261 <frozen importlib._bootstrap>:936(_find_and_load_unlocked)\n",
      "    169/1    0.001    0.000    0.260    0.260 <frozen importlib._bootstrap>:651(_load_unlocked)\n",
      "    133/1    0.000    0.000    0.260    0.260 <frozen importlib._bootstrap_external>:672(exec_module)\n",
      "    253/1    0.000    0.000    0.260    0.260 <frozen importlib._bootstrap>:211(_call_with_frames_removed)\n",
      "        1    0.000    0.000    0.260    0.260 __init__.py:106(<module>)\n",
      "   905/72    0.001    0.000    0.241    0.003 <frozen importlib._bootstrap>:997(_handle_fromlist)\n",
      "   321/12    0.001    0.000    0.241    0.020 {built-in method builtins.__import__}\n",
      "        2    0.000    0.000    0.175    0.088 __init__.py:7(<module>)\n",
      "      6/3    0.000    0.000    0.153    0.051 {built-in method numpy.core._multiarray_umath.implement_array_function}\n",
      "        1    0.000    0.000    0.153    0.153 <__array_function__ internals>:2(linspace)\n",
      "        1    0.002    0.002    0.153    0.153 function_base.py:26(linspace)\n",
      "        1    0.150    0.150    0.150    0.150 {built-in method numpy.arange}\n",
      "        2    0.127    0.063    0.127    0.063 {built-in method builtins.sum}\n",
      "      316    0.001    0.000    0.090    0.000 overrides.py:166(decorator)\n",
      "      316    0.084    0.000    0.084    0.000 {built-in method builtins.compile}\n",
      "        2    0.000    0.000    0.076    0.038 function_base.py:1(<module>)\n",
      "      133    0.001    0.000    0.072    0.001 <frozen importlib._bootstrap_external>:743(get_code)\n",
      "      133    0.003    0.000    0.046    0.000 <frozen importlib._bootstrap_external>:830(get_data)\n",
      "      133    0.043    0.000    0.043    0.000 {method 'read' of '_io.FileIO' objects}\n",
      "        1    0.000    0.000    0.041    0.041 __init__.py:13(<module>)\n",
      "        4    0.031    0.008    0.031    0.008 Scf.py:22(<lambda>)\n",
      "  169/166    0.000    0.000    0.029    0.000 <frozen importlib._bootstrap>:564(module_from_spec)\n",
      "       19    0.000    0.000    0.025    0.001 <frozen importlib._bootstrap_external>:919(create_module)\n",
      "       19    0.022    0.001    0.025    0.001 {built-in method _imp.create_dynamic}\n",
      "        1    0.000    0.000    0.021    0.021 _internal.py:6(<module>)\n",
      "        1    0.000    0.000    0.021    0.021 multiarray.py:7(<module>)\n",
      "        1    0.000    0.000    0.019    0.019 platform.py:10(<module>)\n",
      "        1    0.000    0.000    0.019    0.019 __init__.py:124(<module>)\n",
      "        1    0.000    0.000    0.019    0.019 overrides.py:1(<module>)\n",
      "      133    0.000    0.000    0.019    0.000 <frozen importlib._bootstrap_external>:485(_compile_bytecode)\n",
      "        1    0.000    0.000    0.019    0.019 _pickle.py:1(<module>)\n",
      "      133    0.018    0.000    0.018    0.000 {built-in method marshal.loads}\n",
      "      174    0.001    0.000    0.015    0.000 <frozen importlib._bootstrap>:870(_find_spec)\n",
      "    19/14    0.000    0.000    0.014    0.001 <frozen importlib._bootstrap_external>:927(exec_module)\n",
      "        1    0.000    0.000    0.014    0.014 index_tricks.py:1(<module>)\n",
      "    19/14    0.002    0.000    0.014    0.001 {built-in method _imp.exec_dynamic}\n",
      "        1    0.000    0.000    0.013    0.013 __init__.py:45(<module>)\n",
      "      157    0.000    0.000    0.013    0.000 <frozen importlib._bootstrap_external>:1149(find_spec)\n",
      "      157    0.001    0.000    0.013    0.000 <frozen importlib._bootstrap_external>:1117(_get_spec)\n",
      "      142    0.000    0.000    0.012    0.000 re.py:286(_compile)\n",
      "       31    0.000    0.000    0.011    0.000 re.py:231(compile)\n",
      "       33    0.000    0.000    0.011    0.000 sre_compile.py:557(compile)\n",
      "      282    0.002    0.000    0.011    0.000 <frozen importlib._bootstrap_external>:1233(find_spec)\n",
      "        1    0.000    0.000    0.011    0.011 subprocess.py:42(<module>)\n",
      "  339/336    0.006    0.000    0.011    0.000 {built-in method builtins.__build_class__}\n",
      "        1    0.000    0.000    0.010    0.010 numeric.py:1(<module>)\n",
      "        1    0.000    0.000    0.009    0.009 __init__.py:10(<module>)\n",
      "        1    0.000    0.000    0.009    0.009 npyio.py:1(<module>)\n",
      "        1    0.000    0.000    0.008    0.008 py3k.py:12(<module>)\n",
      "        1    0.000    0.000    0.007    0.007 __init__.py:3(<module>)\n",
      "        1    0.000    0.000    0.007    0.007 __init__.py:15(<module>)\n",
      "        1    0.000    0.000    0.007    0.007 secrets.py:7(<module>)\n",
      "        1    0.000    0.000    0.007    0.007 defmatrix.py:1(<module>)\n",
      "        2    0.000    0.000    0.006    0.003 shape_base.py:1(<module>)\n",
      "       13    0.000    0.000    0.006    0.000 __init__.py:357(namedtuple)\n",
      "        1    0.000    0.000    0.006    0.006 _add_newdocs.py:10(<module>)\n",
      "        1    0.000    0.000    0.006    0.006 __init__.py:41(<module>)\n",
      "       33    0.000    0.000    0.006    0.000 sre_compile.py:542(_code)\n",
      "        1    0.000    0.000    0.006    0.006 case.py:1(<module>)\n",
      "      630    0.000    0.000    0.006    0.000 <frozen importlib._bootstrap_external>:75(_path_stat)\n",
      "      273    0.001    0.000    0.006    0.000 function_base.py:460(add_newdoc)\n",
      "        1    0.000    0.000    0.005    0.005 __init__.py:71(<module>)\n",
      "        1    0.000    0.000    0.005    0.005 _dtype_ctypes.py:24(<module>)\n",
      "        1    0.000    0.000    0.005    0.005 _datasource.py:36(<module>)\n",
      "   215/33    0.001    0.000    0.005    0.000 sre_compile.py:64(_compile)\n",
      "      630    0.005    0.000    0.005    0.000 {built-in method posix.stat}\n",
      "        1    0.000    0.000    0.005    0.005 threading.py:1(<module>)\n",
      "       33    0.000    0.000    0.005    0.000 sre_parse.py:844(parse)\n",
      "        1    0.000    0.000    0.005    0.005 pathlib.py:1(<module>)\n",
      "        1    0.000    0.000    0.005    0.005 shutil.py:5(<module>)\n",
      "    98/33    0.000    0.000    0.004    0.000 sre_parse.py:407(_parse_sub)\n",
      "        1    0.000    0.000    0.004    0.004 linalg.py:10(<module>)\n",
      "        1    0.000    0.000    0.004    0.004 hmac.py:4(<module>)\n",
      "   106/35    0.002    0.000    0.004    0.000 sre_parse.py:470(_parse)\n",
      "        1    0.000    0.000    0.004    0.004 traceback.py:1(<module>)\n",
      "        1    0.000    0.000    0.004    0.004 hashlib.py:54(<module>)\n",
      "        1    0.000    0.000    0.004    0.004 fromnumeric.py:3(<module>)\n",
      "      133    0.003    0.000    0.003    0.000 <frozen importlib._bootstrap_external>:430(_validate_bytecode_header)\n",
      "      286    0.001    0.000    0.003    0.000 overrides.py:72(verify_matching_signatures)\n",
      "      169    0.001    0.000    0.003    0.000 <frozen importlib._bootstrap>:504(_init_module_attrs)\n",
      "        1    0.000    0.000    0.003    0.003 linecache.py:6(<module>)\n",
      "        3    0.000    0.000    0.003    0.001 __init__.py:1(<module>)\n",
      "     1857    0.001    0.000    0.003    0.000 enum.py:267(__call__)\n",
      "        1    0.000    0.000    0.003    0.003 financial.py:12(<module>)\n",
      "        1    0.000    0.000    0.003    0.003 __init__.py:192(<module>)\n",
      "        1    0.000    0.000    0.003    0.003 main.py:1(<module>)\n",
      "        1    0.000    0.000    0.003    0.003 numerictypes.py:81(<module>)\n",
      "     1483    0.001    0.000    0.003    0.000 <frozen importlib._bootstrap_external>:57(_path_join)\n",
      "        1    0.000    0.000    0.003    0.003 defchararray.py:17(<module>)\n",
      "        1    0.000    0.000    0.003    0.003 scimath.py:17(<module>)\n",
      "      839    0.001    0.000    0.002    0.000 enum.py:803(__and__)\n",
      "        1    0.000    0.000    0.002    0.002 tokenize.py:21(<module>)\n",
      "      616    0.000    0.000    0.002    0.000 _inspect.py:98(getargspec)\n",
      "      215    0.000    0.000    0.002    0.000 <frozen importlib._bootstrap_external>:85(_path_is_mode_type)\n",
      "      200    0.000    0.000    0.002    0.000 <frozen importlib._bootstrap_external>:94(_path_isfile)\n",
      "        1    0.000    0.000    0.002    0.002 core.py:21(<module>)\n",
      "        1    0.000    0.000    0.002    0.002 __init__.py:24(<module>)\n",
      "      310    0.000    0.000    0.002    0.000 <frozen importlib._bootstrap>:194(_lock_unlock_module)\n",
      "      266    0.001    0.000    0.002    0.000 <frozen importlib._bootstrap_external>:263(cache_from_source)\n",
      "        1    0.000    0.000    0.002    0.002 polynomial.py:57(<module>)\n",
      "        1    0.000    0.000    0.002    0.002 signal.py:1(<module>)\n",
      "      285    0.000    0.000    0.002    0.000 <frozen importlib._bootstrap>:403(cached)\n",
      "      353    0.001    0.000    0.002    0.000 functools.py:44(update_wrapper)\n",
      "        1    0.000    0.000    0.002    0.002 decimal.py:2(<module>)\n",
      "        3    0.000    0.000    0.002    0.001 enum.py:604(_convert)\n",
      "      177    0.000    0.000    0.002    0.000 <frozen importlib._bootstrap>:147(__enter__)\n",
      "      487    0.001    0.000    0.002    0.000 <frozen importlib._bootstrap>:157(_get_module_lock)\n",
      "     5021    0.002    0.000    0.002    0.000 {built-in method builtins.getattr}\n",
      "     2694    0.002    0.000    0.002    0.000 {built-in method builtins.hasattr}\n",
      "       79    0.000    0.000    0.002    0.000 sre_compile.py:223(_compile_charset)\n",
      "        1    0.000    0.000    0.002    0.002 bz2.py:5(<module>)\n",
      "        1    0.000    0.000    0.002    0.002 pickle.py:24(<module>)\n",
      "        1    0.000    0.000    0.002    0.002 parse.py:28(<module>)\n",
      "      152    0.000    0.000    0.001    0.000 <frozen importlib._bootstrap_external>:361(_get_cached)\n",
      "        3    0.000    0.000    0.001    0.000 enum.py:366(_create_)\n",
      "       27    0.000    0.000    0.001    0.000 abc.py:132(__new__)\n",
      "        1    0.000    0.000    0.001    0.001 type_check.py:3(<module>)\n",
      "     1483    0.001    0.000    0.001    0.000 <frozen importlib._bootstrap_external>:59(<listcomp>)\n",
      "      612    0.001    0.000    0.001    0.000 _inspect.py:67(getargs)\n",
      "     7174    0.001    0.000    0.001    0.000 {built-in method builtins.isinstance}\n",
      "        1    0.000    0.000    0.001    0.001 lzma.py:9(<module>)\n",
      "        1    0.000    0.000    0.001    0.001 result.py:1(<module>)\n",
      "        1    0.000    0.000    0.001    0.001 datetime.py:5(<module>)\n",
      "        1    0.000    0.000    0.001    0.001 utils.py:4(<module>)\n",
      "       79    0.001    0.000    0.001    0.000 sre_compile.py:250(_optimize_charset)\n",
      "        1    0.000    0.000    0.001    0.001 _pocketfft.py:29(<module>)\n",
      "        1    0.000    0.000    0.001    0.001 string.py:15(<module>)\n",
      "        1    0.000    0.000    0.001    0.001 selectors.py:5(<module>)\n",
      "      487    0.001    0.000    0.001    0.000 <frozen importlib._bootstrap>:78(acquire)\n",
      "      331    0.000    0.000    0.001    0.000 <frozen importlib._bootstrap_external>:1080(_path_importer_cache)\n",
      "      273    0.000    0.000    0.001    0.000 function_base.py:446(_add_docstring)\n",
      "        1    0.000    0.000    0.001    0.001 arrayprint.py:5(<module>)\n",
      "      152    0.000    0.000    0.001    0.000 <frozen importlib._bootstrap_external>:1228(_get_spec)\n",
      "     1854    0.001    0.000    0.001    0.000 enum.py:517(__new__)\n",
      "        1    0.001    0.001    0.001    0.001 __init__.py:259(_reset_cache)\n",
      "       23    0.000    0.000    0.001    0.000 overrides.py:206(decorator)\n",
      "        3    0.000    0.000    0.001    0.000 enum.py:124(__new__)\n",
      "        1    0.000    0.000    0.001    0.001 getlimits.py:96(_register_known_types)\n",
      "        1    0.000    0.000    0.001    0.001 nanfunctions.py:22(<module>)\n",
      "        1    0.000    0.000    0.001    0.001 string.py:65(__init__)\n",
      "        1    0.000    0.000    0.001    0.001 polynomial.py:4(<module>)\n",
      "      133    0.000    0.000    0.001    0.000 <frozen importlib._bootstrap_external>:840(path_stats)\n",
      "       15    0.000    0.000    0.001    0.000 <frozen importlib._bootstrap_external>:1281(_fill_cache)\n",
      "      169    0.000    0.000    0.001    0.000 <frozen importlib._bootstrap>:318(__exit__)\n",
      "      487    0.001    0.000    0.001    0.000 <frozen importlib._bootstrap>:103(release)\n",
      "      666    0.001    0.000    0.001    0.000 {built-in method __new__ of type object at 0x9d12c0}\n",
      "      708    0.001    0.000    0.001    0.000 {method 'format' of 'str' objects}\n",
      "     1992    0.001    0.000    0.001    0.000 {method 'join' of 'str' objects}\n",
      "        1    0.000    0.000    0.001    0.001 _type_aliases.py:24(<module>)\n",
      "        1    0.000    0.000    0.001    0.001 random.py:38(<module>)\n",
      "       15    0.001    0.000    0.001    0.000 {built-in method posix.listdir}\n",
      "        1    0.000    0.000    0.001    0.001 twodim_base.py:3(<module>)\n",
      "        6    0.000    0.000    0.001    0.000 getlimits.py:37(__init__)\n",
      "        1    0.000    0.000    0.001    0.001 utils.py:1(<module>)\n",
      "        1    0.000    0.000    0.001    0.001 difflib.py:27(<module>)\n",
      "       33    0.000    0.000    0.001    0.000 sre_compile.py:482(_compile_info)\n",
      "        1    0.000    0.000    0.001    0.001 util.py:1(<module>)\n",
      "        1    0.000    0.000    0.001    0.001 _methods.py:5(<module>)\n",
      "        3    0.000    0.000    0.001    0.000 warnings.py:119(filterwarnings)\n",
      "     1042    0.000    0.000    0.001    0.000 sre_parse.py:253(get)\n",
      "  366/184    0.001    0.000    0.001    0.000 sre_parse.py:173(getwidth)\n",
      "      152    0.000    0.000    0.001    0.000 <frozen importlib._bootstrap_external>:524(spec_from_file_location)\n",
      "       17    0.000    0.000    0.001    0.000 <frozen importlib._bootstrap>:728(create_module)\n",
      "        1    0.001    0.001    0.001    0.001 datetime.py:1381(datetime)\n",
      "      932    0.000    0.000    0.001    0.000 sre_parse.py:163(__getitem__)\n",
      "      177    0.000    0.000    0.001    0.000 <frozen importlib._bootstrap>:151(__exit__)\n",
      "       17    0.001    0.000    0.001    0.000 {built-in method _imp.create_builtin}\n",
      "        1    0.000    0.000    0.001    0.001 loader.py:1(<module>)\n",
      "      273    0.000    0.000    0.001    0.000 function_base.py:428(_needs_add_docstring)\n",
      "       19    0.000    0.000    0.001    0.000 _add_newdocs.py:6738(add_newdoc_for_scalar_type)\n",
      "       15    0.000    0.000    0.001    0.000 <frozen importlib._bootstrap_external>:1067(_path_hooks)\n",
      "        1    0.000    0.000    0.001    0.001 einsumfunc.py:4(<module>)\n",
      "        1    0.000    0.000    0.001    0.001 arraysetops.py:27(<module>)\n",
      "        1    0.000    0.000    0.000    0.000 runner.py:1(<module>)\n",
      "     1610    0.000    0.000    0.000    0.000 <frozen importlib._bootstrap>:222(_verbose_message)\n",
      "        1    0.000    0.000    0.000    0.000 ntpath.py:6(<module>)\n",
      "        1    0.000    0.000    0.000    0.000 arrayprint.py:1268(StructuredVoidFormat)\n",
      "     1874    0.000    0.000    0.000    0.000 {built-in method builtins.setattr}\n",
      "       30    0.000    0.000    0.000    0.000 getlimits.py:43(<lambda>)\n",
      "     1283    0.000    0.000    0.000    0.000 sre_parse.py:232(__next)\n",
      "     3234    0.000    0.000    0.000    0.000 {method 'rstrip' of 'str' objects}\n",
      "       88    0.000    0.000    0.000    0.000 enum.py:797(__or__)\n",
      "       44    0.000    0.000    0.000    0.000 core.py:145(get_object_signature)\n",
      "        1    0.000    0.000    0.000    0.000 argparse.py:62(<module>)\n",
      "     1366    0.000    0.000    0.000    0.000 {method 'rpartition' of 'str' objects}\n",
      "        1    0.000    0.000    0.000    0.000 ctypeslib.py:51(<module>)\n",
      "  186/149    0.000    0.000    0.000    0.000 {built-in method builtins.issubclass}\n",
      "       33    0.000    0.000    0.000    0.000 sre_parse.py:828(fix_flags)\n",
      "       26    0.000    0.000    0.000    0.000 core.py:6660(__init__)\n",
      "        1    0.000    0.000    0.000    0.000 extras.py:10(<module>)\n",
      "3232/3123    0.000    0.000    0.000    0.000 {built-in method builtins.len}\n",
      "       11    0.000    0.000    0.000    0.000 abc.py:151(register)\n",
      "    26/12    0.000    0.000    0.000    0.000 abc.py:196(__subclasscheck__)\n",
      "      172    0.000    0.000    0.000    0.000 {built-in method builtins.any}\n",
      "      572    0.000    0.000    0.000    0.000 <string>:12(__new__)\n",
      "      266    0.000    0.000    0.000    0.000 <frozen importlib._bootstrap_external>:63(_path_split)\n",
      "       26    0.000    0.000    0.000    0.000 core.py:6665(getdoc)\n",
      "       15    0.000    0.000    0.000    0.000 arrayprint.py:1489(_array_str_implementation)\n",
      "     3728    0.000    0.000    0.000    0.000 {method 'append' of 'list' objects}\n",
      "      292    0.000    0.000    0.000    0.000 {method 'strip' of 'str' objects}\n",
      "      176    0.000    0.000    0.000    0.000 <frozen importlib._bootstrap>:176(cb)\n",
      "       52    0.000    0.000    0.000    0.000 core.py:900(__init__)\n",
      "      174    0.000    0.000    0.000    0.000 <frozen importlib._bootstrap>:707(find_spec)\n",
      "       15    0.000    0.000    0.000    0.000 arrayprint.py:477(wrapper)\n",
      "      390    0.000    0.000    0.000    0.000 <frozen importlib._bootstrap>:416(parent)\n",
      "       15    0.000    0.000    0.000    0.000 <frozen importlib._bootstrap_external>:1322(path_hook_for_FileFinder)\n",
      "       46    0.000    0.000    0.000    0.000 enum.py:70(__setitem__)\n",
      "        1    0.000    0.000    0.000    0.000 getlimits.py:3(<module>)\n",
      "       47    0.000    0.000    0.000    0.000 sre_parse.py:96(closegroup)\n",
      "      176    0.000    0.000    0.000    0.000 <frozen importlib._bootstrap>:58(__init__)\n",
      "        1    0.000    0.000    0.000    0.000 numbers.py:6(<module>)\n",
      "        1    0.000    0.000    0.000    0.000 histograms.py:3(<module>)\n",
      "      616    0.000    0.000    0.000    0.000 _inspect.py:15(ismethod)\n",
      "       15    0.000    0.000    0.000    0.000 arrayprint.py:1482(_guarded_repr_or_str)\n",
      "        5    0.000    0.000    0.000    0.000 textwrap.py:414(dedent)\n",
      "        1    0.000    0.000    0.000    0.000 pickle.py:181(<listcomp>)\n",
      "        1    0.000    0.000    0.000    0.000 ufunclike.py:5(<module>)\n",
      "      266    0.000    0.000    0.000    0.000 <frozen importlib._bootstrap_external>:52(_r_long)\n",
      "        4    0.000    0.000    0.000    0.000 core.py:122(doc_note)\n",
      "       27    0.000    0.000    0.000    0.000 abc.py:135(<setcomp>)\n",
      "      102    0.000    0.000    0.000    0.000 re.py:169(match)\n",
      "       98    0.000    0.000    0.000    0.000 {built-in method posix.getcwd}\n",
      "       40    0.000    0.000    0.000    0.000 _inspect.py:142(formatargspec)\n",
      "        4    0.000    0.000    0.000    0.000 re.py:204(split)\n",
      "      488    0.000    0.000    0.000    0.000 <frozen importlib._bootstrap>:847(__exit__)\n",
      "       14    0.000    0.000    0.000    0.000 hashlib.py:116(__get_openssl_constructor)\n",
      "        1    0.000    0.000    0.000    0.000 stride_tricks.py:7(<module>)\n",
      "      488    0.000    0.000    0.000    0.000 <frozen importlib._bootstrap>:843(__enter__)\n",
      "        5    0.000    0.000    0.000    0.000 re.py:184(sub)\n",
      "      133    0.000    0.000    0.000    0.000 <frozen importlib._bootstrap_external>:393(_check_name_wrapper)\n",
      "      476    0.000    0.000    0.000    0.000 sre_parse.py:171(append)\n",
      "        1    0.000    0.000    0.000    0.000 _polybase.py:8(<module>)\n",
      "        4    0.000    0.000    0.000    0.000 enum.py:760(_missing_)\n",
      "      616    0.000    0.000    0.000    0.000 _inspect.py:28(isfunction)\n",
      "     1151    0.000    0.000    0.000    0.000 {built-in method _imp.acquire_lock}\n",
      "        1    0.000    0.000    0.000    0.000 records.py:35(<module>)\n",
      "      104    0.000    0.000    0.000    0.000 _weakrefset.py:36(__init__)\n",
      "        4    0.000    0.000    0.000    0.000 enum.py:767(_create_pseudo_member_)\n",
      "        1    0.000    0.000    0.000    0.000 hermite.py:60(<module>)\n",
      "      538    0.000    0.000    0.000    0.000 sre_parse.py:248(match)\n",
      "        1    0.000    0.000    0.000    0.000 helper.py:4(<module>)\n",
      "      104    0.000    0.000    0.000    0.000 sre_compile.py:388(_simple)\n",
      "       26    0.000    0.000    0.000    0.000 core.py:927(__init__)\n",
      "      108    0.000    0.000    0.000    0.000 {built-in method numpy.array}\n",
      "      612    0.000    0.000    0.000    0.000 _inspect.py:43(iscode)\n",
      "      351    0.000    0.000    0.000    0.000 functools.py:74(wraps)\n",
      "        1    0.000    0.000    0.000    0.000 _exceptions.py:7(<module>)\n",
      "     1151    0.000    0.000    0.000    0.000 {built-in method _imp.release_lock}\n",
      "        1    0.000    0.000    0.000    0.000 ctypeslib.py:359(_get_scalar_type_map)\n",
      "        1    0.000    0.000    0.000    0.000 machar.py:7(<module>)\n",
      "      133    0.000    0.000    0.000    0.000 <frozen importlib._bootstrap>:35(_new_module)\n",
      "        1    0.000    0.000    0.000    0.000 ctypeslib.py:370(<dictcomp>)\n",
      "        8    0.000    0.000    0.000    0.000 hashlib.py:73(__get_builtin_constructor)\n",
      "        1    0.000    0.000    0.000    0.000 _iotools.py:3(<module>)\n",
      "        4    0.000    0.000    0.000    0.000 enum.py:839(_decompose)\n",
      "      990    0.000    0.000    0.000    0.000 {built-in method _thread.get_ident}\n",
      "        1    0.000    0.000    0.000    0.000 _compression.py:1(<module>)\n",
      "      174    0.000    0.000    0.000    0.000 <frozen importlib._bootstrap>:369(__init__)\n",
      "      133    0.000    0.000    0.000    0.000 {built-in method _imp._fix_co_filename}\n",
      "      157    0.000    0.000    0.000    0.000 <frozen importlib._bootstrap>:780(find_spec)\n",
      "        1    0.000    0.000    0.000    0.000 ast.py:26(<module>)\n",
      "      328    0.000    0.000    0.000    0.000 sre_parse.py:285(tell)\n",
      "       50    0.000    0.000    0.000    0.000 _internal.py:784(_ufunc_doc_signature_formatter)\n",
      "        3    0.000    0.000    0.000    0.000 enum.py:625(<listcomp>)\n",
      "        1    0.000    0.000    0.000    0.000 _type_aliases.py:115(_add_aliases)\n",
      "        3    0.000    0.000    0.000    0.000 enum.py:160(<setcomp>)\n",
      "        1    0.000    0.000    0.000    0.000 hermite_e.py:60(<module>)\n",
      "        1    0.000    0.000    0.000    0.000 _endian.py:1(<module>)\n",
      "       15    0.000    0.000    0.000    0.000 <frozen importlib._bootstrap_external>:1196(__init__)\n",
      "        1    0.000    0.000    0.000    0.000 contextlib.py:49(inner)\n",
      "        1    0.000    0.000    0.000    0.000 numerictypes.py:593(_register_types)\n",
      "        1    0.000    0.000    0.000    0.000 legendre.py:83(<module>)\n",
      "       15    0.000    0.000    0.000    0.000 <frozen importlib._bootstrap_external>:99(_path_isdir)\n",
      "      298    0.000    0.000    0.000    0.000 {built-in method numpy.core._multiarray_umath.add_docstring}\n",
      "        1    0.000    0.000    0.000    0.000 chebyshev.py:89(<module>)\n",
      "       18    0.000    0.000    0.000    0.000 core.py:1003(__init__)\n",
      "        1    0.000    0.000    0.000    0.000 _compat_pickle.py:9(<module>)\n",
      "      493    0.000    0.000    0.000    0.000 {built-in method builtins.min}\n",
      "        3    0.000    0.000    0.000    0.000 __init__.py:73(CFUNCTYPE)\n",
      "       17    0.000    0.000    0.000    0.000 <frozen importlib._bootstrap>:433(spec_from_loader)\n",
      "      267    0.000    0.000    0.000    0.000 {built-in method from_bytes}\n",
      "      676    0.000    0.000    0.000    0.000 <frozen importlib._bootstrap>:321(<genexpr>)\n",
      "        1    0.000    0.000    0.000    0.000 arraypad.py:5(<module>)\n",
      "        1    0.000    0.000    0.000    0.000 laguerre.py:60(<module>)\n",
      "       30    0.000    0.000    0.000    0.000 getlimits.py:42(<lambda>)\n",
      "       61    0.000    0.000    0.000    0.000 enum.py:353(__setattr__)\n",
      "        1    0.000    0.000    0.000    0.000 tempfile.py:24(<module>)\n",
      "        1    0.000    0.000    0.000    0.000 base64.py:3(<module>)\n",
      "       40    0.000    0.000    0.000    0.000 enum.py:20(_is_descriptor)\n",
      "      340    0.000    0.000    0.000    0.000 sre_parse.py:159(__len__)\n",
      "        1    0.000    0.000    0.000    0.000 <__array_function__ internals>:2(any)\n",
      "       49    0.000    0.000    0.000    0.000 _weakrefset.py:58(__iter__)\n",
      "      553    0.000    0.000    0.000    0.000 {method 'get' of 'dict' objects}\n",
      "       63    0.000    0.000    0.000    0.000 sre_parse.py:342(_escape)\n",
      "       10    0.000    0.000    0.000    0.000 extras.py:237(__init__)\n",
      "       14    0.000    0.000    0.000    0.000 sre_compile.py:376(_mk_bitmap)\n",
      "        1    0.000    0.000    0.000    0.000 pathlib.py:382(_NormalAccessor)\n",
      "      133    0.000    0.000    0.000    0.000 <frozen importlib._bootstrap_external>:800(__init__)\n",
      "      169    0.000    0.000    0.000    0.000 <frozen importlib._bootstrap>:311(__enter__)\n",
      "        3    0.000    0.000    0.000    0.000 tokenize.py:137(_all_string_prefixes)\n",
      "       47    0.000    0.000    0.000    0.000 sre_parse.py:84(opengroup)\n",
      "      381    0.000    0.000    0.000    0.000 {method 'update' of 'dict' objects}\n",
      "        1    0.000    0.000    0.000    0.000 fromnumeric.py:2236(any)\n",
      "      355    0.000    0.000    0.000    0.000 {built-in method _thread.allocate_lock}\n",
      "        1    0.000    0.000    0.000    0.000 core.py:6358(__new__)\n",
      "      421    0.000    0.000    0.000    0.000 {built-in method posix.fspath}\n",
      "       10    0.000    0.000    0.000    0.000 extras.py:241(getdoc)\n",
      "       14    0.000    0.000    0.000    0.000 __init__.py:139(_check_size)\n",
      "      316    0.000    0.000    0.000    0.000 overrides.py:124(array_function_dispatch)\n",
      "       33    0.000    0.000    0.000    0.000 sre_parse.py:223(__init__)\n",
      "        1    0.000    0.000    0.000    0.000 _polybase.py:19(ABCPolyBase)\n",
      "       16    0.000    0.000    0.000    0.000 _type_aliases.py:79(bitname)\n",
      "        1    0.000    0.000    0.000    0.000 polyutils.py:45(<module>)\n",
      "        1    0.000    0.000    0.000    0.000 fromnumeric.py:73(_wrapreduction)\n",
      "      177    0.000    0.000    0.000    0.000 <frozen importlib._bootstrap>:143(__init__)\n",
      "        9    0.000    0.000    0.000    0.000 datetime.py:356(__new__)\n",
      "      215    0.000    0.000    0.000    0.000 sre_parse.py:111(__init__)\n",
      "       66    0.000    0.000    0.000    0.000 {built-in method _imp.is_builtin}\n",
      "        8    0.000    0.000    0.000    0.000 core.py:7996(__init__)\n",
      "        6    0.000    0.000    0.000    0.000 numeric.py:2388(extend_all)\n",
      "       10    0.000    0.000    0.000    0.000 pathlib.py:384(_wrap_strfunc)\n",
      "       65    0.000    0.000    0.000    0.000 __init__.py:422(<genexpr>)\n",
      "       95    0.000    0.000    0.000    0.000 {method 'extend' of 'list' objects}\n",
      "      157    0.000    0.000    0.000    0.000 {built-in method _imp.is_frozen}\n",
      "        3    0.000    0.000    0.000    0.000 enum.py:857(<listcomp>)\n",
      "      169    0.000    0.000    0.000    0.000 <frozen importlib._bootstrap>:307(__init__)\n",
      "        1    0.000    0.000    0.000    0.000 __init__.py:236(_sanity_check)\n",
      "        1    0.000    0.000    0.000    0.000 mixins.py:1(<module>)\n",
      "       73    0.000    0.000    0.000    0.000 signal.py:10(<lambda>)\n",
      "        8    0.000    0.000    0.000    0.000 _ufunc_config.py:39(seterr)\n",
      "        1    0.000    0.000    0.000    0.000 _ufunc_config.py:5(<module>)\n",
      "        3    0.000    0.000    0.000    0.000 __init__.py:476(PYFUNCTYPE)\n",
      "        1    0.000    0.000    0.000    0.000 suite.py:1(<module>)\n",
      "        8    0.000    0.000    0.000    0.000 core.py:8001(getdoc)\n",
      "        1    0.000    0.000    0.000    0.000 _globals.py:17(<module>)\n",
      "        1    0.000    0.000    0.000    0.000 pprint.py:35(<module>)\n",
      "        1    0.000    0.000    0.000    0.000 bisect.py:1(<module>)\n",
      "        2    0.000    0.000    0.000    0.000 {built-in method _ctypes.POINTER}\n",
      "      172    0.000    0.000    0.000    0.000 {method 'endswith' of 'str' objects}\n",
      "        4    0.000    0.000    0.000    0.000 _ufunc_config.py:441(__enter__)\n",
      "        1    0.000    0.000    0.000    0.000 threading.py:1207(_DummyThread)\n",
      "        1    0.000    0.000    0.000    0.000 {method 'any' of 'numpy.generic' objects}\n",
      "        1    0.000    0.000    0.000    0.000 _string_helpers.py:5(<module>)\n",
      "      160    0.000    0.000    0.000    0.000 sre_parse.py:81(groups)\n",
      "      361    0.000    0.000    0.000    0.000 {built-in method builtins.globals}\n",
      "        1    0.000    0.000    0.000    0.000 <string>:5(DecimalTuple)\n",
      "      229    0.000    0.000    0.000    0.000 {method 'find' of 'bytearray' objects}\n",
      "        8    0.000    0.000    0.000    0.000 contextlib.py:129(contextmanager)\n",
      "       65    0.000    0.000    0.000    0.000 __init__.py:420(<genexpr>)\n",
      "        4    0.000    0.000    0.000    0.000 {method 'split' of '_sre.SRE_Pattern' objects}\n",
      "       14    0.000    0.000    0.000    0.000 sre_compile.py:378(<listcomp>)\n",
      "       33    0.000    0.000    0.000    0.000 {built-in method _sre.compile}\n",
      "       30    0.000    0.000    0.000    0.000 getlimits.py:27(_fr1)\n",
      "        1    0.000    0.000    0.000    0.000 utils.py:147(deprecate)\n",
      "       32    0.000    0.000    0.000    0.000 sre_parse.py:294(_class_escape)\n",
      "        1    0.000    0.000    0.000    0.000 _string_helpers.py:9(<listcomp>)\n",
      "        1    0.000    0.000    0.000    0.000 core.py:2717(MaskedArray)\n",
      "        1    0.000    0.000    0.000    0.000 __init__.py:332(__init__)\n",
      "        1    0.000    0.000    0.000    0.000 memmap.py:1(<module>)\n",
      "        2    0.000    0.000    0.000    0.000 core.py:2938(__array_finalize__)\n",
      "        1    0.000    0.000    0.000    0.000 token.py:1(<module>)\n",
      "       36    0.000    0.000    0.000    0.000 getlimits.py:41(<lambda>)\n",
      "        7    0.000    0.000    0.000    0.000 {method 'sort' of 'list' objects}\n",
      "        1    0.000    0.000    0.000    0.000 mixins.py:63(NDArrayOperatorsMixin)\n",
      "       13    0.000    0.000    0.000    0.000 _dtype_ctypes.py:97(dtype_from_ctypes_type)\n",
      "       72    0.000    0.000    0.000    0.000 {built-in method builtins.repr}\n",
      "       36    0.000    0.000    0.000    0.000 _add_newdocs.py:6744(<genexpr>)\n",
      "        1    0.000    0.000    0.000    0.000 <__array_function__ internals>:2(ndim)\n",
      "    31/20    0.000    0.000    0.000    0.000 sre_compile.py:414(_get_literal_prefix)\n",
      "        3    0.000    0.000    0.000    0.000 enum.py:114(__prepare__)\n",
      "        9    0.000    0.000    0.000    0.000 enum.py:419(_get_mixins_)\n",
      "        1    0.000    0.000    0.000    0.000 core.py:2782(__new__)\n",
      "        1    0.000    0.000    0.000    0.000 _methods.py:44(_any)\n",
      "        1    0.000    0.000    0.000    0.000 nosetester.py:6(<module>)\n",
      "        1    0.000    0.000    0.000    0.000 utils.py:75(__call__)\n",
      "       60    0.000    0.000    0.000    0.000 {method 'copy' of 'numpy.ndarray' objects}\n",
      "        1    0.000    0.000    0.000    0.000 threading.py:1190(__init__)\n",
      "       10    0.000    0.000    0.000    0.000 {method 'sub' of '_sre.SRE_Pattern' objects}\n",
      "        1    0.000    0.000    0.000    0.000 polynomial.py:1442(Polynomial)\n",
      "        1    0.000    0.000    0.000    0.000 umath.py:7(<module>)\n",
      "        3    0.000    0.000    0.000    0.000 enum.py:464(_find_new_)\n",
      "        1    0.000    0.000    0.000    0.000 _add_newdocs.py:6702(numeric_type_aliases)\n",
      "        1    0.000    0.000    0.000    0.000 {method 'reduce' of 'numpy.ufunc' objects}\n",
      "      103    0.000    0.000    0.000    0.000 {method 'match' of '_sre.SRE_Pattern' objects}\n",
      "      282    0.000    0.000    0.000    0.000 <frozen importlib._bootstrap_external>:41(_relax_case)\n",
      "      283    0.000    0.000    0.000    0.000 {method 'startswith' of 'str' objects}\n",
      "        6    0.000    0.000    0.000    0.000 core.py:1152(__init__)\n",
      "        1    0.000    0.000    0.000    0.000 token.py:74(<dictcomp>)\n",
      "        1    0.000    0.000    0.000    0.000 pathlib.py:107(_WindowsFlavour)\n",
      "       17    0.000    0.000    0.000    0.000 sre_compile.py:441(_get_charset_prefix)\n",
      "       74    0.000    0.000    0.000    0.000 types.py:135(__get__)\n",
      "      308    0.000    0.000    0.000    0.000 {built-in method builtins.chr}\n",
      "        1    0.000    0.000    0.000    0.000 format.py:163(<module>)\n",
      "       16    0.000    0.000    0.000    0.000 _type_aliases.py:66(_bits_of)\n",
      "        1    0.000    0.000    0.000    0.000 abc.py:180(__instancecheck__)\n",
      "      364    0.000    0.000    0.000    0.000 {method 'add' of 'set' objects}\n",
      "      428    0.000    0.000    0.000    0.000 {built-in method builtins.ord}\n",
      "        1    0.000    0.000    0.000    0.000 signals.py:1(<module>)\n",
      "        1    0.000    0.000    0.000    0.000 <string>:1(<module>)\n",
      "       25    0.000    0.000    0.000    0.000 _weakrefset.py:26(__exit__)\n",
      "      208    0.000    0.000    0.000    0.000 {built-in method _sre.getlower}\n",
      "        1    0.000    0.000    0.000    0.000 arrayterator.py:9(<module>)\n",
      "       30    0.000    0.000    0.000    0.000 getlimits.py:19(_fr0)\n",
      "       18    0.000    0.000    0.000    0.000 _add_newdocs.py:6703(type_aliases_gen)\n",
      "      169    0.000    0.000    0.000    0.000 <frozen importlib._bootstrap>:424(has_location)\n",
      "        1    0.000    0.000    0.000    0.000 _version.py:7(<module>)\n",
      "       84    0.000    0.000    0.000    0.000 overrides.py:94(set_module)\n",
      "        8    0.000    0.000    0.000    0.000 sre_parse.py:266(getuntil)\n",
      "        1    0.000    0.000    0.000    0.000 core.py:3087(view)\n",
      "        1    0.000    0.000    0.000    0.000 linalg.py:82(_determine_error_states)\n",
      "       17    0.000    0.000    0.000    0.000 <frozen importlib._bootstrap>:232(_requires_builtin_wrapper)\n",
      "        7    0.000    0.000    0.000    0.000 getlimits.py:497(__init__)\n",
      "      133    0.000    0.000    0.000    0.000 <frozen importlib._bootstrap_external>:825(get_filename)\n",
      "        3    0.000    0.000    0.000    0.000 ufunclike.py:60(_fix_and_maybe_deprecate_out_named_y)\n",
      "        1    0.000    0.000    0.000    0.000 numeric.py:159(ones)\n",
      "        3    0.000    0.000    0.000    0.000 datetime.py:1389(__new__)\n",
      "       46    0.000    0.000    0.000    0.000 enum.py:28(_is_dunder)\n",
      "       33    0.000    0.000    0.000    0.000 sre_parse.py:76(__init__)\n",
      "        1    0.000    0.000    0.000    0.000 {built-in method math.exp}\n",
      "       84    0.000    0.000    0.000    0.000 overrides.py:105(decorator)\n",
      "        1    0.000    0.000    0.000    0.000 datetime.py:1991(timezone)\n",
      "       59    0.000    0.000    0.000    0.000 _inspect.py:146(<lambda>)\n",
      "       66    0.000    0.000    0.000    0.000 sre_compile.py:539(isstring)\n",
      "        1    0.000    0.000    0.000    0.000 case.py:341(TestCase)\n",
      "        2    0.000    0.000    0.000    0.000 core.py:6541(__init__)\n",
      "        3    0.000    0.000    0.000    0.000 ufunclike.py:43(_fix_out_named_y)\n",
      "       84    0.000    0.000    0.000    0.000 sre_compile.py:102(fixup)\n",
      "      104    0.000    0.000    0.000    0.000 sre_parse.py:167(__setitem__)\n",
      "       17    0.000    0.000    0.000    0.000 <frozen importlib._bootstrap>:736(exec_module)\n",
      "        1    0.000    0.000    0.000    0.000 result.py:24(TestResult)\n",
      "       13    0.000    0.000    0.000    0.000 mixins.py:48(_numeric_methods)\n",
      "       78    0.000    0.000    0.000    0.000 _internal.py:795(<genexpr>)\n",
      "        1    0.000    0.000    0.000    0.000 __future__.py:48(<module>)\n",
      "       37    0.000    0.000    0.000    0.000 _weakrefset.py:81(add)\n",
      "      120    0.000    0.000    0.000    0.000 <frozen importlib._bootstrap_external>:1202(<genexpr>)\n",
      "       75    0.000    0.000    0.000    0.000 {method 'items' of 'dict' objects}\n",
      "        1    0.000    0.000    0.000    0.000 decorators.py:15(<module>)\n",
      "        1    0.000    0.000    0.000    0.000 core.py:6376(__array_finalize__)\n",
      "        2    0.000    0.000    0.000    0.000 random.py:87(__init__)\n",
      "        1    0.000    0.000    0.000    0.000 {method 'dot' of 'numpy.ndarray' objects}\n",
      "        1    0.000    0.000    0.000    0.000 utils.py:133(_get_indent)\n",
      "        1    0.000    0.000    0.000    0.000 _pytesttester.py:29(<module>)\n",
      "       24    0.000    0.000    0.000    0.000 enum.py:874(_power_of_two)\n",
      "        1    0.000    0.000    0.000    0.000 contextlib.py:48(__call__)\n",
      "        2    0.000    0.000    0.000    0.000 os.py:672(__setitem__)\n",
      "       25    0.000    0.000    0.000    0.000 _weakrefset.py:20(__enter__)\n",
      "       23    0.000    0.000    0.000    0.000 {method 'replace' of 'str' objects}\n",
      "       18    0.000    0.000    0.000    0.000 {built-in method _struct.calcsize}\n",
      "        1    0.000    0.000    0.000    0.000 ufunclike.py:18(_deprecate_out_named_y)\n",
      "       36    0.000    0.000    0.000    0.000 _string_helpers.py:16(english_lower)\n",
      "        1    0.000    0.000    0.000    0.000 pickle.py:986(_Unpickler)\n",
      "        1    0.000    0.000    0.000    0.000 random.py:96(seed)\n",
      "       20    0.000    0.000    0.000    0.000 tokenize.py:112(group)\n",
      "        2    0.000    0.000    0.000    0.000 platform.py:1279(python_implementation)\n",
      "        1    0.000    0.000    0.000    0.000 _type_aliases.py:154(_add_integer_aliases)\n",
      "        1    0.000    0.000    0.000    0.000 _type_aliases.py:246(_set_array_types)\n",
      "       46    0.000    0.000    0.000    0.000 enum.py:36(_is_sunder)\n",
      "        2    0.000    0.000    0.000    0.000 sre_compile.py:381(_bytes_to_codes)\n",
      "      257    0.000    0.000    0.000    0.000 hmac.py:11(<genexpr>)\n",
      "        1    0.000    0.000    0.000    0.000 __config__.py:3(<module>)\n",
      "       90    0.000    0.000    0.000    0.000 _inspect.py:133(strseq)\n",
      "        1    0.000    0.000    0.000    0.000 argparse.py:159(HelpFormatter)\n",
      "        1    0.000    0.000    0.000    0.000 pprint.py:98(PrettyPrinter)\n",
      "        3    0.000    0.000    0.000    0.000 result.py:12(failfast)\n",
      "      257    0.000    0.000    0.000    0.000 hmac.py:10(<genexpr>)\n",
      "        1    0.000    0.000    0.000    0.000 _internal.py:241(_missing_ctypes)\n",
      "        1    0.000    0.000    0.000    0.000 numerictypes.py:445(_construct_lookups)\n",
      "        4    0.000    0.000    0.000    0.000 warnings.py:159(_add_filter)\n",
      "        1    0.000    0.000    0.000    0.000 __init__.py:1085(__init__)\n",
      "        1    0.000    0.000    0.000    0.000 _iotools.py:499(StringConverter)\n",
      "        1    0.000    0.000    0.000    0.000 threading.py:757(__init__)\n",
      "        1    0.000    0.000    0.000    0.000 _asarray.py:5(<module>)\n",
      "        1    0.000    0.000    0.000    0.000 _dtype.py:5(<module>)\n",
      "        1    0.000    0.000    0.000    0.000 fnmatch.py:11(<module>)\n",
      "        1    0.000    0.000    0.000    0.000 {method 'astype' of 'numpy.ndarray' objects}\n",
      "        2    0.000    0.000    0.000    0.000 functools.py:479(decorating_function)\n",
      "       64    0.000    0.000    0.000    0.000 abc.py:9(abstractmethod)\n",
      "        2    0.000    0.000    0.000    0.000 {built-in method posix.putenv}\n",
      "        5    0.000    0.000    0.000    0.000 {method 'findall' of '_sre.SRE_Pattern' objects}\n",
      "        1    0.000    0.000    0.000    0.000 __init__.py:771(__init__)\n",
      "       24    0.000    0.000    0.000    0.000 tokenize.py:148(<listcomp>)\n",
      "        4    0.000    0.000    0.000    0.000 _ufunc_config.py:446(__exit__)\n",
      "        2    0.000    0.000    0.000    0.000 os.py:678(__delitem__)\n",
      "      133    0.000    0.000    0.000    0.000 <frozen importlib._bootstrap_external>:669(create_module)\n",
      "        7    0.000    0.000    0.000    0.000 {method 'remove' of 'list' objects}\n",
      "       52    0.000    0.000    0.000    0.000 {method 'translate' of 'str' objects}\n",
      "        2    0.000    0.000    0.000    0.000 platform.py:1172(_sys_version)\n",
      "        1    0.000    0.000    0.000    0.000 <__array_function__ internals>:2(copyto)\n",
      "        1    0.000    0.000    0.000    0.000 <__array_function__ internals>:2(concatenate)\n",
      "       73    0.000    0.000    0.000    0.000 {method 'isidentifier' of 'str' objects}\n",
      "        1    0.000    0.000    0.000    0.000 {function Random.seed at 0x7f0bd2737a60}\n",
      "        1    0.000    0.000    0.000    0.000 {built-in method builtins.dir}\n",
      "        2    0.000    0.000    0.000    0.000 core.py:2912(_update_from)\n",
      "        8    0.000    0.000    0.000    0.000 _ufunc_config.py:139(geterr)\n",
      "        6    0.000    0.000    0.000    0.000 _exceptions.py:17(_display_as_base)\n",
      "       16    0.000    0.000    0.000    0.000 _string_helpers.py:72(english_capitalize)\n",
      "        3    0.000    0.000    0.000    0.000 enum.py:135(<dictcomp>)\n",
      "       70    0.000    0.000    0.000    0.000 enum.py:594(name)\n",
      "       12    0.000    0.000    0.000    0.000 {method 'split' of 'str' objects}\n",
      "       16    0.000    0.000    0.000    0.000 {built-in method builtins.next}\n",
      "        1    0.000    0.000    0.000    0.000 case.py:44(_Outcome)\n",
      "       13    0.000    0.000    0.000    0.000 _dtype_ctypes.py:69(_from_ctypes_scalar)\n",
      "       61    0.000    0.000    0.000    0.000 {method 'get' of 'mappingproxy' objects}\n",
      "       65    0.000    0.000    0.000    0.000 {method '__contains__' of 'frozenset' objects}\n",
      "        1    0.000    0.000    0.000    0.000 <string>:5(SelectorKey)\n",
      "        1    0.000    0.000    0.000    0.000 subprocess.py:562(Popen)\n",
      "       27    0.000    0.000    0.000    0.000 _add_newdocs.py:6743(<genexpr>)\n",
      "        1    0.000    0.000    0.000    0.000 defchararray.py:1810(chararray)\n",
      "       30    0.000    0.000    0.000    0.000 _type_aliases.py:238(_add_array_type)\n",
      "        5    0.000    0.000    0.000    0.000 datetime.py:279(_check_date_fields)\n",
      "        3    0.000    0.000    0.000    0.000 os.py:664(__getitem__)\n",
      "        9    0.000    0.000    0.000    0.000 os.py:742(encode)\n",
      "        1    0.000    0.000    0.000    0.000 {built-in method builtins.print}\n",
      "        7    0.000    0.000    0.000    0.000 core.py:2562(_arraymethod)\n",
      "        1    0.000    0.000    0.000    0.000 threading.py:512(set)\n",
      "        1    0.000    0.000    0.000    0.000 threading.py:738(Thread)\n",
      "        9    0.000    0.000    0.000    0.000 {built-in method builtins.round}\n",
      "        1    0.000    0.000    0.000    0.000 tempfile.py:770(SpooledTemporaryFile)\n",
      "        1    0.000    0.000    0.000    0.000 argparse.py:1063(_SubParsersAction)\n",
      "        1    0.000    0.000    0.000    0.000 __init__.py:752(_addHandlerRef)\n",
      "        1    0.000    0.000    0.000    0.000 random.py:71(Random)\n",
      "        2    0.000    0.000    0.000    0.000 arrayprint.py:474(decorating_function)\n",
      "        1    0.000    0.000    0.000    0.000 numbers.py:32(Complex)\n",
      "        1    0.000    0.000    0.000    0.000 _type_aliases.py:95(_add_types)\n",
      "        1    0.000    0.000    0.000    0.000 pathlib.py:602(PurePath)\n",
      "        1    0.000    0.000    0.000    0.000 _globals.py:67(__new__)\n",
      "       40    0.000    0.000    0.000    0.000 enum.py:630(<lambda>)\n",
      "        1    0.000    0.000    0.000    0.000 weakref.py:102(__init__)\n",
      "        1    0.000    0.000    0.000    0.000 warnings.py:143(simplefilter)\n",
      "       14    0.000    0.000    0.000    0.000 {method 'translate' of 'bytearray' objects}\n",
      "        1    0.000    0.000    0.000    0.000 runner.py:29(TextTestResult)\n",
      "       20    0.000    0.000    0.000    0.000 mixins.py:20(_binary_method)\n",
      "        1    0.000    0.000    0.000    0.000 _type_aliases.py:187(_set_up_aliases)\n",
      "        2    0.000    0.000    0.000    0.000 pathlib.py:390(_wrap_binary_strfunc)\n",
      "        1    0.000    0.000    0.000    0.000 {method 'reshape' of 'numpy.ndarray' objects}\n",
      "        9    0.000    0.000    0.000    0.000 {built-in method numpy.seterrobj}\n",
      "        2    0.000    0.000    0.000    0.000 _collections_abc.py:664(__contains__)\n",
      "       31    0.000    0.000    0.000    0.000 _weakrefset.py:70(__contains__)\n",
      "       19    0.000    0.000    0.000    0.000 <frozen importlib._bootstrap_external>:908(__init__)\n",
      "       43    0.000    0.000    0.000    0.000 {method 'pop' of 'dict' objects}\n",
      "        4    0.000    0.000    0.000    0.000 _ufunc_config.py:437(__init__)\n",
      "        1    0.000    0.000    0.000    0.000 <__array_function__ internals>:2(result_type)\n",
      "        1    0.000    0.000    0.000    0.000 numbers.py:147(Real)\n",
      "       32    0.000    0.000    0.000    0.000 _type_aliases.py:68(<genexpr>)\n",
      "       35    0.000    0.000    0.000    0.000 datetime.py:262(_check_int_field)\n",
      "        2    0.000    0.000    0.000    0.000 datetime.py:689(__new__)\n",
      "        1    0.000    0.000    0.000    0.000 datetime.py:1034(time)\n",
      "        1    0.000    0.000    0.000    0.000 _inspect.py:7(<module>)\n",
      "        3    0.000    0.000    0.000    0.000 enum.py:312(__getattr__)\n",
      "       19    0.000    0.000    0.000    0.000 enum.py:822(_high_bit)\n",
      "        1    0.000    0.000    0.000    0.000 enum.py:850(<listcomp>)\n",
      "        3    0.000    0.000    0.000    0.000 sre_compile.py:393(_generate_overlap_table)\n",
      "        4    0.000    0.000    0.000    0.000 sre_parse.py:784(_parse_flags)\n",
      "       13    0.000    0.000    0.000    0.000 {built-in method sys._getframe}\n",
      "        1    0.000    0.000    0.000    0.000 core.py:6348(MaskedConstant)\n",
      "        1    0.000    0.000    0.000    0.000 random.py:680(getrandbits)\n",
      "        1    0.000    0.000    0.000    0.000 hermite_e.py:1621(HermiteE)\n",
      "        1    0.000    0.000    0.000    0.000 laguerre.py:1578(Laguerre)\n",
      "        1    0.000    0.000    0.000    0.000 polynomial.py:1009(poly1d)\n",
      "        1    0.000    0.000    0.000    0.000 defmatrix.py:74(matrix)\n",
      "        1    0.000    0.000    0.000    0.000 <string>:5(TokenInfo)\n",
      "        1    0.000    0.000    0.000    0.000 <string>:5(uname_result)\n",
      "       75    0.000    0.000    0.000    0.000 signal.py:22(<lambda>)\n",
      "        1    0.000    0.000    0.000    0.000 getlimits.py:293(finfo)\n",
      "       16    0.000    0.000    0.000    0.000 _string_helpers.py:44(english_upper)\n",
      "       85    0.000    0.000    0.000    0.000 _compat_pickle.py:167(<genexpr>)\n",
      "       27    0.000    0.000    0.000    0.000 pathlib.py:119(<genexpr>)\n",
      "        5    0.000    0.000    0.000    0.000 datetime.py:292(_check_time_fields)\n",
      "       15    0.000    0.000    0.000    0.000 {method 'items' of 'mappingproxy' objects}\n",
      "       73    0.000    0.000    0.000    0.000 {method 'isupper' of 'str' objects}\n",
      "        2    0.000    0.000    0.000    0.000 {built-in method posix.unsetenv}\n",
      "        1    0.000    0.000    0.000    0.000 __init__.py:1253(Logger)\n",
      "        1    0.000    0.000    0.000    0.000 case.py:388(__init__)\n",
      "        1    0.000    0.000    0.000    0.000 <string>:5(Mismatch)\n",
      "        1    0.000    0.000    0.000    0.000 {built-in method _hashlib.openssl_sha1}\n",
      "        1    0.000    0.000    0.000    0.000 chebyshev.py:1966(Chebyshev)\n",
      "       13    0.000    0.000    0.000    0.000 mixins.py:40(_inplace_binary_method)\n",
      "        1    0.000    0.000    0.000    0.000 threading.py:498(__init__)\n",
      "       74    0.000    0.000    0.000    0.000 signal.py:17(<lambda>)\n",
      "        1    0.000    0.000    0.000    0.000 <string>:5(ParseResult)\n",
      "        1    0.000    0.000    0.000    0.000 datetime.py:531(__neg__)\n",
      "        2    0.000    0.000    0.000    0.000 datetime.py:1059(__new__)\n",
      "        1    0.000    0.000    0.000    0.000 posixpath.py:154(dirname)\n",
      "       25    0.000    0.000    0.000    0.000 _weakrefset.py:52(_commit_removals)\n",
      "        1    0.000    0.000    0.000    0.000 {method 'union' of 'set' objects}\n",
      "        2    0.000    0.000    0.000    0.000 {method 'cast' of 'memoryview' objects}\n",
      "        1    0.000    0.000    0.000    0.000 {built-in method _hashlib.openssl_sha224}\n",
      "        1    0.000    0.000    0.000    0.000 hermite.py:1627(Hermite)\n",
      "        1    0.000    0.000    0.000    0.000 <string>:5(interface)\n",
      "        1    0.000    0.000    0.000    0.000 legendre.py:1613(Legendre)\n",
      "        1    0.000    0.000    0.000    0.000 npyio.py:58(BagObj)\n",
      "        1    0.000    0.000    0.000    0.000 threading.py:566(Barrier)\n",
      "        1    0.000    0.000    0.000    0.000 threading.py:893(_set_tstate_lock)\n",
      "       10    0.000    0.000    0.000    0.000 _pytesttester.py:77(__init__)\n",
      "        1    0.000    0.000    0.000    0.000 subprocess.py:60(CalledProcessError)\n",
      "        1    0.000    0.000    0.000    0.000 selectors.py:79(BaseSelector)\n",
      "        1    0.000    0.000    0.000    0.000 numbers.py:294(Integral)\n",
      "        1    0.000    0.000    0.000    0.000 datetime.py:337(timedelta)\n",
      "        1    0.000    0.000    0.000    0.000 datetime.py:659(date)\n",
      "        9    0.000    0.000    0.000    0.000 enum.py:181(<genexpr>)\n",
      "        1    0.000    0.000    0.000    0.000 _collections_abc.py:657(get)\n",
      "       25    0.000    0.000    0.000    0.000 _weakrefset.py:16(__init__)\n",
      "       13    0.000    0.000    0.000    0.000 {method 'setter' of 'property' objects}\n",
      "        2    0.000    0.000    0.000    0.000 {method 'tolist' of 'memoryview' objects}\n",
      "       13    0.000    0.000    0.000    0.000 {built-in method builtins.max}\n",
      "        1    0.000    0.000    0.000    0.000 utils.py:1939(clear_and_catch_warnings)\n",
      "        1    0.000    0.000    0.000    0.000 loader.py:76(__init__)\n",
      "        1    0.000    0.000    0.000    0.000 <__array_function__ internals>:2(<module>)\n",
      "        1    0.000    0.000    0.000    0.000 threading.py:215(__init__)\n",
      "        1    0.000    0.000    0.000    0.000 threading.py:357(notify_all)\n",
      "        1    0.000    0.000    0.000    0.000 threading.py:203(Condition)\n",
      "        1    0.000    0.000    0.000    0.000 {built-in method _ctypes.dlopen}\n",
      "        1    0.000    0.000    0.000    0.000 _internal.py:218(_getintp_ctype)\n",
      "       13    0.000    0.000    0.000    0.000 _internal.py:830(npy_ctypes_check)\n",
      "        4    0.000    0.000    0.000    0.000 getlimits.py:521(max)\n",
      "        1    0.000    0.000    0.000    0.000 getlimits.py:444(iinfo)\n",
      "        1    0.000    0.000    0.000    0.000 fromnumeric.py:3037(ndim)\n",
      "        1    0.000    0.000    0.000    0.000 <string>:5(ArgSpec)\n",
      "        1    0.000    0.000    0.000    0.000 pickle.py:345(_Pickler)\n",
      "        1    0.000    0.000    0.000    0.000 pathlib.py:984(Path)\n",
      "        1    0.000    0.000    0.000    0.000 <string>:5(SplitResult)\n",
      "       27    0.000    0.000    0.000    0.000 pathlib.py:120(<genexpr>)\n",
      "        1    0.000    0.000    0.000    0.000 {built-in method numpy.empty}\n",
      "       23    0.000    0.000    0.000    0.000 overrides.py:202(array_function_from_dispatcher)\n",
      "        1    0.000    0.000    0.000    0.000 <string>:5(usage)\n",
      "        3    0.000    0.000    0.000    0.000 enum.py:65(__init__)\n",
      "        1    0.000    0.000    0.000    0.000 weakref.py:354(__init__)\n",
      "       40    0.000    0.000    0.000    0.000 {method 'items' of 'collections.OrderedDict' objects}\n",
      "       15    0.000    0.000    0.000    0.000 {method 'discard' of 'set' objects}\n",
      "       25    0.000    0.000    0.000    0.000 {method 'remove' of 'set' objects}\n",
      "       27    0.000    0.000    0.000    0.000 {method 'lstrip' of 'str' objects}\n",
      "       72    0.000    0.000    0.000    0.000 {built-in method builtins.abs}\n",
      "        1    0.000    0.000    0.000    0.000 argparse.py:1594(ArgumentParser)\n",
      "        1    0.000    0.000    0.000    0.000 __init__.py:1590(LoggerAdapter)\n",
      "        1    0.000    0.000    0.000    0.000 <string>:5(_LoggingWatcher)\n",
      "        1    0.000    0.000    0.000    0.000 <string>:5(Match)\n",
      "        1    0.000    0.000    0.000    0.000 core.py:883(_DomainGreaterEqual)\n",
      "        1    0.000    0.000    0.000    0.000 threading.py:334(notify)\n",
      "       38    0.000    0.000    0.000    0.000 {built-in method _ctypes.sizeof}\n",
      "        2    0.000    0.000    0.000    0.000 arrayprint.py:1562(set_string_function)\n",
      "        1    0.000    0.000    0.000    0.000 _ufunc_config.py:452(_setdef)\n",
      "        1    0.000    0.000    0.000    0.000 numeric.py:1786(isscalar)\n",
      "        1    0.000    0.000    0.000    0.000 <string>:5(DefragResult)\n",
      "       25    0.000    0.000    0.000    0.000 {method '__subclasses__' of 'type' objects}\n",
      "       36    0.000    0.000    0.000    0.000 {method 'upper' of 'str' objects}\n",
      "        1    0.000    0.000    0.000    0.000 {built-in method posix.urandom}\n",
      "       17    0.000    0.000    0.000    0.000 {built-in method _imp.exec_builtin}\n",
      "       45    0.000    0.000    0.000    0.000 {built-in method builtins.divmod}\n",
      "        1    0.000    0.000    0.000    0.000 {built-in method builtins.sorted}\n",
      "        1    0.000    0.000    0.000    0.000 loader.py:66(TestLoader)\n",
      "        1    0.000    0.000    0.000    0.000 argparse.py:877(_StoreConstAction)\n",
      "        1    0.000    0.000    0.000    0.000 argparse.py:1233(_ActionsContainer)\n",
      "        1    0.000    0.000    0.000    0.000 __init__.py:1582(__init__)\n",
      "        1    0.000    0.000    0.000    0.000 __init__.py:219(_acquireLock)\n",
      "        4    0.000    0.000    0.000    0.000 core.py:3363(dtype)\n",
      "        1    0.000    0.000    0.000    0.000 {built-in method _hashlib.openssl_md5}\n",
      "        1    0.000    0.000    0.000    0.000 core.py:1335(make_mask_descr)\n",
      "       14    0.000    0.000    0.000    0.000 mixins.py:30(_reflected_binary_method)\n",
      "        1    0.000    0.000    0.000    0.000 traceback.py:227(FrameSummary)\n",
      "        3    0.000    0.000    0.000    0.000 __init__.py:477(CFunctionType)\n",
      "        1    0.000    0.000    0.000    0.000 subprocess.py:97(TimeoutExpired)\n",
      "        1    0.000    0.000    0.000    0.000 machar.py:18(MachAr)\n",
      "        2    0.000    0.000    0.000    0.000 _asarray.py:88(asanyarray)\n",
      "        1    0.000    0.000    0.000    0.000 _exceptions.py:143(_ArrayMemoryError)\n",
      "       16    0.000    0.000    0.000    0.000 _dtype.py:36(_kind_name)\n",
      "       43    0.000    0.000    0.000    0.000 _compat_pickle.py:165(<genexpr>)\n",
      "       18    0.000    0.000    0.000    0.000 {built-in method numpy.geterrobj}\n",
      "        1    0.000    0.000    0.000    0.000 bz2.py:32(BZ2File)\n",
      "        1    0.000    0.000    0.000    0.000 lzma.py:38(LZMAFile)\n",
      "        1    0.000    0.000    0.000    0.000 _iotools.py:276(NameValidator)\n",
      "        1    0.000    0.000    0.000    0.000 re.py:249(escape)\n",
      "        1    0.000    0.000    0.000    0.000 weakref.py:288(update)\n",
      "        1    0.000    0.000    0.000    0.000 posixpath.py:75(join)\n",
      "       17    0.000    0.000    0.000    0.000 <frozen importlib._bootstrap>:753(is_package)\n",
      "        2    0.000    0.000    0.000    0.000 {built-in method posix.getpid}\n",
      "       15    0.000    0.000    0.000    0.000 {built-in method builtins.id}\n",
      "        3    0.000    0.000    0.000    0.000 {built-in method builtins.vars}\n",
      "        1    0.000    0.000    0.000    0.000 main.py:49(TestProgram)\n",
      "        6    0.000    0.000    0.000    0.000 case.py:420(addTypeEqualityFunc)\n",
      "        1    0.000    0.000    0.000    0.000 __init__.py:762(Handler)\n",
      "        1    0.000    0.000    0.000    0.000 __init__.py:1268(__init__)\n",
      "        1    0.000    0.000    0.000    0.000 extras.py:1522(__init__)\n",
      "        1    0.000    0.000    0.000    0.000 core.py:6152(mvoid)\n",
      "        1    0.000    0.000    0.000    0.000 core.py:1321(_replace_dtype_fields)\n",
      "        3    0.000    0.000    0.000    0.000 index_tricks.py:312(__init__)\n",
      "        1    0.000    0.000    0.000    0.000 tokenize.py:113(any)\n",
      "        1    0.000    0.000    0.000    0.000 __init__.py:311(CDLL)\n",
      "        1    0.000    0.000    0.000    0.000 _internal.py:250(_ctypes)\n",
      "        1    0.000    0.000    0.000    0.000 fromnumeric.py:74(<dictcomp>)\n",
      "        1    0.000    0.000    0.000    0.000 _type_aliases.py:63(<setcomp>)\n",
      "        1    0.000    0.000    0.000    0.000 parse.py:348(_fix_result_transcoding)\n",
      "        1    0.000    0.000    0.000    0.000 pathlib.py:126(<setcomp>)\n",
      "        1    0.000    0.000    0.000    0.000 {method 'view' of 'numpy.generic' objects}\n",
      "       15    0.000    0.000    0.000    0.000 _inspect.py:144(<lambda>)\n",
      "       16    0.000    0.000    0.000    0.000 _inspect.py:145(<lambda>)\n",
      "        9    0.000    0.000    0.000    0.000 __future__.py:79(__init__)\n",
      "        1    0.000    0.000    0.000    0.000 copyreg.py:12(pickle)\n",
      "        3    0.000    0.000    0.000    0.000 enum.py:337(__members__)\n",
      "       15    0.000    0.000    0.000    0.000 enum.py:868(<lambda>)\n",
      "        5    0.000    0.000    0.000    0.000 {method 'keys' of 'dict' objects}\n",
      "       17    0.000    0.000    0.000    0.000 {method 'values' of 'dict' objects}\n",
      "        2    0.000    0.000    0.000    0.000 {method 'clear' of 'dict' objects}\n",
      "       19    0.000    0.000    0.000    0.000 {method 'bit_length' of 'int' objects}\n",
      "        4    0.000    0.000    0.000    0.000 {method 'insert' of 'list' objects}\n",
      "       25    0.000    0.000    0.000    0.000 {method '__subclasshook__' of 'object' objects}\n",
      "        3    0.000    0.000    0.000    0.000 {method 'mro' of 'type' objects}\n",
      "        9    0.000    0.000    0.000    0.000 {method 'encode' of 'str' objects}\n",
      "        1    0.000    0.000    0.000    0.000 {method 'find' of 'str' objects}\n",
      "        1    0.000    0.000    0.000    0.000 {method 'groups' of '_sre.SRE_Match' objects}\n",
      "        4    0.000    0.000    0.000    0.000 {built-in method _warnings._filters_mutated}\n",
      "        1    0.000    0.000    0.000    0.000 utils.py:2005(suppress_warnings)\n",
      "        1    0.000    0.000    0.000    0.000 tempfile.py:275(_RandomNameSequence)\n",
      "        1    0.000    0.000    0.000    0.000 suite.py:16(BaseTestSuite)\n",
      "       10    0.000    0.000    0.000    0.000 case.py:1316(_deprecate)\n",
      "        1    0.000    0.000    0.000    0.000 difflib.py:43(SequenceMatcher)\n",
      "        1    0.000    0.000    0.000    0.000 difflib.py:1707(HtmlDiff)\n",
      "        1    0.000    0.000    0.000    0.000 __init__.py:471(__init__)\n",
      "        1    0.000    0.000    0.000    0.000 __init__.py:426(Formatter)\n",
      "        1    0.000    0.000    0.000    0.000 __init__.py:643(Filter)\n",
      "        1    0.000    0.000    0.000    0.000 __init__.py:800(createLock)\n",
      "        1    0.000    0.000    0.000    0.000 __init__.py:1150(__init__)\n",
      "        1    0.000    0.000    0.000    0.000 extras.py:1474(MAxisConcatenator)\n",
      "        1    0.000    0.000    0.000    0.000 core.py:2389(_MaskedPrintOption)\n",
      "        4    0.000    0.000    0.000    0.000 core.py:6352(__has_singleton)\n",
      "        2    0.000    0.000    0.000    0.000 core.py:6440(__setattr__)\n",
      "        1    0.000    0.000    0.000    0.000 random.py:668(SystemRandom)\n",
      "        1    0.000    0.000    0.000    0.000 core.py:202(<listcomp>)\n",
      "        3    0.000    0.000    0.000    0.000 core.py:1368(getmask)\n",
      "        1    0.000    0.000    0.000    0.000 hmac.py:19(HMAC)\n",
      "        1    0.000    0.000    0.000    0.000 arrayterator.py:20(Arrayterator)\n",
      "        1    0.000    0.000    0.000    0.000 npyio.py:122(NpzFile)\n",
      "        1    0.000    0.000    0.000    0.000 _datasource.py:144(_FileOpeners)\n",
      "        1    0.000    0.000    0.000    0.000 _datasource.py:272(DataSource)\n",
      "        1    0.000    0.000    0.000    0.000 index_tricks.py:252(__init__)\n",
      "        1    0.000    0.000    0.000    0.000 index_tricks.py:296(__init__)\n",
      "        1    0.000    0.000    0.000    0.000 index_tricks.py:302(AxisConcatenator)\n",
      "        1    0.000    0.000    0.000    0.000 index_tricks.py:517(__init__)\n",
      "        1    0.000    0.000    0.000    0.000 index_tricks.py:547(__init__)\n",
      "        2    0.000    0.000    0.000    0.000 index_tricks.py:728(__init__)\n",
      "        2    0.000    0.000    0.000    0.000 threading.py:74(RLock)\n",
      "        1    0.000    0.000    0.000    0.000 threading.py:87(_RLock)\n",
      "        1    0.000    0.000    0.000    0.000 threading.py:239(__enter__)\n",
      "        1    0.000    0.000    0.000    0.000 threading.py:242(__exit__)\n",
      "        1    0.000    0.000    0.000    0.000 threading.py:254(_is_owned)\n",
      "        1    0.000    0.000    0.000    0.000 traceback.py:438(TracebackException)\n",
      "        1    0.000    0.000    0.000    0.000 tokenize.py:99(TokenInfo)\n",
      "        2    0.000    0.000    0.000    0.000 tokenize.py:114(maybe)\n",
      "        3    0.000    0.000    0.000    0.000 __init__.py:99(CFunctionType)\n",
      "        1    0.000    0.000    0.000    0.000 __init__.py:151(py_object)\n",
      "        1    0.000    0.000    0.000    0.000 __init__.py:342(_FuncPtr)\n",
      "        1    0.000    0.000    0.000    0.000 selectors.py:59(_SelectorMapping)\n",
      "        1    0.000    0.000    0.000    0.000 selectors.py:205(_BaseSelectorImpl)\n",
      "        1    0.000    0.000    0.000    0.000 selectors.py:290(SelectSelector)\n",
      "        8    0.000    0.000    0.000    0.000 getlimits.py:92(_register_type)\n",
      "        1    0.000    0.000    0.000    0.000 fromnumeric.py:3033(_ndim_dispatcher)\n",
      "        1    0.000    0.000    0.000    0.000 numbers.py:267(Rational)\n",
      "        6    0.000    0.000    0.000    0.000 _type_aliases.py:113(<genexpr>)\n",
      "        1    0.000    0.000    0.000    0.000 pathlib.py:274(_PosixFlavour)\n",
      "        1    0.000    0.000    0.000    0.000 parse.py:142(_NetlocResultMixinBase)\n",
      "        2    0.000    0.000    0.000    0.000 pathlib.py:48(__init__)\n",
      "        1    0.000    0.000    0.000    0.000 pathlib.py:44(_Flavour)\n",
      "        2    0.000    0.000    0.000    0.000 {built-in method numpy.core._multiarray_umath.set_string_function}\n",
      "        3    0.000    0.000    0.000    0.000 datetime.py:41(_days_before_year)\n",
      "        1    0.000    0.000    0.000    0.000 _datasource.py:626(Repository)\n",
      "        1    0.000    0.000    0.000    0.000 _compression.py:33(DecompressReader)\n",
      "        2    0.000    0.000    0.000    0.000 functools.py:448(lru_cache)\n",
      "        2    0.000    0.000    0.000    0.000 posixpath.py:41(_get_sep)\n",
      "        1    0.000    0.000    0.000    0.000 posixpath.py:52(normcase)\n",
      "        4    0.000    0.000    0.000    0.000 {method 'setdefault' of 'dict' objects}\n",
      "        2    0.000    0.000    0.000    0.000 {built-in method maketrans}\n",
      "        1    0.000    0.000    0.000    0.000 {method 'expandtabs' of 'str' objects}\n",
      "        2    0.000    0.000    0.000    0.000 {built-in method math.log}\n",
      "        1    0.000    0.000    0.000    0.000 {built-in method math.sqrt}\n",
      "        1    0.000    0.000    0.000    0.000 {method 'acquire' of '_thread.RLock' objects}\n",
      "        1    0.000    0.000    0.000    0.000 {method 'release' of '_thread.RLock' objects}\n",
      "        2    0.000    0.000    0.000    0.000 {method 'acquire' of '_thread.lock' objects}\n",
      "        1    0.000    0.000    0.000    0.000 runner.py:13(_WritelnDecorator)\n",
      "        1    0.000    0.000    0.000    0.000 runner.py:120(TextTestRunner)\n",
      "        1    0.000    0.000    0.000    0.000 signals.py:9(_InterruptHandler)\n",
      "        1    0.000    0.000    0.000    0.000 utils.py:47(KnownFailureException)\n",
      "        1    0.000    0.000    0.000    0.000 utils.py:1897(IgnoreException)\n",
      "        1    0.000    0.000    0.000    0.000 tempfile.py:557(_TemporaryFileCloser)\n",
      "        1    0.000    0.000    0.000    0.000 tempfile.py:918(TemporaryDirectory)\n",
      "        1    0.000    0.000    0.000    0.000 decorators.py:99(skipif)\n",
      "        1    0.000    0.000    0.000    0.000 nosetester.py:115(NoseTester)\n",
      "        1    0.000    0.000    0.000    0.000 loader.py:23(_FailedTest)\n",
      "        1    0.000    0.000    0.000    0.000 argparse.py:118(_AttributeHolder)\n",
      "        1    0.000    0.000    0.000    0.000 argparse.py:209(_Section)\n",
      "        1    0.000    0.000    0.000    0.000 argparse.py:650(RawDescriptionHelpFormatter)\n",
      "        1    0.000    0.000    0.000    0.000 argparse.py:672(ArgumentDefaultsHelpFormatter)\n",
      "        1    0.000    0.000    0.000    0.000 argparse.py:689(MetavarTypeHelpFormatter)\n",
      "        1    0.000    0.000    0.000    0.000 argparse.py:722(ArgumentError)\n",
      "        1    0.000    0.000    0.000    0.000 argparse.py:742(ArgumentTypeError)\n",
      "        1    0.000    0.000    0.000    0.000 argparse.py:751(Action)\n",
      "        1    0.000    0.000    0.000    0.000 argparse.py:842(_StoreAction)\n",
      "        1    0.000    0.000    0.000    0.000 argparse.py:917(_StoreFalseAction)\n",
      "        1    0.000    0.000    0.000    0.000 argparse.py:971(_AppendConstAction)\n",
      "        1    0.000    0.000    0.000    0.000 argparse.py:997(_CountAction)\n",
      "        1    0.000    0.000    0.000    0.000 argparse.py:1065(_ChoicesPseudoAction)\n",
      "        1    0.000    0.000    0.000    0.000 argparse.py:1159(FileType)\n",
      "        1    0.000    0.000    0.000    0.000 argparse.py:1213(Namespace)\n",
      "        1    0.000    0.000    0.000    0.000 argparse.py:1540(_ArgumentGroup)\n",
      "        1    0.000    0.000    0.000    0.000 __init__.py:1966(NullHandler)\n",
      "        1    0.000    0.000    0.000    0.000 string.py:55(_TemplateMetaclass)\n",
      "        1    0.000    0.000    0.000    0.000 string.py:77(Template)\n",
      "        1    0.000    0.000    0.000    0.000 string.py:173(Formatter)\n",
      "        1    0.000    0.000    0.000    0.000 pprint.py:72(_safe_key)\n",
      "        1    0.000    0.000    0.000    0.000 suite.py:92(TestSuite)\n",
      "        1    0.000    0.000    0.000    0.000 suite.py:270(_ErrorHolder)\n",
      "        1    0.000    0.000    0.000    0.000 case.py:278(_CapturingHandler)\n",
      "        1    0.000    0.000    0.000    0.000 case.py:1338(FunctionTestCase)\n",
      "        1    0.000    0.000    0.000    0.000 case.py:1396(_SubTest)\n",
      "        1    0.000    0.000    0.000    0.000 difflib.py:751(Differ)\n",
      "        1    0.000    0.000    0.000    0.000 __init__.py:601(BufferingFormatter)\n",
      "        2    0.000    0.000    0.000    0.000 __init__.py:685(__init__)\n",
      "        1    0.000    0.000    0.000    0.000 __init__.py:680(Filterer)\n",
      "        2    0.000    0.000    0.000    0.000 __init__.py:190(_checkLevel)\n",
      "        1    0.000    0.000    0.000    0.000 __init__.py:228(_releaseLock)\n",
      "        1    0.000    0.000    0.000    0.000 __init__.py:239(LogRecord)\n",
      "        1    0.000    0.000    0.000    0.000 __init__.py:384(__init__)\n",
      "        1    0.000    0.000    0.000    0.000 __init__.py:378(PercentStyle)\n",
      "        1    0.000    0.000    0.000    0.000 __init__.py:393(StrFormatStyle)\n",
      "        1    0.000    0.000    0.000    0.000 __init__.py:951(StreamHandler)\n",
      "        1    0.000    0.000    0.000    0.000 __init__.py:1079(_StderrHandler)\n",
      "        1    0.000    0.000    0.000    0.000 __init__.py:1145(Manager)\n",
      "        1    0.000    0.000    0.000    0.000 extras.py:217(_fromnxfunction)\n",
      "        1    0.000    0.000    0.000    0.000 extras.py:303(_fromnxfunction_args)\n",
      "        1    0.000    0.000    0.000    0.000 extras.py:1504(mr_class)\n",
      "        1    0.000    0.000    0.000    0.000 case.py:38(_UnexpectedSuccess)\n",
      "        1    0.000    0.000    0.000    0.000 case.py:137(_AssertRaisesBaseContext)\n",
      "        1    0.000    0.000    0.000    0.000 case.py:184(_AssertRaisesContext)\n",
      "        1    0.000    0.000    0.000    0.000 case.py:221(_AssertWarnsContext)\n",
      "        1    0.000    0.000    0.000    0.000 core.py:2395(__init__)\n",
      "        1    0.000    0.000    0.000    0.000 core.py:2607(MaskedIterator)\n",
      "        2    0.000    0.000    0.000    0.000 core.py:3379(shape)\n",
      "        1    0.000    0.000    0.000    0.000 core.py:6532(_extrema_operation)\n",
      "        1    0.000    0.000    0.000    0.000 core.py:6649(_frommethod)\n",
      "        1    0.000    0.000    0.000    0.000 core.py:7983(_convert2ma)\n",
      "        1    0.000    0.000    0.000    0.000 {built-in method _hashlib.openssl_sha256}\n",
      "        1    0.000    0.000    0.000    0.000 {built-in method _hashlib.openssl_sha384}\n",
      "        1    0.000    0.000    0.000    0.000 {built-in method _hashlib.openssl_sha512}\n",
      "        1    0.000    0.000    0.000    0.000 ctypeslib.py:179(_ndptr)\n",
      "        1    0.000    0.000    0.000    0.000 ctypeslib.py:200(_concrete_ndptr)\n",
      "        1    0.000    0.000    0.000    0.000 core.py:91(MaskedArrayFutureWarning)\n",
      "        1    0.000    0.000    0.000    0.000 core.py:204(<listcomp>)\n",
      "        3    0.000    0.000    0.000    0.000 core.py:812(__init__)\n",
      "        6    0.000    0.000    0.000    0.000 core.py:852(__init__)\n",
      "        1    0.000    0.000    0.000    0.000 core.py:867(_DomainGreater)\n",
      "        1    0.000    0.000    0.000    0.000 core.py:899(_MaskedUFunc)\n",
      "        1    0.000    0.000    0.000    0.000 core.py:909(_MaskedUnaryOperation)\n",
      "        1    0.000    0.000    0.000    0.000 core.py:983(_MaskedBinaryOperation)\n",
      "        1    0.000    0.000    0.000    0.000 core.py:1131(_DomainedBinaryOperation)\n",
      "        1    0.000    0.000    0.000    0.000 core.py:1289(_replace_dtype_fields_recursive)\n",
      "        1    0.000    0.000    0.000    0.000 polyutils.py:62(RankWarning)\n",
      "        1    0.000    0.000    0.000    0.000 polyutils.py:83(PolyBase)\n",
      "        1    0.000    0.000    0.000    0.000 _version.py:18(NumpyVersion)\n",
      "        1    0.000    0.000    0.000    0.000 utils.py:70(__init__)\n",
      "        1    0.000    0.000    0.000    0.000 utils.py:58(_Deprecate)\n",
      "        1    0.000    0.000    0.000    0.000 _datasource.py:169(__init__)\n",
      "        1    0.000    0.000    0.000    0.000 stride_tricks.py:16(DummyArray)\n",
      "        1    0.000    0.000    0.000    0.000 polynomial.py:30(RankWarning)\n",
      "        1    0.000    0.000    0.000    0.000 function_base.py:1878(vectorize)\n",
      "        1    0.000    0.000    0.000    0.000 index_tricks.py:110(nd_grid)\n",
      "        1    0.000    0.000    0.000    0.000 index_tricks.py:210(MGridClass)\n",
      "        1    0.000    0.000    0.000    0.000 index_tricks.py:522(CClass)\n",
      "        1    0.000    0.000    0.000    0.000 index_tricks.py:554(ndenumerate)\n",
      "        1    0.000    0.000    0.000    0.000 index_tricks.py:684(IndexExpression)\n",
      "        1    0.000    0.000    0.000    0.000 ast.py:229(NodeVisitor)\n",
      "        4    0.000    0.000    0.000    0.000 mixins.py:55(_unary_method)\n",
      "        1    0.000    0.000    0.000    0.000 selectors.py:343(PollSelector)\n",
      "        1    0.000    0.000    0.000    0.000 selectors.py:394(EpollSelector)\n",
      "        1    0.000    0.000    0.000    0.000 threading.py:369(Semaphore)\n",
      "        1    0.000    0.000    0.000    0.000 threading.py:449(BoundedSemaphore)\n",
      "        1    0.000    0.000    0.000    0.000 threading.py:487(Event)\n",
      "        1    0.000    0.000    0.000    0.000 threading.py:890(_set_ident)\n",
      "        1    0.000    0.000    0.000    0.000 threading.py:1158(Timer)\n",
      "        1    0.000    0.000    0.000    0.000 threading.py:1188(_MainThread)\n",
      "        1    0.000    0.000    0.000    0.000 traceback.py:316(StackSummary)\n",
      "        1    0.000    0.000    0.000    0.000 tokenize.py:217(TokenError)\n",
      "        1    0.000    0.000    0.000    0.000 tokenize.py:222(Untokenizer)\n",
      "        1    0.000    0.000    0.000    0.000 __init__.py:168(c_long)\n",
      "        1    0.000    0.000    0.000    0.000 __init__.py:185(c_uint)\n",
      "        1    0.000    0.000    0.000    0.000 __init__.py:193(c_double)\n",
      "        1    0.000    0.000    0.000    0.000 __init__.py:225(c_byte)\n",
      "        1    0.000    0.000    0.000    0.000 __init__.py:230(c_char)\n",
      "        1    0.000    0.000    0.000    0.000 __init__.py:241(c_void_p)\n",
      "        1    0.000    0.000    0.000    0.000 __init__.py:246(c_bool)\n",
      "        1    0.000    0.000    0.000    0.000 __init__.py:251(c_wchar_p)\n",
      "        1    0.000    0.000    0.000    0.000 __init__.py:371(PyDLL)\n",
      "        2    0.000    0.000    0.000    0.000 __init__.py:412(__init__)\n",
      "        1    0.000    0.000    0.000    0.000 __init__.py:411(LibraryLoader)\n",
      "        1    0.000    0.000    0.000    0.000 _endian.py:23(_swapped_meta)\n",
      "        1    0.000    0.000    0.000    0.000 _endian.py:46(BigEndianStructure)\n",
      "        1    0.000    0.000    0.000    0.000 _internal.py:206(dummy_ctype)\n",
      "        1    0.000    0.000    0.000    0.000 _internal.py:526(_Stream)\n",
      "        1    0.000    0.000    0.000    0.000 _internal.py:848(recursive)\n",
      "        1    0.000    0.000    0.000    0.000 subprocess.py:57(SubprocessError)\n",
      "        1    0.000    0.000    0.000    0.000 subprocess.py:359(CompletedProcess)\n",
      "        1    0.000    0.000    0.000    0.000 records.py:100(format_parser)\n",
      "        1    0.000    0.000    0.000    0.000 records.py:234(record)\n",
      "        1    0.000    0.000    0.000    0.000 records.py:319(recarray)\n",
      "        1    0.000    0.000    0.000    0.000 function_base.py:21(_linspace_dispatcher)\n",
      "        1    0.000    0.000    0.000    0.000 memmap.py:24(memmap)\n",
      "        1    0.000    0.000    0.000    0.000 getlimits.py:34(MachArLike)\n",
      "        1    0.000    0.000    0.000    0.000 _ufunc_config.py:36(<dictcomp>)\n",
      "        1    0.000    0.000    0.000    0.000 _ufunc_config.py:375(errstate)\n",
      "        2    0.000    0.000    0.000    0.000 arrayprint.py:464(_recursive_guard)\n",
      "        1    0.000    0.000    0.000    0.000 arrayprint.py:1143(IntegerFormat)\n",
      "        1    0.000    0.000    0.000    0.000 arrayprint.py:1156(BoolFormat)\n",
      "        1    0.000    0.000    0.000    0.000 arrayprint.py:1221(DatetimeFormat)\n",
      "        1    0.000    0.000    0.000    0.000 _exceptions.py:40(_UFuncBinaryResolutionError)\n",
      "        1    0.000    0.000    0.000    0.000 _exceptions.py:83(_UFuncInputCastingError)\n",
      "        1    0.000    0.000    0.000    0.000 _exceptions.py:101(_UFuncOutputCastingError)\n",
      "        1    0.000    0.000    0.000    0.000 _exceptions.py:125(AxisError)\n",
      "        1    0.000    0.000    0.000    0.000 numerictypes.py:429(_typedict)\n",
      "        1    0.000    0.000    0.000    0.000 _type_aliases.py:36(TypeNADict)\n",
      "        1    0.000    0.000    0.000    0.000 numeric.py:74(ComplexWarning)\n",
      "        1    0.000    0.000    0.000    0.000 pickle.py:75(UnpicklingError)\n",
      "        1    0.000    0.000    0.000    0.000 pickle.py:88(_Stop)\n",
      "        1    0.000    0.000    0.000    0.000 pickle.py:184(_Framer)\n",
      "        1    0.000    0.000    0.000    0.000 pickle.py:220(_Unframer)\n",
      "        1    0.000    0.000    0.000    0.000 pathlib.py:467(_Selector)\n",
      "        1    0.000    0.000    0.000    0.000 pathlib.py:492(_TerminatingSelector)\n",
      "        1    0.000    0.000    0.000    0.000 pathlib.py:574(_PathParents)\n",
      "        1    0.000    0.000    0.000    0.000 parse.py:134(_ResultMixinBytes)\n",
      "        1    0.000    0.000    0.000    0.000 parse.py:175(_NetlocResultMixinStr)\n",
      "        1    0.000    0.000    0.000    0.000 parse.py:761(Quoter)\n",
      "        1    0.000    0.000    0.000    0.000 py3k.py:116(contextlib_nullcontext)\n",
      "        1    0.000    0.000    0.000    0.000 pathlib.py:127(<setcomp>)\n",
      "        2    0.000    0.000    0.000    0.000 {method 'view' of 'numpy.ndarray' objects}\n",
      "        1    0.000    0.000    0.000    0.000 {built-in method numpy.core._multiarray_umath.set_typeDict}\n",
      "        1    0.000    0.000    0.000    0.000 version.py:5(<module>)\n",
      "        1    0.000    0.000    0.000    0.000 multiarray.py:635(result_type)\n",
      "        5    0.000    0.000    0.000    0.000 datetime.py:46(_days_in_month)\n",
      "        5    0.000    0.000    0.000    0.000 datetime.py:309(_check_tzinfo_arg)\n",
      "        1    0.000    0.000    0.000    0.000 datetime.py:964(tzinfo)\n",
      "        3    0.000    0.000    0.000    0.000 datetime.py:2014(_create)\n",
      "        1    0.000    0.000    0.000    0.000 __future__.py:78(_Feature)\n",
      "        1    0.000    0.000    0.000    0.000 _globals.py:46(VisibleDeprecationWarning)\n",
      "        9    0.000    0.000    0.000    0.000 _globals.py:77(__repr__)\n",
      "        1    0.000    0.000    0.000    0.000 _globals.py:59(_NoValueType)\n",
      "        1    0.000    0.000    0.000    0.000 shutil.py:55(Error)\n",
      "        1    0.000    0.000    0.000    0.000 shutil.py:61(SpecialFileError)\n",
      "        1    0.000    0.000    0.000    0.000 shutil.py:71(RegistryError)\n",
      "        1    0.000    0.000    0.000    0.000 _compression.py:9(BaseStream)\n",
      "        1    0.000    0.000    0.000    0.000 _iotools.py:176(LineSplitter)\n",
      "        1    0.000    0.000    0.000    0.000 _iotools.py:478(ConverterLockError)\n",
      "        1    0.000    0.000    0.000    0.000 copyreg.py:22(constructor)\n",
      "        1    0.000    0.000    0.000    0.000 os.py:1067(__subclasshook__)\n",
      "        1    0.000    0.000    0.000    0.000 {method 'rfind' of 'str' objects}\n",
      "        1    0.000    0.000    0.000    0.000 {built-in method time.time}\n",
      "        1    0.000    0.000    0.000    0.000 {built-in method atexit.register}\n",
      "        1    0.000    0.000    0.000    0.000 {built-in method _thread._set_sentinel}\n",
      "        1    0.000    0.000    0.000    0.000 {method '__enter__' of '_thread.lock' objects}\n",
      "        1    0.000    0.000    0.000    0.000 {method '__exit__' of '_thread.lock' objects}\n",
      "        1    0.000    0.000    0.000    0.000 {built-in method _operator.index}\n",
      "        2    0.000    0.000    0.000    0.000 {built-in method builtins.callable}\n",
      "        1    0.000    0.000    0.000    0.000 utils.py:1293(_Dummy)\n",
      "        1    0.000    0.000    0.000    0.000 tempfile.py:600(_TemporaryFileWrapper)\n",
      "        1    0.000    0.000    0.000    0.000 suite.py:317(_DebugResult)\n",
      "        1    0.000    0.000    0.000    0.000 argparse.py:661(RawTextHelpFormatter)\n",
      "        1    0.000    0.000    0.000    0.000 argparse.py:900(_StoreTrueAction)\n",
      "        1    0.000    0.000    0.000    0.000 argparse.py:934(_AppendAction)\n",
      "        1    0.000    0.000    0.000    0.000 argparse.py:1018(_HelpAction)\n",
      "        1    0.000    0.000    0.000    0.000 argparse.py:1037(_VersionAction)\n",
      "        1    0.000    0.000    0.000    0.000 argparse.py:1574(_MutuallyExclusiveGroup)\n",
      "        1    0.000    0.000    0.000    0.000 __init__.py:1576(RootLogger)\n",
      "        1    0.000    0.000    0.000    0.000 case.py:297(_AssertLogsContext)\n",
      "        1    0.000    0.000    0.000    0.000 __init__.py:402(StringTemplateStyle)\n",
      "        1    0.000    0.000    0.000    0.000 __init__.py:1010(FileHandler)\n",
      "        1    0.000    0.000    0.000    0.000 __init__.py:1103(PlaceHolder)\n",
      "        1    0.000    0.000    0.000    0.000 extras.py:272(_fromnxfunction_single)\n",
      "        1    0.000    0.000    0.000    0.000 extras.py:290(_fromnxfunction_seq)\n",
      "        1    0.000    0.000    0.000    0.000 extras.py:328(_fromnxfunction_allargs)\n",
      "        1    0.000    0.000    0.000    0.000 case.py:25(SkipTest)\n",
      "        1    0.000    0.000    0.000    0.000 case.py:33(_ShouldStop)\n",
      "        1    0.000    0.000    0.000    0.000 case.py:128(_BaseTestCaseContext)\n",
      "        1    0.000    0.000    0.000    0.000 random.py:690(seed)\n",
      "        1    0.000    0.000    0.000    0.000 core.py:162(MAError)\n",
      "        1    0.000    0.000    0.000    0.000 core.py:170(MaskError)\n",
      "        1    0.000    0.000    0.000    0.000 core.py:803(_DomainCheckInterval)\n",
      "        1    0.000    0.000    0.000    0.000 core.py:836(__init__)\n",
      "        1    0.000    0.000    0.000    0.000 core.py:828(_DomainTan)\n",
      "        1    0.000    0.000    0.000    0.000 core.py:846(_DomainSafeDivide)\n",
      "        3    0.000    0.000    0.000    0.000 core.py:873(__init__)\n",
      "        2    0.000    0.000    0.000    0.000 core.py:889(__init__)\n",
      "        1    0.000    0.000    0.000    0.000 polyutils.py:66(PolyError)\n",
      "        1    0.000    0.000    0.000    0.000 polyutils.py:70(PolyDomainError)\n",
      "        1    0.000    0.000    0.000    0.000 utils.py:53(_set_function_name)\n",
      "        2    0.000    0.000    0.000    0.000 index_tricks.py:145(__init__)\n",
      "        1    0.000    0.000    0.000    0.000 index_tricks.py:257(OGridClass)\n",
      "        1    0.000    0.000    0.000    0.000 index_tricks.py:422(RClass)\n",
      "        1    0.000    0.000    0.000    0.000 index_tricks.py:605(ndindex)\n",
      "        1    0.000    0.000    0.000    0.000 ast.py:266(NodeTransformer)\n",
      "        1    0.000    0.000    0.000    0.000 linalg.py:52(LinAlgError)\n",
      "        1    0.000    0.000    0.000    0.000 _pytesttester.py:47(PytestTester)\n",
      "        1    0.000    0.000    0.000    0.000 threading.py:720(BrokenBarrierError)\n",
      "        1    0.000    0.000    0.000    0.000 tokenize.py:219(StopTokenizing)\n",
      "        1    0.000    0.000    0.000    0.000 __init__.py:160(c_short)\n",
      "        1    0.000    0.000    0.000    0.000 __init__.py:164(c_ushort)\n",
      "        1    0.000    0.000    0.000    0.000 __init__.py:172(c_ulong)\n",
      "        1    0.000    0.000    0.000    0.000 __init__.py:181(c_int)\n",
      "        1    0.000    0.000    0.000    0.000 __init__.py:189(c_float)\n",
      "        1    0.000    0.000    0.000    0.000 __init__.py:197(c_longdouble)\n",
      "        1    0.000    0.000    0.000    0.000 __init__.py:218(c_ubyte)\n",
      "        1    0.000    0.000    0.000    0.000 __init__.py:235(c_char_p)\n",
      "        1    0.000    0.000    0.000    0.000 __init__.py:256(c_wchar)\n",
      "        1    0.000    0.000    0.000    0.000 _internal.py:245(c_void_p)\n",
      "        1    0.000    0.000    0.000    0.000 records.py:81(_OrderedCounter)\n",
      "        1    0.000    0.000    0.000    0.000 _ufunc_config.py:368(_unspecified)\n",
      "        1    0.000    0.000    0.000    0.000 arrayprint.py:854(FloatingFormat)\n",
      "        1    0.000    0.000    0.000    0.000 arrayprint.py:1166(ComplexFloatingFormat)\n",
      "        1    0.000    0.000    0.000    0.000 arrayprint.py:1195(_TimelikeFormat)\n",
      "        1    0.000    0.000    0.000    0.000 arrayprint.py:1253(TimedeltaFormat)\n",
      "        1    0.000    0.000    0.000    0.000 arrayprint.py:1258(SubArrayFormat)\n",
      "        1    0.000    0.000    0.000    0.000 fromnumeric.py:2232(_any_dispatcher)\n",
      "        1    0.000    0.000    0.000    0.000 _exceptions.py:34(UFuncTypeError)\n",
      "        1    0.000    0.000    0.000    0.000 _exceptions.py:56(_UFuncNoLoopError)\n",
      "        1    0.000    0.000    0.000    0.000 _exceptions.py:74(_UFuncCastingError)\n",
      "        1    0.000    0.000    0.000    0.000 _exceptions.py:120(TooHardError)\n",
      "        1    0.000    0.000    0.000    0.000 numbers.py:12(Number)\n",
      "        1    0.000    0.000    0.000    0.000 pickle.py:64(PickleError)\n",
      "        1    0.000    0.000    0.000    0.000 pickle.py:68(PicklingError)\n",
      "        1    0.000    0.000    0.000    0.000 pathlib.py:377(_Accessor)\n",
      "        1    0.000    0.000    0.000    0.000 pathlib.py:498(_PreciseSelector)\n",
      "        1    0.000    0.000    0.000    0.000 pathlib.py:514(_WildcardSelector)\n",
      "        1    0.000    0.000    0.000    0.000 pathlib.py:537(_RecursiveWildcardSelector)\n",
      "        1    0.000    0.000    0.000    0.000 pathlib.py:961(PurePosixPath)\n",
      "        1    0.000    0.000    0.000    0.000 pathlib.py:971(PureWindowsPath)\n",
      "        1    0.000    0.000    0.000    0.000 pathlib.py:1446(PosixPath)\n",
      "        1    0.000    0.000    0.000    0.000 pathlib.py:1453(WindowsPath)\n",
      "        1    0.000    0.000    0.000    0.000 parse.py:126(_ResultMixinStr)\n",
      "        1    0.000    0.000    0.000    0.000 parse.py:205(_NetlocResultMixinBytes)\n",
      "        1    0.000    0.000    0.000    0.000 parse.py:310(DefragResult)\n",
      "        1    0.000    0.000    0.000    0.000 parse.py:318(SplitResult)\n",
      "        1    0.000    0.000    0.000    0.000 parse.py:323(ParseResult)\n",
      "        1    0.000    0.000    0.000    0.000 parse.py:329(DefragResultBytes)\n",
      "        1    0.000    0.000    0.000    0.000 parse.py:337(SplitResultBytes)\n",
      "        1    0.000    0.000    0.000    0.000 parse.py:342(ParseResultBytes)\n",
      "        1    0.000    0.000    0.000    0.000 _distributor_init.py:10(<module>)\n",
      "        1    0.000    0.000    0.000    0.000 multiarray.py:145(concatenate)\n",
      "        1    0.000    0.000    0.000    0.000 multiarray.py:1043(copyto)\n",
      "        1    0.000    0.000    0.000    0.000 _globals.py:32(ModuleDeprecationWarning)\n",
      "        1    0.000    0.000    0.000    0.000 shutil.py:58(SameFileError)\n",
      "        1    0.000    0.000    0.000    0.000 shutil.py:65(ExecError)\n",
      "        1    0.000    0.000    0.000    0.000 shutil.py:68(ReadError)\n",
      "        1    0.000    0.000    0.000    0.000 _iotools.py:470(ConverterError)\n",
      "        1    0.000    0.000    0.000    0.000 _iotools.py:486(ConversionWarning)\n",
      "        4    0.000    0.000    0.000    0.000 enum.py:599(value)\n",
      "        1    0.000    0.000    0.000    0.000 sre_parse.py:287(seek)\n",
      "        1    0.000    0.000    0.000    0.000 {method 'disable' of '_lsprof.Profiler' objects}\n",
      "        1    0.000    0.000    0.000    0.000 contextlib.py:36(_recreate_cm)\n",
      "\n",
      "\n"
     ]
    }
   ],
   "source": [
    "%%bash\n",
    "python3 -m cProfile -s cumulative Scf.py #función que nos ayuda a saber en qué parte de la función implementada\n",
    "                                        # se tarda más"
   ]
  },
  {
   "cell_type": "markdown",
   "metadata": {},
   "source": [
    "**Con %prun**"
   ]
  },
  {
   "cell_type": "code",
   "execution_count": 41,
   "metadata": {},
   "outputs": [
    {
     "name": "stdout",
     "output_type": "stream",
     "text": [
      " "
     ]
    },
    {
     "data": {
      "text/plain": [
       "         42 function calls (39 primitive calls) in 0.187 seconds\n",
       "\n",
       "   Ordered by: cumulative time\n",
       "\n",
       "   ncalls  tottime  percall  cumtime  percall filename:lineno(function)\n",
       "        1    0.000    0.000    0.187    0.187 {built-in method builtins.exec}\n",
       "        1    0.000    0.000    0.187    0.187 <string>:1(<module>)\n",
       "        1    0.000    0.000    0.187    0.187 <ipython-input-29-6c6cc8289b07>:1(Scf)\n",
       "        2    0.145    0.072    0.145    0.072 {built-in method builtins.sum}\n",
       "        4    0.023    0.006    0.023    0.006 <ipython-input-28-ee0e5f49bb79>:1(<lambda>)\n",
       "        1    0.000    0.000    0.019    0.019 <__array_function__ internals>:2(linspace)\n",
       "      4/1    0.000    0.000    0.019    0.019 {built-in method numpy.core._multiarray_umath.implement_array_function}\n",
       "        1    0.002    0.002    0.019    0.019 function_base.py:26(linspace)\n",
       "        1    0.017    0.017    0.017    0.017 {built-in method numpy.arange}\n",
       "        2    0.000    0.000    0.000    0.000 _asarray.py:88(asanyarray)\n",
       "        1    0.000    0.000    0.000    0.000 <__array_function__ internals>:2(any)\n",
       "        1    0.000    0.000    0.000    0.000 fromnumeric.py:2236(any)\n",
       "        1    0.000    0.000    0.000    0.000 fromnumeric.py:73(_wrapreduction)\n",
       "        1    0.000    0.000    0.000    0.000 <__array_function__ internals>:2(result_type)\n",
       "        2    0.000    0.000    0.000    0.000 {built-in method numpy.array}\n",
       "        1    0.000    0.000    0.000    0.000 {method 'any' of 'numpy.generic' objects}\n",
       "        1    0.000    0.000    0.000    0.000 _methods.py:44(_any)\n",
       "        1    0.000    0.000    0.000    0.000 <__array_function__ internals>:2(ndim)\n",
       "        1    0.000    0.000    0.000    0.000 {method 'reduce' of 'numpy.ufunc' objects}\n",
       "        1    0.000    0.000    0.000    0.000 {method 'reshape' of 'numpy.ndarray' objects}\n",
       "        1    0.000    0.000    0.000    0.000 numeric.py:1786(isscalar)\n",
       "        1    0.000    0.000    0.000    0.000 fromnumeric.py:3037(ndim)\n",
       "        1    0.000    0.000    0.000    0.000 {method 'astype' of 'numpy.ndarray' objects}\n",
       "        1    0.000    0.000    0.000    0.000 fromnumeric.py:74(<dictcomp>)\n",
       "        1    0.000    0.000    0.000    0.000 {method 'items' of 'dict' objects}\n",
       "        1    0.000    0.000    0.000    0.000 {built-in method _operator.index}\n",
       "        1    0.000    0.000    0.000    0.000 {built-in method builtins.getattr}\n",
       "        1    0.000    0.000    0.000    0.000 function_base.py:21(_linspace_dispatcher)\n",
       "        1    0.000    0.000    0.000    0.000 fromnumeric.py:3033(_ndim_dispatcher)\n",
       "        1    0.000    0.000    0.000    0.000 multiarray.py:635(result_type)\n",
       "        1    0.000    0.000    0.000    0.000 {method 'disable' of '_lsprof.Profiler' objects}\n",
       "        1    0.000    0.000    0.000    0.000 {built-in method builtins.isinstance}\n",
       "        1    0.000    0.000    0.000    0.000 fromnumeric.py:2232(_any_dispatcher)"
      ]
     },
     "metadata": {},
     "output_type": "display_data"
    }
   ],
   "source": [
    "%prun -s cumulative Scf(n,f,0,1)"
   ]
  },
  {
   "cell_type": "markdown",
   "metadata": {},
   "source": [
    "Como se puede observar en los outputs anteriores, aproximandamente el 93% de las llamadas son primitivas, lo que nos indica que la gran mayoría no son llamadas inducidas por recursividad. Lo cual es bastante bueno. \n",
    "\n",
    "Cuando en la primer columna hay dos números, significa que el segundo es el número de llamadas primitivas, y el primero es el número real de llamadas. Cuando la función no se repite estos dos números son iguales.\n",
    "\n",
    "Asimismo, se puede observar del segundo output que donde se lleva más tiempo es en la operación de las sumas, es decir, en las líneas:\n",
    "$$sum\\_res\\_par=sum(f(nodes[1:-1][1::2]))$$ y $$sum\\_res\\_impar=sum(f(nodes[1:-1][::2]))$$\n",
    "\n",
    "(renglones 17 y 18, respectivamente)."
   ]
  },
  {
   "cell_type": "markdown",
   "metadata": {},
   "source": [
    "## 2) Uso de line_profiler"
   ]
  },
  {
   "cell_type": "code",
   "execution_count": 42,
   "metadata": {},
   "outputs": [
    {
     "data": {
      "text/plain": [
       "Timer unit: 1e-06 s\n",
       "\n",
       "Total time: 0.155402 s\n",
       "File: <ipython-input-29-6c6cc8289b07>\n",
       "Function: Scf at line 1\n",
       "\n",
       "Line #      Hits         Time  Per Hit   % Time  Line Contents\n",
       "==============================================================\n",
       "     1                                           def Scf(n,f,a,b): #Scf: Simpson compuesto para f\n",
       "     2                                               \"\"\"\n",
       "     3                                               Compute numerical approximation using composed Simpson rule in \n",
       "     4                                               an interval.\n",
       "     5                                               Nodes are generated via numpy\n",
       "     6                                               Args:\n",
       "     7                                                   f (lambda expression): lambda expression of integrand\n",
       "     8                                                   a (int): left point of interval\n",
       "     9                                                   b (int): right point of interval\n",
       "    10                                                   n (int): number of subintervals\n",
       "    11                                               Returns:\n",
       "    12                                                   Scf (float) \n",
       "    13                                               \"\"\"\n",
       "    14         1          2.0      2.0      0.0      h=b-a\n",
       "    15         1       9503.0   9503.0      6.1      nodes=np.linspace(a,b,n+1) \n",
       "    16         1      73181.0  73181.0     47.1      sum_res_par=sum(f(nodes[1:-1][1::2])) \n",
       "    17         1      72674.0  72674.0     46.8      sum_res_impar=sum(f(nodes[1:-1][::2])) \n",
       "    18         1         42.0     42.0      0.0      return h/(3*n)*(f(nodes[0])+f(nodes[-1])+2*sum_res_par+4*sum_res_impar)"
      ]
     },
     "metadata": {},
     "output_type": "display_data"
    }
   ],
   "source": [
    "%load_ext line_profiler\n",
    "%lprun -f Scf Scf(n,f,0,1) #función para saber el porcentaje de tiempo ocupado por cada línea de la función"
   ]
  },
  {
   "cell_type": "markdown",
   "metadata": {},
   "source": [
    "Con el output de line_profiler se confirma lo observado en CProfiler dado que el 94% del tiempo de ejecución de esta función se lo llevan la líneas:\n",
    "$$sum\\_res\\_par=sum(f(nodes[1:-1][1::2]))$$ y $$sum\\_res\\_impar=sum(f(nodes[1:-1][::2]))$$\n",
    "\n",
    "Probemos otras opciones.\n"
   ]
  },
  {
   "cell_type": "markdown",
   "metadata": {},
   "source": [
    "**Opción 2**"
   ]
  },
  {
   "cell_type": "code",
   "execution_count": 43,
   "metadata": {},
   "outputs": [],
   "source": [
    "def Scf2(n,f,a,b): #Scf: Simpson compuesto para f\n",
    "    \"\"\"\n",
    "    Compute numerical approximation using composed Simpson rule in \n",
    "    an interval.\n",
    "    Nodes are generated via numpy\n",
    "    Args:\n",
    "        f (lambda expression): lambda expression of integrand\n",
    "        a (int): left point of interval\n",
    "        b (int): right point of interval\n",
    "        n (int): number of subintervals\n",
    "    Returns:\n",
    "        Scf2 (float) \n",
    "    \"\"\"\n",
    "    h=b-a\n",
    "    nodes=np.linspace(a,b,n+1)\n",
    "    sum_res=2*sum(f(nodes[1:-1][1::2]))+ 4*sum(f(nodes[1:-1][::2])) #quitando un variable\n",
    "    return h/(3*n)*(f(nodes[0])+f(nodes[-1])+sum_res)"
   ]
  },
  {
   "cell_type": "code",
   "execution_count": 44,
   "metadata": {},
   "outputs": [
    {
     "name": "stdout",
     "output_type": "stream",
     "text": [
      "145 ms ± 3.42 ms per loop (mean ± std. dev. of 20 runs, 5 loops each)\n"
     ]
    }
   ],
   "source": [
    "%timeit -n 5 -r 20 Scf2(n,f,0,1) #loop de tamaño 5 repetido 20 veces"
   ]
  },
  {
   "cell_type": "markdown",
   "metadata": {},
   "source": [
    "No se nota mejoría significativa. Veamos que sigua dando el mismo resultado"
   ]
  },
  {
   "cell_type": "code",
   "execution_count": 46,
   "metadata": {},
   "outputs": [
    {
     "data": {
      "text/plain": [
       "0.7468241328124223"
      ]
     },
     "execution_count": 46,
     "metadata": {},
     "output_type": "execute_result"
    }
   ],
   "source": [
    "aprox=Scf2(n,f,0,1)\n",
    "aprox"
   ]
  },
  {
   "cell_type": "code",
   "execution_count": 47,
   "metadata": {},
   "outputs": [
    {
     "data": {
      "text/plain": [
       "6.392347001308277e-15"
      ]
     },
     "execution_count": 47,
     "metadata": {},
     "output_type": "execute_result"
    }
   ],
   "source": [
    "err_relativo(aprox,obj)"
   ]
  },
  {
   "cell_type": "code",
   "execution_count": 48,
   "metadata": {},
   "outputs": [
    {
     "data": {
      "text/plain": [
       "Timer unit: 1e-06 s\n",
       "\n",
       "Total time: 0.169786 s\n",
       "File: <ipython-input-43-46f541793cd3>\n",
       "Function: Scf2 at line 1\n",
       "\n",
       "Line #      Hits         Time  Per Hit   % Time  Line Contents\n",
       "==============================================================\n",
       "     1                                           def Scf2(n,f,a,b): #Scf: Simpson compuesto para f\n",
       "     2                                               \"\"\"\n",
       "     3                                               Compute numerical approximation using composed Simpson rule in \n",
       "     4                                               an interval.\n",
       "     5                                               Nodes are generated via numpy\n",
       "     6                                               Args:\n",
       "     7                                                   f (lambda expression): lambda expression of integrand\n",
       "     8                                                   a (int): left point of interval\n",
       "     9                                                   b (int): right point of interval\n",
       "    10                                                   n (int): number of subintervals\n",
       "    11                                               Returns:\n",
       "    12                                                   Scf (float) \n",
       "    13                                               \"\"\"\n",
       "    14         1          3.0      3.0      0.0      h=b-a\n",
       "    15         1       9241.0   9241.0      5.4      nodes=np.linspace(a,b,n+1)\n",
       "    16         1     160489.0 160489.0     94.5      sum_res=2*sum(f(nodes[1:-1][1::2]))+ 4*sum(f(nodes[1:-1][::2])) #quitando un variable\n",
       "    17         1         53.0     53.0      0.0      return h/(3*n)*(f(nodes[0])+f(nodes[-1])+sum_res)"
      ]
     },
     "metadata": {},
     "output_type": "display_data"
    }
   ],
   "source": [
    "%lprun -f Scf2 Scf2(n,f,0,1)"
   ]
  },
  {
   "cell_type": "markdown",
   "metadata": {},
   "source": [
    "Observamos que ahora ya se encuentra concentrado en una sóla línea, manteniendo el 94% del tiempo en esa operación."
   ]
  },
  {
   "cell_type": "code",
   "execution_count": 49,
   "metadata": {},
   "outputs": [
    {
     "name": "stdout",
     "output_type": "stream",
     "text": [
      " "
     ]
    },
    {
     "data": {
      "text/plain": [
       "         42 function calls (39 primitive calls) in 0.161 seconds\n",
       "\n",
       "   Ordered by: cumulative time\n",
       "\n",
       "   ncalls  tottime  percall  cumtime  percall filename:lineno(function)\n",
       "        1    0.000    0.000    0.161    0.161 {built-in method builtins.exec}\n",
       "        1    0.000    0.000    0.161    0.161 <string>:1(<module>)\n",
       "        1    0.000    0.000    0.161    0.161 <ipython-input-43-46f541793cd3>:1(Scf2)\n",
       "        2    0.124    0.062    0.124    0.062 {built-in method builtins.sum}\n",
       "        4    0.020    0.005    0.020    0.005 <ipython-input-28-ee0e5f49bb79>:1(<lambda>)\n",
       "        1    0.000    0.000    0.016    0.016 <__array_function__ internals>:2(linspace)\n",
       "      4/1    0.000    0.000    0.016    0.016 {built-in method numpy.core._multiarray_umath.implement_array_function}\n",
       "        1    0.002    0.002    0.016    0.016 function_base.py:26(linspace)\n",
       "        1    0.013    0.013    0.013    0.013 {built-in method numpy.arange}\n",
       "        1    0.000    0.000    0.000    0.000 <__array_function__ internals>:2(any)\n",
       "        1    0.000    0.000    0.000    0.000 fromnumeric.py:2236(any)\n",
       "        1    0.000    0.000    0.000    0.000 fromnumeric.py:73(_wrapreduction)\n",
       "        1    0.000    0.000    0.000    0.000 {method 'any' of 'numpy.generic' objects}\n",
       "        2    0.000    0.000    0.000    0.000 _asarray.py:88(asanyarray)\n",
       "        1    0.000    0.000    0.000    0.000 _methods.py:44(_any)\n",
       "        2    0.000    0.000    0.000    0.000 {built-in method numpy.array}\n",
       "        1    0.000    0.000    0.000    0.000 {method 'reduce' of 'numpy.ufunc' objects}\n",
       "        1    0.000    0.000    0.000    0.000 <__array_function__ internals>:2(result_type)\n",
       "        1    0.000    0.000    0.000    0.000 <__array_function__ internals>:2(ndim)\n",
       "        1    0.000    0.000    0.000    0.000 {method 'astype' of 'numpy.ndarray' objects}\n",
       "        1    0.000    0.000    0.000    0.000 {method 'reshape' of 'numpy.ndarray' objects}\n",
       "        1    0.000    0.000    0.000    0.000 numeric.py:1786(isscalar)\n",
       "        1    0.000    0.000    0.000    0.000 fromnumeric.py:74(<dictcomp>)\n",
       "        1    0.000    0.000    0.000    0.000 fromnumeric.py:3037(ndim)\n",
       "        1    0.000    0.000    0.000    0.000 {built-in method _operator.index}\n",
       "        1    0.000    0.000    0.000    0.000 {built-in method builtins.getattr}\n",
       "        1    0.000    0.000    0.000    0.000 function_base.py:21(_linspace_dispatcher)\n",
       "        1    0.000    0.000    0.000    0.000 fromnumeric.py:3033(_ndim_dispatcher)\n",
       "        1    0.000    0.000    0.000    0.000 {method 'disable' of '_lsprof.Profiler' objects}\n",
       "        1    0.000    0.000    0.000    0.000 {method 'items' of 'dict' objects}\n",
       "        1    0.000    0.000    0.000    0.000 {built-in method builtins.isinstance}\n",
       "        1    0.000    0.000    0.000    0.000 fromnumeric.py:2232(_any_dispatcher)\n",
       "        1    0.000    0.000    0.000    0.000 multiarray.py:635(result_type)"
      ]
     },
     "metadata": {},
     "output_type": "display_data"
    }
   ],
   "source": [
    "%prun -s cumulative Scf2(n,f,0,1)"
   ]
  },
  {
   "cell_type": "markdown",
   "metadata": {},
   "source": [
    "**Opción 3. Veamos qué pasa si sustituimos a f por la función.**"
   ]
  },
  {
   "cell_type": "code",
   "execution_count": 50,
   "metadata": {},
   "outputs": [],
   "source": [
    "def Scf3(n,a,b): #Scf: Simpson compuesto para f\n",
    "    \"\"\"\n",
    "    Compute numerical approximation using composed Simpson rule in \n",
    "    an interval.\n",
    "    Nodes are generated via numpy\n",
    "    Args:\n",
    "        a (int): left point of interval\n",
    "        b (int): right point of interval\n",
    "        n (int): number of subintervals\n",
    "    Returns:\n",
    "        Scf3 (float) \n",
    "    \"\"\"\n",
    "    h=b-a\n",
    "    nodes=np.linspace(a,b,n+1)\n",
    "    sum_res=2*sum(np.exp(-nodes[1:-1][1::2]**2))+ 4*sum(np.exp(-nodes[1:-1][::2]**2)) #sustitución de f por la función\n",
    "    return h/(3*n)*(np.exp(-nodes[0]**2)+np.exp(-nodes[-1]**2)+sum_res)"
   ]
  },
  {
   "cell_type": "code",
   "execution_count": 51,
   "metadata": {},
   "outputs": [
    {
     "name": "stdout",
     "output_type": "stream",
     "text": [
      "146 ms ± 3.98 ms per loop (mean ± std. dev. of 20 runs, 5 loops each)\n"
     ]
    }
   ],
   "source": [
    "%timeit -n 5 -r 20 Scf3(n,0,1) # loop de tamaño 5 repetido 20 veces"
   ]
  },
  {
   "cell_type": "markdown",
   "metadata": {},
   "source": [
    "No se nota mejoría, incluso sube 1 milisegundo en comparación con la anterior. Veamos que sigua dando el mismo resultado."
   ]
  },
  {
   "cell_type": "code",
   "execution_count": 52,
   "metadata": {},
   "outputs": [
    {
     "data": {
      "text/plain": [
       "0.7468241328124223"
      ]
     },
     "execution_count": 52,
     "metadata": {},
     "output_type": "execute_result"
    }
   ],
   "source": [
    "aprox=Scf3(n,0,1)\n",
    "aprox"
   ]
  },
  {
   "cell_type": "code",
   "execution_count": 53,
   "metadata": {},
   "outputs": [
    {
     "data": {
      "text/plain": [
       "6.392347001308277e-15"
      ]
     },
     "execution_count": 53,
     "metadata": {},
     "output_type": "execute_result"
    }
   ],
   "source": [
    "err_relativo(aprox,obj)"
   ]
  },
  {
   "cell_type": "code",
   "execution_count": 54,
   "metadata": {},
   "outputs": [
    {
     "data": {
      "text/plain": [
       "Timer unit: 1e-06 s\n",
       "\n",
       "Total time: 0.175929 s\n",
       "File: <ipython-input-50-fa47394edf80>\n",
       "Function: Scf3 at line 1\n",
       "\n",
       "Line #      Hits         Time  Per Hit   % Time  Line Contents\n",
       "==============================================================\n",
       "     1                                           def Scf3(n,a,b): #Scf: Simpson compuesto para f\n",
       "     2                                               \"\"\"\n",
       "     3                                               Compute numerical approximation using composed Simpson rule in \n",
       "     4                                               an interval.\n",
       "     5                                               Nodes are generated via numpy\n",
       "     6                                               Args:\n",
       "     7                                                   f (lambda expression): lambda expression of integrand\n",
       "     8                                                   a (int): left point of interval\n",
       "     9                                                   b (int): right point of interval\n",
       "    10                                                   n (int): number of subintervals\n",
       "    11                                               Returns:\n",
       "    12                                                   Scf (float) \n",
       "    13                                               \"\"\"\n",
       "    14         1          3.0      3.0      0.0      h=b-a\n",
       "    15         1      10535.0  10535.0      6.0      nodes=np.linspace(a,b,n+1)\n",
       "    16         1     165356.0 165356.0     94.0      sum_res=2*sum(np.exp(-nodes[1:-1][1::2]**2))+ 4*sum(np.exp(-nodes[1:-1][::2]**2)) #sustitución de f por la función\n",
       "    17         1         35.0     35.0      0.0      return h/(3*n)*(np.exp(-nodes[0]**2)+np.exp(-nodes[-1]**2)+sum_res)"
      ]
     },
     "metadata": {},
     "output_type": "display_data"
    }
   ],
   "source": [
    "%lprun -f Scf3 Scf3(n,0,1)"
   ]
  },
  {
   "cell_type": "markdown",
   "metadata": {},
   "source": [
    "Con este cambio hacemos menos genérica nuestra función por lo que cada que se quiera aproximar la integral de una función diferente, se tendría que cambiar en el código, lo cual la hace poco flexible.\n",
    "\n",
    "Consideramos que el tiempo de ejecución de la opción 1/2 (aprox .14 segundos) es bueno dado que en la mayor parte de ella se usa vectorización (paquete numpy) y es simple."
   ]
  },
  {
   "cell_type": "markdown",
   "metadata": {},
   "source": [
    "# Uso de memoria RAM"
   ]
  },
  {
   "cell_type": "markdown",
   "metadata": {},
   "source": [
    "## 1)Uso de %memit"
   ]
  },
  {
   "cell_type": "code",
   "execution_count": 7,
   "metadata": {},
   "outputs": [],
   "source": [
    "%load_ext memory_profiler"
   ]
  },
  {
   "cell_type": "code",
   "execution_count": 56,
   "metadata": {},
   "outputs": [
    {
     "name": "stdout",
     "output_type": "stream",
     "text": [
      "peak memory: 101.62 MiB, increment: 0.00 MiB\n"
     ]
    }
   ],
   "source": [
    "%memit"
   ]
  },
  {
   "cell_type": "code",
   "execution_count": 57,
   "metadata": {},
   "outputs": [
    {
     "name": "stdout",
     "output_type": "stream",
     "text": [
      "peak memory: 181.83 MiB, increment: 80.20 MiB\n"
     ]
    }
   ],
   "source": [
    "%memit -c Scf(n,f,0,1)"
   ]
  },
  {
   "cell_type": "code",
   "execution_count": 58,
   "metadata": {},
   "outputs": [
    {
     "name": "stdout",
     "output_type": "stream",
     "text": [
      "peak memory: 182.11 MiB, increment: 80.21 MiB\n"
     ]
    }
   ],
   "source": [
    "%memit -c Scf2(n,f,0,1)"
   ]
  },
  {
   "cell_type": "code",
   "execution_count": 59,
   "metadata": {},
   "outputs": [
    {
     "name": "stdout",
     "output_type": "stream",
     "text": [
      "peak memory: 182.13 MiB, increment: 80.21 MiB\n"
     ]
    }
   ],
   "source": [
    "%memit -c Scf3(n,0,1)"
   ]
  },
  {
   "cell_type": "markdown",
   "metadata": {},
   "source": [
    "El uso de memoria es similar entre la segunda y tercera opción y en la primera es ligeramente menor. "
   ]
  },
  {
   "cell_type": "markdown",
   "metadata": {},
   "source": [
    "## 2) Uso de memory_profiler"
   ]
  },
  {
   "cell_type": "code",
   "execution_count": 60,
   "metadata": {},
   "outputs": [
    {
     "name": "stdout",
     "output_type": "stream",
     "text": [
      "Writing Scf_memory_profiler.py\n"
     ]
    }
   ],
   "source": [
    "%%file Scf_memory_profiler.py\n",
    "import numpy as np\n",
    "@profile\n",
    "def Scf(n,f,a,b): #Scf: Simpson compuesto para f\n",
    "    \"\"\"\n",
    "    Compute numerical approximation using composed Simpson rule in \n",
    "    an interval.\n",
    "    Nodes are generated via numpy\n",
    "    Args:\n",
    "        f (lambda expression): lambda expression of integrand\n",
    "        a (int): left point of interval\n",
    "        b (int): right point of interval\n",
    "        n (int): number of subintervals\n",
    "    Returns:\n",
    "        Scf (float) \n",
    "    \"\"\"\n",
    "    h=b-a\n",
    "    nodes=np.linspace(a,b,n+1) \n",
    "    sum_res_par=sum(f(nodes[1:-1][1::2])) \n",
    "    sum_res_impar=sum(f(nodes[1:-1][::2])) \n",
    "    return h/(3*n)*(f(nodes[0])+f(nodes[-1])+2*sum_res_par+4*sum_res_impar)\n",
    "if __name__==\"__main__\": #añadimos este bloque para ejecución de la función Scf\n",
    "        n=10**6\n",
    "        f=lambda x: np.exp(-x**2)\n",
    "        print(\"aproximación: {:0.6e}\".format(Scf(n,f,0,1)))\n"
   ]
  },
  {
   "cell_type": "code",
   "execution_count": 61,
   "metadata": {},
   "outputs": [
    {
     "name": "stdout",
     "output_type": "stream",
     "text": [
      "aproximación: 7.468241e-01\n",
      "Filename: Scf_memory_profiler.py\n",
      "\n",
      "Line #    Mem usage    Increment   Line Contents\n",
      "================================================\n",
      "     2   51.488 MiB   51.488 MiB   @profile\n",
      "     3                             def Scf(n,f,a,b): #Scf: Simpson compuesto para f\n",
      "     4                                 \"\"\"\n",
      "     5                                 Compute numerical approximation using composed Simpson rule in \n",
      "     6                                 an interval.\n",
      "     7                                 Nodes are generated via numpy\n",
      "     8                                 Args:\n",
      "     9                                     f (lambda expression): lambda expression of integrand\n",
      "    10                                     a (int): left point of interval\n",
      "    11                                     b (int): right point of interval\n",
      "    12                                     n (int): number of subintervals\n",
      "    13                                 Returns:\n",
      "    14                                     Scf (float) \n",
      "    15                                 \"\"\"\n",
      "    16   51.488 MiB    0.000 MiB       h=b-a\n",
      "    17   59.164 MiB    7.676 MiB       nodes=np.linspace(a,b,n+1) \n",
      "    18   59.766 MiB    0.602 MiB       sum_res_par=sum(f(nodes[1:-1][1::2])) \n",
      "    19   59.863 MiB    0.098 MiB       sum_res_impar=sum(f(nodes[1:-1][::2])) \n",
      "    20   59.863 MiB    0.000 MiB       return h/(3*n)*(f(nodes[0])+f(nodes[-1])+2*sum_res_par+4*sum_res_impar)\n",
      "\n",
      "\n"
     ]
    }
   ],
   "source": [
    "%%bash\n",
    "python3 -m memory_profiler Scf_memory_profiler.py"
   ]
  },
  {
   "cell_type": "markdown",
   "metadata": {},
   "source": [
    "Observamos que la línea que incrementa el uso de memoria es la creación de los nodos."
   ]
  },
  {
   "cell_type": "code",
   "execution_count": 62,
   "metadata": {},
   "outputs": [
    {
     "name": "stdout",
     "output_type": "stream",
     "text": [
      "Overwriting Scf2_memory_profiler.py\n"
     ]
    }
   ],
   "source": [
    "%%file Scf2_memory_profiler.py\n",
    "import numpy as np\n",
    "@profile\n",
    "def Scf2(n,f,a,b): #Scf: Simpson compuesto para f\n",
    "    \"\"\"\n",
    "    Compute numerical approximation using composed Simpson rule in \n",
    "    an interval.\n",
    "    Nodes are generated via numpy\n",
    "    Args:\n",
    "        f (lambda expression): lambda expression of integrand\n",
    "        a (int): left point of interval\n",
    "        b (int): right point of interval\n",
    "        n (int): number of subintervals\n",
    "    Returns:\n",
    "        Scf2 (float) \n",
    "    \"\"\"\n",
    "    h=b-a\n",
    "    nodes=np.linspace(a,b,n+1)\n",
    "    sum_res=2*sum(f(nodes[1:-1][1::2]))+ 4*sum(f(nodes[1:-1][::2]))\n",
    "    return h/(3*n)*(f(nodes[0])+f(nodes[-1])+sum_res)\n",
    "if __name__==\"__main__\": #añadimos este bloque para ejecución de la función Scf2\n",
    "        n=10**6\n",
    "        f=lambda x: np.exp(-x**2)\n",
    "        print(\"aproximación: {:0.6e}\".format(Scf2(n,f,0,1)))\n"
   ]
  },
  {
   "cell_type": "code",
   "execution_count": 63,
   "metadata": {},
   "outputs": [
    {
     "name": "stdout",
     "output_type": "stream",
     "text": [
      "aproximación: 7.468241e-01\n",
      "Filename: Scf2_memory_profiler.py\n",
      "\n",
      "Line #    Mem usage    Increment   Line Contents\n",
      "================================================\n",
      "     2   51.359 MiB   51.359 MiB   @profile\n",
      "     3                             def Scf2(n,f,a,b): #Scf: Simpson compuesto para f\n",
      "     4                                 \"\"\"\n",
      "     5                                 Compute numerical approximation using composed Simpson rule in \n",
      "     6                                 an interval.\n",
      "     7                                 Nodes are generated via numpy\n",
      "     8                                 Args:\n",
      "     9                                     f (lambda expression): lambda expression of integrand\n",
      "    10                                     a (int): left point of interval\n",
      "    11                                     b (int): right point of interval\n",
      "    12                                     n (int): number of subintervals\n",
      "    13                                 Returns:\n",
      "    14                                     Scf (float) \n",
      "    15                                 \"\"\"\n",
      "    16   51.359 MiB    0.000 MiB       h=b-a\n",
      "    17   59.090 MiB    7.730 MiB       nodes=np.linspace(a,b,n+1)\n",
      "    18   59.742 MiB    0.652 MiB       sum_res=2*sum(f(nodes[1:-1][1::2]))+ 4*sum(f(nodes[1:-1][::2]))\n",
      "    19   59.742 MiB    0.000 MiB       return h/(3*n)*(f(nodes[0])+f(nodes[-1])+sum_res)\n",
      "\n",
      "\n"
     ]
    }
   ],
   "source": [
    "%%bash\n",
    "python3 -m memory_profiler Scf2_memory_profiler.py"
   ]
  },
  {
   "cell_type": "markdown",
   "metadata": {},
   "source": [
    "Al igual que el output anterior, la línea que incrementa el uso de memoria es la creación de los nodos y en el uso total son muy similares."
   ]
  },
  {
   "cell_type": "code",
   "execution_count": 64,
   "metadata": {},
   "outputs": [
    {
     "name": "stdout",
     "output_type": "stream",
     "text": [
      "Overwriting Scf3_memory_profiler.py\n"
     ]
    }
   ],
   "source": [
    "%%file Scf3_memory_profiler.py\n",
    "import numpy as np\n",
    "@profile\n",
    "def Scf3(n,a,b): #Scf: Simpson compuesto para f\n",
    "    \"\"\"\n",
    "    Compute numerical approximation using composed Simpson rule in \n",
    "    an interval.\n",
    "    Nodes are generated via numpy\n",
    "    Args:\n",
    "        a (int): left point of interval\n",
    "        b (int): right point of interval\n",
    "        n (int): number of subintervals\n",
    "    Returns:\n",
    "        Scf3 (float) \n",
    "    \"\"\"\n",
    "    h=b-a\n",
    "    nodes=np.linspace(a,b,n+1)\n",
    "    sum_res=2*sum(np.exp(-nodes[1:-1][1::2]**2))+ 4*sum(np.exp(-nodes[1:-1][::2]**2))\n",
    "    return h/(3*n)*(np.exp(-nodes[0]**2)+np.exp(-nodes[-1]**2)+sum_res)\n",
    "if __name__==\"__main__\": #añadimos este bloque para ejecución de la función Rcf\n",
    "        n=10**6\n",
    "        f=lambda x: np.exp(-x**2)\n",
    "        print(\"aproximación: {:0.6e}\".format(Scf3(n,0,1)))"
   ]
  },
  {
   "cell_type": "code",
   "execution_count": 65,
   "metadata": {},
   "outputs": [
    {
     "name": "stdout",
     "output_type": "stream",
     "text": [
      "aproximación: 7.468241e-01\n",
      "Filename: Scf3_memory_profiler.py\n",
      "\n",
      "Line #    Mem usage    Increment   Line Contents\n",
      "================================================\n",
      "     2   51.367 MiB   51.367 MiB   @profile\n",
      "     3                             def Scf3(n,a,b): #Scf: Simpson compuesto para f\n",
      "     4                                 \"\"\"\n",
      "     5                                 Compute numerical approximation using composed Simpson rule in \n",
      "     6                                 an interval.\n",
      "     7                                 Nodes are generated via numpy\n",
      "     8                                 Args:\n",
      "     9                                     f (lambda expression): lambda expression of integrand\n",
      "    10                                     a (int): left point of interval\n",
      "    11                                     b (int): right point of interval\n",
      "    12                                     n (int): number of subintervals\n",
      "    13                                 Returns:\n",
      "    14                                     Scf (float) \n",
      "    15                                 \"\"\"\n",
      "    16   51.367 MiB    0.000 MiB       h=b-a\n",
      "    17   58.836 MiB    7.469 MiB       nodes=np.linspace(a,b,n+1)\n",
      "    18   59.824 MiB    0.988 MiB       sum_res=2*sum(np.exp(-nodes[1:-1][1::2]**2))+ 4*sum(np.exp(-nodes[1:-1][::2]**2))\n",
      "    19   59.824 MiB    0.000 MiB       return h/(3*n)*(np.exp(-nodes[0]**2)+np.exp(-nodes[-1]**2)+sum_res)\n",
      "\n",
      "\n"
     ]
    }
   ],
   "source": [
    "%%bash\n",
    "python3 -m memory_profiler Scf3_memory_profiler.py"
   ]
  },
  {
   "cell_type": "markdown",
   "metadata": {},
   "source": [
    "En los outputs anteriores se observa que la línea que más incrementa la cantidad de RAM alojada para el proceso que contiene la ejecución de las funciones Scf, Scf2 y Scf3 es la creación de la lista de nodos (nodes=np.linspace(a,b,n+1)) y donde hace las sumas."
   ]
  },
  {
   "cell_type": "markdown",
   "metadata": {},
   "source": [
    "## 3) Uso de heapy"
   ]
  },
  {
   "cell_type": "code",
   "execution_count": 66,
   "metadata": {},
   "outputs": [],
   "source": [
    "import numpy as np\n",
    "from guppy import hpy\n",
    "\n",
    "def Scf(n,f,a,b): #Scf: Simpson compuesto para f\n",
    "    \"\"\"\n",
    "    Compute numerical approximation using composed Simpson rule in \n",
    "    an interval.\n",
    "    Nodes are generated via numpy\n",
    "    Args:\n",
    "        f (lambda expression): lambda expression of integrand\n",
    "        a (int): left point of interval\n",
    "        b (int): right point of interval\n",
    "        n (int): number of subintervals\n",
    "    Returns:\n",
    "        Scf (float) \n",
    "    \"\"\"\n",
    "    hp=hpy()\n",
    "    h=b-a\n",
    "    h1=hp.heap()\n",
    "    print(\"beginning of Scf\")\n",
    "    print(h1)\n",
    "    \n",
    "    nodes=np.linspace(a,b,n+1)\n",
    "    h1=hp.heap()\n",
    "    print(\"After creating list\")\n",
    "    print(h1)\n",
    "    sum_res_par=sum(f(nodes[1:-1][1::2])) \n",
    "    sum_res_impar=sum(f(nodes[1:-1][::2]))\n",
    "    print(\"After sum\")\n",
    "    print(h1)\n",
    "    return h/(3*n)*(f(nodes[0])+f(nodes[-1])+2*sum_res_par+4*sum_res_impar)\n"
   ]
  },
  {
   "cell_type": "code",
   "execution_count": 67,
   "metadata": {},
   "outputs": [
    {
     "name": "stdout",
     "output_type": "stream",
     "text": [
      "beginning of Scf\n",
      "Partition of a set of 345664 objects. Total size = 44128054 bytes.\n",
      " Index  Count   %     Size   % Cumulative  % Kind (class / dict of class)\n",
      "     0  96203  28 13588990  31  13588990  31 str\n",
      "     1  95120  28  7294552  17  20883542  47 tuple\n",
      "     2  43328  13  3378508   8  24262050  55 bytes\n",
      "     3  21704   6  3141192   7  27403242  62 types.CodeType\n",
      "     4  20432   6  2778752   6  30181994  68 function\n",
      "     5   2517   1  2434096   6  32616090  74 type\n",
      "     6   5416   2  2254576   5  34870666  79 dict (no owner)\n",
      "     7   1138   0  1762280   4  36632946  83 dict of module\n",
      "     8   2517   1  1241312   3  37874258  86 dict of type\n",
      "     9   2050   1   684992   2  38559250  87 set\n",
      "<882 more rows. Type e.g. '_.more' to view.>\n",
      "After creating list\n",
      "Partition of a set of 345684 objects. Total size = 44129270 bytes.\n",
      " Index  Count   %     Size   % Cumulative  % Kind (class / dict of class)\n",
      "     0  96203  28 13588990  31  13588990  31 str\n",
      "     1  95120  28  7294536  17  20883526  47 tuple\n",
      "     2  43328  13  3378508   8  24262034  55 bytes\n",
      "     3  21704   6  3141192   7  27403226  62 types.CodeType\n",
      "     4  20432   6  2778752   6  30181978  68 function\n",
      "     5   2517   1  2434096   6  32616074  74 type\n",
      "     6   5417   2  2254816   5  34870890  79 dict (no owner)\n",
      "     7   1138   0  1762280   4  36633170  83 dict of module\n",
      "     8   2517   1  1241312   3  37874482  86 dict of type\n",
      "     9   2050   1   684992   2  38559474  87 set\n",
      "<883 more rows. Type e.g. '_.more' to view.>\n",
      "After sum\n",
      "Partition of a set of 345684 objects. Total size = 44129270 bytes.\n",
      " Index  Count   %     Size   % Cumulative  % Kind (class / dict of class)\n",
      "     0  96203  28 13588990  31  13588990  31 str\n",
      "     1  95120  28  7294536  17  20883526  47 tuple\n",
      "     2  43328  13  3378508   8  24262034  55 bytes\n",
      "     3  21704   6  3141192   7  27403226  62 types.CodeType\n",
      "     4  20432   6  2778752   6  30181978  68 function\n",
      "     5   2517   1  2434096   6  32616074  74 type\n",
      "     6   5417   2  2254816   5  34870890  79 dict (no owner)\n",
      "     7   1138   0  1762280   4  36633170  83 dict of module\n",
      "     8   2517   1  1241312   3  37874482  86 dict of type\n",
      "     9   2050   1   684992   2  38559474  87 set\n",
      "<883 more rows. Type e.g. '_.more' to view.>\n"
     ]
    },
    {
     "data": {
      "text/plain": [
       "0.7468241328124223"
      ]
     },
     "execution_count": 67,
     "metadata": {},
     "output_type": "execute_result"
    }
   ],
   "source": [
    "Scf(n,f,0,1)"
   ]
  },
  {
   "cell_type": "code",
   "execution_count": 68,
   "metadata": {},
   "outputs": [],
   "source": [
    "import numpy as np\n",
    "from guppy import hpy\n",
    "\n",
    "def Scf2(n,f,a,b): #Scf: Simpson compuesto para f\n",
    "    \"\"\"\n",
    "    Compute numerical approximation using composed Simpson rule in \n",
    "    an interval.\n",
    "    Nodes are generated via numpy\n",
    "    Args:\n",
    "        f (lambda expression): lambda expression of integrand\n",
    "        a (int): left point of interval\n",
    "        b (int): right point of interval\n",
    "        n (int): number of subintervals\n",
    "    Returns:\n",
    "        Scf2 (float) \n",
    "    \"\"\"\n",
    "    hp=hpy()\n",
    "    h=b-a\n",
    "    h1=hp.heap()\n",
    "    print(\"beginning of Scf2\")\n",
    "    print(h1)\n",
    "    \n",
    "    nodes=np.linspace(a,b,n+1)\n",
    "    h1=hp.heap()\n",
    "    print(\"After creating list\")\n",
    "    print(h1)\n",
    "    sum_res=2*sum(f(nodes[1:-1][1::2]))+ 4*sum(f(nodes[1:-1][::2]))\n",
    "    print(\"After sum\")\n",
    "    print(h1)\n",
    "    return h/(3*n)*(f(nodes[0])+f(nodes[-1])+sum_res)\n"
   ]
  },
  {
   "cell_type": "code",
   "execution_count": 69,
   "metadata": {},
   "outputs": [
    {
     "name": "stdout",
     "output_type": "stream",
     "text": [
      "beginning of Scf2\n",
      "Partition of a set of 345711 objects. Total size = 44133253 bytes.\n",
      " Index  Count   %     Size   % Cumulative  % Kind (class / dict of class)\n",
      "     0  96240  28 13593278  31  13593278  31 str\n",
      "     1  95122  28  7294712  17  20887990  47 tuple\n",
      "     2  43330  13  3378703   8  24266693  55 bytes\n",
      "     3  21704   6  3141192   7  27407885  62 types.CodeType\n",
      "     4  20432   6  2778752   6  30186637  68 function\n",
      "     5   2517   1  2434096   6  32620733  74 type\n",
      "     6   5416   2  2254576   5  34875309  79 dict (no owner)\n",
      "     7   1138   0  1762280   4  36637589  83 dict of module\n",
      "     8   2517   1  1241312   3  37878901  86 dict of type\n",
      "     9   2050   1   684992   2  38563893  87 set\n",
      "<882 more rows. Type e.g. '_.more' to view.>\n",
      "After creating list\n",
      "Partition of a set of 345731 objects. Total size = 44134469 bytes.\n",
      " Index  Count   %     Size   % Cumulative  % Kind (class / dict of class)\n",
      "     0  96240  28 13593278  31  13593278  31 str\n",
      "     1  95122  28  7294696  17  20887974  47 tuple\n",
      "     2  43330  13  3378703   8  24266677  55 bytes\n",
      "     3  21704   6  3141192   7  27407869  62 types.CodeType\n",
      "     4  20432   6  2778752   6  30186621  68 function\n",
      "     5   2517   1  2434096   6  32620717  74 type\n",
      "     6   5417   2  2254816   5  34875533  79 dict (no owner)\n",
      "     7   1138   0  1762280   4  36637813  83 dict of module\n",
      "     8   2517   1  1241312   3  37879125  86 dict of type\n",
      "     9   2050   1   684992   2  38564117  87 set\n",
      "<883 more rows. Type e.g. '_.more' to view.>\n",
      "After sum\n",
      "Partition of a set of 345731 objects. Total size = 44134469 bytes.\n",
      " Index  Count   %     Size   % Cumulative  % Kind (class / dict of class)\n",
      "     0  96240  28 13593278  31  13593278  31 str\n",
      "     1  95122  28  7294696  17  20887974  47 tuple\n",
      "     2  43330  13  3378703   8  24266677  55 bytes\n",
      "     3  21704   6  3141192   7  27407869  62 types.CodeType\n",
      "     4  20432   6  2778752   6  30186621  68 function\n",
      "     5   2517   1  2434096   6  32620717  74 type\n",
      "     6   5417   2  2254816   5  34875533  79 dict (no owner)\n",
      "     7   1138   0  1762280   4  36637813  83 dict of module\n",
      "     8   2517   1  1241312   3  37879125  86 dict of type\n",
      "     9   2050   1   684992   2  38564117  87 set\n",
      "<883 more rows. Type e.g. '_.more' to view.>\n"
     ]
    },
    {
     "data": {
      "text/plain": [
       "0.7468241328124223"
      ]
     },
     "execution_count": 69,
     "metadata": {},
     "output_type": "execute_result"
    }
   ],
   "source": [
    "Scf2(n,f,0,1)"
   ]
  },
  {
   "cell_type": "code",
   "execution_count": 70,
   "metadata": {},
   "outputs": [],
   "source": [
    "import numpy as np\n",
    "from guppy import hpy\n",
    "\n",
    "def Scf3(n,a,b): #Scf: Simpson compuesto para f\n",
    "    \"\"\"\n",
    "    Compute numerical approximation using composed Simpson rule in \n",
    "    an interval.\n",
    "    Nodes are generated via numpy\n",
    "    Args:\n",
    "        a (int): left point of interval\n",
    "        b (int): right point of interval\n",
    "        n (int): number of subintervals\n",
    "    Returns:\n",
    "        Scf3 (float) \n",
    "    \"\"\"\n",
    "    hp=hpy()\n",
    "    h=b-a\n",
    "    h1=hp.heap()\n",
    "    print(\"beginning of Scf3\")\n",
    "    print(h1)\n",
    "    \n",
    "    nodes=np.linspace(a,b,n+1)\n",
    "    h1=hp.heap()\n",
    "    print(\"After creating list\")\n",
    "    print(h1)\n",
    "    sum_res=2*sum(np.exp(-nodes[1:-1][1::2]**2))+ 4*sum(np.exp(-nodes[1:-1][::2]**2))\n",
    "    print(\"After sum\")\n",
    "    print(h1)\n",
    "    return h/(3*n)*(np.exp(-nodes[0]**2)+np.exp(-nodes[-1]**2)+sum_res)\n"
   ]
  },
  {
   "cell_type": "code",
   "execution_count": 71,
   "metadata": {},
   "outputs": [
    {
     "name": "stdout",
     "output_type": "stream",
     "text": [
      "beginning of Scf3\n",
      "Partition of a set of 345770 objects. Total size = 44139943 bytes.\n",
      " Index  Count   %     Size   % Cumulative  % Kind (class / dict of class)\n",
      "     0  96277  28 13597728  31  13597728  31 str\n",
      "     1  95126  28  7294992  17  20892720  47 tuple\n",
      "     2  43338  13  3379643   8  24272363  55 bytes\n",
      "     3  21704   6  3141192   7  27413555  62 types.CodeType\n",
      "     4  20433   6  2778888   6  30192443  68 function\n",
      "     5   2517   1  2434096   6  32626539  74 type\n",
      "     6   5417   2  2254816   5  34881355  79 dict (no owner)\n",
      "     7   1138   0  1762280   4  36643635  83 dict of module\n",
      "     8   2517   1  1241312   3  37884947  86 dict of type\n",
      "     9   2050   1   684992   2  38569939  87 set\n",
      "<882 more rows. Type e.g. '_.more' to view.>\n",
      "After creating list\n",
      "Partition of a set of 345776 objects. Total size = 44139617 bytes.\n",
      " Index  Count   %     Size   % Cumulative  % Kind (class / dict of class)\n",
      "     0  96277  28 13597728  31  13597728  31 str\n",
      "     1  95124  28  7294848  17  20892576  47 tuple\n",
      "     2  43332  13  3378893   8  24271469  55 bytes\n",
      "     3  21704   6  3141192   7  27412661  62 types.CodeType\n",
      "     4  20432   6  2778752   6  30191413  68 function\n",
      "     5   2517   1  2434096   6  32625509  74 type\n",
      "     6   5417   2  2254816   5  34880325  79 dict (no owner)\n",
      "     7   1138   0  1762280   4  36642605  83 dict of module\n",
      "     8   2517   1  1241312   3  37883917  86 dict of type\n",
      "     9   2050   1   684992   2  38568909  87 set\n",
      "<883 more rows. Type e.g. '_.more' to view.>\n",
      "After sum\n",
      "Partition of a set of 345776 objects. Total size = 44139617 bytes.\n",
      " Index  Count   %     Size   % Cumulative  % Kind (class / dict of class)\n",
      "     0  96277  28 13597728  31  13597728  31 str\n",
      "     1  95124  28  7294848  17  20892576  47 tuple\n",
      "     2  43332  13  3378893   8  24271469  55 bytes\n",
      "     3  21704   6  3141192   7  27412661  62 types.CodeType\n",
      "     4  20432   6  2778752   6  30191413  68 function\n",
      "     5   2517   1  2434096   6  32625509  74 type\n",
      "     6   5417   2  2254816   5  34880325  79 dict (no owner)\n",
      "     7   1138   0  1762280   4  36642605  83 dict of module\n",
      "     8   2517   1  1241312   3  37883917  86 dict of type\n",
      "     9   2050   1   684992   2  38568909  87 set\n",
      "<883 more rows. Type e.g. '_.more' to view.>\n"
     ]
    },
    {
     "data": {
      "text/plain": [
       "0.7468241328124223"
      ]
     },
     "execution_count": 71,
     "metadata": {},
     "output_type": "execute_result"
    }
   ],
   "source": [
    "Scf3(n,0,1)"
   ]
  },
  {
   "cell_type": "markdown",
   "metadata": {},
   "source": [
    "**Referencias**\n",
    "\n",
    "1. M. Gorelick, I. Ozsvald, High Performance Python, O'Reilly Media, 2014.\n",
    "\n",
    "Otras referencias para *heapy*:\n",
    "\n",
    "* [guppy3 github](https://github.com/zhuyifei1999/guppy3/)\n",
    "\n",
    "* [A Python Programming Environment & Heap analysis toolset](https://zhuyifei1999.github.io/guppy3/)\n",
    "\n",
    "* [Getting started with Heapy](https://zhuyifei1999.github.io/guppy3/heapy_tutorial.html)\n",
    "\n",
    "* [Diagnosing Memory “Leaks” in Python](https://chase-seibert.github.io/blog/2013/08/03/diagnosing-memory-leaks-python.html)\n",
    "\n",
    "* [How to use guppy/heapy for tracking down memory usage](https://smira.ru/wp-content/uploads/2011/08/heapy.html)\n",
    "\n",
    "\n",
    "Ver [SnakeViz](https://jiffyclub.github.io/snakeviz/) para visualización del output de `CProfile`."
   ]
  }
 ],
 "metadata": {
  "kernelspec": {
   "display_name": "Python 3",
   "language": "python",
   "name": "python3"
  },
  "language_info": {
   "codemirror_mode": {
    "name": "ipython",
    "version": 3
   },
   "file_extension": ".py",
   "mimetype": "text/x-python",
   "name": "python",
   "nbconvert_exporter": "python",
   "pygments_lexer": "ipython3",
   "version": "3.6.9"
  }
 },
 "nbformat": 4,
 "nbformat_minor": 4
}
