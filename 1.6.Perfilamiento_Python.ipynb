{
 "cells": [
  {
   "cell_type": "markdown",
   "metadata": {},
   "source": [
    "**Notas para contenedor de docker:**"
   ]
  },
  {
   "cell_type": "markdown",
   "metadata": {},
   "source": [
    "Comando de docker para ejecución de la nota de forma local:\n",
    "\n",
    "nota: cambiar `<ruta a mi directorio>` por la ruta de directorio que se desea mapear a `/datos` dentro del contenedor de docker.\n",
    "\n",
    "```\n",
    "docker run --rm -v <ruta a mi directorio>:/datos --name jupyterlab_numerical -p 8888:8888 -p 8786:8786 -p 8787:8787 -d palmoreck/jupyterlab_numerical:1.1.0\n",
    "```\n",
    "\n",
    "password para jupyterlab: `qwerty`\n",
    "\n",
    "Detener el contenedor de docker:\n",
    "\n",
    "```\n",
    "docker stop jupyterlab_numerical\n",
    "```\n"
   ]
  },
  {
   "cell_type": "markdown",
   "metadata": {},
   "source": [
    "Documentación de la imagen de docker `palmoreck/jupyterlab_numerical:1.1.0` en [liga](https://github.com/palmoreck/dockerfiles/tree/master/jupyterlab/numerical)."
   ]
  },
  {
   "cell_type": "markdown",
   "metadata": {},
   "source": [
    "---"
   ]
  },
  {
   "cell_type": "markdown",
   "metadata": {},
   "source": [
    "Esta nota utiliza métodos vistos en [1.5.Integracion_numerica](https://github.com/ITAM-DS/analisis-numerico-computo-cientifico/blob/master/temas/I.computo_cientifico/1.5.Integracion_numerica.ipynb)"
   ]
  },
  {
   "cell_type": "markdown",
   "metadata": {},
   "source": [
    "Instalamos las herramientas que nos ayudarán al perfilamiento:"
   ]
  },
  {
   "cell_type": "code",
   "execution_count": 1,
   "metadata": {},
   "outputs": [
    {
     "name": "stdout",
     "output_type": "stream",
     "text": [
      "\u001b[33m  WARNING: The script kernprof is installed in '/home/miuser/.local/bin' which is not on PATH.\n",
      "  Consider adding this directory to PATH or, if you prefer to suppress this warning, use --no-warn-script-location.\u001b[0m\n",
      "\u001b[33mWARNING: You are using pip version 19.3.1; however, version 20.0.2 is available.\n",
      "You should consider upgrading via the 'pip install --upgrade pip' command.\u001b[0m\n",
      "Note: you may need to restart the kernel to use updated packages.\n"
     ]
    }
   ],
   "source": [
    "%pip install -q --user line_profiler"
   ]
  },
  {
   "cell_type": "code",
   "execution_count": 2,
   "metadata": {},
   "outputs": [
    {
     "name": "stdout",
     "output_type": "stream",
     "text": [
      "\u001b[33m  WARNING: The script mprof is installed in '/home/miuser/.local/bin' which is not on PATH.\n",
      "  Consider adding this directory to PATH or, if you prefer to suppress this warning, use --no-warn-script-location.\u001b[0m\n",
      "\u001b[33mWARNING: You are using pip version 19.3.1; however, version 20.0.2 is available.\n",
      "You should consider upgrading via the 'pip install --upgrade pip' command.\u001b[0m\n",
      "Note: you may need to restart the kernel to use updated packages.\n"
     ]
    }
   ],
   "source": [
    "%pip install -q --user memory_profiler"
   ]
  },
  {
   "cell_type": "code",
   "execution_count": 3,
   "metadata": {},
   "outputs": [
    {
     "name": "stdout",
     "output_type": "stream",
     "text": [
      "\u001b[33mWARNING: You are using pip version 19.3.1; however, version 20.0.2 is available.\n",
      "You should consider upgrading via the 'pip install --upgrade pip' command.\u001b[0m\n",
      "Note: you may need to restart the kernel to use updated packages.\n"
     ]
    }
   ],
   "source": [
    "%pip install -q --user psutil"
   ]
  },
  {
   "cell_type": "code",
   "execution_count": 4,
   "metadata": {},
   "outputs": [
    {
     "name": "stdout",
     "output_type": "stream",
     "text": [
      "\u001b[33mWARNING: You are using pip version 19.3.1; however, version 20.0.2 is available.\n",
      "You should consider upgrading via the 'pip install --upgrade pip' command.\u001b[0m\n",
      "Note: you may need to restart the kernel to use updated packages.\n"
     ]
    }
   ],
   "source": [
    "%pip install -q --user guppy3"
   ]
  },
  {
   "cell_type": "markdown",
   "metadata": {},
   "source": [
    "La siguiente celda reiniciará el kernel de **IPython** para cargar los paquetes instalados en la celda anterior. Dar **Ok** en el mensaje que salga y continuar con el contenido del notebook."
   ]
  },
  {
   "cell_type": "code",
   "execution_count": 5,
   "metadata": {},
   "outputs": [
    {
     "data": {
      "text/plain": [
       "{'status': 'ok', 'restart': True}"
      ]
     },
     "execution_count": 5,
     "metadata": {},
     "output_type": "execute_result"
    }
   ],
   "source": [
    "import IPython\n",
    "app = IPython.Application.instance()\n",
    "app.kernel.do_shutdown(True)"
   ]
  },
  {
   "cell_type": "code",
   "execution_count": 1,
   "metadata": {},
   "outputs": [],
   "source": [
    "import math\n",
    "from scipy.integrate import quad\n"
   ]
  },
  {
   "cell_type": "markdown",
   "metadata": {},
   "source": [
    "# Perfilamiento en Python"
   ]
  },
  {
   "cell_type": "markdown",
   "metadata": {},
   "source": [
    "En esta nota revisamos algunas herramientas de Python para perfilamiento de código: uso de cpu y memoria.\n",
    "\n",
    "Medición de tiempos con:\n",
    "\n",
    "* Módulo [time](https://docs.python.org/3/library/time.html#time.time) de Python.\n",
    "\n",
    "* [%time](https://ipython.readthedocs.io/en/stable/interactive/magics.html#magic-time) de comandos de magic <- esta herramienta es sólo para medir tiempos de un statement y sólo la coloco para referencia pero no se usará en la nota.\n",
    "\n",
    "* [/usr/bin/time](https://en.wikipedia.org/wiki/Time_(Unix)) de `Unix`.\n",
    "\n",
    "* [%timeit](https://ipython.readthedocs.io/en/stable/interactive/magics.html#magic-timeit) de comandos de magic.\n",
    "\n",
    "Perfilamiento:\n",
    "\n",
    "* De CPU con: [line_profiler](https://pypi.org/project/line-profiler/), [CProfile](https://docs.python.org/2/library/profile.html) que es `built-in` en la *standard-library* de Python.\n",
    "\n",
    "* De memoria con: [memory_profiler](https://pypi.org/project/memory-profiler/) y [heapy](https://pypi.org/project/guppy/). "
   ]
  },
  {
   "cell_type": "markdown",
   "metadata": {},
   "source": [
    "## Medición de tiempos"
   ]
  },
  {
   "cell_type": "markdown",
   "metadata": {},
   "source": [
    "El primer acercamiento que usamos en la nota para perfilar nuestro código es identificar qué es lento, otras mediciones son la cantidad de RAM, el I/O en disco o network. "
   ]
  },
  {
   "cell_type": "markdown",
   "metadata": {},
   "source": [
    "### 1) Uso de `time`"
   ]
  },
  {
   "cell_type": "code",
   "execution_count": 2,
   "metadata": {},
   "outputs": [],
   "source": [
    "import time"
   ]
  },
  {
   "cell_type": "markdown",
   "metadata": {},
   "source": [
    "### Regla compuesta del rectángulo"
   ]
  },
  {
   "cell_type": "markdown",
   "metadata": {},
   "source": [
    "**Ejemplo de implementación de regla compuesta de rectángulo: usando math**"
   ]
  },
  {
   "cell_type": "markdown",
   "metadata": {},
   "source": [
    "Utilizar la regla compuesta del rectángulo para aproximar la integral $\\int_0^1e^{-x^2}dx$ con $10^6$ subintervalos."
   ]
  },
  {
   "cell_type": "code",
   "execution_count": 3,
   "metadata": {},
   "outputs": [],
   "source": [
    "f=lambda x: math.exp(-x**2) #using math library"
   ]
  },
  {
   "cell_type": "code",
   "execution_count": 4,
   "metadata": {},
   "outputs": [],
   "source": [
    "def Rcf(f,a,b,n): #Rcf: rectángulo compuesto para f\n",
    "    \"\"\"\n",
    "    Compute numerical approximation using rectangle or mid-point method in \n",
    "    an interval.\n",
    "    Nodes are generated via formula: x_i = a+(i+1/2)h_hat for i=0,1,...,n-1 and h_hat=(b-a)/n\n",
    "    Args:\n",
    "        f (lambda expression): lambda expression of integrand\n",
    "        a (int): left point of interval\n",
    "        b (int): right point of interval\n",
    "        n (int): number of subintervals\n",
    "    Returns:\n",
    "        Rcf (float) \n",
    "    \"\"\"\n",
    "    h_hat=(b-a)/n\n",
    "    nodes=[a+(i+1/2)*h_hat for i in range(0,n)]\n",
    "    sum_res=0\n",
    "    for node in nodes:\n",
    "        sum_res=sum_res+f(node)\n",
    "    return h_hat*sum_res"
   ]
  },
  {
   "cell_type": "code",
   "execution_count": 5,
   "metadata": {},
   "outputs": [],
   "source": [
    "n=10**6"
   ]
  },
  {
   "cell_type": "code",
   "execution_count": 6,
   "metadata": {},
   "outputs": [],
   "source": [
    "start_time = time.time()\n",
    "aprox=Rcf(f,0,1,n)\n",
    "end_time = time.time()"
   ]
  },
  {
   "cell_type": "code",
   "execution_count": 7,
   "metadata": {},
   "outputs": [
    {
     "name": "stdout",
     "output_type": "stream",
     "text": [
      "Rcf tomó 0.3661477565765381 segundos\n"
     ]
    }
   ],
   "source": [
    "secs = end_time-start_time\n",
    "print(\"Rcf tomó\",secs,\"segundos\" )"
   ]
  },
  {
   "cell_type": "markdown",
   "metadata": {},
   "source": [
    "**Obs:** recuérdese que hay que evaluar que se esté resolviendo correctamente el problema. En este caso el error relativo nos ayuda"
   ]
  },
  {
   "cell_type": "code",
   "execution_count": 8,
   "metadata": {},
   "outputs": [],
   "source": [
    "def err_relativo(aprox, obj):\n",
    "    return math.fabs(aprox-obj)/math.fabs(obj) #obsérvese el uso de la librería math"
   ]
  },
  {
   "cell_type": "code",
   "execution_count": 9,
   "metadata": {},
   "outputs": [
    {
     "data": {
      "text/plain": [
       "6.71939731300312e-14"
      ]
     },
     "execution_count": 9,
     "metadata": {},
     "output_type": "execute_result"
    }
   ],
   "source": [
    "obj, err = quad(f, 0, 1)\n",
    "err_relativo(aprox,obj)"
   ]
  },
  {
   "cell_type": "markdown",
   "metadata": {},
   "source": [
    "**Comentarios:**\n",
    "\n",
    "* Tómese en cuenta que al medir tiempos de ejecución, siempre hay variación en la medición. Tal variación es normal.\n",
    "\n",
    "* Considérese que la máquina en la que se están corriendo las pruebas puede estar realizando otras tareas mientras se ejecuta el código, por ejemplo acceso a la red, al disco o a la RAM. Por ello, son factores que pueden causar variación en el tiempo de ejecución del programa.\n",
    "\n",
    "* Si se van a realizar reportes de tiempos, es importante indicar las características de la máquina en la que se están haciendo las pruebas, p.ej: Dell E6420 con un procesador Intel Core I7-2720QM (2.20 GHz, 6 MB cache, Quad Core) y 8 GB de RAM en un Ubuntu $13.10$."
   ]
  },
  {
   "cell_type": "markdown",
   "metadata": {},
   "source": [
    "### 2) Uso de `/usr/bin/time` de Unix"
   ]
  },
  {
   "cell_type": "markdown",
   "metadata": {},
   "source": [
    "Para la línea de comando `/usr/bin/time` primero escribimos el siguiente archivo en la ruta donde se encuentra este notebook con la línea de comando magic `%file`"
   ]
  },
  {
   "cell_type": "code",
   "execution_count": 10,
   "metadata": {},
   "outputs": [
    {
     "name": "stdout",
     "output_type": "stream",
     "text": [
      "Writing Rcf.py\n"
     ]
    }
   ],
   "source": [
    "%%file Rcf.py\n",
    "import math\n",
    "def Rcf(f,a,b,n): #Rcf: rectángulo compuesto para f\n",
    "    \"\"\"\n",
    "    Compute numerical approximation using rectangle or mid-point method in \n",
    "    an interval.\n",
    "    Nodes are generated via formula: x_i = a+(i+1/2)h_hat for i=0,1,...,n-1 and h_hat=(b-a)/n\n",
    "    Args:\n",
    "        f (lambda expression): lambda expression of integrand\n",
    "        a (int): left point of interval\n",
    "        b (int): right point of interval\n",
    "        n (int): number of subintervals\n",
    "    Returns:\n",
    "        Rcf (float) \n",
    "    \"\"\"\n",
    "    h_hat=(b-a)/n\n",
    "    nodes=[a+(i+1/2)*h_hat for i in range(0,n)]\n",
    "    sum_res=0\n",
    "    for node in nodes:\n",
    "        sum_res=sum_res+f(node)\n",
    "    return h_hat*sum_res\n",
    "if __name__==\"__main__\": #añadimos este bloque para ejecución de la función Rcf\n",
    "        n=10**6\n",
    "        f=lambda x: math.exp(-x**2)\n",
    "        print(\"aproximación: {:0.6e}\".format(Rcf(f,0,1,n)))"
   ]
  },
  {
   "cell_type": "markdown",
   "metadata": {},
   "source": [
    "Ver [liga](https://stackoverflow.com/questions/419163/what-does-if-name-main-do) y [liga2](https://es.stackoverflow.com/questions/32165/qu%C3%A9-es-if-name-main) para saber qué es lo que hace la línea `if __name__ == \"__main__\":`"
   ]
  },
  {
   "cell_type": "markdown",
   "metadata": {},
   "source": [
    "Lo siguiente es necesario si no tienen instalado el comando `/usr/bin/time`:"
   ]
  },
  {
   "cell_type": "code",
   "execution_count": 11,
   "metadata": {},
   "outputs": [
    {
     "name": "stdout",
     "output_type": "stream",
     "text": [
      "Reading package lists...\n",
      "Building dependency tree...\n",
      "Reading state information...\n",
      "The following NEW packages will be installed:\n",
      "  time\n",
      "0 upgraded, 1 newly installed, 0 to remove and 24 not upgraded.\n",
      "Need to get 26.2 kB of archives.\n",
      "After this operation, 79.9 kB of additional disk space will be used.\n",
      "Get:1 http://archive.ubuntu.com/ubuntu bionic/main amd64 time amd64 1.7-25.1build1 [26.2 kB]\n",
      "Fetched 26.2 kB in 4s (6280 B/s)\n",
      "Selecting previously unselected package time.\n",
      "(Reading database ... 18521 files and directories currently installed.)\n",
      "Preparing to unpack .../time_1.7-25.1build1_amd64.deb ...\n",
      "Unpacking time (1.7-25.1build1) ...\n",
      "Setting up time (1.7-25.1build1) ...\n"
     ]
    },
    {
     "name": "stderr",
     "output_type": "stream",
     "text": [
      "debconf: delaying package configuration, since apt-utils is not installed\n"
     ]
    }
   ],
   "source": [
    "%%bash\n",
    "sudo apt-get install time"
   ]
  },
  {
   "cell_type": "code",
   "execution_count": 12,
   "metadata": {},
   "outputs": [
    {
     "name": "stdout",
     "output_type": "stream",
     "text": [
      "aproximación: 7.468241e-01\n"
     ]
    },
    {
     "name": "stderr",
     "output_type": "stream",
     "text": [
      "real 0.46\n",
      "user 0.42\n",
      "sys 0.03\n"
     ]
    }
   ],
   "source": [
    "%%bash\n",
    "/usr/bin/time -p python3 Rcf.py #la p es de portabilidad, \n",
    "                                #ver: http://manpages.ubuntu.com/manpages/xenial/man1/time.1.html\n",
    "                                #para mayor información"
   ]
  },
  {
   "cell_type": "markdown",
   "metadata": {},
   "source": [
    "**Comentarios:**\n",
    "\n",
    "* `real` que mide el wall clock o elapsed time.\n",
    "* `user` que mide la cantidad de tiempo de tu ejecución que la CPU gastó para funciones que no están relacionadas con el kernel* del sistema.\n",
    "* `sys` que mide la cantidad de tiempo de tu ejecución que la CPU gastó en funciones a nivel de kernel del sistema.\n",
    "\n",
    "\\*Ver [kernel operating system](https://en.wikipedia.org/wiki/Kernel_(operating_system)) para definición del kernel de una máquina.\n",
    "\n",
    "**Obs:** Una función relacionada con el kernel del sistema es el alojamiento de memoria al crear una variable. Otras son las instrucciones relacionadas con el I/O como leer de la memoria, disco o network.\n",
    "\n",
    "* La ventaja de `/usr/bin/time` es que no es específico de Python.\n",
    "* Este comando incluye el tiempo que le toma al sistema iniciar el ejecutable de python (que puede ser significativo si se inician muchos procesos vs un sólo proceso). En el caso de tener short-running scripts donde el tiempo de inicio es significativo del tiempo total entonces `/usr/bin/time` puede ser una medida útil.\n",
    "\n",
    "\n",
    "**Nota:** Si se suma `user` con `sys` se tiene una idea de cuánto tiempo se gastó en la CPU y la diferencia entre este resultado y `real` da una idea de cuánto tiempo se gastó para I/O o también puede dar una idea de la cantidad de tiempo que se ocupó el sistema en correr otras tareas.\n",
    "\n"
   ]
  },
  {
   "cell_type": "markdown",
   "metadata": {},
   "source": [
    "* Se puede utilizar la flag `verbose` para obtener más información:"
   ]
  },
  {
   "cell_type": "code",
   "execution_count": 13,
   "metadata": {},
   "outputs": [
    {
     "name": "stdout",
     "output_type": "stream",
     "text": [
      "aproximación: 7.468241e-01\n"
     ]
    },
    {
     "name": "stderr",
     "output_type": "stream",
     "text": [
      "\tCommand being timed: \"python3 Rcf.py\"\n",
      "\tUser time (seconds): 0.37\n",
      "\tSystem time (seconds): 0.04\n",
      "\tPercent of CPU this job got: 89%\n",
      "\tElapsed (wall clock) time (h:mm:ss or m:ss): 0:00.45\n",
      "\tAverage shared text size (kbytes): 0\n",
      "\tAverage unshared data size (kbytes): 0\n",
      "\tAverage stack size (kbytes): 0\n",
      "\tAverage total size (kbytes): 0\n",
      "\tMaximum resident set size (kbytes): 41112\n",
      "\tAverage resident set size (kbytes): 0\n",
      "\tMajor (requiring I/O) page faults: 0\n",
      "\tMinor (reclaiming a frame) page faults: 9078\n",
      "\tVoluntary context switches: 26\n",
      "\tInvoluntary context switches: 581\n",
      "\tSwaps: 0\n",
      "\tFile system inputs: 16\n",
      "\tFile system outputs: 0\n",
      "\tSocket messages sent: 0\n",
      "\tSocket messages received: 0\n",
      "\tSignals delivered: 0\n",
      "\tPage size (bytes): 4096\n",
      "\tExit status: 0\n"
     ]
    }
   ],
   "source": [
    "%%bash\n",
    "/usr/bin/time --verbose python3 Rcf.py"
   ]
  },
  {
   "cell_type": "markdown",
   "metadata": {},
   "source": [
    "y una explicación (breve) del output se puede encontrar [aquí](http://manpages.ubuntu.com/manpages/xenial/man1/time.1.html). Para el caso de `Major (requiring I/O)` nos interesa que sea $0$ pues indica que el sistema operativo tiene que cargar páginas de datos del disco pues tales datos ya no residen en RAM (por alguna razón)."
   ]
  },
  {
   "cell_type": "markdown",
   "metadata": {},
   "source": [
    "### 3) Uso de `%timeit`"
   ]
  },
  {
   "cell_type": "markdown",
   "metadata": {},
   "source": [
    "El módulo de `timeit` es otra forma de medir el tiempo de ejecución en la CPU.\n",
    "\n",
    "**Nota:** el módulo de `timeit` desabilita temporalmente el garbage collector* de Python (esto es, no habrá desalojamiento en memoria de objetos de Python que no se utilicen). Si el garbage collector es invocado en tus operaciones para un ejemplo del mundo real, esto puede ser una razón de posibles diferencias que obtengas en las mediciones de tiempo. "
   ]
  },
  {
   "cell_type": "markdown",
   "metadata": {},
   "source": [
    "*sugiero buscar qué es el garbage collector en blogs, por ejemplo: [liga](https://rushter.com/blog/python-garbage-collector/) o [liga2](https://stackify.com/python-garbage-collection/) o [liga3](https://stackoverflow.com/questions/4484167/python-garbage-collector-documentation)."
   ]
  },
  {
   "cell_type": "code",
   "execution_count": 14,
   "metadata": {},
   "outputs": [
    {
     "data": {
      "text/plain": [
       "\u001b[0;31mDocstring:\u001b[0m\n",
       "Time execution of a Python statement or expression\n",
       "\n",
       "Usage, in line mode:\n",
       "  %timeit [-n<N> -r<R> [-t|-c] -q -p<P> -o] statement\n",
       "or in cell mode:\n",
       "  %%timeit [-n<N> -r<R> [-t|-c] -q -p<P> -o] setup_code\n",
       "  code\n",
       "  code...\n",
       "\n",
       "Time execution of a Python statement or expression using the timeit\n",
       "module.  This function can be used both as a line and cell magic:\n",
       "\n",
       "- In line mode you can time a single-line statement (though multiple\n",
       "  ones can be chained with using semicolons).\n",
       "\n",
       "- In cell mode, the statement in the first line is used as setup code\n",
       "  (executed but not timed) and the body of the cell is timed.  The cell\n",
       "  body has access to any variables created in the setup code.\n",
       "\n",
       "Options:\n",
       "-n<N>: execute the given statement <N> times in a loop. If <N> is not\n",
       "provided, <N> is determined so as to get sufficient accuracy.\n",
       "\n",
       "-r<R>: number of repeats <R>, each consisting of <N> loops, and take the\n",
       "best result.\n",
       "Default: 7\n",
       "\n",
       "-t: use time.time to measure the time, which is the default on Unix.\n",
       "This function measures wall time.\n",
       "\n",
       "-c: use time.clock to measure the time, which is the default on\n",
       "Windows and measures wall time. On Unix, resource.getrusage is used\n",
       "instead and returns the CPU user time.\n",
       "\n",
       "-p<P>: use a precision of <P> digits to display the timing result.\n",
       "Default: 3\n",
       "\n",
       "-q: Quiet, do not print result.\n",
       "\n",
       "-o: return a TimeitResult that can be stored in a variable to inspect\n",
       "    the result in more details.\n",
       "\n",
       ".. versionchanged:: 7.3\n",
       "    User variables are no longer expanded,\n",
       "    the magic line is always left unmodified.\n",
       "\n",
       "Examples\n",
       "--------\n",
       "::\n",
       "\n",
       "  In [1]: %timeit pass\n",
       "  8.26 ns ± 0.12 ns per loop (mean ± std. dev. of 7 runs, 100000000 loops each)\n",
       "\n",
       "  In [2]: u = None\n",
       "\n",
       "  In [3]: %timeit u is None\n",
       "  29.9 ns ± 0.643 ns per loop (mean ± std. dev. of 7 runs, 10000000 loops each)\n",
       "\n",
       "  In [4]: %timeit -r 4 u == None\n",
       "\n",
       "  In [5]: import time\n",
       "\n",
       "  In [6]: %timeit -n1 time.sleep(2)\n",
       "\n",
       "\n",
       "The times reported by %timeit will be slightly higher than those\n",
       "reported by the timeit.py script when variables are accessed. This is\n",
       "due to the fact that %timeit executes the statement in the namespace\n",
       "of the shell, compared with timeit.py, which uses a single setup\n",
       "statement to import function or create variables. Generally, the bias\n",
       "does not matter as long as results from timeit.py are not mixed with\n",
       "those from %timeit.\n",
       "\u001b[0;31mFile:\u001b[0m      /usr/local/lib/python3.6/dist-packages/IPython/core/magics/execution.py\n"
      ]
     },
     "metadata": {},
     "output_type": "display_data"
    }
   ],
   "source": [
    "%timeit?"
   ]
  },
  {
   "cell_type": "code",
   "execution_count": 15,
   "metadata": {},
   "outputs": [
    {
     "name": "stdout",
     "output_type": "stream",
     "text": [
      "333 ms ± 11.1 ms per loop (mean ± std. dev. of 10 runs, 5 loops each)\n"
     ]
    }
   ],
   "source": [
    "%timeit -n 5 -r 10 Rcf(f,0,1,n)"
   ]
  },
  {
   "cell_type": "markdown",
   "metadata": {},
   "source": [
    "para este caso se está ejecutando la función `Rcf` en un loop de tamaño $5$, se están promediando los tiempos de las $5$ ejecuciones y calculando su desviación estándar y al repetir esto $10$ veces se está reportando el mejor resultado. $ms$ es milisecond, $\\mu s$ es microsecond y $ns$ es nanosecond."
   ]
  },
  {
   "cell_type": "markdown",
   "metadata": {},
   "source": [
    "**Comentarios:**\n",
    "\n",
    "* `timeit` se recomienda usar para secciones de código pequeñas. Para secciones más grandes típicamente modificar el valor de $n$ (ejecutar el código n veces en un loop) resulta en mediciones distintas.\n",
    "\n",
    "* Ejecuta `timeit` varias ocasiones para asegurarse que se obtienen tiempos similares. Si observas una gran variación en las mediciones de tiempo entre distintas repeticiones de `timeit`, realiza más repeticiones hasta tener un resultado estable."
   ]
  },
  {
   "cell_type": "markdown",
   "metadata": {},
   "source": [
    "## Medición de uso de CPU"
   ]
  },
  {
   "cell_type": "markdown",
   "metadata": {},
   "source": [
    "### 1) Uso de cProfile"
   ]
  },
  {
   "cell_type": "markdown",
   "metadata": {},
   "source": [
    "`cProfile` es una herramienta **built-in** en la standard library para perfilamiento. Se utiliza con la implementación `CPython` de `Python` (ver [liga](https://stackoverflow.com/questions/17130975/python-vs-cpython) para explicación de implementaciones de Python) para medir el tiempo de ejecución de cada función en el programa."
   ]
  },
  {
   "cell_type": "markdown",
   "metadata": {},
   "source": [
    "Se ejecuta desde la línea de comandos o con un comando de magic. La flag `-s` indica que se ordene el resultado por el tiempo acumulado dentro de cada función."
   ]
  },
  {
   "cell_type": "markdown",
   "metadata": {},
   "source": [
    "El output siguiente de `cProfile` muestra:\n",
    "\n",
    "* El tiempo total de ejecución, el cual incluye el tiempo del bloque de código que estamos midiendo y el overhead al usar `cProfile`. Por esta razón se tiene un mayor tiempo de ejecución que con las mediciones de tiempo anteriores.\n",
    "\n",
    "* La columna `ncalls` que como el nombre indica, muestra el número de veces que se llamó a cada función. En este caso las funciones `lambda` y `math.exp` son las que se llaman un mayor número de veces: $n=10^6$ veces. La columna`tottime` muestra el tiempo que tardaron estas funciones en ejecutarse (sin llamar a otras funciones).\n",
    "\n",
    "* La columna `percall` es el cociente entre `tottime` y `ncalls`.\n",
    "\n",
    "* La columna `cumtime` contiene el tiempo gastado en la función y en las demás que llama. Por ejemplo la función `Rcf` llama a `listcomp` por lo que es natural que `Rcf` esté más arriba en el output ordenado de `cProfile`. Esto también ocurre con `lambda` y `math.exp` pues la primera llama a la segunda.\n",
    "\n",
    "* La columna de `percall` es un cociente entre la columna `cumtime` y el llamado a primitivas.\n",
    "\n",
    "* La última columna indica información de la función y la línea en la que se encuentra dentro del código. Por ejemplo la línea $1$ de módulo es el llamado a la función `__main__`. La línea $2$ es el llamado a la función `Rcf`. Por lo que es prácticamente negligible el llamado a `__main__`."
   ]
  },
  {
   "cell_type": "code",
   "execution_count": 16,
   "metadata": {},
   "outputs": [
    {
     "name": "stdout",
     "output_type": "stream",
     "text": [
      "aproximación: 7.468241e-01\n",
      "         2000068 function calls in 0.649 seconds\n",
      "\n",
      "   Ordered by: cumulative time\n",
      "\n",
      "   ncalls  tottime  percall  cumtime  percall filename:lineno(function)\n",
      "        1    0.000    0.000    0.649    0.649 {built-in method builtins.exec}\n",
      "        1    0.021    0.021    0.649    0.649 Rcf.py:1(<module>)\n",
      "        1    0.155    0.155    0.627    0.627 Rcf.py:2(Rcf)\n",
      "  1000000    0.252    0.000    0.343    0.000 Rcf.py:23(<lambda>)\n",
      "        1    0.129    0.129    0.129    0.129 Rcf.py:16(<listcomp>)\n",
      "  1000000    0.090    0.000    0.090    0.000 {built-in method math.exp}\n",
      "        1    0.000    0.000    0.001    0.001 <frozen importlib._bootstrap>:966(_find_and_load)\n",
      "        1    0.000    0.000    0.000    0.000 <frozen importlib._bootstrap>:936(_find_and_load_unlocked)\n",
      "        1    0.000    0.000    0.000    0.000 <frozen importlib._bootstrap>:651(_load_unlocked)\n",
      "        1    0.000    0.000    0.000    0.000 <frozen importlib._bootstrap>:564(module_from_spec)\n",
      "        2    0.000    0.000    0.000    0.000 <frozen importlib._bootstrap>:211(_call_with_frames_removed)\n",
      "        1    0.000    0.000    0.000    0.000 <frozen importlib._bootstrap>:728(create_module)\n",
      "        1    0.000    0.000    0.000    0.000 {built-in method _imp.create_builtin}\n",
      "        1    0.000    0.000    0.000    0.000 <frozen importlib._bootstrap>:147(__enter__)\n",
      "        1    0.000    0.000    0.000    0.000 <frozen importlib._bootstrap>:157(_get_module_lock)\n",
      "        1    0.000    0.000    0.000    0.000 <frozen importlib._bootstrap>:58(__init__)\n",
      "        1    0.000    0.000    0.000    0.000 <frozen importlib._bootstrap>:870(_find_spec)\n",
      "        1    0.000    0.000    0.000    0.000 {method 'format' of 'str' objects}\n",
      "        1    0.000    0.000    0.000    0.000 <frozen importlib._bootstrap>:151(__exit__)\n",
      "        1    0.000    0.000    0.000    0.000 <frozen importlib._bootstrap>:103(release)\n",
      "        1    0.000    0.000    0.000    0.000 <frozen importlib._bootstrap>:707(find_spec)\n",
      "        1    0.000    0.000    0.000    0.000 {built-in method builtins.print}\n",
      "        1    0.000    0.000    0.000    0.000 <frozen importlib._bootstrap>:318(__exit__)\n",
      "        1    0.000    0.000    0.000    0.000 <frozen importlib._bootstrap>:433(spec_from_loader)\n",
      "        2    0.000    0.000    0.000    0.000 {built-in method _thread.allocate_lock}\n",
      "        1    0.000    0.000    0.000    0.000 <frozen importlib._bootstrap>:504(_init_module_attrs)\n",
      "        1    0.000    0.000    0.000    0.000 <frozen importlib._bootstrap>:847(__exit__)\n",
      "        1    0.000    0.000    0.000    0.000 <frozen importlib._bootstrap>:736(exec_module)\n",
      "        1    0.000    0.000    0.000    0.000 <frozen importlib._bootstrap>:78(acquire)\n",
      "        2    0.000    0.000    0.000    0.000 {built-in method _thread.get_ident}\n",
      "        1    0.000    0.000    0.000    0.000 <frozen importlib._bootstrap>:232(_requires_builtin_wrapper)\n",
      "        1    0.000    0.000    0.000    0.000 {built-in method builtins.any}\n",
      "        1    0.000    0.000    0.000    0.000 <frozen importlib._bootstrap>:176(cb)\n",
      "        4    0.000    0.000    0.000    0.000 {built-in method builtins.getattr}\n",
      "        1    0.000    0.000    0.000    0.000 <frozen importlib._bootstrap>:311(__enter__)\n",
      "        1    0.000    0.000    0.000    0.000 <frozen importlib._bootstrap>:369(__init__)\n",
      "        1    0.000    0.000    0.000    0.000 <frozen importlib._bootstrap>:222(_verbose_message)\n",
      "        2    0.000    0.000    0.000    0.000 {method 'get' of 'dict' objects}\n",
      "        2    0.000    0.000    0.000    0.000 {method 'rpartition' of 'str' objects}\n",
      "        1    0.000    0.000    0.000    0.000 {built-in method _imp.is_builtin}\n",
      "        4    0.000    0.000    0.000    0.000 {built-in method builtins.hasattr}\n",
      "        1    0.000    0.000    0.000    0.000 <frozen importlib._bootstrap>:307(__init__)\n",
      "        4    0.000    0.000    0.000    0.000 <frozen importlib._bootstrap>:321(<genexpr>)\n",
      "        1    0.000    0.000    0.000    0.000 <frozen importlib._bootstrap>:416(parent)\n",
      "        1    0.000    0.000    0.000    0.000 <frozen importlib._bootstrap>:843(__enter__)\n",
      "        1    0.000    0.000    0.000    0.000 <frozen importlib._bootstrap>:143(__init__)\n",
      "        3    0.000    0.000    0.000    0.000 {built-in method _imp.acquire_lock}\n",
      "        3    0.000    0.000    0.000    0.000 {built-in method _imp.release_lock}\n",
      "        1    0.000    0.000    0.000    0.000 {method 'disable' of '_lsprof.Profiler' objects}\n",
      "        1    0.000    0.000    0.000    0.000 {built-in method _imp.exec_builtin}\n",
      "        1    0.000    0.000    0.000    0.000 <frozen importlib._bootstrap>:424(has_location)\n",
      "        1    0.000    0.000    0.000    0.000 <frozen importlib._bootstrap>:753(is_package)\n",
      "\n",
      "\n"
     ]
    }
   ],
   "source": [
    "%%bash\n",
    "python3 -m cProfile -s cumulative Rcf.py"
   ]
  },
  {
   "cell_type": "markdown",
   "metadata": {},
   "source": [
    "**Nota:** Recordar que el output de `CProfile` con la flag `-s cumulative` está ordenando por el gasto en tiempo de las funciones que son llamadas en el bloque de código analizado. No está ordenando por parent functions. Para tener un output en el que se tenga qué funciones llaman a qué otras se puede utilizar lo siguiente:"
   ]
  },
  {
   "cell_type": "code",
   "execution_count": 17,
   "metadata": {},
   "outputs": [
    {
     "name": "stdout",
     "output_type": "stream",
     "text": [
      "aproximación: 7.468241e-01\n"
     ]
    }
   ],
   "source": [
    "%%bash\n",
    "python3 -m cProfile -o profile.stats Rcf.py"
   ]
  },
  {
   "cell_type": "code",
   "execution_count": 18,
   "metadata": {},
   "outputs": [],
   "source": [
    "import pstats"
   ]
  },
  {
   "cell_type": "code",
   "execution_count": 19,
   "metadata": {},
   "outputs": [
    {
     "data": {
      "text/plain": [
       "<pstats.Stats at 0x7f9775b947f0>"
      ]
     },
     "execution_count": 19,
     "metadata": {},
     "output_type": "execute_result"
    }
   ],
   "source": [
    "p = pstats.Stats(\"profile.stats\")\n",
    "p.sort_stats(\"cumulative\")"
   ]
  },
  {
   "cell_type": "code",
   "execution_count": 20,
   "metadata": {},
   "outputs": [
    {
     "name": "stdout",
     "output_type": "stream",
     "text": [
      "Wed Jan 29 15:41:40 2020    profile.stats\n",
      "\n",
      "         2000068 function calls in 0.587 seconds\n",
      "\n",
      "   Ordered by: cumulative time\n",
      "\n",
      "   ncalls  tottime  percall  cumtime  percall filename:lineno(function)\n",
      "        1    0.000    0.000    0.587    0.587 {built-in method builtins.exec}\n",
      "        1    0.014    0.014    0.587    0.587 Rcf.py:1(<module>)\n",
      "        1    0.131    0.131    0.573    0.573 Rcf.py:2(Rcf)\n",
      "  1000000    0.218    0.000    0.300    0.000 Rcf.py:23(<lambda>)\n",
      "        1    0.142    0.142    0.142    0.142 Rcf.py:16(<listcomp>)\n",
      "  1000000    0.082    0.000    0.082    0.000 {built-in method math.exp}\n",
      "        1    0.000    0.000    0.001    0.001 <frozen importlib._bootstrap>:966(_find_and_load)\n",
      "        1    0.000    0.000    0.000    0.000 <frozen importlib._bootstrap>:936(_find_and_load_unlocked)\n",
      "        1    0.000    0.000    0.000    0.000 <frozen importlib._bootstrap>:651(_load_unlocked)\n",
      "        1    0.000    0.000    0.000    0.000 <frozen importlib._bootstrap>:564(module_from_spec)\n",
      "        1    0.000    0.000    0.000    0.000 <frozen importlib._bootstrap>:728(create_module)\n",
      "        2    0.000    0.000    0.000    0.000 <frozen importlib._bootstrap>:211(_call_with_frames_removed)\n",
      "        1    0.000    0.000    0.000    0.000 {built-in method _imp.create_builtin}\n",
      "        1    0.000    0.000    0.000    0.000 <frozen importlib._bootstrap>:147(__enter__)\n",
      "        1    0.000    0.000    0.000    0.000 <frozen importlib._bootstrap>:870(_find_spec)\n",
      "        1    0.000    0.000    0.000    0.000 <frozen importlib._bootstrap>:157(_get_module_lock)\n",
      "        1    0.000    0.000    0.000    0.000 <frozen importlib._bootstrap>:707(find_spec)\n",
      "        1    0.000    0.000    0.000    0.000 {method 'format' of 'str' objects}\n",
      "        1    0.000    0.000    0.000    0.000 <frozen importlib._bootstrap>:433(spec_from_loader)\n",
      "        1    0.000    0.000    0.000    0.000 <frozen importlib._bootstrap>:58(__init__)\n",
      "        1    0.000    0.000    0.000    0.000 <frozen importlib._bootstrap>:504(_init_module_attrs)\n",
      "        1    0.000    0.000    0.000    0.000 {built-in method builtins.print}\n",
      "        1    0.000    0.000    0.000    0.000 <frozen importlib._bootstrap>:318(__exit__)\n",
      "        1    0.000    0.000    0.000    0.000 <frozen importlib._bootstrap>:151(__exit__)\n",
      "        1    0.000    0.000    0.000    0.000 <frozen importlib._bootstrap>:78(acquire)\n",
      "        1    0.000    0.000    0.000    0.000 <frozen importlib._bootstrap>:103(release)\n",
      "        1    0.000    0.000    0.000    0.000 <frozen importlib._bootstrap>:232(_requires_builtin_wrapper)\n",
      "        4    0.000    0.000    0.000    0.000 {built-in method builtins.hasattr}\n",
      "        4    0.000    0.000    0.000    0.000 {built-in method builtins.getattr}\n",
      "        1    0.000    0.000    0.000    0.000 {built-in method builtins.any}\n",
      "        1    0.000    0.000    0.000    0.000 <frozen importlib._bootstrap>:369(__init__)\n",
      "        1    0.000    0.000    0.000    0.000 <frozen importlib._bootstrap>:416(parent)\n",
      "        1    0.000    0.000    0.000    0.000 <frozen importlib._bootstrap>:736(exec_module)\n",
      "        1    0.000    0.000    0.000    0.000 <frozen importlib._bootstrap>:176(cb)\n",
      "        1    0.000    0.000    0.000    0.000 {built-in method _imp.is_builtin}\n",
      "        1    0.000    0.000    0.000    0.000 <frozen importlib._bootstrap>:311(__enter__)\n",
      "        1    0.000    0.000    0.000    0.000 <frozen importlib._bootstrap>:143(__init__)\n",
      "        1    0.000    0.000    0.000    0.000 <frozen importlib._bootstrap>:222(_verbose_message)\n",
      "        2    0.000    0.000    0.000    0.000 {method 'get' of 'dict' objects}\n",
      "        1    0.000    0.000    0.000    0.000 <frozen importlib._bootstrap>:307(__init__)\n",
      "        4    0.000    0.000    0.000    0.000 <frozen importlib._bootstrap>:321(<genexpr>)\n",
      "        1    0.000    0.000    0.000    0.000 <frozen importlib._bootstrap>:847(__exit__)\n",
      "        2    0.000    0.000    0.000    0.000 {method 'rpartition' of 'str' objects}\n",
      "        2    0.000    0.000    0.000    0.000 {built-in method _thread.allocate_lock}\n",
      "        2    0.000    0.000    0.000    0.000 {built-in method _thread.get_ident}\n",
      "        3    0.000    0.000    0.000    0.000 {built-in method _imp.acquire_lock}\n",
      "        3    0.000    0.000    0.000    0.000 {built-in method _imp.release_lock}\n",
      "        1    0.000    0.000    0.000    0.000 {built-in method _imp.exec_builtin}\n",
      "        1    0.000    0.000    0.000    0.000 <frozen importlib._bootstrap>:843(__enter__)\n",
      "        1    0.000    0.000    0.000    0.000 {method 'disable' of '_lsprof.Profiler' objects}\n",
      "        1    0.000    0.000    0.000    0.000 <frozen importlib._bootstrap>:424(has_location)\n",
      "        1    0.000    0.000    0.000    0.000 <frozen importlib._bootstrap>:753(is_package)\n",
      "\n",
      "\n"
     ]
    },
    {
     "data": {
      "text/plain": [
       "<pstats.Stats at 0x7f9775b947f0>"
      ]
     },
     "execution_count": 20,
     "metadata": {},
     "output_type": "execute_result"
    }
   ],
   "source": [
    "p.print_stats()"
   ]
  },
  {
   "cell_type": "code",
   "execution_count": 21,
   "metadata": {},
   "outputs": [
    {
     "name": "stdout",
     "output_type": "stream",
     "text": [
      "   Ordered by: cumulative time\n",
      "\n",
      "Function                                                      was called by...\n",
      "                                                                  ncalls  tottime  cumtime\n",
      "{built-in method builtins.exec}                               <- \n",
      "Rcf.py:1(<module>)                                            <-       1    0.014    0.587  {built-in method builtins.exec}\n",
      "Rcf.py:2(Rcf)                                                 <-       1    0.131    0.573  Rcf.py:1(<module>)\n",
      "Rcf.py:23(<lambda>)                                           <- 1000000    0.218    0.300  Rcf.py:2(Rcf)\n",
      "Rcf.py:16(<listcomp>)                                         <-       1    0.142    0.142  Rcf.py:2(Rcf)\n",
      "{built-in method math.exp}                                    <- 1000000    0.082    0.082  Rcf.py:23(<lambda>)\n",
      "<frozen importlib._bootstrap>:966(_find_and_load)             <-       1    0.000    0.001  Rcf.py:1(<module>)\n",
      "<frozen importlib._bootstrap>:936(_find_and_load_unlocked)    <-       1    0.000    0.000  <frozen importlib._bootstrap>:966(_find_and_load)\n",
      "<frozen importlib._bootstrap>:651(_load_unlocked)             <-       1    0.000    0.000  <frozen importlib._bootstrap>:936(_find_and_load_unlocked)\n",
      "<frozen importlib._bootstrap>:564(module_from_spec)           <-       1    0.000    0.000  <frozen importlib._bootstrap>:651(_load_unlocked)\n",
      "<frozen importlib._bootstrap>:728(create_module)              <-       1    0.000    0.000  <frozen importlib._bootstrap>:564(module_from_spec)\n",
      "<frozen importlib._bootstrap>:211(_call_with_frames_removed)  <-       1    0.000    0.000  <frozen importlib._bootstrap>:728(create_module)\n",
      "                                                                       1    0.000    0.000  <frozen importlib._bootstrap>:736(exec_module)\n",
      "{built-in method _imp.create_builtin}                         <-       1    0.000    0.000  <frozen importlib._bootstrap>:211(_call_with_frames_removed)\n",
      "<frozen importlib._bootstrap>:147(__enter__)                  <-       1    0.000    0.000  <frozen importlib._bootstrap>:966(_find_and_load)\n",
      "<frozen importlib._bootstrap>:870(_find_spec)                 <-       1    0.000    0.000  <frozen importlib._bootstrap>:936(_find_and_load_unlocked)\n",
      "<frozen importlib._bootstrap>:157(_get_module_lock)           <-       1    0.000    0.000  <frozen importlib._bootstrap>:147(__enter__)\n",
      "<frozen importlib._bootstrap>:707(find_spec)                  <-       1    0.000    0.000  <frozen importlib._bootstrap>:870(_find_spec)\n",
      "{method 'format' of 'str' objects}                            <-       1    0.000    0.000  Rcf.py:1(<module>)\n",
      "<frozen importlib._bootstrap>:433(spec_from_loader)           <-       1    0.000    0.000  <frozen importlib._bootstrap>:707(find_spec)\n",
      "<frozen importlib._bootstrap>:58(__init__)                    <-       1    0.000    0.000  <frozen importlib._bootstrap>:157(_get_module_lock)\n",
      "<frozen importlib._bootstrap>:504(_init_module_attrs)         <-       1    0.000    0.000  <frozen importlib._bootstrap>:564(module_from_spec)\n",
      "{built-in method builtins.print}                              <-       1    0.000    0.000  Rcf.py:1(<module>)\n",
      "<frozen importlib._bootstrap>:318(__exit__)                   <-       1    0.000    0.000  <frozen importlib._bootstrap>:651(_load_unlocked)\n",
      "<frozen importlib._bootstrap>:151(__exit__)                   <-       1    0.000    0.000  <frozen importlib._bootstrap>:966(_find_and_load)\n",
      "<frozen importlib._bootstrap>:78(acquire)                     <-       1    0.000    0.000  <frozen importlib._bootstrap>:147(__enter__)\n",
      "<frozen importlib._bootstrap>:103(release)                    <-       1    0.000    0.000  <frozen importlib._bootstrap>:151(__exit__)\n",
      "<frozen importlib._bootstrap>:232(_requires_builtin_wrapper)  <-       1    0.000    0.000  <frozen importlib._bootstrap>:433(spec_from_loader)\n",
      "{built-in method builtins.hasattr}                            <-       2    0.000    0.000  <frozen importlib._bootstrap>:433(spec_from_loader)\n",
      "                                                                       1    0.000    0.000  <frozen importlib._bootstrap>:564(module_from_spec)\n",
      "                                                                       1    0.000    0.000  <frozen importlib._bootstrap>:651(_load_unlocked)\n",
      "{built-in method builtins.getattr}                            <-       4    0.000    0.000  <frozen importlib._bootstrap>:504(_init_module_attrs)\n",
      "{built-in method builtins.any}                                <-       1    0.000    0.000  <frozen importlib._bootstrap>:318(__exit__)\n",
      "<frozen importlib._bootstrap>:369(__init__)                   <-       1    0.000    0.000  <frozen importlib._bootstrap>:433(spec_from_loader)\n",
      "<frozen importlib._bootstrap>:416(parent)                     <-       1    0.000    0.000  <frozen importlib._bootstrap>:504(_init_module_attrs)\n",
      "<frozen importlib._bootstrap>:736(exec_module)                <-       1    0.000    0.000  <frozen importlib._bootstrap>:651(_load_unlocked)\n",
      "<frozen importlib._bootstrap>:176(cb)                         <-       1    0.000    0.000  <frozen importlib._bootstrap>:966(_find_and_load)\n",
      "{built-in method _imp.is_builtin}                             <-       1    0.000    0.000  <frozen importlib._bootstrap>:707(find_spec)\n",
      "<frozen importlib._bootstrap>:311(__enter__)                  <-       1    0.000    0.000  <frozen importlib._bootstrap>:651(_load_unlocked)\n",
      "<frozen importlib._bootstrap>:143(__init__)                   <-       1    0.000    0.000  <frozen importlib._bootstrap>:966(_find_and_load)\n",
      "<frozen importlib._bootstrap>:222(_verbose_message)           <-       1    0.000    0.000  <frozen importlib._bootstrap>:318(__exit__)\n",
      "{method 'get' of 'dict' objects}                              <-       1    0.000    0.000  <frozen importlib._bootstrap>:176(cb)\n",
      "                                                                       1    0.000    0.000  <frozen importlib._bootstrap>:966(_find_and_load)\n",
      "<frozen importlib._bootstrap>:307(__init__)                   <-       1    0.000    0.000  <frozen importlib._bootstrap>:651(_load_unlocked)\n",
      "<frozen importlib._bootstrap>:321(<genexpr>)                  <-       4    0.000    0.000  {built-in method builtins.any}\n",
      "<frozen importlib._bootstrap>:847(__exit__)                   <-       1    0.000    0.000  <frozen importlib._bootstrap>:870(_find_spec)\n",
      "{method 'rpartition' of 'str' objects}                        <-       1    0.000    0.000  <frozen importlib._bootstrap>:416(parent)\n",
      "                                                                       1    0.000    0.000  <frozen importlib._bootstrap>:936(_find_and_load_unlocked)\n",
      "{built-in method _thread.allocate_lock}                       <-       2    0.000    0.000  <frozen importlib._bootstrap>:58(__init__)\n",
      "{built-in method _thread.get_ident}                           <-       1    0.000    0.000  <frozen importlib._bootstrap>:78(acquire)\n",
      "                                                                       1    0.000    0.000  <frozen importlib._bootstrap>:103(release)\n",
      "{built-in method _imp.acquire_lock}                           <-       1    0.000    0.000  <frozen importlib._bootstrap>:157(_get_module_lock)\n",
      "                                                                       1    0.000    0.000  <frozen importlib._bootstrap>:176(cb)\n",
      "                                                                       1    0.000    0.000  <frozen importlib._bootstrap>:843(__enter__)\n",
      "{built-in method _imp.release_lock}                           <-       1    0.000    0.000  <frozen importlib._bootstrap>:157(_get_module_lock)\n",
      "                                                                       1    0.000    0.000  <frozen importlib._bootstrap>:176(cb)\n",
      "                                                                       1    0.000    0.000  <frozen importlib._bootstrap>:847(__exit__)\n",
      "{built-in method _imp.exec_builtin}                           <-       1    0.000    0.000  <frozen importlib._bootstrap>:211(_call_with_frames_removed)\n",
      "<frozen importlib._bootstrap>:843(__enter__)                  <-       1    0.000    0.000  <frozen importlib._bootstrap>:870(_find_spec)\n",
      "{method 'disable' of '_lsprof.Profiler' objects}              <- \n",
      "<frozen importlib._bootstrap>:424(has_location)               <-       1    0.000    0.000  <frozen importlib._bootstrap>:504(_init_module_attrs)\n",
      "<frozen importlib._bootstrap>:753(is_package)                 <-       1    0.000    0.000  <frozen importlib._bootstrap>:232(_requires_builtin_wrapper)\n",
      "\n",
      "\n"
     ]
    },
    {
     "data": {
      "text/plain": [
       "<pstats.Stats at 0x7f9775b947f0>"
      ]
     },
     "execution_count": 21,
     "metadata": {},
     "output_type": "execute_result"
    }
   ],
   "source": [
    "p.print_callers()"
   ]
  },
  {
   "cell_type": "markdown",
   "metadata": {},
   "source": [
    "y podemos también tener la información de a qué funciones llamó cada función"
   ]
  },
  {
   "cell_type": "code",
   "execution_count": 22,
   "metadata": {},
   "outputs": [
    {
     "name": "stdout",
     "output_type": "stream",
     "text": [
      "   Ordered by: cumulative time\n",
      "\n",
      "Function                                                      called...\n",
      "                                                                  ncalls  tottime  cumtime\n",
      "{built-in method builtins.exec}                               ->       1    0.014    0.587  Rcf.py:1(<module>)\n",
      "Rcf.py:1(<module>)                                            ->       1    0.000    0.001  <frozen importlib._bootstrap>:966(_find_and_load)\n",
      "                                                                       1    0.131    0.573  Rcf.py:2(Rcf)\n",
      "                                                                       1    0.000    0.000  {built-in method builtins.print}\n",
      "                                                                       1    0.000    0.000  {method 'format' of 'str' objects}\n",
      "Rcf.py:2(Rcf)                                                 ->       1    0.142    0.142  Rcf.py:16(<listcomp>)\n",
      "                                                                 1000000    0.218    0.300  Rcf.py:23(<lambda>)\n",
      "Rcf.py:23(<lambda>)                                           -> 1000000    0.082    0.082  {built-in method math.exp}\n",
      "Rcf.py:16(<listcomp>)                                         -> \n",
      "{built-in method math.exp}                                    -> \n",
      "<frozen importlib._bootstrap>:966(_find_and_load)             ->       1    0.000    0.000  <frozen importlib._bootstrap>:143(__init__)\n",
      "                                                                       1    0.000    0.000  <frozen importlib._bootstrap>:147(__enter__)\n",
      "                                                                       1    0.000    0.000  <frozen importlib._bootstrap>:151(__exit__)\n",
      "                                                                       1    0.000    0.000  <frozen importlib._bootstrap>:176(cb)\n",
      "                                                                       1    0.000    0.000  <frozen importlib._bootstrap>:936(_find_and_load_unlocked)\n",
      "                                                                       1    0.000    0.000  {method 'get' of 'dict' objects}\n",
      "<frozen importlib._bootstrap>:936(_find_and_load_unlocked)    ->       1    0.000    0.000  <frozen importlib._bootstrap>:651(_load_unlocked)\n",
      "                                                                       1    0.000    0.000  <frozen importlib._bootstrap>:870(_find_spec)\n",
      "                                                                       1    0.000    0.000  {method 'rpartition' of 'str' objects}\n",
      "<frozen importlib._bootstrap>:651(_load_unlocked)             ->       1    0.000    0.000  <frozen importlib._bootstrap>:307(__init__)\n",
      "                                                                       1    0.000    0.000  <frozen importlib._bootstrap>:311(__enter__)\n",
      "                                                                       1    0.000    0.000  <frozen importlib._bootstrap>:318(__exit__)\n",
      "                                                                       1    0.000    0.000  <frozen importlib._bootstrap>:564(module_from_spec)\n",
      "                                                                       1    0.000    0.000  <frozen importlib._bootstrap>:736(exec_module)\n",
      "                                                                       1    0.000    0.000  {built-in method builtins.hasattr}\n",
      "<frozen importlib._bootstrap>:564(module_from_spec)           ->       1    0.000    0.000  <frozen importlib._bootstrap>:504(_init_module_attrs)\n",
      "                                                                       1    0.000    0.000  <frozen importlib._bootstrap>:728(create_module)\n",
      "                                                                       1    0.000    0.000  {built-in method builtins.hasattr}\n",
      "<frozen importlib._bootstrap>:728(create_module)              ->       1    0.000    0.000  <frozen importlib._bootstrap>:211(_call_with_frames_removed)\n",
      "<frozen importlib._bootstrap>:211(_call_with_frames_removed)  ->       1    0.000    0.000  {built-in method _imp.create_builtin}\n",
      "                                                                       1    0.000    0.000  {built-in method _imp.exec_builtin}\n",
      "{built-in method _imp.create_builtin}                         -> \n",
      "<frozen importlib._bootstrap>:147(__enter__)                  ->       1    0.000    0.000  <frozen importlib._bootstrap>:78(acquire)\n",
      "                                                                       1    0.000    0.000  <frozen importlib._bootstrap>:157(_get_module_lock)\n",
      "<frozen importlib._bootstrap>:870(_find_spec)                 ->       1    0.000    0.000  <frozen importlib._bootstrap>:707(find_spec)\n",
      "                                                                       1    0.000    0.000  <frozen importlib._bootstrap>:843(__enter__)\n",
      "                                                                       1    0.000    0.000  <frozen importlib._bootstrap>:847(__exit__)\n",
      "<frozen importlib._bootstrap>:157(_get_module_lock)           ->       1    0.000    0.000  <frozen importlib._bootstrap>:58(__init__)\n",
      "                                                                       1    0.000    0.000  {built-in method _imp.acquire_lock}\n",
      "                                                                       1    0.000    0.000  {built-in method _imp.release_lock}\n",
      "<frozen importlib._bootstrap>:707(find_spec)                  ->       1    0.000    0.000  <frozen importlib._bootstrap>:433(spec_from_loader)\n",
      "                                                                       1    0.000    0.000  {built-in method _imp.is_builtin}\n",
      "{method 'format' of 'str' objects}                            -> \n",
      "<frozen importlib._bootstrap>:433(spec_from_loader)           ->       1    0.000    0.000  <frozen importlib._bootstrap>:232(_requires_builtin_wrapper)\n",
      "                                                                       1    0.000    0.000  <frozen importlib._bootstrap>:369(__init__)\n",
      "                                                                       2    0.000    0.000  {built-in method builtins.hasattr}\n",
      "<frozen importlib._bootstrap>:58(__init__)                    ->       2    0.000    0.000  {built-in method _thread.allocate_lock}\n",
      "<frozen importlib._bootstrap>:504(_init_module_attrs)         ->       1    0.000    0.000  <frozen importlib._bootstrap>:416(parent)\n",
      "                                                                       1    0.000    0.000  <frozen importlib._bootstrap>:424(has_location)\n",
      "                                                                       4    0.000    0.000  {built-in method builtins.getattr}\n",
      "{built-in method builtins.print}                              -> \n",
      "<frozen importlib._bootstrap>:318(__exit__)                   ->       1    0.000    0.000  <frozen importlib._bootstrap>:222(_verbose_message)\n",
      "                                                                       1    0.000    0.000  {built-in method builtins.any}\n",
      "<frozen importlib._bootstrap>:151(__exit__)                   ->       1    0.000    0.000  <frozen importlib._bootstrap>:103(release)\n",
      "<frozen importlib._bootstrap>:78(acquire)                     ->       1    0.000    0.000  {built-in method _thread.get_ident}\n",
      "<frozen importlib._bootstrap>:103(release)                    ->       1    0.000    0.000  {built-in method _thread.get_ident}\n",
      "<frozen importlib._bootstrap>:232(_requires_builtin_wrapper)  ->       1    0.000    0.000  <frozen importlib._bootstrap>:753(is_package)\n",
      "{built-in method builtins.hasattr}                            -> \n",
      "{built-in method builtins.getattr}                            -> \n",
      "{built-in method builtins.any}                                ->       4    0.000    0.000  <frozen importlib._bootstrap>:321(<genexpr>)\n",
      "<frozen importlib._bootstrap>:369(__init__)                   -> \n",
      "<frozen importlib._bootstrap>:416(parent)                     ->       1    0.000    0.000  {method 'rpartition' of 'str' objects}\n",
      "<frozen importlib._bootstrap>:736(exec_module)                ->       1    0.000    0.000  <frozen importlib._bootstrap>:211(_call_with_frames_removed)\n",
      "<frozen importlib._bootstrap>:176(cb)                         ->       1    0.000    0.000  {built-in method _imp.acquire_lock}\n",
      "                                                                       1    0.000    0.000  {built-in method _imp.release_lock}\n",
      "                                                                       1    0.000    0.000  {method 'get' of 'dict' objects}\n",
      "{built-in method _imp.is_builtin}                             -> \n",
      "<frozen importlib._bootstrap>:311(__enter__)                  -> \n",
      "<frozen importlib._bootstrap>:143(__init__)                   -> \n",
      "<frozen importlib._bootstrap>:222(_verbose_message)           -> \n",
      "{method 'get' of 'dict' objects}                              -> \n",
      "<frozen importlib._bootstrap>:307(__init__)                   -> \n",
      "<frozen importlib._bootstrap>:321(<genexpr>)                  -> \n",
      "<frozen importlib._bootstrap>:847(__exit__)                   ->       1    0.000    0.000  {built-in method _imp.release_lock}\n",
      "{method 'rpartition' of 'str' objects}                        -> \n",
      "{built-in method _thread.allocate_lock}                       -> \n",
      "{built-in method _thread.get_ident}                           -> \n",
      "{built-in method _imp.acquire_lock}                           -> \n",
      "{built-in method _imp.release_lock}                           -> \n",
      "{built-in method _imp.exec_builtin}                           -> \n",
      "<frozen importlib._bootstrap>:843(__enter__)                  ->       1    0.000    0.000  {built-in method _imp.acquire_lock}\n",
      "{method 'disable' of '_lsprof.Profiler' objects}              -> \n",
      "<frozen importlib._bootstrap>:424(has_location)               -> \n",
      "<frozen importlib._bootstrap>:753(is_package)                 -> \n",
      "\n",
      "\n"
     ]
    },
    {
     "data": {
      "text/plain": [
       "<pstats.Stats at 0x7f9775b947f0>"
      ]
     },
     "execution_count": 22,
     "metadata": {},
     "output_type": "execute_result"
    }
   ],
   "source": [
    "p.print_callees()"
   ]
  },
  {
   "cell_type": "markdown",
   "metadata": {},
   "source": [
    "El comando de magic es `%prun`:"
   ]
  },
  {
   "cell_type": "code",
   "execution_count": 23,
   "metadata": {},
   "outputs": [
    {
     "name": "stdout",
     "output_type": "stream",
     "text": [
      " "
     ]
    },
    {
     "data": {
      "text/plain": [
       "         2000005 function calls in 0.765 seconds\n",
       "\n",
       "   Ordered by: cumulative time\n",
       "\n",
       "   ncalls  tottime  percall  cumtime  percall filename:lineno(function)\n",
       "        1    0.000    0.000    0.765    0.765 {built-in method builtins.exec}\n",
       "        1    0.020    0.020    0.765    0.765 <string>:1(<module>)\n",
       "        1    0.192    0.192    0.745    0.745 <ipython-input-4-08ae95932785>:1(Rcf)\n",
       "  1000000    0.319    0.000    0.426    0.000 <ipython-input-3-d9185a29ac70>:1(<lambda>)\n",
       "        1    0.127    0.127    0.127    0.127 <ipython-input-4-08ae95932785>:15(<listcomp>)\n",
       "  1000000    0.106    0.000    0.106    0.000 {built-in method math.exp}\n",
       "        1    0.000    0.000    0.000    0.000 {method 'disable' of '_lsprof.Profiler' objects}"
      ]
     },
     "metadata": {},
     "output_type": "display_data"
    }
   ],
   "source": [
    "%prun -s cumulative Rcf(f,0,1,n)"
   ]
  },
  {
   "cell_type": "markdown",
   "metadata": {},
   "source": [
    "### 2) Uso de line_profiler"
   ]
  },
  {
   "cell_type": "markdown",
   "metadata": {},
   "source": [
    "`line_profiler` trabaja perfilando el código de forma individual funciones línea por línea. La idea sería perfilar primero con `CProfile` al programa para identificar aquellas funciones que gastan un mayor tiempo de ejecución y posteriormente perfilarlas con `line_profiler`."
   ]
  },
  {
   "cell_type": "markdown",
   "metadata": {},
   "source": [
    "**Comentario:** una buena práctica es guardar las diferentes versiones de tu código cuando vas modificándolo para tener un registro de tus cambios."
   ]
  },
  {
   "cell_type": "markdown",
   "metadata": {},
   "source": [
    "Puede ejecutarse desde la línea de comandos o cargarse en IPython con el comando magic `load_ext`: "
   ]
  },
  {
   "cell_type": "code",
   "execution_count": 24,
   "metadata": {},
   "outputs": [],
   "source": [
    "%load_ext line_profiler"
   ]
  },
  {
   "cell_type": "code",
   "execution_count": 25,
   "metadata": {},
   "outputs": [
    {
     "data": {
      "text/plain": [
       "\u001b[0;31mDocstring:\u001b[0m\n",
       "Execute a statement under the line-by-line profiler from the\n",
       "line_profiler module.\n",
       "\n",
       "Usage:\n",
       "  %lprun -f func1 -f func2 <statement>\n",
       "\n",
       "The given statement (which doesn't require quote marks) is run via the\n",
       "LineProfiler. Profiling is enabled for the functions specified by the -f\n",
       "options. The statistics will be shown side-by-side with the code through the\n",
       "pager once the statement has completed.\n",
       "\n",
       "Options:\n",
       "\n",
       "-f <function>: LineProfiler only profiles functions and methods it is told\n",
       "to profile.  This option tells the profiler about these functions. Multiple\n",
       "-f options may be used. The argument may be any expression that gives\n",
       "a Python function or method object. However, one must be careful to avoid\n",
       "spaces that may confuse the option parser.\n",
       "\n",
       "-m <module>: Get all the functions/methods in a module\n",
       "\n",
       "One or more -f or -m options are required to get any useful results.\n",
       "\n",
       "-D <filename>: dump the raw statistics out to a pickle file on disk. The\n",
       "usual extension for this is \".lprof\". These statistics may be viewed later\n",
       "by running line_profiler.py as a script.\n",
       "\n",
       "-T <filename>: dump the text-formatted statistics with the code side-by-side\n",
       "out to a text file.\n",
       "\n",
       "-r: return the LineProfiler object after it has completed profiling.\n",
       "\n",
       "-s: strip out all entries from the print-out that have zeros.\n",
       "\n",
       "-u: specify time unit for the print-out in seconds.\n",
       "\u001b[0;31mFile:\u001b[0m      ~/.local/lib/python3.6/site-packages/line_profiler/line_profiler.py\n"
      ]
     },
     "metadata": {},
     "output_type": "display_data"
    }
   ],
   "source": [
    "%lprun?"
   ]
  },
  {
   "cell_type": "markdown",
   "metadata": {},
   "source": [
    "En el siguiente output:\n",
    "\n",
    "* La columna `%Time` contiene el porcentaje de tiempo gastado. En el caso que se perfila, la línea`sum_res=sum_res+f(node)` es en la que más porcentaje del tiempo se gasta. Seguida de la línea del `for` y de la línea donde se hace uso de [list comprehension](https://docs.python.org/3/tutorial/datastructures.html#list-comprehensions) para crear a los nodos de integración numérica."
   ]
  },
  {
   "cell_type": "code",
   "execution_count": 26,
   "metadata": {},
   "outputs": [
    {
     "data": {
      "text/plain": [
       "Timer unit: 1e-06 s\n",
       "\n",
       "Total time: 1.68936 s\n",
       "File: <ipython-input-4-08ae95932785>\n",
       "Function: Rcf at line 1\n",
       "\n",
       "Line #      Hits         Time  Per Hit   % Time  Line Contents\n",
       "==============================================================\n",
       "     1                                           def Rcf(f,a,b,n): #Rcf: rectángulo compuesto para f\n",
       "     2                                               \"\"\"\n",
       "     3                                               Compute numerical approximation using rectangle or mid-point method in \n",
       "     4                                               an interval.\n",
       "     5                                               Nodes are generated via formula: x_i = a+(i+1/2)h_hat for i=0,1,...,n and h_hat=(b-a)/n\n",
       "     6                                               Args:\n",
       "     7                                                   f (lambda expression): lambda expression of integrand\n",
       "     8                                                   a (int): left point of interval\n",
       "     9                                                   b (int): right point of interval\n",
       "    10                                                   n (int): number of subintervals\n",
       "    11                                               Returns:\n",
       "    12                                                   Rcf (float) \n",
       "    13                                               \"\"\"\n",
       "    14         1          2.0      2.0      0.0      h_hat=(b-a)/n\n",
       "    15         1     275788.0 275788.0     16.3      nodes=[a+(i+1/2)*h_hat for i in range(0,n)]\n",
       "    16         1          1.0      1.0      0.0      sum_res=0\n",
       "    17   1000001     486769.0      0.5     28.8      for node in nodes:\n",
       "    18   1000000     926802.0      0.9     54.9          sum_res=sum_res+f(node)\n",
       "    19         1          1.0      1.0      0.0      return h_hat*sum_res"
      ]
     },
     "metadata": {},
     "output_type": "display_data"
    }
   ],
   "source": [
    "%lprun -f Rcf Rcf(f,0,1,n)"
   ]
  },
  {
   "cell_type": "markdown",
   "metadata": {},
   "source": [
    "Con la evidencia generada con `line_profiler` ¿podríamos escribir una función que fuera más rápida?"
   ]
  },
  {
   "cell_type": "markdown",
   "metadata": {},
   "source": [
    "Lo primero que podemos hacer es utilizar un [generator](https://wiki.python.org/moin/Generators) en lugar de una lista:"
   ]
  },
  {
   "cell_type": "code",
   "execution_count": 27,
   "metadata": {},
   "outputs": [],
   "source": [
    "def Rcf2(f,a,b,n):\n",
    "    \"\"\"\n",
    "    Compute numerical approximation using rectangle or mid-point method in \n",
    "    an interval.\n",
    "    Nodes are generated via formula: x_i = a+(b-a)/n*i for i=0,1,...,n-1\n",
    "    Args:\n",
    "        f (lambda expression): lambda expression of integrand\n",
    "        a (int): left point of interval\n",
    "        b (int): right point of interval\n",
    "        n (int): number of subintervals\n",
    "    Returns:\n",
    "        Rcf2 (float) \n",
    "    \"\"\"\n",
    "    h_hat=(b-a)/n\n",
    "    nodes=(a+(i+1/2)*h_hat for i in range(0,n))\n",
    "    sum_res=0\n",
    "    for node in nodes:\n",
    "        sum_res=sum_res+f(node)\n",
    "    return h_hat*sum_res"
   ]
  },
  {
   "cell_type": "markdown",
   "metadata": {},
   "source": [
    "medir con `%timeit`:"
   ]
  },
  {
   "cell_type": "code",
   "execution_count": 28,
   "metadata": {},
   "outputs": [
    {
     "name": "stdout",
     "output_type": "stream",
     "text": [
      "339 ms ± 16.9 ms per loop (mean ± std. dev. of 10 runs, 5 loops each)\n"
     ]
    }
   ],
   "source": [
    "%timeit -n 5 -r 10 Rcf2(f,0,1,n)"
   ]
  },
  {
   "cell_type": "code",
   "execution_count": 42,
   "metadata": {},
   "outputs": [],
   "source": [
    "aprox=Rcf2(f,0,1,n)"
   ]
  },
  {
   "cell_type": "markdown",
   "metadata": {},
   "source": [
    "revisar que está correcta esta nueva implementación:"
   ]
  },
  {
   "cell_type": "code",
   "execution_count": 43,
   "metadata": {},
   "outputs": [
    {
     "data": {
      "text/plain": [
       "6.71939731300312e-14"
      ]
     },
     "execution_count": 43,
     "metadata": {},
     "output_type": "execute_result"
    }
   ],
   "source": [
    "err_relativo(aprox,obj)"
   ]
  },
  {
   "cell_type": "markdown",
   "metadata": {},
   "source": [
    "perfilarla con `line_profiler`:"
   ]
  },
  {
   "cell_type": "code",
   "execution_count": 44,
   "metadata": {},
   "outputs": [
    {
     "data": {
      "text/plain": [
       "Timer unit: 1e-06 s\n",
       "\n",
       "Total time: 1.99524 s\n",
       "File: <ipython-input-27-794f7be94ca8>\n",
       "Function: Rcf2 at line 1\n",
       "\n",
       "Line #      Hits         Time  Per Hit   % Time  Line Contents\n",
       "==============================================================\n",
       "     1                                           def Rcf2(f,a,b,n):\n",
       "     2                                               \"\"\"\n",
       "     3                                               Compute numerical approximation using rectangle or mid-point method in \n",
       "     4                                               an interval.\n",
       "     5                                               Nodes are generated via formula: x_i = a+(b-a)/n*i for i=0,1,...,n\n",
       "     6                                               Args:\n",
       "     7                                                   f (lambda expression): lambda expression of integrand\n",
       "     8                                                   a (int): left point of interval\n",
       "     9                                                   b (int): right point of interval\n",
       "    10                                                   n (int): number of subintervals\n",
       "    11                                               Returns:\n",
       "    12                                                   Rcf2 (float) \n",
       "    13                                               \"\"\"\n",
       "    14         1          3.0      3.0      0.0      h_hat=(b-a)/n\n",
       "    15         1          4.0      4.0      0.0      nodes=(a+(i+1/2)*h_hat for i in range(0,n))\n",
       "    16         1          0.0      0.0      0.0      sum_res=0\n",
       "    17   1000001     945299.0      0.9     47.4      for node in nodes:\n",
       "    18   1000000    1049935.0      1.0     52.6          sum_res=sum_res+f(node)\n",
       "    19         1          1.0      1.0      0.0      return h_hat*sum_res"
      ]
     },
     "metadata": {},
     "output_type": "display_data"
    }
   ],
   "source": [
    "%lprun -f Rcf2 Rcf2(f,0,1,n)"
   ]
  },
  {
   "cell_type": "markdown",
   "metadata": {},
   "source": [
    "y observar que la línea en la que se creaba la lista ahora es despreciable el porcentaje de tiempo que se gasta en ella."
   ]
  },
  {
   "cell_type": "markdown",
   "metadata": {},
   "source": [
    "Podemos hacer una implementación que se encargue del gasto del tiempo en la línea del `for`:"
   ]
  },
  {
   "cell_type": "code",
   "execution_count": 31,
   "metadata": {},
   "outputs": [],
   "source": [
    "def Rcf3(f,a,b,n):\n",
    "    \"\"\"\n",
    "    Compute numerical approximation using rectangle or mid-point method in \n",
    "    an interval.\n",
    "    Nodes are generated via formula: x_i = a+(b-a)/n*i for i=0,1,...,n-1\n",
    "    Args:\n",
    "        f (lambda expression): lambda expression of integrand\n",
    "        a (int): left point of interval\n",
    "        b (int): right point of interval\n",
    "        n (int): number of subintervals\n",
    "    Returns:\n",
    "        Rcf3 (float) \n",
    "    \"\"\"\n",
    "    h_hat=(b-a)/n\n",
    "    nodes=(a+(i+1/2)*h_hat for i in range(0,n))\n",
    "    suma_res = sum((f(node) for node in nodes))\n",
    "    return h_hat*suma_res"
   ]
  },
  {
   "cell_type": "markdown",
   "metadata": {},
   "source": [
    "medir con `%timeit`:"
   ]
  },
  {
   "cell_type": "code",
   "execution_count": 32,
   "metadata": {},
   "outputs": [
    {
     "name": "stdout",
     "output_type": "stream",
     "text": [
      "363 ms ± 4.99 ms per loop (mean ± std. dev. of 10 runs, 5 loops each)\n"
     ]
    }
   ],
   "source": [
    "%timeit -n 5 -r 10 Rcf3(f,0,1,n)"
   ]
  },
  {
   "cell_type": "markdown",
   "metadata": {},
   "source": [
    "revisar que está correcta esta nueva implementación:"
   ]
  },
  {
   "cell_type": "code",
   "execution_count": 45,
   "metadata": {},
   "outputs": [],
   "source": [
    "aprox=Rcf3(f,0,1,n)"
   ]
  },
  {
   "cell_type": "code",
   "execution_count": 46,
   "metadata": {},
   "outputs": [
    {
     "data": {
      "text/plain": [
       "6.71939731300312e-14"
      ]
     },
     "execution_count": 46,
     "metadata": {},
     "output_type": "execute_result"
    }
   ],
   "source": [
    "err_relativo(aprox,obj)"
   ]
  },
  {
   "cell_type": "markdown",
   "metadata": {},
   "source": [
    "perfilarla con `line_profiler`:"
   ]
  },
  {
   "cell_type": "code",
   "execution_count": 47,
   "metadata": {},
   "outputs": [
    {
     "data": {
      "text/plain": [
       "Timer unit: 1e-06 s\n",
       "\n",
       "Total time: 1.27942 s\n",
       "File: <ipython-input-31-0b5466de5036>\n",
       "Function: Rcf3 at line 1\n",
       "\n",
       "Line #      Hits         Time  Per Hit   % Time  Line Contents\n",
       "==============================================================\n",
       "     1                                           def Rcf3(f,a,b,n):\n",
       "     2                                               \"\"\"\n",
       "     3                                               Compute numerical approximation using rectangle or mid-point method in \n",
       "     4                                               an interval.\n",
       "     5                                               Nodes are generated via formula: x_i = a+(b-a)/n*i for i=0,1,...,n\n",
       "     6                                               Args:\n",
       "     7                                                   f (lambda expression): lambda expression of integrand\n",
       "     8                                                   a (int): left point of interval\n",
       "     9                                                   b (int): right point of interval\n",
       "    10                                                   n (int): number of subintervals\n",
       "    11                                               Returns:\n",
       "    12                                                   Rcf3 (float) \n",
       "    13                                               \"\"\"\n",
       "    14         1          4.0      4.0      0.0      h_hat=(b-a)/n\n",
       "    15         1          5.0      5.0      0.0      nodes=(a+(i+1/2)*h_hat for i in range(0,n))\n",
       "    16         1    1279413.0 1279413.0    100.0      suma_res = sum((f(node) for node in nodes))\n",
       "    17         1          2.0      2.0      0.0      return h_hat*suma_res"
      ]
     },
     "metadata": {},
     "output_type": "display_data"
    }
   ],
   "source": [
    "%lprun -f Rcf3 Rcf3(f,0,1,n)"
   ]
  },
  {
   "cell_type": "markdown",
   "metadata": {},
   "source": [
    "y se tiene la mayoría del porcentaje de tiempo ahora en una sola línea."
   ]
  },
  {
   "cell_type": "markdown",
   "metadata": {},
   "source": [
    "Recuérdese que el resultado de `Cprofile` indicó que se llama a la función `lambda` y `math.exp` $n=10^6$ veces. Una implementación de la regla del rectángulo con menor número de llamadas a funciones (y por tanto menor tiempo) sería:"
   ]
  },
  {
   "cell_type": "code",
   "execution_count": 35,
   "metadata": {},
   "outputs": [],
   "source": [
    "def Rcf4(a,b,n):\n",
    "    \"\"\"\n",
    "    Compute numerical approximation using rectangle or mid-point method in \n",
    "    an interval.\n",
    "    Nodes are generated via formula: x_i = a+(b-a)/n*i for i=0,1,...,n-1\n",
    "    Args:\n",
    "        f (lambda expression): lambda expression of integrand\n",
    "        a (int): left point of interval\n",
    "        b (int): right point of interval\n",
    "        n (int): number of subintervals\n",
    "    Returns:\n",
    "        Rcf4 (float) \n",
    "    \"\"\"\n",
    "    h_hat=(b-a)/n\n",
    "    nodes=(a+(i+1/2)*h_hat for i in range(0,n))\n",
    "    suma_res = sum(((math.exp(-node**2) for node in nodes)))\n",
    "    return h_hat*suma_res"
   ]
  },
  {
   "cell_type": "code",
   "execution_count": 36,
   "metadata": {},
   "outputs": [
    {
     "data": {
      "text/plain": [
       "Timer unit: 1e-06 s\n",
       "\n",
       "Total time: 0.826071 s\n",
       "File: <ipython-input-35-ef8e351f19bf>\n",
       "Function: Rcf4 at line 1\n",
       "\n",
       "Line #      Hits         Time  Per Hit   % Time  Line Contents\n",
       "==============================================================\n",
       "     1                                           def Rcf4(a,b,n):\n",
       "     2                                               \"\"\"\n",
       "     3                                               Compute numerical approximation using rectangle or mid-point method in \n",
       "     4                                               an interval.\n",
       "     5                                               Nodes are generated via formula: x_i = a+(b-a)/n*i for i=0,1,...,n\n",
       "     6                                               Mid point is calculated via formula: x_{i-1}+(x_i-x_{i-1})/2 for i=1,...,n to avoid rounding errors\n",
       "     7                                               Args:\n",
       "     8                                                   f (lambda expression): lambda expression of integrand\n",
       "     9                                                   a (int): left point of interval\n",
       "    10                                                   b (int): right point of interval\n",
       "    11                                                   n (int): number of subintervals\n",
       "    12                                               Returns:\n",
       "    13                                                   Rcf4 (float) \n",
       "    14                                               \"\"\"\n",
       "    15         1          3.0      3.0      0.0      h_hat=(b-a)/n\n",
       "    16         1          5.0      5.0      0.0      nodes=(a+(i+1/2)*h_hat for i in range(0,n))\n",
       "    17         1     826061.0 826061.0    100.0      suma_res = sum(((math.exp(-node**2) for node in nodes)))\n",
       "    18         1          2.0      2.0      0.0      return h_hat*suma_res"
      ]
     },
     "metadata": {},
     "output_type": "display_data"
    }
   ],
   "source": [
    "%lprun -f Rcf4 Rcf4(0,1,n)"
   ]
  },
  {
   "cell_type": "code",
   "execution_count": 37,
   "metadata": {},
   "outputs": [
    {
     "name": "stdout",
     "output_type": "stream",
     "text": [
      "308 ms ± 5.53 ms per loop (mean ± std. dev. of 10 runs, 5 loops each)\n"
     ]
    }
   ],
   "source": [
    "%timeit -n 5 -r 10 Rcf4(0,1,n)"
   ]
  },
  {
   "cell_type": "code",
   "execution_count": 49,
   "metadata": {},
   "outputs": [],
   "source": [
    "aprox=Rcf4(0,1,n)"
   ]
  },
  {
   "cell_type": "code",
   "execution_count": 50,
   "metadata": {},
   "outputs": [
    {
     "data": {
      "text/plain": [
       "6.71939731300312e-14"
      ]
     },
     "execution_count": 50,
     "metadata": {},
     "output_type": "execute_result"
    }
   ],
   "source": [
    "err_relativo(aprox,obj)"
   ]
  },
  {
   "cell_type": "markdown",
   "metadata": {},
   "source": [
    "Si bien esta implementación es la más rápida hasta este punto no es tan flexible pues está calculando la regla del rectángulo para una función definida dentro de la misma función. Si quisiéramos calcular la regla para otra función se tendría que directamente modificar la función `Rcf` lo cual no es flexible. Aunque `Rcf4` es más rápida preferimos `Rcf3` por su flexibilidad y menor uso de recursos (que se verá con el `memory_profiler` más adelante)."
   ]
  },
  {
   "cell_type": "code",
   "execution_count": 57,
   "metadata": {},
   "outputs": [],
   "source": [
    "def Rcf5(a,b,n):\n",
    "    \"\"\"\n",
    "    Compute numerical approximation using rectangle or mid-point method in \n",
    "    an interval.\n",
    "    Nodes are generated via formula: x_i = a+(b-a)/n*i for i=0,1,...,n-1\n",
    "    Args:\n",
    "        f (lambda expression): lambda expression of integrand\n",
    "        a (int): left point of interval\n",
    "        b (int): right point of interval\n",
    "        n (int): number of subintervals\n",
    "    Returns:\n",
    "        Rcf4 (float) \n",
    "    \"\"\"\n",
    "    h_hat=(b-a)/n\n",
    "    f_nodes=(math.exp(-(a+(i+1/2)*h_hat)**2) for i in range(0,n))\n",
    "    suma_res = sum(f_nodes)\n",
    "    return h_hat*suma_res"
   ]
  },
  {
   "cell_type": "code",
   "execution_count": 58,
   "metadata": {},
   "outputs": [
    {
     "data": {
      "text/plain": [
       "Timer unit: 1e-06 s\n",
       "\n",
       "Total time: 0.579516 s\n",
       "File: <ipython-input-57-9209a967c3ab>\n",
       "Function: Rcf5 at line 1\n",
       "\n",
       "Line #      Hits         Time  Per Hit   % Time  Line Contents\n",
       "==============================================================\n",
       "     1                                           def Rcf5(a,b,n):\n",
       "     2                                               \"\"\"\n",
       "     3                                               Compute numerical approximation using rectangle or mid-point method in \n",
       "     4                                               an interval.\n",
       "     5                                               Nodes are generated via formula: x_i = a+(b-a)/n*i for i=0,1,...,n-1\n",
       "     6                                               Args:\n",
       "     7                                                   f (lambda expression): lambda expression of integrand\n",
       "     8                                                   a (int): left point of interval\n",
       "     9                                                   b (int): right point of interval\n",
       "    10                                                   n (int): number of subintervals\n",
       "    11                                               Returns:\n",
       "    12                                                   Rcf4 (float) \n",
       "    13                                               \"\"\"\n",
       "    14         1          5.0      5.0      0.0      h_hat=(b-a)/n\n",
       "    15         1          5.0      5.0      0.0      f_nodes=(math.exp(-(a+(i+1/2)*h_hat)**2) for i in range(0,n))\n",
       "    16         1     579504.0 579504.0    100.0      suma_res = sum(f_nodes)\n",
       "    17         1          2.0      2.0      0.0      return h_hat*suma_res"
      ]
     },
     "metadata": {},
     "output_type": "display_data"
    }
   ],
   "source": [
    "%lprun -f Rcf5 Rcf5(0,1,n)"
   ]
  },
  {
   "cell_type": "code",
   "execution_count": 59,
   "metadata": {},
   "outputs": [
    {
     "name": "stdout",
     "output_type": "stream",
     "text": [
      "262 ms ± 7.36 ms per loop (mean ± std. dev. of 10 runs, 5 loops each)\n"
     ]
    }
   ],
   "source": [
    "%timeit -n 5 -r 10 Rcf5(0,1,n)"
   ]
  },
  {
   "cell_type": "code",
   "execution_count": 60,
   "metadata": {},
   "outputs": [],
   "source": [
    "aprox=Rcf5(0,1,n)"
   ]
  },
  {
   "cell_type": "code",
   "execution_count": 61,
   "metadata": {},
   "outputs": [
    {
     "data": {
      "text/plain": [
       "6.71939731300312e-14"
      ]
     },
     "execution_count": 61,
     "metadata": {},
     "output_type": "execute_result"
    }
   ],
   "source": [
    "err_relativo(aprox,obj)"
   ]
  },
  {
   "cell_type": "markdown",
   "metadata": {},
   "source": [
    "Obsérvese que en una línea se están construyendo nodos y transformando con `math.exp` en `Rcf5`. Aunque esta implementación es la más rápida hasta ahora, no se sugiere usarla pues le falta flexibilidad como `Rcf4` y no es recomendable en una línea construir datos y transformarlos. Combinar operaciones en una sola línea resulta en código difícil de leer. Es mejor separar en dos funciones estas dos tareas por si falla una sepamos cuál falló y por qué falló."
   ]
  },
  {
   "cell_type": "markdown",
   "metadata": {},
   "source": [
    "**Ejemplo de ejecución de line_profiler desde la línea de comandos:**"
   ]
  },
  {
   "cell_type": "code",
   "execution_count": 62,
   "metadata": {},
   "outputs": [
    {
     "name": "stdout",
     "output_type": "stream",
     "text": [
      "Overwriting Rcf4.py\n"
     ]
    }
   ],
   "source": [
    "%%file Rcf4.py\n",
    "import math\n",
    "@profile #esta línea es necesaria para indicar que la siguiente función \n",
    "         #desea perfilarse con line_profiler\n",
    "def Rcf4(a,b,n):\n",
    "    \"\"\"\n",
    "    Compute numerical approximation using rectangle or mid-point method in \n",
    "    an interval.\n",
    "    Nodes are generated via formula: x_i = a+(b-a)/n*i for i=0,1,...,n\n",
    "    Mid point is calculated via formula: x_{i-1}+(x_i-x_{i-1})/2 for i=1,...,n-1 to avoid rounding errors\n",
    "    Args:\n",
    "        f (lambda expression): lambda expression of integrand\n",
    "        a (int): left point of interval\n",
    "        b (int): right point of interval\n",
    "        n (int): number of subintervals\n",
    "    Returns:\n",
    "        Rcf4 (float) \n",
    "    \"\"\"\n",
    "    h_hat=(b-a)/n\n",
    "    nodes=(a+(i+1/2)*h_hat for i in range(0,n))\n",
    "    suma_res = sum(((math.exp(-node**2) for node in nodes)))\n",
    "    return h_hat*suma_res\n",
    "if __name__ == \"__main__\":\n",
    "    n=10**6\n",
    "    print(\"aproximación: {:0.6e}\".format(Rcf4(0,1,n)))"
   ]
  },
  {
   "cell_type": "code",
   "execution_count": 63,
   "metadata": {},
   "outputs": [
    {
     "name": "stdout",
     "output_type": "stream",
     "text": [
      "aproximación: 7.468241e-01\n",
      "Wrote profile results to Rcf4.py.lprof\n",
      "Timer unit: 1e-06 s\n",
      "\n",
      "Total time: 0.77406 s\n",
      "File: Rcf4.py\n",
      "Function: Rcf4 at line 2\n",
      "\n",
      "Line #      Hits         Time  Per Hit   % Time  Line Contents\n",
      "==============================================================\n",
      "     2                                           @profile #esta línea es necesaria para indicar que la siguiente función \n",
      "     3                                                    #desea perfilarse con line_profiler\n",
      "     4                                           def Rcf4(a,b,n):\n",
      "     5                                               \"\"\"\n",
      "     6                                               Compute numerical approximation using rectangle or mid-point method in \n",
      "     7                                               an interval.\n",
      "     8                                               Nodes are generated via formula: x_i = a+(b-a)/n*i for i=0,1,...,n\n",
      "     9                                               Mid point is calculated via formula: x_{i-1}+(x_i-x_{i-1})/2 for i=1,...,n-1 to avoid rounding errors\n",
      "    10                                               Args:\n",
      "    11                                                   f (lambda expression): lambda expression of integrand\n",
      "    12                                                   a (int): left point of interval\n",
      "    13                                                   b (int): right point of interval\n",
      "    14                                                   n (int): number of subintervals\n",
      "    15                                               Returns:\n",
      "    16                                                   Rcf4 (float) \n",
      "    17                                               \"\"\"\n",
      "    18         1          2.0      2.0      0.0      h_hat=(b-a)/n\n",
      "    19         1          5.0      5.0      0.0      nodes=(a+(i+1/2)*h_hat for i in range(0,n))\n",
      "    20         1     774051.0 774051.0    100.0      suma_res = sum(((math.exp(-node**2) for node in nodes)))\n",
      "    21         1          2.0      2.0      0.0      return h_hat*suma_res\n",
      "\n"
     ]
    }
   ],
   "source": [
    "%%bash\n",
    "$HOME/.local/bin/kernprof -l -v Rcf4.py"
   ]
  },
  {
   "cell_type": "markdown",
   "metadata": {},
   "source": [
    "Observese en el output de `CProfile` siguiente para la función `Rcf4` que las líneas con mayor gasto en el tiempo total son: \n",
    "\n",
    "```\n",
    "    nodes=(a+(i+1/2)*h_hat for i in range(0,n))\n",
    "    suma_res = sum(((math.exp(-node**2) for node in nodes)))\n",
    "```"
   ]
  },
  {
   "cell_type": "code",
   "execution_count": 64,
   "metadata": {},
   "outputs": [],
   "source": [
    "import math\n",
    "def Rcf4(a,b,n):\n",
    "    \"\"\"\n",
    "    Compute numerical approximation using rectangle or mid-point method in \n",
    "    an interval.\n",
    "    Nodes are generated via formula: x_i = a+(b-a)/n*i for i=0,1,...,n\n",
    "    Mid point is calculated via formula: x_{i-1}+(x_i-x_{i-1})/2 for i=1,...,n-1 to avoid rounding errors\n",
    "    Args:\n",
    "        f (lambda expression): lambda expression of integrand\n",
    "        a (int): left point of interval\n",
    "        b (int): right point of interval\n",
    "        n (int): number of subintervals\n",
    "    Returns:\n",
    "        Rcf4 (float) \n",
    "    \"\"\"\n",
    "    h_hat=(b-a)/n\n",
    "    nodes=(a+(i+1/2)*h_hat for i in range(0,n))\n",
    "    suma_res = sum(((math.exp(-node**2) for node in nodes)))\n",
    "    return h_hat*suma_res"
   ]
  },
  {
   "cell_type": "code",
   "execution_count": 65,
   "metadata": {},
   "outputs": [
    {
     "name": "stdout",
     "output_type": "stream",
     "text": [
      " "
     ]
    },
    {
     "data": {
      "text/plain": [
       "         3000007 function calls in 0.748 seconds\n",
       "\n",
       "   Ordered by: cumulative time\n",
       "\n",
       "   ncalls  tottime  percall  cumtime  percall filename:lineno(function)\n",
       "        1    0.000    0.000    0.748    0.748 {built-in method builtins.exec}\n",
       "        1    0.000    0.000    0.748    0.748 <string>:1(<module>)\n",
       "        1    0.000    0.000    0.748    0.748 <ipython-input-64-07d4a7504f4f>:2(Rcf4)\n",
       "        1    0.085    0.085    0.748    0.748 {built-in method builtins.sum}\n",
       "  1000001    0.370    0.000    0.663    0.000 <ipython-input-64-07d4a7504f4f>:18(<genexpr>)\n",
       "  1000001    0.196    0.000    0.196    0.000 <ipython-input-64-07d4a7504f4f>:17(<genexpr>)\n",
       "  1000000    0.097    0.000    0.097    0.000 {built-in method math.exp}\n",
       "        1    0.000    0.000    0.000    0.000 {method 'disable' of '_lsprof.Profiler' objects}"
      ]
     },
     "metadata": {},
     "output_type": "display_data"
    }
   ],
   "source": [
    "%prun -s cumulative Rcf4(0,1,n)"
   ]
  },
  {
   "cell_type": "markdown",
   "metadata": {},
   "source": [
    "## Uso de memoria RAM"
   ]
  },
  {
   "cell_type": "markdown",
   "metadata": {},
   "source": [
    "Al realizar análisis del uso de memoria de tu código podemos responder preguntas como:\n",
    "\n",
    "* ¿Es posible utilizar menos RAM al reescribir mi función para que trabaje más eficientemente?\n",
    "\n",
    "* ¿Podemos usar más RAM para aprovechar mejor el uso del caché?"
   ]
  },
  {
   "cell_type": "markdown",
   "metadata": {},
   "source": [
    "### 1)Uso de `%memit`"
   ]
  },
  {
   "cell_type": "markdown",
   "metadata": {},
   "source": [
    "Es equivalente a `%timeit` en el sentido que realiza una serie de repeticiones para obtener un resultado estable del bloque de código analizado."
   ]
  },
  {
   "cell_type": "code",
   "execution_count": 66,
   "metadata": {},
   "outputs": [],
   "source": [
    "%load_ext memory_profiler"
   ]
  },
  {
   "cell_type": "code",
   "execution_count": 67,
   "metadata": {},
   "outputs": [
    {
     "data": {
      "text/plain": [
       "\u001b[0;31mDocstring:\u001b[0m\n",
       "Measure memory usage of a Python statement\n",
       "\n",
       "Usage, in line mode:\n",
       "  %memit [-r<R>t<T>i<I>] statement\n",
       "\n",
       "Usage, in cell mode:\n",
       "  %%memit [-r<R>t<T>i<I>] setup_code\n",
       "  code...\n",
       "  code...\n",
       "\n",
       "This function can be used both as a line and cell magic:\n",
       "\n",
       "- In line mode you can measure a single-line statement (though multiple\n",
       "  ones can be chained with using semicolons).\n",
       "\n",
       "- In cell mode, the statement in the first line is used as setup code\n",
       "  (executed but not measured) and the body of the cell is measured.\n",
       "  The cell body has access to any variables created in the setup code.\n",
       "\n",
       "Options:\n",
       "-r<R>: repeat the loop iteration <R> times and take the best result.\n",
       "Default: 1\n",
       "\n",
       "-t<T>: timeout after <T> seconds. Default: None\n",
       "\n",
       "-i<I>: Get time information at an interval of I times per second.\n",
       "    Defaults to 0.1 so that there is ten measurements per second.\n",
       "\n",
       "-c: If present, add the memory usage of any children process to the report.\n",
       "\n",
       "-o: If present, return a object containing memit run details\n",
       "\n",
       "-q: If present, be quiet and do not output a result.\n",
       "\n",
       "Examples\n",
       "--------\n",
       "::\n",
       "\n",
       "  In [1]: %memit range(10000)\n",
       "  peak memory: 21.42 MiB, increment: 0.41 MiB\n",
       "\n",
       "  In [2]: %memit range(1000000)\n",
       "  peak memory: 52.10 MiB, increment: 31.08 MiB\n",
       "\n",
       "  In [3]: %%memit l=range(1000000)\n",
       "     ...: len(l)\n",
       "     ...:\n",
       "  peak memory: 52.14 MiB, increment: 0.08 MiB\n",
       "\u001b[0;31mFile:\u001b[0m      ~/.local/lib/python3.6/site-packages/memory_profiler.py\n"
      ]
     },
     "metadata": {},
     "output_type": "display_data"
    }
   ],
   "source": [
    "%memit?"
   ]
  },
  {
   "cell_type": "markdown",
   "metadata": {},
   "source": [
    "Primero medimos cuánto RAM está utilizando el proceso del notebook:"
   ]
  },
  {
   "cell_type": "code",
   "execution_count": 68,
   "metadata": {},
   "outputs": [
    {
     "name": "stdout",
     "output_type": "stream",
     "text": [
      "peak memory: 119.73 MiB, increment: 0.00 MiB\n"
     ]
    }
   ],
   "source": [
    "%memit #how much RAM this process is consuming"
   ]
  },
  {
   "cell_type": "markdown",
   "metadata": {},
   "source": [
    "Y podemos realizar mediciones para cada una de las implementaciones de la regla del rectángulo:"
   ]
  },
  {
   "cell_type": "code",
   "execution_count": 74,
   "metadata": {},
   "outputs": [
    {
     "name": "stdout",
     "output_type": "stream",
     "text": [
      "peak memory: 244.84 MiB, increment: 119.38 MiB\n"
     ]
    }
   ],
   "source": [
    "%memit -c Rcf(f,0,1,n)"
   ]
  },
  {
   "cell_type": "code",
   "execution_count": 75,
   "metadata": {},
   "outputs": [
    {
     "name": "stdout",
     "output_type": "stream",
     "text": [
      "peak memory: 228.70 MiB, increment: 102.99 MiB\n"
     ]
    }
   ],
   "source": [
    "%memit -c Rcf2(f,0,1,n)"
   ]
  },
  {
   "cell_type": "code",
   "execution_count": 76,
   "metadata": {},
   "outputs": [
    {
     "name": "stdout",
     "output_type": "stream",
     "text": [
      "peak memory: 228.77 MiB, increment: 103.05 MiB\n"
     ]
    }
   ],
   "source": [
    "%memit -c Rcf3(f,0,1,10**5)"
   ]
  },
  {
   "cell_type": "code",
   "execution_count": 77,
   "metadata": {},
   "outputs": [
    {
     "name": "stdout",
     "output_type": "stream",
     "text": [
      "peak memory: 228.83 MiB, increment: 103.12 MiB\n"
     ]
    }
   ],
   "source": [
    "%memit -c Rcf4(0,1,10**5)"
   ]
  },
  {
   "cell_type": "code",
   "execution_count": 78,
   "metadata": {},
   "outputs": [
    {
     "name": "stdout",
     "output_type": "stream",
     "text": [
      "peak memory: 228.77 MiB, increment: 103.05 MiB\n"
     ]
    }
   ],
   "source": [
    "%memit -c Rcf5(0,1,10**5)"
   ]
  },
  {
   "cell_type": "markdown",
   "metadata": {},
   "source": [
    "El uso de `generators` nos ayuda a disminuir la cantidad de memoria RAM usada por nuestro proceso."
   ]
  },
  {
   "cell_type": "markdown",
   "metadata": {},
   "source": [
    "### 2) Uso de `memory_profiler`"
   ]
  },
  {
   "cell_type": "markdown",
   "metadata": {},
   "source": [
    "Para medición de memoria línea por línea utilizamos `memory_profiler`. Se ejecuta más lento que `line_profiler` (entre $10$ y $100$ veces más lento!) y mejora su velocidad de ejecución al instalar el paquete `psutil`."
   ]
  },
  {
   "cell_type": "markdown",
   "metadata": {},
   "source": [
    "Con línea de comandos se ejecuta como sigue:"
   ]
  },
  {
   "cell_type": "code",
   "execution_count": 49,
   "metadata": {},
   "outputs": [
    {
     "name": "stdout",
     "output_type": "stream",
     "text": [
      "Writing Rcf_memory_profiler.py\n"
     ]
    }
   ],
   "source": [
    "%%file Rcf_memory_profiler.py\n",
    "import math\n",
    "@profile #esta línea es necesaria para indicar que la siguiente función \n",
    "         #desea perfilarse con memory_profiler\n",
    "def Rcf(f,a,b,n): #Rcf: rectángulo compuesto para f\n",
    "    \"\"\"\n",
    "    Compute numerical approximation using rectangle or mid-point method in \n",
    "    an interval.\n",
    "    Nodes are generated via formula: x_i = a+(i+1/2)h_hat for i=0,1,...,n and h_hat=(b-a)/n\n",
    "    Args:\n",
    "        f (lambda expression): lambda expression of integrand\n",
    "        a (int): left point of interval\n",
    "        b (int): right point of interval\n",
    "        n (int): number of subintervals\n",
    "    Returns:\n",
    "        Rcf (float) \n",
    "    \"\"\"\n",
    "    h_hat=(b-a)/n\n",
    "    nodes=[a+(i+1/2)*h_hat for i in range(0,n)]\n",
    "    sum_res=0\n",
    "    for node in nodes:\n",
    "        sum_res=sum_res+f(node)\n",
    "    return h_hat*sum_res\n",
    "if __name__==\"__main__\": #añadimos este bloque para ejecución de la función Rcf\n",
    "        n=10**6\n",
    "        f=lambda x: math.exp(-x**2)\n",
    "        print(\"aproximación: {:0.6e}\".format(Rcf(f,0,1,n)))"
   ]
  },
  {
   "cell_type": "markdown",
   "metadata": {},
   "source": [
    "En el output siguiente se observa que la línea que más incrementa la cantidad de RAM alojada para el proceso que contiene la ejecución de la función `Rcf` es la creación de la lista de nodos `nodes=[a+(i+1/2)*h_hat for i in range(0,n)]`. **Cuidado:** el valor de la columna `Increment` para esta línea no necesariamente indica que la lista `nodes` ocupa en memoria $512 MB$'s, sólo que para la alocación de la lista el proceso creció en $512 MB$'s\n",
    "\n",
    "**Nota:** en el output aparece $MiB$ que son mebibytes. Aunque no se cumple que un mebibyte sea igual a un megabyte, se toma en este comentario como megabytes pues la diferencia entre estas unidades es sutil."
   ]
  },
  {
   "cell_type": "code",
   "execution_count": 50,
   "metadata": {},
   "outputs": [
    {
     "name": "stdout",
     "output_type": "stream",
     "text": [
      "aproximación: 7.468241e-01\n",
      "Filename: Rcf_memory_profiler.py\n",
      "\n",
      "Line #    Mem usage    Increment   Line Contents\n",
      "================================================\n",
      "     2   37.750 MiB   37.750 MiB   @profile #esta línea es necesaria para indicar que la siguiente función \n",
      "     3                                      #desea perfilarse con memory_profiler\n",
      "     4                             def Rcf(f,a,b,n): #Rcf: rectángulo compuesto para f\n",
      "     5                                 \"\"\"\n",
      "     6                                 Compute numerical approximation using rectangle or mid-point method in \n",
      "     7                                 an interval.\n",
      "     8                                 Nodes are generated via formula: x_i = a+(i+1/2)h_hat for i=0,1,...,n and h_hat=(b-a)/n\n",
      "     9                                 Args:\n",
      "    10                                     f (lambda expression): lambda expression of integrand\n",
      "    11                                     a (int): left point of interval\n",
      "    12                                     b (int): right point of interval\n",
      "    13                                     n (int): number of subintervals\n",
      "    14                                 Returns:\n",
      "    15                                     Rcf (float) \n",
      "    16                                 \"\"\"\n",
      "    17   37.750 MiB    0.000 MiB       h_hat=(b-a)/n\n",
      "    18   69.012 MiB    0.512 MiB       nodes=[a+(i+1/2)*h_hat for i in range(0,n)]\n",
      "    19   69.012 MiB    0.000 MiB       sum_res=0\n",
      "    20   69.012 MiB    0.000 MiB       for node in nodes:\n",
      "    21   69.012 MiB    0.000 MiB           sum_res=sum_res+f(node)\n",
      "    22   69.012 MiB    0.000 MiB       return h_hat*sum_res\n",
      "\n",
      "\n"
     ]
    }
   ],
   "source": [
    "%%bash\n",
    "python3 -m memory_profiler Rcf_memory_profiler.py"
   ]
  },
  {
   "cell_type": "markdown",
   "metadata": {},
   "source": [
    "Como ya se había notado, los generators ahorran memoria:"
   ]
  },
  {
   "cell_type": "code",
   "execution_count": 51,
   "metadata": {},
   "outputs": [
    {
     "name": "stdout",
     "output_type": "stream",
     "text": [
      "Writing Rcf3_memory_profiler.py\n"
     ]
    }
   ],
   "source": [
    "%%file Rcf3_memory_profiler.py\n",
    "import math\n",
    "@profile #esta línea es necesaria para indicar que la siguiente función \n",
    "         #desea perfilarse con memory_profiler\n",
    "def Rcf3(f,a,b,n):\n",
    "    \"\"\"\n",
    "    Compute numerical approximation using rectangle or mid-point method in \n",
    "    an interval.\n",
    "    Nodes are generated via formula: x_i = a+(b-a)/n*i for i=0,1,...,n\n",
    "    Args:\n",
    "        f (lambda expression): lambda expression of integrand\n",
    "        a (int): left point of interval\n",
    "        b (int): right point of interval\n",
    "        n (int): number of subintervals\n",
    "    Returns:\n",
    "        Rcf3 (float) \n",
    "    \"\"\"\n",
    "    h_hat=(b-a)/n\n",
    "    nodes=(a+(i+1/2)*h_hat for i in range(0,n))\n",
    "    suma_res = sum((f(node) for node in nodes))\n",
    "    return h_hat*suma_res\n",
    "if __name__==\"__main__\": #añadimos este bloque para ejecución de la función Rcf3\n",
    "        n=10**6\n",
    "        f=lambda x: math.exp(-x**2)\n",
    "        print(\"aproximación: {:0.6e}\".format(Rcf3(f,0,1,n)))"
   ]
  },
  {
   "cell_type": "markdown",
   "metadata": {},
   "source": [
    "En el output siguiente el proceso que involucra la ejecución de la función `Rcf3` no incrementa el uso de memoria RAM por el uso de generators:"
   ]
  },
  {
   "cell_type": "code",
   "execution_count": 52,
   "metadata": {},
   "outputs": [
    {
     "name": "stdout",
     "output_type": "stream",
     "text": [
      "aproximación: 7.468241e-01\n",
      "Filename: Rcf3_memory_profiler.py\n",
      "\n",
      "Line #    Mem usage    Increment   Line Contents\n",
      "================================================\n",
      "     2   37.590 MiB   37.590 MiB   @profile #esta línea es necesaria para indicar que la siguiente función \n",
      "     3                                      #desea perfilarse con memory_profiler\n",
      "     4                             def Rcf3(f,a,b,n):\n",
      "     5                                 \"\"\"\n",
      "     6                                 Compute numerical approximation using rectangle or mid-point method in \n",
      "     7                                 an interval.\n",
      "     8                                 Nodes are generated via formula: x_i = a+(b-a)/n*i for i=0,1,...,n\n",
      "     9                                 Args:\n",
      "    10                                     f (lambda expression): lambda expression of integrand\n",
      "    11                                     a (int): left point of interval\n",
      "    12                                     b (int): right point of interval\n",
      "    13                                     n (int): number of subintervals\n",
      "    14                                 Returns:\n",
      "    15                                     Rcf3 (float) \n",
      "    16                                 \"\"\"\n",
      "    17   37.590 MiB    0.000 MiB       h_hat=(b-a)/n\n",
      "    18   37.590 MiB    0.000 MiB       nodes=(a+(i+1/2)*h_hat for i in range(0,n))\n",
      "    19   37.590 MiB    0.000 MiB       suma_res = sum((f(node) for node in nodes))\n",
      "    20   37.590 MiB    0.000 MiB       return h_hat*suma_res\n",
      "\n",
      "\n"
     ]
    }
   ],
   "source": [
    "%%bash\n",
    "python3 -m memory_profiler Rcf3_memory_profiler.py"
   ]
  },
  {
   "cell_type": "markdown",
   "metadata": {},
   "source": [
    "## 3) Uso de heapy"
   ]
  },
  {
   "cell_type": "markdown",
   "metadata": {},
   "source": [
    "Con `heapy` podemos revisar el número y tamaño de cada objeto que está en el heap de Python (ver [liga](https://docs.python.org/3/c-api/memory.html) y [liga2](https://stackoverflow.com/questions/14546178/does-python-have-a-stack-heap-and-how-is-memory-managed) para memory management). También ayuda a encontrar **memory leaks** que ocurren si apuntamos a un objeto al que ya no deberíamos estar apuntando... ver [liga3](https://en.wikipedia.org/wiki/Memory_leak) para saber qué son las memory leaks."
   ]
  },
  {
   "cell_type": "code",
   "execution_count": 53,
   "metadata": {},
   "outputs": [],
   "source": [
    "import math\n",
    "from guppy import hpy\n",
    "def Rcf(f,a,b,n): #Rcf: rectángulo compuesto para f\n",
    "    \"\"\"\n",
    "    Compute numerical approximation using rectangle or mid-point method in \n",
    "    an interval.\n",
    "    Nodes are generated via formula: x_i = a+(i+1/2)h_hat for i=0,1,...,n and h_hat=(b-a)/n\n",
    "    Args:\n",
    "        f (lambda expression): lambda expression of integrand\n",
    "        a (int): left point of interval\n",
    "        b (int): right point of interval\n",
    "        n (int): number of subintervals\n",
    "    Returns:\n",
    "        Rcf (float) \n",
    "    \"\"\"\n",
    "    hp=hpy()\n",
    "    h_hat=(b-a)/n\n",
    "    h=hp.heap()\n",
    "    print(\"beginning of Rcf\")\n",
    "    print(h)\n",
    "    nodes=[a+(i+1/2)*h_hat for i in range(0,n)]\n",
    "    h=hp.heap()\n",
    "    print(\"After creating list\")\n",
    "    print(h)\n",
    "    sum_res=0\n",
    "    for node in nodes:\n",
    "        sum_res=sum_res+f(node)\n",
    "    h=hp.heap()\n",
    "    print(\"After loop\")\n",
    "    print(h)\n",
    "    return h_hat*sum_res\n"
   ]
  },
  {
   "cell_type": "code",
   "execution_count": 54,
   "metadata": {},
   "outputs": [
    {
     "name": "stdout",
     "output_type": "stream",
     "text": [
      "beginning of Rcf\n",
      "Partition of a set of 451943 objects. Total size = 56178528 bytes.\n",
      " Index  Count   %     Size   % Cumulative  % Kind (class / dict of class)\n",
      "     0 126625  28 17314268  31  17314268  31 str\n",
      "     1 123042  27  9506096  17  26820364  48 tuple\n",
      "     2  54023  12  4265424   8  31085788  55 bytes\n",
      "     3  27255   6  3942936   7  35028724  62 types.CodeType\n",
      "     4  25720   6  3497920   6  38526644  69 function\n",
      "     5   3155   1  3112744   6  41639388  74 type\n",
      "     6   6822   2  2831432   5  44470820  79 dict (no owner)\n",
      "     7   1244   0  1935072   3  46405892  83 dict of module\n",
      "     8   3155   1  1578376   3  47984268  85 dict of type\n",
      "     9   2286   1   846912   2  48831180  87 set\n",
      "<1047 more rows. Type e.g. '_.more' to view.>\n",
      "After creating list\n",
      "Partition of a set of 1451953 objects. Total size = 88876740 bytes.\n",
      " Index  Count   %     Size   % Cumulative  % Kind (class / dict of class)\n",
      "     0 1013609  70 24326616  27  24326616  27 float\n",
      "     1 126625   9 17314268  19  41640884  47 str\n",
      "     2   6796   0  9541384  11  51182268  58 list\n",
      "     3 123043   8  9506152  11  60688420  68 tuple\n",
      "     4  54023   4  4265424   5  64953844  73 bytes\n",
      "     5  27255   2  3942936   4  68896780  78 types.CodeType\n",
      "     6  25720   2  3497920   4  72394700  81 function\n",
      "     7   3155   0  3112744   4  75507444  85 type\n",
      "     8   6823   0  2831672   3  78339116  88 dict (no owner)\n",
      "     9   1244   0  1935072   2  80274188  90 dict of module\n",
      "<1048 more rows. Type e.g. '_.more' to view.>\n",
      "After loop\n",
      "Partition of a set of 1451947 objects. Total size = 88876124 bytes.\n",
      " Index  Count   %     Size   % Cumulative  % Kind (class / dict of class)\n",
      "     0 1013609  70 24326616  27  24326616  27 float\n",
      "     1 126625   9 17314268  19  41640884  47 str\n",
      "     2   6796   0  9541384  11  51182268  58 list\n",
      "     3 123042   8  9506096  11  60688364  68 tuple\n",
      "     4  54023   4  4265424   5  64953788  73 bytes\n",
      "     5  27255   2  3942936   4  68896724  78 types.CodeType\n",
      "     6  25720   2  3497920   4  72394644  81 function\n",
      "     7   3155   0  3112744   4  75507388  85 type\n",
      "     8   6822   0  2831432   3  78338820  88 dict (no owner)\n",
      "     9   1244   0  1935072   2  80273892  90 dict of module\n",
      "<1047 more rows. Type e.g. '_.more' to view.>\n"
     ]
    },
    {
     "data": {
      "text/plain": [
       "0.7468241328124773"
      ]
     },
     "execution_count": 54,
     "metadata": {},
     "output_type": "execute_result"
    }
   ],
   "source": [
    "Rcf(f,0,1,n)"
   ]
  },
  {
   "cell_type": "code",
   "execution_count": 55,
   "metadata": {},
   "outputs": [],
   "source": [
    "import math\n",
    "from guppy import hpy\n",
    "def Rcf3(f,a,b,n):\n",
    "    \"\"\"\n",
    "    Compute numerical approximation using rectangle or mid-point method in \n",
    "    an interval.\n",
    "    Nodes are generated via formula: x_i = a+(b-a)/n*i for i=0,1,...,n\n",
    "    Args:\n",
    "        f (lambda expression): lambda expression of integrand\n",
    "        a (int): left point of interval\n",
    "        b (int): right point of interval\n",
    "        n (int): number of subintervals\n",
    "    Returns:\n",
    "        Rcf3 (float) \n",
    "    \"\"\"\n",
    "    hp=hpy()\n",
    "    h_hat=(b-a)/n\n",
    "    h=hp.heap()\n",
    "    print(\"beginning of Rcf3\")\n",
    "    print(h)\n",
    "    nodes=(a+(i+1/2)*h_hat for i in range(0,n))\n",
    "    h=hp.heap()\n",
    "    print(\"After creating generator\")\n",
    "    print(h)\n",
    "    suma_res = sum((f(node) for node in nodes))\n",
    "    h=hp.heap()\n",
    "    print(\"After loop\")\n",
    "    print(h)\n",
    "    return h_hat*suma_res"
   ]
  },
  {
   "cell_type": "code",
   "execution_count": 56,
   "metadata": {},
   "outputs": [
    {
     "name": "stdout",
     "output_type": "stream",
     "text": [
      "beginning of Rcf3\n",
      "Partition of a set of 451930 objects. Total size = 56178992 bytes.\n",
      " Index  Count   %     Size   % Cumulative  % Kind (class / dict of class)\n",
      "     0 126664  28 17317847  31  17317847  31 str\n",
      "     1 123040  27  9506016  17  26823863  48 tuple\n",
      "     2  54025  12  4265717   8  31089580  55 bytes\n",
      "     3  27255   6  3942936   7  35032516  62 types.CodeType\n",
      "     4  25716   6  3497376   6  38529892  69 function\n",
      "     5   3155   1  3112744   6  41642636  74 type\n",
      "     6   6819   2  2830712   5  44473348  79 dict (no owner)\n",
      "     7   1244   0  1935072   3  46408420  83 dict of module\n",
      "     8   3155   1  1578376   3  47986796  85 dict of type\n",
      "     9   2286   1   846912   2  48833708  87 set\n",
      "<1047 more rows. Type e.g. '_.more' to view.>\n",
      "After creating generator\n",
      "Partition of a set of 451952 objects. Total size = 56180784 bytes.\n",
      " Index  Count   %     Size   % Cumulative  % Kind (class / dict of class)\n",
      "     0 126664  28 17317847  31  17317847  31 str\n",
      "     1 123041  27  9506072  17  26823919  48 tuple\n",
      "     2  54025  12  4265717   8  31089636  55 bytes\n",
      "     3  27255   6  3942936   7  35032572  62 types.CodeType\n",
      "     4  25716   6  3497376   6  38529948  69 function\n",
      "     5   3155   1  3112744   6  41642692  74 type\n",
      "     6   6820   2  2830952   5  44473644  79 dict (no owner)\n",
      "     7   1244   0  1935072   3  46408716  83 dict of module\n",
      "     8   3155   1  1578376   3  47987092  85 dict of type\n",
      "     9   2286   1   846912   2  48834004  87 set\n",
      "<1049 more rows. Type e.g. '_.more' to view.>\n",
      "After loop\n",
      "Partition of a set of 451944 objects. Total size = 56179648 bytes.\n",
      " Index  Count   %     Size   % Cumulative  % Kind (class / dict of class)\n",
      "     0 126664  28 17317847  31  17317847  31 str\n",
      "     1 123040  27  9506016  17  26823863  48 tuple\n",
      "     2  54025  12  4265717   8  31089580  55 bytes\n",
      "     3  27255   6  3942936   7  35032516  62 types.CodeType\n",
      "     4  25716   6  3497376   6  38529892  69 function\n",
      "     5   3155   1  3112744   6  41642636  74 type\n",
      "     6   6819   2  2830712   5  44473348  79 dict (no owner)\n",
      "     7   1244   0  1935072   3  46408420  83 dict of module\n",
      "     8   3155   1  1578376   3  47986796  85 dict of type\n",
      "     9   2286   1   846912   2  48833708  87 set\n",
      "<1047 more rows. Type e.g. '_.more' to view.>\n"
     ]
    },
    {
     "data": {
      "text/plain": [
       "0.7468241328124773"
      ]
     },
     "execution_count": 56,
     "metadata": {},
     "output_type": "execute_result"
    }
   ],
   "source": [
    "Rcf3(f,0,1,n)"
   ]
  },
  {
   "cell_type": "markdown",
   "metadata": {},
   "source": [
    "Como ya se había revisado el uso de generators ayuda a disminuir el consumo de memoria, manteniendo la eficiencia."
   ]
  },
  {
   "cell_type": "markdown",
   "metadata": {},
   "source": [
    "**Ejercicios**\n",
    "\n",
    "1. Realiza el análisis con las herramientas revisadas en esta nota para las reglas del trapecio y de Simpson de  la nota [1.5.Integracion_numerica](https://github.com/ITAM-DS/analisis-numerico-computo-cientifico/blob/master/temas/I.computo_cientifico/1.5.Integracion_numerica.ipynb).\n"
   ]
  },
  {
   "cell_type": "markdown",
   "metadata": {},
   "source": [
    "**Referencias**\n",
    "\n",
    "1. M. Gorelick, I. Ozsvald, High Performance Python, O'Reilly Media, 2014.\n",
    "\n",
    "Otras referencias para *heapy*:\n",
    "\n",
    "* [guppy3 github](https://github.com/zhuyifei1999/guppy3/)\n",
    "\n",
    "* [A Python Programming Environment & Heap analysis toolset](https://zhuyifei1999.github.io/guppy3/)\n",
    "\n",
    "* [Getting started with Heapy](https://zhuyifei1999.github.io/guppy3/heapy_tutorial.html)\n",
    "\n",
    "* [Diagnosing Memory “Leaks” in Python](https://chase-seibert.github.io/blog/2013/08/03/diagnosing-memory-leaks-python.html)\n",
    "\n",
    "* [How to use guppy/heapy for tracking down memory usage](https://smira.ru/wp-content/uploads/2011/08/heapy.html)\n",
    "\n",
    "\n",
    "Ver [SnakeViz](https://jiffyclub.github.io/snakeviz/) para visualización del output de `CProfile`."
   ]
  }
 ],
 "metadata": {
  "kernelspec": {
   "display_name": "Python 3",
   "language": "python",
   "name": "python3"
  },
  "language_info": {
   "codemirror_mode": {
    "name": "ipython",
    "version": 3
   },
   "file_extension": ".py",
   "mimetype": "text/x-python",
   "name": "python",
   "nbconvert_exporter": "python",
   "pygments_lexer": "ipython3",
   "version": "3.6.9"
  }
 },
 "nbformat": 4,
 "nbformat_minor": 4
}
